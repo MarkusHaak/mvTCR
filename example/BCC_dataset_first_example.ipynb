{
 "cells": [
  {
   "cell_type": "code",
   "execution_count": 1,
   "id": "configured-intensity",
   "metadata": {
    "id": "configured-intensity"
   },
   "outputs": [],
   "source": [
    "from comet_ml import Experiment\n",
    "import scanpy as sc\n",
    "import scirpy as ir\n",
    "import pandas as pd\n",
    "import torch\n",
    "import yaml\n",
    "import numpy as np"
   ]
  },
  {
   "cell_type": "code",
   "execution_count": 2,
   "id": "downtown-actor",
   "metadata": {
    "id": "downtown-actor"
   },
   "outputs": [],
   "source": [
    "import sys\n",
    "sys.path.append('../')\n",
    "import tcr_embedding as tcr"
   ]
  },
  {
   "cell_type": "code",
   "execution_count": 3,
   "id": "express-apache",
   "metadata": {
    "id": "express-apache"
   },
   "outputs": [],
   "source": [
    "%load_ext autoreload\n",
    "%autoreload 2"
   ]
  },
  {
   "cell_type": "markdown",
   "id": "defensive-mouse",
   "metadata": {
    "id": "defensive-mouse"
   },
   "source": [
    "# Load dataset"
   ]
  },
  {
   "cell_type": "markdown",
   "id": "narrow-environment",
   "metadata": {
    "id": "narrow-environment"
   },
   "source": [
    "### BCC Dataset"
   ]
  },
  {
   "cell_type": "code",
   "execution_count": 4,
   "id": "angry-bundle",
   "metadata": {
    "colab": {
     "base_uri": "https://localhost:8080/"
    },
    "id": "angry-bundle",
    "outputId": "75775ca0-6a8b-400e-91e2-21ff12a4126a"
   },
   "outputs": [
    {
     "data": {
      "text/plain": [
       "AnnData object with n_obs × n_vars = 53030 × 23309\n",
       "    obs: 'patient', 'treatment', 'sort', 'cluster', 'UMAP1', 'UMAP2', 'IR_VJ_1_locus', 'IR_VJ_2_locus', 'IR_VDJ_1_locus', 'IR_VDJ_2_locus', 'IR_VJ_1_cdr3', 'IR_VJ_2_cdr3', 'IR_VDJ_1_cdr3', 'IR_VDJ_2_cdr3', 'IR_VJ_1_cdr3_nt', 'IR_VJ_2_cdr3_nt', 'IR_VDJ_1_cdr3_nt', 'IR_VDJ_2_cdr3_nt', 'IR_VJ_1_expr', 'IR_VJ_2_expr', 'IR_VDJ_1_expr', 'IR_VDJ_2_expr', 'IR_VJ_1_expr_raw', 'IR_VJ_2_expr_raw', 'IR_VDJ_1_expr_raw', 'IR_VDJ_2_expr_raw', 'IR_VJ_1_v_gene', 'IR_VJ_2_v_gene', 'IR_VDJ_1_v_gene', 'IR_VDJ_2_v_gene', 'IR_VJ_1_d_gene', 'IR_VJ_2_d_gene', 'IR_VDJ_1_d_gene', 'IR_VDJ_2_d_gene', 'IR_VJ_1_j_gene', 'IR_VJ_2_j_gene', 'IR_VDJ_1_j_gene', 'IR_VDJ_2_j_gene', 'IR_VJ_1_c_gene', 'IR_VJ_2_c_gene', 'IR_VDJ_1_c_gene', 'IR_VDJ_2_c_gene', 'IR_VJ_1_junction_ins', 'IR_VJ_2_junction_ins', 'IR_VDJ_1_junction_ins', 'IR_VDJ_2_junction_ins', 'has_ir', 'multi_chain', 'patient_tcr', 'treatment_tcr', 'cluster_tcr', 'UMAP1_tcr', 'UMAP2_tcr'"
      ]
     },
     "execution_count": 4,
     "metadata": {},
     "output_type": "execute_result"
    }
   ],
   "source": [
    "bcc = sc.read_h5ad('../data/BCC_Yost_2018/bcc_tcr_and_gene.h5ad')\n",
    "bcc"
   ]
  },
  {
   "cell_type": "code",
   "execution_count": 5,
   "id": "encouraging-recorder",
   "metadata": {
    "colab": {
     "base_uri": "https://localhost:8080/"
    },
    "id": "encouraging-recorder",
    "outputId": "47b5a855-b254-47d9-84bb-3265f9ab3ce4"
   },
   "outputs": [
    {
     "name": "stderr",
     "output_type": "stream",
     "text": [
      "C:\\Users\\yanga\\AppData\\Local\\Continuum\\anaconda3\\envs\\tcr\\lib\\site-packages\\pandas\\core\\arrays\\categorical.py:2487: FutureWarning: The `inplace` parameter in pandas.Categorical.remove_unused_categories is deprecated and will be removed in a future version.\n",
      "  res = method(*args, **kwargs)\n"
     ]
    },
    {
     "data": {
      "text/plain": [
       "(14214, 9038)"
      ]
     },
     "execution_count": 5,
     "metadata": {},
     "output_type": "execute_result"
    }
   ],
   "source": [
    "sc.pp.filter_genes(bcc, min_cells=2000)\n",
    "sc.pp.filter_cells(bcc, min_genes=2000)\n",
    "bcc.shape"
   ]
  },
  {
   "cell_type": "code",
   "execution_count": 6,
   "id": "military-institution",
   "metadata": {
    "colab": {
     "base_uri": "https://localhost:8080/"
    },
    "id": "military-institution",
    "outputId": "ff99d984-3c01-49e7-e876-328c39f8029c"
   },
   "outputs": [
    {
     "data": {
      "text/plain": [
       "(6275, 9038)"
      ]
     },
     "execution_count": 6,
     "metadata": {},
     "output_type": "execute_result"
    }
   ],
   "source": [
    "# Filter samples without IR and multichain\n",
    "bcc = bcc[bcc.obs['has_ir'] == 'True']\n",
    "bcc = bcc[bcc.obs['multi_chain'] != 'True']\n",
    "bcc.shape"
   ]
  },
  {
   "cell_type": "markdown",
   "id": "alternate-strand",
   "metadata": {
    "id": "alternate-strand"
   },
   "source": [
    "### Some Preprocessing to represent TCR sequence in a certain format\n",
    "Here we use labels, one-hot is also possible"
   ]
  },
  {
   "cell_type": "code",
   "execution_count": 7,
   "id": "answering-austin",
   "metadata": {
    "id": "answering-austin"
   },
   "outputs": [],
   "source": [
    "# Filter out cells without TCR-beta seq\n",
    "bcc = bcc[bcc.obs['IR_VDJ_1_cdr3'] != 'None']"
   ]
  },
  {
   "cell_type": "code",
   "execution_count": 8,
   "id": "useful-petite",
   "metadata": {
    "id": "useful-petite",
    "scrolled": true
   },
   "outputs": [],
   "source": [
    "# Get maximum sequence length as pad value\n",
    "pad = bcc.obs['IR_VDJ_1_cdr3'].str.len().max()\n",
    "pad = int(pad)"
   ]
  },
  {
   "cell_type": "code",
   "execution_count": 9,
   "id": "killing-timer",
   "metadata": {
    "id": "killing-timer"
   },
   "outputs": [],
   "source": [
    "# encode amino acids to unique id, '_' is pad character, '<' start and '>' end symbol\n",
    "aa_to_id = {'_': 0, 'A': 1, 'C': 2, 'D': 3, 'E': 4, 'F': 5, 'G': 6, 'H': 7, 'I': 8, 'K': 9, 'L': 10, 'M': 11, 'N': 12, 'P': 13,\n",
    "            'Q': 14, 'R': 15, 'S': 16, 'T': 17, 'V': 18, 'W': 19, 'Y': 20, '<': 21, '>': 22}"
   ]
  },
  {
   "cell_type": "code",
   "execution_count": 10,
   "id": "living-procurement",
   "metadata": {
    "colab": {
     "base_uri": "https://localhost:8080/",
     "height": 467
    },
    "id": "living-procurement",
    "outputId": "e7208c42-3d6f-48e9-edc8-c05901d01c78"
   },
   "outputs": [
    {
     "name": "stderr",
     "output_type": "stream",
     "text": [
      "Trying to set attribute `.obs` of view, copying.\n"
     ]
    },
    {
     "data": {
      "text/html": [
       "<div>\n",
       "<style scoped>\n",
       "    .dataframe tbody tr th:only-of-type {\n",
       "        vertical-align: middle;\n",
       "    }\n",
       "\n",
       "    .dataframe tbody tr th {\n",
       "        vertical-align: top;\n",
       "    }\n",
       "\n",
       "    .dataframe thead th {\n",
       "        text-align: right;\n",
       "    }\n",
       "</style>\n",
       "<table border=\"1\" class=\"dataframe\">\n",
       "  <thead>\n",
       "    <tr style=\"text-align: right;\">\n",
       "      <th></th>\n",
       "      <th>IR_VDJ_1_cdr3</th>\n",
       "      <th>tcr_seq</th>\n",
       "      <th>one_hot</th>\n",
       "      <th>seq_len</th>\n",
       "    </tr>\n",
       "    <tr>\n",
       "      <th>cell.id</th>\n",
       "      <th></th>\n",
       "      <th></th>\n",
       "      <th></th>\n",
       "      <th></th>\n",
       "    </tr>\n",
       "  </thead>\n",
       "  <tbody>\n",
       "    <tr>\n",
       "      <th>bcc.su001.pre.tcell_AAAGTAGGTCTGCCAG</th>\n",
       "      <td>&lt;CASSPRGQGADEAFF&gt;</td>\n",
       "      <td>[21, 2, 1, 16, 16, 13, 15, 6, 14, 6, 1, 3, 4, ...</td>\n",
       "      <td>[[0.0, 0.0, 0.0, 0.0, 0.0, 0.0, 0.0, 0.0, 0.0,...</td>\n",
       "      <td>17</td>\n",
       "    </tr>\n",
       "    <tr>\n",
       "      <th>bcc.su001.pre.tcell_AACCATGCACTTGGAT</th>\n",
       "      <td>&lt;CASSPLGGFGNQPQHF&gt;</td>\n",
       "      <td>[21, 2, 1, 16, 16, 13, 10, 6, 6, 5, 6, 12, 14,...</td>\n",
       "      <td>[[0.0, 0.0, 0.0, 0.0, 0.0, 0.0, 0.0, 0.0, 0.0,...</td>\n",
       "      <td>18</td>\n",
       "    </tr>\n",
       "    <tr>\n",
       "      <th>bcc.su001.pre.tcell_AAGGCAGAGGATGCGT</th>\n",
       "      <td>&lt;CATSRDPAGGQETQYF&gt;</td>\n",
       "      <td>[21, 2, 1, 17, 16, 15, 3, 13, 1, 6, 6, 14, 4, ...</td>\n",
       "      <td>[[0.0, 0.0, 0.0, 0.0, 0.0, 0.0, 0.0, 0.0, 0.0,...</td>\n",
       "      <td>18</td>\n",
       "    </tr>\n",
       "    <tr>\n",
       "      <th>bcc.su001.pre.tcell_ACACCCTGTACAGCAG</th>\n",
       "      <td>&lt;CSARDGARGDETQYF&gt;</td>\n",
       "      <td>[21, 2, 16, 1, 15, 3, 6, 1, 15, 6, 3, 4, 17, 1...</td>\n",
       "      <td>[[0.0, 0.0, 0.0, 0.0, 0.0, 0.0, 0.0, 0.0, 0.0,...</td>\n",
       "      <td>17</td>\n",
       "    </tr>\n",
       "    <tr>\n",
       "      <th>bcc.su001.pre.tcell_ACAGCTAAGGTGGGTT</th>\n",
       "      <td>&lt;CASGTSHYNEQFF&gt;</td>\n",
       "      <td>[21, 2, 1, 16, 6, 17, 16, 7, 20, 12, 4, 14, 5,...</td>\n",
       "      <td>[[0.0, 0.0, 0.0, 0.0, 0.0, 0.0, 0.0, 0.0, 0.0,...</td>\n",
       "      <td>15</td>\n",
       "    </tr>\n",
       "    <tr>\n",
       "      <th>...</th>\n",
       "      <td>...</td>\n",
       "      <td>...</td>\n",
       "      <td>...</td>\n",
       "      <td>...</td>\n",
       "    </tr>\n",
       "    <tr>\n",
       "      <th>bcc.su012.post.tcell_TCGGGACAGTTGTCGT</th>\n",
       "      <td>&lt;CASSREGAGTGELFF&gt;</td>\n",
       "      <td>[21, 2, 1, 16, 16, 15, 4, 6, 1, 6, 17, 6, 4, 1...</td>\n",
       "      <td>[[0.0, 0.0, 0.0, 0.0, 0.0, 0.0, 0.0, 0.0, 0.0,...</td>\n",
       "      <td>17</td>\n",
       "    </tr>\n",
       "    <tr>\n",
       "      <th>bcc.su012.post.tcell_TCTGAGATCTCTGAGA</th>\n",
       "      <td>&lt;CATSRDRKDNEQFF&gt;</td>\n",
       "      <td>[21, 2, 1, 17, 16, 15, 3, 15, 9, 3, 12, 4, 14,...</td>\n",
       "      <td>[[0.0, 0.0, 0.0, 0.0, 0.0, 0.0, 0.0, 0.0, 0.0,...</td>\n",
       "      <td>16</td>\n",
       "    </tr>\n",
       "    <tr>\n",
       "      <th>bcc.su012.post.tcell_TTGACTTTCAGTTGAC</th>\n",
       "      <td>&lt;CASSFRGLYEQYF&gt;</td>\n",
       "      <td>[21, 2, 1, 16, 16, 5, 15, 6, 10, 20, 4, 14, 20...</td>\n",
       "      <td>[[0.0, 0.0, 0.0, 0.0, 0.0, 0.0, 0.0, 0.0, 0.0,...</td>\n",
       "      <td>15</td>\n",
       "    </tr>\n",
       "    <tr>\n",
       "      <th>bcc.su012.post.tcell_TTGTAGGAGTTTAGGA</th>\n",
       "      <td>&lt;CSAKQQRHEQFF&gt;</td>\n",
       "      <td>[21, 2, 16, 1, 9, 14, 14, 15, 7, 4, 14, 5, 5, ...</td>\n",
       "      <td>[[0.0, 0.0, 0.0, 0.0, 0.0, 0.0, 0.0, 0.0, 0.0,...</td>\n",
       "      <td>14</td>\n",
       "    </tr>\n",
       "    <tr>\n",
       "      <th>bcc.su012.post.tcell_TTGTAGGTCACATAGC</th>\n",
       "      <td>&lt;CASSLGRGGGQETQYF&gt;</td>\n",
       "      <td>[21, 2, 1, 16, 16, 10, 6, 15, 6, 6, 6, 14, 4, ...</td>\n",
       "      <td>[[0.0, 0.0, 0.0, 0.0, 0.0, 0.0, 0.0, 0.0, 0.0,...</td>\n",
       "      <td>18</td>\n",
       "    </tr>\n",
       "  </tbody>\n",
       "</table>\n",
       "<p>6050 rows × 4 columns</p>\n",
       "</div>"
      ],
      "text/plain": [
       "                                            IR_VDJ_1_cdr3  \\\n",
       "cell.id                                                     \n",
       "bcc.su001.pre.tcell_AAAGTAGGTCTGCCAG    <CASSPRGQGADEAFF>   \n",
       "bcc.su001.pre.tcell_AACCATGCACTTGGAT   <CASSPLGGFGNQPQHF>   \n",
       "bcc.su001.pre.tcell_AAGGCAGAGGATGCGT   <CATSRDPAGGQETQYF>   \n",
       "bcc.su001.pre.tcell_ACACCCTGTACAGCAG    <CSARDGARGDETQYF>   \n",
       "bcc.su001.pre.tcell_ACAGCTAAGGTGGGTT      <CASGTSHYNEQFF>   \n",
       "...                                                   ...   \n",
       "bcc.su012.post.tcell_TCGGGACAGTTGTCGT   <CASSREGAGTGELFF>   \n",
       "bcc.su012.post.tcell_TCTGAGATCTCTGAGA    <CATSRDRKDNEQFF>   \n",
       "bcc.su012.post.tcell_TTGACTTTCAGTTGAC     <CASSFRGLYEQYF>   \n",
       "bcc.su012.post.tcell_TTGTAGGAGTTTAGGA      <CSAKQQRHEQFF>   \n",
       "bcc.su012.post.tcell_TTGTAGGTCACATAGC  <CASSLGRGGGQETQYF>   \n",
       "\n",
       "                                                                                 tcr_seq  \\\n",
       "cell.id                                                                                    \n",
       "bcc.su001.pre.tcell_AAAGTAGGTCTGCCAG   [21, 2, 1, 16, 16, 13, 15, 6, 14, 6, 1, 3, 4, ...   \n",
       "bcc.su001.pre.tcell_AACCATGCACTTGGAT   [21, 2, 1, 16, 16, 13, 10, 6, 6, 5, 6, 12, 14,...   \n",
       "bcc.su001.pre.tcell_AAGGCAGAGGATGCGT   [21, 2, 1, 17, 16, 15, 3, 13, 1, 6, 6, 14, 4, ...   \n",
       "bcc.su001.pre.tcell_ACACCCTGTACAGCAG   [21, 2, 16, 1, 15, 3, 6, 1, 15, 6, 3, 4, 17, 1...   \n",
       "bcc.su001.pre.tcell_ACAGCTAAGGTGGGTT   [21, 2, 1, 16, 6, 17, 16, 7, 20, 12, 4, 14, 5,...   \n",
       "...                                                                                  ...   \n",
       "bcc.su012.post.tcell_TCGGGACAGTTGTCGT  [21, 2, 1, 16, 16, 15, 4, 6, 1, 6, 17, 6, 4, 1...   \n",
       "bcc.su012.post.tcell_TCTGAGATCTCTGAGA  [21, 2, 1, 17, 16, 15, 3, 15, 9, 3, 12, 4, 14,...   \n",
       "bcc.su012.post.tcell_TTGACTTTCAGTTGAC  [21, 2, 1, 16, 16, 5, 15, 6, 10, 20, 4, 14, 20...   \n",
       "bcc.su012.post.tcell_TTGTAGGAGTTTAGGA  [21, 2, 16, 1, 9, 14, 14, 15, 7, 4, 14, 5, 5, ...   \n",
       "bcc.su012.post.tcell_TTGTAGGTCACATAGC  [21, 2, 1, 16, 16, 10, 6, 15, 6, 6, 6, 14, 4, ...   \n",
       "\n",
       "                                                                                 one_hot  \\\n",
       "cell.id                                                                                    \n",
       "bcc.su001.pre.tcell_AAAGTAGGTCTGCCAG   [[0.0, 0.0, 0.0, 0.0, 0.0, 0.0, 0.0, 0.0, 0.0,...   \n",
       "bcc.su001.pre.tcell_AACCATGCACTTGGAT   [[0.0, 0.0, 0.0, 0.0, 0.0, 0.0, 0.0, 0.0, 0.0,...   \n",
       "bcc.su001.pre.tcell_AAGGCAGAGGATGCGT   [[0.0, 0.0, 0.0, 0.0, 0.0, 0.0, 0.0, 0.0, 0.0,...   \n",
       "bcc.su001.pre.tcell_ACACCCTGTACAGCAG   [[0.0, 0.0, 0.0, 0.0, 0.0, 0.0, 0.0, 0.0, 0.0,...   \n",
       "bcc.su001.pre.tcell_ACAGCTAAGGTGGGTT   [[0.0, 0.0, 0.0, 0.0, 0.0, 0.0, 0.0, 0.0, 0.0,...   \n",
       "...                                                                                  ...   \n",
       "bcc.su012.post.tcell_TCGGGACAGTTGTCGT  [[0.0, 0.0, 0.0, 0.0, 0.0, 0.0, 0.0, 0.0, 0.0,...   \n",
       "bcc.su012.post.tcell_TCTGAGATCTCTGAGA  [[0.0, 0.0, 0.0, 0.0, 0.0, 0.0, 0.0, 0.0, 0.0,...   \n",
       "bcc.su012.post.tcell_TTGACTTTCAGTTGAC  [[0.0, 0.0, 0.0, 0.0, 0.0, 0.0, 0.0, 0.0, 0.0,...   \n",
       "bcc.su012.post.tcell_TTGTAGGAGTTTAGGA  [[0.0, 0.0, 0.0, 0.0, 0.0, 0.0, 0.0, 0.0, 0.0,...   \n",
       "bcc.su012.post.tcell_TTGTAGGTCACATAGC  [[0.0, 0.0, 0.0, 0.0, 0.0, 0.0, 0.0, 0.0, 0.0,...   \n",
       "\n",
       "                                       seq_len  \n",
       "cell.id                                         \n",
       "bcc.su001.pre.tcell_AAAGTAGGTCTGCCAG        17  \n",
       "bcc.su001.pre.tcell_AACCATGCACTTGGAT        18  \n",
       "bcc.su001.pre.tcell_AAGGCAGAGGATGCGT        18  \n",
       "bcc.su001.pre.tcell_ACACCCTGTACAGCAG        17  \n",
       "bcc.su001.pre.tcell_ACAGCTAAGGTGGGTT        15  \n",
       "...                                        ...  \n",
       "bcc.su012.post.tcell_TCGGGACAGTTGTCGT       17  \n",
       "bcc.su012.post.tcell_TCTGAGATCTCTGAGA       16  \n",
       "bcc.su012.post.tcell_TTGACTTTCAGTTGAC       15  \n",
       "bcc.su012.post.tcell_TTGTAGGAGTTTAGGA       14  \n",
       "bcc.su012.post.tcell_TTGTAGGTCACATAGC       18  \n",
       "\n",
       "[6050 rows x 4 columns]"
      ]
     },
     "execution_count": 10,
     "metadata": {},
     "output_type": "execute_result"
    }
   ],
   "source": [
    "# Despite TypeError it still works, TypeError is ignored by pandas\n",
    "aa_to_id_ = tcr.utils.aa_encoding(bcc, read_col='IR_VDJ_1_cdr3', ohe_col='one_hot', label_col='tcr_seq', length_col='seq_len', pad=pad, aa_to_id=aa_to_id, start_end_symbol=True)\n",
    "bcc.obs[['IR_VDJ_1_cdr3', 'tcr_seq', 'one_hot', 'seq_len']]"
   ]
  },
  {
   "cell_type": "markdown",
   "id": "tropical-toyota",
   "metadata": {
    "id": "tropical-toyota"
   },
   "source": [
    "# Initialize and train model"
   ]
  },
  {
   "cell_type": "code",
   "execution_count": 11,
   "id": "published-reform",
   "metadata": {
    "colab": {
     "base_uri": "https://localhost:8080/"
    },
    "id": "published-reform",
    "outputId": "29e8bd9a-2a4e-4340-d712-1f79fe387774"
   },
   "outputs": [
    {
     "name": "stderr",
     "output_type": "stream",
     "text": [
      "<ipython-input-11-bc9bb2d2d4da>:3: YAMLLoadWarning: calling yaml.load() without Loader=... is deprecated, as the default Loader is unsafe. Please read https://msg.pyyaml.org/load for full details.\n",
      "  params = yaml.load(file)\n"
     ]
    },
    {
     "data": {
      "text/plain": [
       "{'seq_model_arch': 'BiGRU',\n",
       " 'seq_model_hyperparams': {'embedding_dim': 16,\n",
       "  'hidden_size': 256,\n",
       "  'num_layers': 2,\n",
       "  'dropout': 0.2,\n",
       "  'bidirectional': True},\n",
       " 'scRNA_model_arch': 'MLP',\n",
       " 'scRNA_model_hyperparams': {'gene_hidden': [1024, 512],\n",
       "  'activation': 'relu',\n",
       "  'output_activation': 'linear',\n",
       "  'dropout': 0.2,\n",
       "  'batch_norm': True},\n",
       " 'hdim': 128,\n",
       " 'activation': 'relu',\n",
       " 'dropout': 0.2,\n",
       " 'batch_norm': True,\n",
       " 'shared_hidden': [64],\n",
       " 'zdim': 16,\n",
       " 'lr': 0.0003,\n",
       " 'batch_size': 256,\n",
       " 'losses': ['MSE', 'CE'],\n",
       " 'loss_weights': [0.1, 1.0, 0.0]}"
      ]
     },
     "execution_count": 11,
     "metadata": {},
     "output_type": "execute_result"
    }
   ],
   "source": [
    "experiment_name = 'example'\n",
    "with open(f'../config/{experiment_name}.yaml') as file:\n",
    "     params = yaml.load(file)\n",
    "params"
   ]
  },
  {
   "cell_type": "code",
   "execution_count": 12,
   "id": "uXowWNx6NqQg",
   "metadata": {
    "id": "uXowWNx6NqQg"
   },
   "outputs": [
    {
     "name": "stderr",
     "output_type": "stream",
     "text": [
      "COMET INFO: Experiment is live on comet.ml https://www.comet.ml/tcr/gru/7bc12592634f45eaaea8b086e2a93dc4\n",
      "\n"
     ]
    }
   ],
   "source": [
    "experiment = Experiment(api_key='GIybZgliX1y4MON2NsbnRoxnA', workspace='tcr', project_name='GRU')"
   ]
  },
  {
   "cell_type": "code",
   "execution_count": 13,
   "id": "SFSv8fgY2wJy",
   "metadata": {
    "colab": {
     "base_uri": "https://localhost:8080/"
    },
    "id": "SFSv8fgY2wJy",
    "outputId": "188c4063-68cb-47ed-aad3-8d29490e7daf"
   },
   "outputs": [],
   "source": [
    "experiment.log_parameters(params)\n",
    "experiment.log_parameter('experiment_name', experiment_name)"
   ]
  },
  {
   "cell_type": "code",
   "execution_count": 40,
   "id": "thrown-puzzle",
   "metadata": {
    "id": "thrown-puzzle",
    "scrolled": true
   },
   "outputs": [],
   "source": [
    "model = tcr.models.joint_model.JointModel(\n",
    "    adatas=[bcc],  # adatas containing gene expression and TCR-seq\n",
    "    names=['bcc'],\n",
    "    aa_to_id = aa_to_id,  # dict {aa_char: id}\n",
    "    seq_model_arch=params['seq_model_arch'],  # seq model architecture\n",
    "    seq_model_hyperparams=params['seq_model_hyperparams'],  # dict of seq model hyperparameters\n",
    "    scRNA_model_arch=params['scRNA_model_arch'],\n",
    "    scRNA_model_hyperparams=params['scRNA_model_hyperparams'],\n",
    "    zdim=params['zdim'],  # zdim\n",
    "    hdim=params['hdim'],  # hidden dimension of scRNA and seq encoders\n",
    "    activation=params['activation'],  # activation function of autoencoder hidden layers\n",
    "    dropout=params['dropout'],\n",
    "    batch_norm=params['batch_norm'],\n",
    "    shared_hidden=params['shared_hidden'],  # hidden layers of shared encoder / decoder\n",
    "    gene_layers=[],  # [] or list of str for layer keys of each dataset\n",
    "    seq_keys=[]  # [] or list of str for seq keys of each dataset\n",
    ")"
   ]
  },
  {
   "cell_type": "code",
   "execution_count": 31,
   "id": "athletic-intellectual",
   "metadata": {
    "colab": {
     "base_uri": "https://localhost:8080/"
    },
    "id": "athletic-intellectual",
    "outputId": "07ce76f8-0d03-4201-fc8e-1f0f94e62854"
   },
   "outputs": [
    {
     "data": {
      "text/plain": [
       "JointModelTorch(\n",
       "  (seq_encoder): BiGRUEncoder(\n",
       "    (embedding): Embedding(23, 16, padding_idx=0)\n",
       "    (gru): GRU(16, 256, num_layers=2, batch_first=True, dropout=0.2, bidirectional=True)\n",
       "    (output_layer): Linear(in_features=1024, out_features=128, bias=True)\n",
       "  )\n",
       "  (seq_decoder): BiGRUDecoder(\n",
       "    (embedding): Embedding(23, 16, padding_idx=0)\n",
       "    (hidden_state_layer): Linear(in_features=256, out_features=512, bias=True)\n",
       "    (gru): GRU(16, 256, num_layers=2, batch_first=True, dropout=0.2)\n",
       "    (output_layer): Linear(in_features=256, out_features=23, bias=True)\n",
       "  )\n",
       "  (gene_encoder): MLP(\n",
       "    (network): Sequential(\n",
       "      (0): Sequential(\n",
       "        (0): Linear(in_features=9038, out_features=1024, bias=False)\n",
       "        (1): BatchNorm1d(1024, eps=1e-05, momentum=0.1, affine=True, track_running_stats=True)\n",
       "        (2): ReLU(inplace=True)\n",
       "        (3): Dropout(p=0.2, inplace=False)\n",
       "      )\n",
       "      (1): Sequential(\n",
       "        (0): Linear(in_features=1024, out_features=512, bias=False)\n",
       "        (1): BatchNorm1d(512, eps=1e-05, momentum=0.1, affine=True, track_running_stats=True)\n",
       "        (2): ReLU(inplace=True)\n",
       "        (3): Dropout(p=0.2, inplace=False)\n",
       "      )\n",
       "      (2): Sequential(\n",
       "        (0): Linear(in_features=512, out_features=128, bias=False)\n",
       "        (1): BatchNorm1d(128, eps=1e-05, momentum=0.1, affine=True, track_running_stats=True)\n",
       "        (2): ReLU(inplace=True)\n",
       "        (3): Dropout(p=0.2, inplace=False)\n",
       "      )\n",
       "    )\n",
       "  )\n",
       "  (gene_decoder): MLP(\n",
       "    (network): Sequential(\n",
       "      (0): Sequential(\n",
       "        (0): Linear(in_features=256, out_features=512, bias=False)\n",
       "        (1): BatchNorm1d(512, eps=1e-05, momentum=0.1, affine=True, track_running_stats=True)\n",
       "        (2): ReLU(inplace=True)\n",
       "        (3): Dropout(p=0.2, inplace=False)\n",
       "      )\n",
       "      (1): Sequential(\n",
       "        (0): Linear(in_features=512, out_features=1024, bias=False)\n",
       "        (1): BatchNorm1d(1024, eps=1e-05, momentum=0.1, affine=True, track_running_stats=True)\n",
       "        (2): ReLU(inplace=True)\n",
       "        (3): Dropout(p=0.2, inplace=False)\n",
       "      )\n",
       "      (2): Sequential(\n",
       "        (0): Linear(in_features=1024, out_features=9038, bias=True)\n",
       "      )\n",
       "    )\n",
       "  )\n",
       "  (shared_encoder): MLP(\n",
       "    (network): Sequential(\n",
       "      (0): Sequential(\n",
       "        (0): Linear(in_features=256, out_features=64, bias=False)\n",
       "        (1): BatchNorm1d(64, eps=1e-05, momentum=0.1, affine=True, track_running_stats=True)\n",
       "        (2): ReLU(inplace=True)\n",
       "        (3): Dropout(p=0.2, inplace=False)\n",
       "      )\n",
       "      (1): Sequential(\n",
       "        (0): Linear(in_features=64, out_features=32, bias=True)\n",
       "        (1): ReLU(inplace=True)\n",
       "      )\n",
       "    )\n",
       "  )\n",
       "  (shared_decoder): MLP(\n",
       "    (network): Sequential(\n",
       "      (0): Sequential(\n",
       "        (0): Linear(in_features=16, out_features=64, bias=False)\n",
       "        (1): BatchNorm1d(64, eps=1e-05, momentum=0.1, affine=True, track_running_stats=True)\n",
       "        (2): ReLU(inplace=True)\n",
       "        (3): Dropout(p=0.2, inplace=False)\n",
       "      )\n",
       "      (1): Sequential(\n",
       "        (0): Linear(in_features=64, out_features=256, bias=False)\n",
       "        (1): BatchNorm1d(256, eps=1e-05, momentum=0.1, affine=True, track_running_stats=True)\n",
       "        (2): ReLU(inplace=True)\n",
       "        (3): Dropout(p=0.2, inplace=False)\n",
       "      )\n",
       "    )\n",
       "  )\n",
       ")"
      ]
     },
     "execution_count": 31,
     "metadata": {},
     "output_type": "execute_result"
    }
   ],
   "source": [
    "# print model architecture\n",
    "model.model"
   ]
  },
  {
   "cell_type": "code",
   "execution_count": 34,
   "id": "tracked-luther",
   "metadata": {
    "colab": {
     "base_uri": "https://localhost:8080/"
    },
    "id": "tracked-luther",
    "outputId": "b443b89b-c070-4b69-b21b-bcd64d935e18",
    "scrolled": false
   },
   "outputs": [
    {
     "name": "stderr",
     "output_type": "stream",
     "text": [
      "\r",
      "Epoch:   0%|                                                                                  | 0/4920 [00:00<?, ?it/s]"
     ]
    },
    {
     "name": "stdout",
     "output_type": "stream",
     "text": [
      "\n",
      "\n",
      "Val Loss: 2.4682235717773438\n",
      "Val scRNA Loss: 0.9915926456451416\n",
      "Val TCR Loss: 1.4766310453414917\n",
      "Val KLD Loss: 0.0\n"
     ]
    },
    {
     "name": "stderr",
     "output_type": "stream",
     "text": [
      "Epoch:   0%|▎                                                                      | 21/4920 [01:52<8:08:24,  5.98s/it]"
     ]
    },
    {
     "name": "stdout",
     "output_type": "stream",
     "text": [
      "\n",
      "\n",
      "Val Loss: 2.4872887134552\n",
      "Val scRNA Loss: 0.9823639392852783\n",
      "Val TCR Loss: 1.5049247741699219\n",
      "Val KLD Loss: 0.0\n"
     ]
    },
    {
     "name": "stderr",
     "output_type": "stream",
     "text": [
      "Epoch:   1%|▌                                                                      | 40/4920 [03:23<6:27:15,  4.76s/it]"
     ]
    },
    {
     "name": "stdout",
     "output_type": "stream",
     "text": [
      "\n",
      "\n",
      "Val Loss: 2.4046239852905273\n",
      "Val scRNA Loss: 0.926689863204956\n",
      "Val TCR Loss: 1.4779342412948608\n",
      "Val KLD Loss: 0.0\n"
     ]
    },
    {
     "name": "stderr",
     "output_type": "stream",
     "text": [
      "Epoch:   1%|▊                                                                      | 60/4920 [05:03<6:27:52,  4.79s/it]"
     ]
    },
    {
     "name": "stdout",
     "output_type": "stream",
     "text": [
      "\n",
      "\n",
      "Val Loss: 2.360163927078247\n",
      "Val scRNA Loss: 0.9488758444786072\n",
      "Val TCR Loss: 1.4112881422042847\n",
      "Val KLD Loss: 0.0\n"
     ]
    },
    {
     "name": "stderr",
     "output_type": "stream",
     "text": [
      "Epoch:   2%|█▏                                                                     | 81/4920 [06:51<7:53:49,  5.88s/it]"
     ]
    },
    {
     "name": "stdout",
     "output_type": "stream",
     "text": [
      "\n",
      "\n",
      "Val Loss: 2.48606276512146\n",
      "Val scRNA Loss: 0.9774875640869141\n",
      "Val TCR Loss: 1.508575201034546\n",
      "Val KLD Loss: 0.0\n"
     ]
    },
    {
     "name": "stderr",
     "output_type": "stream",
     "text": [
      "Epoch:   2%|█▍                                                                     | 96/4920 [08:05<6:46:50,  5.06s/it]\n"
     ]
    },
    {
     "ename": "KeyboardInterrupt",
     "evalue": "",
     "output_type": "error",
     "traceback": [
      "\u001b[1;31m---------------------------------------------------------------------------\u001b[0m",
      "\u001b[1;31mKeyboardInterrupt\u001b[0m                         Traceback (most recent call last)",
      "\u001b[1;32m<ipython-input-34-2d266670db6b>\u001b[0m in \u001b[0;36m<module>\u001b[1;34m\u001b[0m\n\u001b[1;32m----> 1\u001b[1;33m model.train(\n\u001b[0m\u001b[0;32m      2\u001b[0m     \u001b[0mexperiment_name\u001b[0m\u001b[1;33m=\u001b[0m\u001b[0mexperiment_name\u001b[0m\u001b[1;33m,\u001b[0m\u001b[1;33m\u001b[0m\u001b[1;33m\u001b[0m\u001b[0m\n\u001b[0;32m      3\u001b[0m     \u001b[0mn_iters\u001b[0m\u001b[1;33m=\u001b[0m\u001b[1;32mNone\u001b[0m\u001b[1;33m,\u001b[0m\u001b[1;33m\u001b[0m\u001b[1;33m\u001b[0m\u001b[0m\n\u001b[0;32m      4\u001b[0m     \u001b[0mn_epochs\u001b[0m\u001b[1;33m=\u001b[0m\u001b[1;36m5000\u001b[0m\u001b[1;33m,\u001b[0m\u001b[1;33m\u001b[0m\u001b[1;33m\u001b[0m\u001b[0m\n\u001b[0;32m      5\u001b[0m     \u001b[0mbatch_size\u001b[0m\u001b[1;33m=\u001b[0m\u001b[0mparams\u001b[0m\u001b[1;33m[\u001b[0m\u001b[1;34m'batch_size'\u001b[0m\u001b[1;33m]\u001b[0m\u001b[1;33m,\u001b[0m\u001b[1;33m\u001b[0m\u001b[1;33m\u001b[0m\u001b[0m\n",
      "\u001b[1;32m~\\Downloads\\Perturbation\\tcr-embedding\\tcr_embedding\\models\\joint_model.py\u001b[0m in \u001b[0;36mtrain\u001b[1;34m(self, experiment_name, n_iters, n_epochs, batch_size, lr, losses, loss_weights, val_split, metadata, validate_every, print_every, num_workers, verbose, continue_training, device, comet)\u001b[0m\n\u001b[0;32m    205\u001b[0m                         \u001b[0mTCR_loss_train_total\u001b[0m \u001b[1;33m=\u001b[0m \u001b[1;33m[\u001b[0m\u001b[1;33m]\u001b[0m\u001b[1;33m\u001b[0m\u001b[1;33m\u001b[0m\u001b[0m\n\u001b[0;32m    206\u001b[0m                         \u001b[0mKLD_loss_train_total\u001b[0m \u001b[1;33m=\u001b[0m \u001b[1;33m[\u001b[0m\u001b[1;33m]\u001b[0m\u001b[1;33m\u001b[0m\u001b[1;33m\u001b[0m\u001b[0m\n\u001b[1;32m--> 207\u001b[1;33m                         \u001b[1;32mfor\u001b[0m \u001b[0mscRNA\u001b[0m\u001b[1;33m,\u001b[0m \u001b[0mtcr_seq\u001b[0m\u001b[1;33m,\u001b[0m \u001b[0mname\u001b[0m\u001b[1;33m,\u001b[0m \u001b[0mindex\u001b[0m\u001b[1;33m,\u001b[0m \u001b[0mseq_len\u001b[0m\u001b[1;33m,\u001b[0m \u001b[0mmetadata_batch\u001b[0m \u001b[1;32min\u001b[0m \u001b[0mtrain_dataloader\u001b[0m\u001b[1;33m:\u001b[0m\u001b[1;33m\u001b[0m\u001b[1;33m\u001b[0m\u001b[0m\n\u001b[0m\u001b[0;32m    208\u001b[0m                                 \u001b[0mscRNA\u001b[0m \u001b[1;33m=\u001b[0m \u001b[0mscRNA\u001b[0m\u001b[1;33m.\u001b[0m\u001b[0mto\u001b[0m\u001b[1;33m(\u001b[0m\u001b[0mdevice\u001b[0m\u001b[1;33m)\u001b[0m\u001b[1;33m\u001b[0m\u001b[1;33m\u001b[0m\u001b[0m\n\u001b[0;32m    209\u001b[0m                                 \u001b[0mtcr_seq\u001b[0m \u001b[1;33m=\u001b[0m \u001b[0mtcr_seq\u001b[0m\u001b[1;33m.\u001b[0m\u001b[0mto\u001b[0m\u001b[1;33m(\u001b[0m\u001b[0mdevice\u001b[0m\u001b[1;33m)\u001b[0m\u001b[1;33m\u001b[0m\u001b[1;33m\u001b[0m\u001b[0m\n",
      "\u001b[1;32m~\\AppData\\Local\\Continuum\\anaconda3\\envs\\tcr\\lib\\site-packages\\torch\\utils\\data\\dataloader.py\u001b[0m in \u001b[0;36m__iter__\u001b[1;34m(self)\u001b[0m\n\u001b[0;32m    350\u001b[0m             \u001b[1;32mreturn\u001b[0m \u001b[0mself\u001b[0m\u001b[1;33m.\u001b[0m\u001b[0m_iterator\u001b[0m\u001b[1;33m\u001b[0m\u001b[1;33m\u001b[0m\u001b[0m\n\u001b[0;32m    351\u001b[0m         \u001b[1;32melse\u001b[0m\u001b[1;33m:\u001b[0m\u001b[1;33m\u001b[0m\u001b[1;33m\u001b[0m\u001b[0m\n\u001b[1;32m--> 352\u001b[1;33m             \u001b[1;32mreturn\u001b[0m \u001b[0mself\u001b[0m\u001b[1;33m.\u001b[0m\u001b[0m_get_iterator\u001b[0m\u001b[1;33m(\u001b[0m\u001b[1;33m)\u001b[0m\u001b[1;33m\u001b[0m\u001b[1;33m\u001b[0m\u001b[0m\n\u001b[0m\u001b[0;32m    353\u001b[0m \u001b[1;33m\u001b[0m\u001b[0m\n\u001b[0;32m    354\u001b[0m     \u001b[1;33m@\u001b[0m\u001b[0mproperty\u001b[0m\u001b[1;33m\u001b[0m\u001b[1;33m\u001b[0m\u001b[0m\n",
      "\u001b[1;32m~\\AppData\\Local\\Continuum\\anaconda3\\envs\\tcr\\lib\\site-packages\\torch\\utils\\data\\dataloader.py\u001b[0m in \u001b[0;36m_get_iterator\u001b[1;34m(self)\u001b[0m\n\u001b[0;32m    292\u001b[0m             \u001b[1;32mreturn\u001b[0m \u001b[0m_SingleProcessDataLoaderIter\u001b[0m\u001b[1;33m(\u001b[0m\u001b[0mself\u001b[0m\u001b[1;33m)\u001b[0m\u001b[1;33m\u001b[0m\u001b[1;33m\u001b[0m\u001b[0m\n\u001b[0;32m    293\u001b[0m         \u001b[1;32melse\u001b[0m\u001b[1;33m:\u001b[0m\u001b[1;33m\u001b[0m\u001b[1;33m\u001b[0m\u001b[0m\n\u001b[1;32m--> 294\u001b[1;33m             \u001b[1;32mreturn\u001b[0m \u001b[0m_MultiProcessingDataLoaderIter\u001b[0m\u001b[1;33m(\u001b[0m\u001b[0mself\u001b[0m\u001b[1;33m)\u001b[0m\u001b[1;33m\u001b[0m\u001b[1;33m\u001b[0m\u001b[0m\n\u001b[0m\u001b[0;32m    295\u001b[0m \u001b[1;33m\u001b[0m\u001b[0m\n\u001b[0;32m    296\u001b[0m     \u001b[1;33m@\u001b[0m\u001b[0mproperty\u001b[0m\u001b[1;33m\u001b[0m\u001b[1;33m\u001b[0m\u001b[0m\n",
      "\u001b[1;32m~\\AppData\\Local\\Continuum\\anaconda3\\envs\\tcr\\lib\\site-packages\\torch\\utils\\data\\dataloader.py\u001b[0m in \u001b[0;36m__init__\u001b[1;34m(self, loader)\u001b[0m\n\u001b[0;32m    799\u001b[0m             \u001b[1;31m#     before it starts, and __del__ tries to join but will get:\u001b[0m\u001b[1;33m\u001b[0m\u001b[1;33m\u001b[0m\u001b[1;33m\u001b[0m\u001b[0m\n\u001b[0;32m    800\u001b[0m             \u001b[1;31m#     AssertionError: can only join a started process.\u001b[0m\u001b[1;33m\u001b[0m\u001b[1;33m\u001b[0m\u001b[1;33m\u001b[0m\u001b[0m\n\u001b[1;32m--> 801\u001b[1;33m             \u001b[0mw\u001b[0m\u001b[1;33m.\u001b[0m\u001b[0mstart\u001b[0m\u001b[1;33m(\u001b[0m\u001b[1;33m)\u001b[0m\u001b[1;33m\u001b[0m\u001b[1;33m\u001b[0m\u001b[0m\n\u001b[0m\u001b[0;32m    802\u001b[0m             \u001b[0mself\u001b[0m\u001b[1;33m.\u001b[0m\u001b[0m_index_queues\u001b[0m\u001b[1;33m.\u001b[0m\u001b[0mappend\u001b[0m\u001b[1;33m(\u001b[0m\u001b[0mindex_queue\u001b[0m\u001b[1;33m)\u001b[0m\u001b[1;33m\u001b[0m\u001b[1;33m\u001b[0m\u001b[0m\n\u001b[0;32m    803\u001b[0m             \u001b[0mself\u001b[0m\u001b[1;33m.\u001b[0m\u001b[0m_workers\u001b[0m\u001b[1;33m.\u001b[0m\u001b[0mappend\u001b[0m\u001b[1;33m(\u001b[0m\u001b[0mw\u001b[0m\u001b[1;33m)\u001b[0m\u001b[1;33m\u001b[0m\u001b[1;33m\u001b[0m\u001b[0m\n",
      "\u001b[1;32m~\\AppData\\Local\\Continuum\\anaconda3\\envs\\tcr\\lib\\multiprocessing\\process.py\u001b[0m in \u001b[0;36mstart\u001b[1;34m(self)\u001b[0m\n\u001b[0;32m    119\u001b[0m                \u001b[1;34m'daemonic processes are not allowed to have children'\u001b[0m\u001b[1;33m\u001b[0m\u001b[1;33m\u001b[0m\u001b[0m\n\u001b[0;32m    120\u001b[0m         \u001b[0m_cleanup\u001b[0m\u001b[1;33m(\u001b[0m\u001b[1;33m)\u001b[0m\u001b[1;33m\u001b[0m\u001b[1;33m\u001b[0m\u001b[0m\n\u001b[1;32m--> 121\u001b[1;33m         \u001b[0mself\u001b[0m\u001b[1;33m.\u001b[0m\u001b[0m_popen\u001b[0m \u001b[1;33m=\u001b[0m \u001b[0mself\u001b[0m\u001b[1;33m.\u001b[0m\u001b[0m_Popen\u001b[0m\u001b[1;33m(\u001b[0m\u001b[0mself\u001b[0m\u001b[1;33m)\u001b[0m\u001b[1;33m\u001b[0m\u001b[1;33m\u001b[0m\u001b[0m\n\u001b[0m\u001b[0;32m    122\u001b[0m         \u001b[0mself\u001b[0m\u001b[1;33m.\u001b[0m\u001b[0m_sentinel\u001b[0m \u001b[1;33m=\u001b[0m \u001b[0mself\u001b[0m\u001b[1;33m.\u001b[0m\u001b[0m_popen\u001b[0m\u001b[1;33m.\u001b[0m\u001b[0msentinel\u001b[0m\u001b[1;33m\u001b[0m\u001b[1;33m\u001b[0m\u001b[0m\n\u001b[0;32m    123\u001b[0m         \u001b[1;31m# Avoid a refcycle if the target function holds an indirect\u001b[0m\u001b[1;33m\u001b[0m\u001b[1;33m\u001b[0m\u001b[1;33m\u001b[0m\u001b[0m\n",
      "\u001b[1;32m~\\AppData\\Local\\Continuum\\anaconda3\\envs\\tcr\\lib\\multiprocessing\\context.py\u001b[0m in \u001b[0;36m_Popen\u001b[1;34m(process_obj)\u001b[0m\n\u001b[0;32m    222\u001b[0m     \u001b[1;33m@\u001b[0m\u001b[0mstaticmethod\u001b[0m\u001b[1;33m\u001b[0m\u001b[1;33m\u001b[0m\u001b[0m\n\u001b[0;32m    223\u001b[0m     \u001b[1;32mdef\u001b[0m \u001b[0m_Popen\u001b[0m\u001b[1;33m(\u001b[0m\u001b[0mprocess_obj\u001b[0m\u001b[1;33m)\u001b[0m\u001b[1;33m:\u001b[0m\u001b[1;33m\u001b[0m\u001b[1;33m\u001b[0m\u001b[0m\n\u001b[1;32m--> 224\u001b[1;33m         \u001b[1;32mreturn\u001b[0m \u001b[0m_default_context\u001b[0m\u001b[1;33m.\u001b[0m\u001b[0mget_context\u001b[0m\u001b[1;33m(\u001b[0m\u001b[1;33m)\u001b[0m\u001b[1;33m.\u001b[0m\u001b[0mProcess\u001b[0m\u001b[1;33m.\u001b[0m\u001b[0m_Popen\u001b[0m\u001b[1;33m(\u001b[0m\u001b[0mprocess_obj\u001b[0m\u001b[1;33m)\u001b[0m\u001b[1;33m\u001b[0m\u001b[1;33m\u001b[0m\u001b[0m\n\u001b[0m\u001b[0;32m    225\u001b[0m \u001b[1;33m\u001b[0m\u001b[0m\n\u001b[0;32m    226\u001b[0m \u001b[1;32mclass\u001b[0m \u001b[0mDefaultContext\u001b[0m\u001b[1;33m(\u001b[0m\u001b[0mBaseContext\u001b[0m\u001b[1;33m)\u001b[0m\u001b[1;33m:\u001b[0m\u001b[1;33m\u001b[0m\u001b[1;33m\u001b[0m\u001b[0m\n",
      "\u001b[1;32m~\\AppData\\Local\\Continuum\\anaconda3\\envs\\tcr\\lib\\multiprocessing\\context.py\u001b[0m in \u001b[0;36m_Popen\u001b[1;34m(process_obj)\u001b[0m\n\u001b[0;32m    325\u001b[0m         \u001b[1;32mdef\u001b[0m \u001b[0m_Popen\u001b[0m\u001b[1;33m(\u001b[0m\u001b[0mprocess_obj\u001b[0m\u001b[1;33m)\u001b[0m\u001b[1;33m:\u001b[0m\u001b[1;33m\u001b[0m\u001b[1;33m\u001b[0m\u001b[0m\n\u001b[0;32m    326\u001b[0m             \u001b[1;32mfrom\u001b[0m \u001b[1;33m.\u001b[0m\u001b[0mpopen_spawn_win32\u001b[0m \u001b[1;32mimport\u001b[0m \u001b[0mPopen\u001b[0m\u001b[1;33m\u001b[0m\u001b[1;33m\u001b[0m\u001b[0m\n\u001b[1;32m--> 327\u001b[1;33m             \u001b[1;32mreturn\u001b[0m \u001b[0mPopen\u001b[0m\u001b[1;33m(\u001b[0m\u001b[0mprocess_obj\u001b[0m\u001b[1;33m)\u001b[0m\u001b[1;33m\u001b[0m\u001b[1;33m\u001b[0m\u001b[0m\n\u001b[0m\u001b[0;32m    328\u001b[0m \u001b[1;33m\u001b[0m\u001b[0m\n\u001b[0;32m    329\u001b[0m     \u001b[1;32mclass\u001b[0m \u001b[0mSpawnContext\u001b[0m\u001b[1;33m(\u001b[0m\u001b[0mBaseContext\u001b[0m\u001b[1;33m)\u001b[0m\u001b[1;33m:\u001b[0m\u001b[1;33m\u001b[0m\u001b[1;33m\u001b[0m\u001b[0m\n",
      "\u001b[1;32m~\\AppData\\Local\\Continuum\\anaconda3\\envs\\tcr\\lib\\multiprocessing\\popen_spawn_win32.py\u001b[0m in \u001b[0;36m__init__\u001b[1;34m(self, process_obj)\u001b[0m\n\u001b[0;32m     91\u001b[0m             \u001b[1;32mtry\u001b[0m\u001b[1;33m:\u001b[0m\u001b[1;33m\u001b[0m\u001b[1;33m\u001b[0m\u001b[0m\n\u001b[0;32m     92\u001b[0m                 \u001b[0mreduction\u001b[0m\u001b[1;33m.\u001b[0m\u001b[0mdump\u001b[0m\u001b[1;33m(\u001b[0m\u001b[0mprep_data\u001b[0m\u001b[1;33m,\u001b[0m \u001b[0mto_child\u001b[0m\u001b[1;33m)\u001b[0m\u001b[1;33m\u001b[0m\u001b[1;33m\u001b[0m\u001b[0m\n\u001b[1;32m---> 93\u001b[1;33m                 \u001b[0mreduction\u001b[0m\u001b[1;33m.\u001b[0m\u001b[0mdump\u001b[0m\u001b[1;33m(\u001b[0m\u001b[0mprocess_obj\u001b[0m\u001b[1;33m,\u001b[0m \u001b[0mto_child\u001b[0m\u001b[1;33m)\u001b[0m\u001b[1;33m\u001b[0m\u001b[1;33m\u001b[0m\u001b[0m\n\u001b[0m\u001b[0;32m     94\u001b[0m             \u001b[1;32mfinally\u001b[0m\u001b[1;33m:\u001b[0m\u001b[1;33m\u001b[0m\u001b[1;33m\u001b[0m\u001b[0m\n\u001b[0;32m     95\u001b[0m                 \u001b[0mset_spawning_popen\u001b[0m\u001b[1;33m(\u001b[0m\u001b[1;32mNone\u001b[0m\u001b[1;33m)\u001b[0m\u001b[1;33m\u001b[0m\u001b[1;33m\u001b[0m\u001b[0m\n",
      "\u001b[1;32m~\\AppData\\Local\\Continuum\\anaconda3\\envs\\tcr\\lib\\multiprocessing\\reduction.py\u001b[0m in \u001b[0;36mdump\u001b[1;34m(obj, file, protocol)\u001b[0m\n\u001b[0;32m     58\u001b[0m \u001b[1;32mdef\u001b[0m \u001b[0mdump\u001b[0m\u001b[1;33m(\u001b[0m\u001b[0mobj\u001b[0m\u001b[1;33m,\u001b[0m \u001b[0mfile\u001b[0m\u001b[1;33m,\u001b[0m \u001b[0mprotocol\u001b[0m\u001b[1;33m=\u001b[0m\u001b[1;32mNone\u001b[0m\u001b[1;33m)\u001b[0m\u001b[1;33m:\u001b[0m\u001b[1;33m\u001b[0m\u001b[1;33m\u001b[0m\u001b[0m\n\u001b[0;32m     59\u001b[0m     \u001b[1;34m'''Replacement for pickle.dump() using ForkingPickler.'''\u001b[0m\u001b[1;33m\u001b[0m\u001b[1;33m\u001b[0m\u001b[0m\n\u001b[1;32m---> 60\u001b[1;33m     \u001b[0mForkingPickler\u001b[0m\u001b[1;33m(\u001b[0m\u001b[0mfile\u001b[0m\u001b[1;33m,\u001b[0m \u001b[0mprotocol\u001b[0m\u001b[1;33m)\u001b[0m\u001b[1;33m.\u001b[0m\u001b[0mdump\u001b[0m\u001b[1;33m(\u001b[0m\u001b[0mobj\u001b[0m\u001b[1;33m)\u001b[0m\u001b[1;33m\u001b[0m\u001b[1;33m\u001b[0m\u001b[0m\n\u001b[0m\u001b[0;32m     61\u001b[0m \u001b[1;33m\u001b[0m\u001b[0m\n\u001b[0;32m     62\u001b[0m \u001b[1;31m#\u001b[0m\u001b[1;33m\u001b[0m\u001b[1;33m\u001b[0m\u001b[1;33m\u001b[0m\u001b[0m\n",
      "\u001b[1;31mKeyboardInterrupt\u001b[0m: "
     ]
    }
   ],
   "source": [
    "model.train(\n",
    "    experiment_name=experiment_name,\n",
    "    n_iters=None,\n",
    "    n_epochs=5000,\n",
    "    batch_size=params['batch_size'],\n",
    "    lr=params['lr'],\n",
    "    losses=params['losses'],  # list of losses for each modality: losses[0] := scRNA, losses[1] := TCR\n",
    "    loss_weights=params['loss_weights'],  # [] or list of floats storing weighting of loss in order [scRNA, TCR, KLD]\n",
    "    val_split=0.1,\n",
    "    metadata=[],\n",
    "    validate_every=20,\n",
    "    print_every=20,\n",
    "    num_workers=1,\n",
    "    verbose=1,  # 0: only tdqm progress bar, 1: val loss, 2: train and val loss\n",
    "    continue_training=True,\n",
    "    device=None,\n",
    "    comet=experiment\n",
    ")"
   ]
  },
  {
   "cell_type": "code",
   "execution_count": 35,
   "id": "corresponding-knock",
   "metadata": {
    "id": "corresponding-knock"
   },
   "outputs": [
    {
     "data": {
      "text/html": [
       "<div>\n",
       "<style scoped>\n",
       "    .dataframe tbody tr th:only-of-type {\n",
       "        vertical-align: middle;\n",
       "    }\n",
       "\n",
       "    .dataframe tbody tr th {\n",
       "        vertical-align: top;\n",
       "    }\n",
       "\n",
       "    .dataframe thead th {\n",
       "        text-align: right;\n",
       "    }\n",
       "</style>\n",
       "<table border=\"1\" class=\"dataframe\">\n",
       "  <thead>\n",
       "    <tr style=\"text-align: right;\">\n",
       "      <th></th>\n",
       "      <th>epoch</th>\n",
       "      <th>loss</th>\n",
       "      <th>scRNA_loss</th>\n",
       "      <th>TCR_loss</th>\n",
       "      <th>KLD_loss</th>\n",
       "    </tr>\n",
       "  </thead>\n",
       "  <tbody>\n",
       "    <tr>\n",
       "      <th>0</th>\n",
       "      <td>0</td>\n",
       "      <td>6.895936</td>\n",
       "      <td>4.436349</td>\n",
       "      <td>2.459587</td>\n",
       "      <td>0.0</td>\n",
       "    </tr>\n",
       "    <tr>\n",
       "      <th>1</th>\n",
       "      <td>20</td>\n",
       "      <td>3.346538</td>\n",
       "      <td>1.462543</td>\n",
       "      <td>1.883995</td>\n",
       "      <td>0.0</td>\n",
       "    </tr>\n",
       "    <tr>\n",
       "      <th>2</th>\n",
       "      <td>40</td>\n",
       "      <td>3.088514</td>\n",
       "      <td>1.203294</td>\n",
       "      <td>1.885220</td>\n",
       "      <td>0.0</td>\n",
       "    </tr>\n",
       "    <tr>\n",
       "      <th>3</th>\n",
       "      <td>60</td>\n",
       "      <td>2.819556</td>\n",
       "      <td>1.021070</td>\n",
       "      <td>1.798485</td>\n",
       "      <td>0.0</td>\n",
       "    </tr>\n",
       "    <tr>\n",
       "      <th>4</th>\n",
       "      <td>80</td>\n",
       "      <td>2.468224</td>\n",
       "      <td>0.991593</td>\n",
       "      <td>1.476631</td>\n",
       "      <td>0.0</td>\n",
       "    </tr>\n",
       "    <tr>\n",
       "      <th>5</th>\n",
       "      <td>100</td>\n",
       "      <td>2.487289</td>\n",
       "      <td>0.982364</td>\n",
       "      <td>1.504925</td>\n",
       "      <td>0.0</td>\n",
       "    </tr>\n",
       "    <tr>\n",
       "      <th>6</th>\n",
       "      <td>120</td>\n",
       "      <td>2.404624</td>\n",
       "      <td>0.926690</td>\n",
       "      <td>1.477934</td>\n",
       "      <td>0.0</td>\n",
       "    </tr>\n",
       "    <tr>\n",
       "      <th>7</th>\n",
       "      <td>140</td>\n",
       "      <td>2.360164</td>\n",
       "      <td>0.948876</td>\n",
       "      <td>1.411288</td>\n",
       "      <td>0.0</td>\n",
       "    </tr>\n",
       "    <tr>\n",
       "      <th>8</th>\n",
       "      <td>160</td>\n",
       "      <td>2.486063</td>\n",
       "      <td>0.977488</td>\n",
       "      <td>1.508575</td>\n",
       "      <td>0.0</td>\n",
       "    </tr>\n",
       "  </tbody>\n",
       "</table>\n",
       "</div>"
      ],
      "text/plain": [
       "   epoch      loss  scRNA_loss  TCR_loss  KLD_loss\n",
       "0      0  6.895936    4.436349  2.459587       0.0\n",
       "1     20  3.346538    1.462543  1.883995       0.0\n",
       "2     40  3.088514    1.203294  1.885220       0.0\n",
       "3     60  2.819556    1.021070  1.798485       0.0\n",
       "4     80  2.468224    0.991593  1.476631       0.0\n",
       "5    100  2.487289    0.982364  1.504925       0.0\n",
       "6    120  2.404624    0.926690  1.477934       0.0\n",
       "7    140  2.360164    0.948876  1.411288       0.0\n",
       "8    160  2.486063    0.977488  1.508575       0.0"
      ]
     },
     "execution_count": 35,
     "metadata": {},
     "output_type": "execute_result"
    }
   ],
   "source": [
    "model.history"
   ]
  },
  {
   "cell_type": "code",
   "execution_count": 39,
   "id": "Bu6jOgU3Yffx",
   "metadata": {
    "id": "Bu6jOgU3Yffx"
   },
   "outputs": [
    {
     "data": {
      "text/html": [
       "<div>\n",
       "<style scoped>\n",
       "    .dataframe tbody tr th:only-of-type {\n",
       "        vertical-align: middle;\n",
       "    }\n",
       "\n",
       "    .dataframe tbody tr th {\n",
       "        vertical-align: top;\n",
       "    }\n",
       "\n",
       "    .dataframe thead th {\n",
       "        text-align: right;\n",
       "    }\n",
       "</style>\n",
       "<table border=\"1\" class=\"dataframe\">\n",
       "  <thead>\n",
       "    <tr style=\"text-align: right;\">\n",
       "      <th></th>\n",
       "      <th>epoch</th>\n",
       "      <th>loss</th>\n",
       "      <th>scRNA_loss</th>\n",
       "      <th>TCR_loss</th>\n",
       "      <th>KLD_loss</th>\n",
       "    </tr>\n",
       "  </thead>\n",
       "  <tbody>\n",
       "    <tr>\n",
       "      <th>0</th>\n",
       "      <td>0</td>\n",
       "      <td>10.697208</td>\n",
       "      <td>7.934582</td>\n",
       "      <td>2.762627</td>\n",
       "      <td>0.0</td>\n",
       "    </tr>\n",
       "    <tr>\n",
       "      <th>1</th>\n",
       "      <td>20</td>\n",
       "      <td>6.603712</td>\n",
       "      <td>4.714456</td>\n",
       "      <td>1.889256</td>\n",
       "      <td>0.0</td>\n",
       "    </tr>\n",
       "    <tr>\n",
       "      <th>2</th>\n",
       "      <td>40</td>\n",
       "      <td>6.438000</td>\n",
       "      <td>4.554487</td>\n",
       "      <td>1.883513</td>\n",
       "      <td>0.0</td>\n",
       "    </tr>\n",
       "    <tr>\n",
       "      <th>3</th>\n",
       "      <td>60</td>\n",
       "      <td>6.107460</td>\n",
       "      <td>4.287799</td>\n",
       "      <td>1.819662</td>\n",
       "      <td>0.0</td>\n",
       "    </tr>\n",
       "    <tr>\n",
       "      <th>4</th>\n",
       "      <td>80</td>\n",
       "      <td>5.819302</td>\n",
       "      <td>4.284187</td>\n",
       "      <td>1.535115</td>\n",
       "      <td>0.0</td>\n",
       "    </tr>\n",
       "    <tr>\n",
       "      <th>5</th>\n",
       "      <td>80</td>\n",
       "      <td>5.797165</td>\n",
       "      <td>4.270206</td>\n",
       "      <td>1.526959</td>\n",
       "      <td>0.0</td>\n",
       "    </tr>\n",
       "    <tr>\n",
       "      <th>6</th>\n",
       "      <td>100</td>\n",
       "      <td>5.643436</td>\n",
       "      <td>4.151219</td>\n",
       "      <td>1.492216</td>\n",
       "      <td>0.0</td>\n",
       "    </tr>\n",
       "    <tr>\n",
       "      <th>7</th>\n",
       "      <td>120</td>\n",
       "      <td>5.504408</td>\n",
       "      <td>4.046258</td>\n",
       "      <td>1.458150</td>\n",
       "      <td>0.0</td>\n",
       "    </tr>\n",
       "    <tr>\n",
       "      <th>8</th>\n",
       "      <td>140</td>\n",
       "      <td>5.348752</td>\n",
       "      <td>3.899818</td>\n",
       "      <td>1.448934</td>\n",
       "      <td>0.0</td>\n",
       "    </tr>\n",
       "    <tr>\n",
       "      <th>9</th>\n",
       "      <td>160</td>\n",
       "      <td>5.187761</td>\n",
       "      <td>3.750809</td>\n",
       "      <td>1.436951</td>\n",
       "      <td>0.0</td>\n",
       "    </tr>\n",
       "  </tbody>\n",
       "</table>\n",
       "</div>"
      ],
      "text/plain": [
       "   epoch       loss  scRNA_loss  TCR_loss  KLD_loss\n",
       "0      0  10.697208    7.934582  2.762627       0.0\n",
       "1     20   6.603712    4.714456  1.889256       0.0\n",
       "2     40   6.438000    4.554487  1.883513       0.0\n",
       "3     60   6.107460    4.287799  1.819662       0.0\n",
       "4     80   5.819302    4.284187  1.535115       0.0\n",
       "5     80   5.797165    4.270206  1.526959       0.0\n",
       "6    100   5.643436    4.151219  1.492216       0.0\n",
       "7    120   5.504408    4.046258  1.458150       0.0\n",
       "8    140   5.348752    3.899818  1.448934       0.0\n",
       "9    160   5.187761    3.750809  1.436951       0.0"
      ]
     },
     "execution_count": 39,
     "metadata": {},
     "output_type": "execute_result"
    }
   ],
   "source": [
    "model.train_history"
   ]
  },
  {
   "cell_type": "code",
   "execution_count": 37,
   "id": "S1JnaLq-XYTH",
   "metadata": {
    "id": "S1JnaLq-XYTH"
   },
   "outputs": [
    {
     "ename": "ValueError",
     "evalue": "x and y must have same first dimension, but have shapes (9,) and (10,)",
     "output_type": "error",
     "traceback": [
      "\u001b[1;31m---------------------------------------------------------------------------\u001b[0m",
      "\u001b[1;31mValueError\u001b[0m                                Traceback (most recent call last)",
      "\u001b[1;32m<ipython-input-37-0e1dae8f2bb5>\u001b[0m in \u001b[0;36m<module>\u001b[1;34m\u001b[0m\n\u001b[0;32m      2\u001b[0m \u001b[0mplt\u001b[0m\u001b[1;33m.\u001b[0m\u001b[0mfigure\u001b[0m\u001b[1;33m(\u001b[0m\u001b[0mfigsize\u001b[0m\u001b[1;33m=\u001b[0m\u001b[1;33m(\u001b[0m\u001b[1;36m15\u001b[0m\u001b[1;33m,\u001b[0m \u001b[1;36m10\u001b[0m\u001b[1;33m)\u001b[0m\u001b[1;33m)\u001b[0m\u001b[1;33m;\u001b[0m\u001b[1;33m\u001b[0m\u001b[1;33m\u001b[0m\u001b[0m\n\u001b[0;32m      3\u001b[0m \u001b[0mplt\u001b[0m\u001b[1;33m.\u001b[0m\u001b[0msubplot\u001b[0m\u001b[1;33m(\u001b[0m\u001b[1;36m221\u001b[0m\u001b[1;33m)\u001b[0m\u001b[1;33m;\u001b[0m\u001b[1;33m\u001b[0m\u001b[1;33m\u001b[0m\u001b[0m\n\u001b[1;32m----> 4\u001b[1;33m \u001b[0mplt\u001b[0m\u001b[1;33m.\u001b[0m\u001b[0mplot\u001b[0m\u001b[1;33m(\u001b[0m\u001b[0mmodel\u001b[0m\u001b[1;33m.\u001b[0m\u001b[0mhistory\u001b[0m\u001b[1;33m[\u001b[0m\u001b[1;34m'epoch'\u001b[0m\u001b[1;33m]\u001b[0m\u001b[1;33m,\u001b[0m \u001b[0mmodel\u001b[0m\u001b[1;33m.\u001b[0m\u001b[0mtrain_history\u001b[0m\u001b[1;33m[\u001b[0m\u001b[1;34m'loss'\u001b[0m\u001b[1;33m]\u001b[0m\u001b[1;33m,\u001b[0m \u001b[1;34m'.-'\u001b[0m\u001b[1;33m,\u001b[0m \u001b[0mlabel\u001b[0m\u001b[1;33m=\u001b[0m\u001b[1;34m'Train loss'\u001b[0m\u001b[1;33m)\u001b[0m\u001b[1;33m;\u001b[0m\u001b[1;33m\u001b[0m\u001b[1;33m\u001b[0m\u001b[0m\n\u001b[0m\u001b[0;32m      5\u001b[0m \u001b[0mplt\u001b[0m\u001b[1;33m.\u001b[0m\u001b[0mplot\u001b[0m\u001b[1;33m(\u001b[0m\u001b[0mmodel\u001b[0m\u001b[1;33m.\u001b[0m\u001b[0mhistory\u001b[0m\u001b[1;33m[\u001b[0m\u001b[1;34m'epoch'\u001b[0m\u001b[1;33m]\u001b[0m\u001b[1;33m,\u001b[0m \u001b[0mmodel\u001b[0m\u001b[1;33m.\u001b[0m\u001b[0mhistory\u001b[0m\u001b[1;33m[\u001b[0m\u001b[1;34m'loss'\u001b[0m\u001b[1;33m]\u001b[0m\u001b[1;33m,\u001b[0m \u001b[1;34m'.-'\u001b[0m\u001b[1;33m,\u001b[0m \u001b[0mlabel\u001b[0m\u001b[1;33m=\u001b[0m\u001b[1;34m'Val loss'\u001b[0m\u001b[1;33m)\u001b[0m\u001b[1;33m;\u001b[0m\u001b[1;33m\u001b[0m\u001b[1;33m\u001b[0m\u001b[0m\n\u001b[0;32m      6\u001b[0m \u001b[0mplt\u001b[0m\u001b[1;33m.\u001b[0m\u001b[0mlegend\u001b[0m\u001b[1;33m(\u001b[0m\u001b[1;33m)\u001b[0m\u001b[1;33m;\u001b[0m\u001b[1;33m\u001b[0m\u001b[1;33m\u001b[0m\u001b[0m\n",
      "\u001b[1;32m~\\AppData\\Local\\Continuum\\anaconda3\\envs\\tcr\\lib\\site-packages\\matplotlib\\pyplot.py\u001b[0m in \u001b[0;36mplot\u001b[1;34m(scalex, scaley, data, *args, **kwargs)\u001b[0m\n\u001b[0;32m   2838\u001b[0m \u001b[1;33m@\u001b[0m\u001b[0m_copy_docstring_and_deprecators\u001b[0m\u001b[1;33m(\u001b[0m\u001b[0mAxes\u001b[0m\u001b[1;33m.\u001b[0m\u001b[0mplot\u001b[0m\u001b[1;33m)\u001b[0m\u001b[1;33m\u001b[0m\u001b[1;33m\u001b[0m\u001b[0m\n\u001b[0;32m   2839\u001b[0m \u001b[1;32mdef\u001b[0m \u001b[0mplot\u001b[0m\u001b[1;33m(\u001b[0m\u001b[1;33m*\u001b[0m\u001b[0margs\u001b[0m\u001b[1;33m,\u001b[0m \u001b[0mscalex\u001b[0m\u001b[1;33m=\u001b[0m\u001b[1;32mTrue\u001b[0m\u001b[1;33m,\u001b[0m \u001b[0mscaley\u001b[0m\u001b[1;33m=\u001b[0m\u001b[1;32mTrue\u001b[0m\u001b[1;33m,\u001b[0m \u001b[0mdata\u001b[0m\u001b[1;33m=\u001b[0m\u001b[1;32mNone\u001b[0m\u001b[1;33m,\u001b[0m \u001b[1;33m**\u001b[0m\u001b[0mkwargs\u001b[0m\u001b[1;33m)\u001b[0m\u001b[1;33m:\u001b[0m\u001b[1;33m\u001b[0m\u001b[1;33m\u001b[0m\u001b[0m\n\u001b[1;32m-> 2840\u001b[1;33m     return gca().plot(\n\u001b[0m\u001b[0;32m   2841\u001b[0m         \u001b[1;33m*\u001b[0m\u001b[0margs\u001b[0m\u001b[1;33m,\u001b[0m \u001b[0mscalex\u001b[0m\u001b[1;33m=\u001b[0m\u001b[0mscalex\u001b[0m\u001b[1;33m,\u001b[0m \u001b[0mscaley\u001b[0m\u001b[1;33m=\u001b[0m\u001b[0mscaley\u001b[0m\u001b[1;33m,\u001b[0m\u001b[1;33m\u001b[0m\u001b[1;33m\u001b[0m\u001b[0m\n\u001b[0;32m   2842\u001b[0m         **({\"data\": data} if data is not None else {}), **kwargs)\n",
      "\u001b[1;32m~\\AppData\\Local\\Continuum\\anaconda3\\envs\\tcr\\lib\\site-packages\\matplotlib\\axes\\_axes.py\u001b[0m in \u001b[0;36mplot\u001b[1;34m(self, scalex, scaley, data, *args, **kwargs)\u001b[0m\n\u001b[0;32m   1741\u001b[0m         \"\"\"\n\u001b[0;32m   1742\u001b[0m         \u001b[0mkwargs\u001b[0m \u001b[1;33m=\u001b[0m \u001b[0mcbook\u001b[0m\u001b[1;33m.\u001b[0m\u001b[0mnormalize_kwargs\u001b[0m\u001b[1;33m(\u001b[0m\u001b[0mkwargs\u001b[0m\u001b[1;33m,\u001b[0m \u001b[0mmlines\u001b[0m\u001b[1;33m.\u001b[0m\u001b[0mLine2D\u001b[0m\u001b[1;33m)\u001b[0m\u001b[1;33m\u001b[0m\u001b[1;33m\u001b[0m\u001b[0m\n\u001b[1;32m-> 1743\u001b[1;33m         \u001b[0mlines\u001b[0m \u001b[1;33m=\u001b[0m \u001b[1;33m[\u001b[0m\u001b[1;33m*\u001b[0m\u001b[0mself\u001b[0m\u001b[1;33m.\u001b[0m\u001b[0m_get_lines\u001b[0m\u001b[1;33m(\u001b[0m\u001b[1;33m*\u001b[0m\u001b[0margs\u001b[0m\u001b[1;33m,\u001b[0m \u001b[0mdata\u001b[0m\u001b[1;33m=\u001b[0m\u001b[0mdata\u001b[0m\u001b[1;33m,\u001b[0m \u001b[1;33m**\u001b[0m\u001b[0mkwargs\u001b[0m\u001b[1;33m)\u001b[0m\u001b[1;33m]\u001b[0m\u001b[1;33m\u001b[0m\u001b[1;33m\u001b[0m\u001b[0m\n\u001b[0m\u001b[0;32m   1744\u001b[0m         \u001b[1;32mfor\u001b[0m \u001b[0mline\u001b[0m \u001b[1;32min\u001b[0m \u001b[0mlines\u001b[0m\u001b[1;33m:\u001b[0m\u001b[1;33m\u001b[0m\u001b[1;33m\u001b[0m\u001b[0m\n\u001b[0;32m   1745\u001b[0m             \u001b[0mself\u001b[0m\u001b[1;33m.\u001b[0m\u001b[0madd_line\u001b[0m\u001b[1;33m(\u001b[0m\u001b[0mline\u001b[0m\u001b[1;33m)\u001b[0m\u001b[1;33m\u001b[0m\u001b[1;33m\u001b[0m\u001b[0m\n",
      "\u001b[1;32m~\\AppData\\Local\\Continuum\\anaconda3\\envs\\tcr\\lib\\site-packages\\matplotlib\\axes\\_base.py\u001b[0m in \u001b[0;36m__call__\u001b[1;34m(self, data, *args, **kwargs)\u001b[0m\n\u001b[0;32m    271\u001b[0m                 \u001b[0mthis\u001b[0m \u001b[1;33m+=\u001b[0m \u001b[0margs\u001b[0m\u001b[1;33m[\u001b[0m\u001b[1;36m0\u001b[0m\u001b[1;33m]\u001b[0m\u001b[1;33m,\u001b[0m\u001b[1;33m\u001b[0m\u001b[1;33m\u001b[0m\u001b[0m\n\u001b[0;32m    272\u001b[0m                 \u001b[0margs\u001b[0m \u001b[1;33m=\u001b[0m \u001b[0margs\u001b[0m\u001b[1;33m[\u001b[0m\u001b[1;36m1\u001b[0m\u001b[1;33m:\u001b[0m\u001b[1;33m]\u001b[0m\u001b[1;33m\u001b[0m\u001b[1;33m\u001b[0m\u001b[0m\n\u001b[1;32m--> 273\u001b[1;33m             \u001b[1;32myield\u001b[0m \u001b[1;32mfrom\u001b[0m \u001b[0mself\u001b[0m\u001b[1;33m.\u001b[0m\u001b[0m_plot_args\u001b[0m\u001b[1;33m(\u001b[0m\u001b[0mthis\u001b[0m\u001b[1;33m,\u001b[0m \u001b[0mkwargs\u001b[0m\u001b[1;33m)\u001b[0m\u001b[1;33m\u001b[0m\u001b[1;33m\u001b[0m\u001b[0m\n\u001b[0m\u001b[0;32m    274\u001b[0m \u001b[1;33m\u001b[0m\u001b[0m\n\u001b[0;32m    275\u001b[0m     \u001b[1;32mdef\u001b[0m \u001b[0mget_next_color\u001b[0m\u001b[1;33m(\u001b[0m\u001b[0mself\u001b[0m\u001b[1;33m)\u001b[0m\u001b[1;33m:\u001b[0m\u001b[1;33m\u001b[0m\u001b[1;33m\u001b[0m\u001b[0m\n",
      "\u001b[1;32m~\\AppData\\Local\\Continuum\\anaconda3\\envs\\tcr\\lib\\site-packages\\matplotlib\\axes\\_base.py\u001b[0m in \u001b[0;36m_plot_args\u001b[1;34m(self, tup, kwargs)\u001b[0m\n\u001b[0;32m    397\u001b[0m \u001b[1;33m\u001b[0m\u001b[0m\n\u001b[0;32m    398\u001b[0m         \u001b[1;32mif\u001b[0m \u001b[0mx\u001b[0m\u001b[1;33m.\u001b[0m\u001b[0mshape\u001b[0m\u001b[1;33m[\u001b[0m\u001b[1;36m0\u001b[0m\u001b[1;33m]\u001b[0m \u001b[1;33m!=\u001b[0m \u001b[0my\u001b[0m\u001b[1;33m.\u001b[0m\u001b[0mshape\u001b[0m\u001b[1;33m[\u001b[0m\u001b[1;36m0\u001b[0m\u001b[1;33m]\u001b[0m\u001b[1;33m:\u001b[0m\u001b[1;33m\u001b[0m\u001b[1;33m\u001b[0m\u001b[0m\n\u001b[1;32m--> 399\u001b[1;33m             raise ValueError(f\"x and y must have same first dimension, but \"\n\u001b[0m\u001b[0;32m    400\u001b[0m                              f\"have shapes {x.shape} and {y.shape}\")\n\u001b[0;32m    401\u001b[0m         \u001b[1;32mif\u001b[0m \u001b[0mx\u001b[0m\u001b[1;33m.\u001b[0m\u001b[0mndim\u001b[0m \u001b[1;33m>\u001b[0m \u001b[1;36m2\u001b[0m \u001b[1;32mor\u001b[0m \u001b[0my\u001b[0m\u001b[1;33m.\u001b[0m\u001b[0mndim\u001b[0m \u001b[1;33m>\u001b[0m \u001b[1;36m2\u001b[0m\u001b[1;33m:\u001b[0m\u001b[1;33m\u001b[0m\u001b[1;33m\u001b[0m\u001b[0m\n",
      "\u001b[1;31mValueError\u001b[0m: x and y must have same first dimension, but have shapes (9,) and (10,)"
     ]
    },
    {
     "data": {
      "image/png": "[encoded data removed]",
      "text/plain": [
       "<Figure size 1080x720 with 1 Axes>"
      ]
     },
     "metadata": {
      "needs_background": "light"
     },
     "output_type": "display_data"
    }
   ],
   "source": [
    "import matplotlib.pyplot as plt\n",
    "plt.figure(figsize=(15, 10));\n",
    "plt.subplot(221);\n",
    "plt.plot(model.history['epoch'], model.train_history['loss'], '.-', label='Train loss');\n",
    "plt.plot(model.history['epoch'], model.history['loss'], '.-', label='Val loss');\n",
    "plt.legend();\n",
    "\n",
    "plt.subplot(222);\n",
    "plt.plot(model.history['epoch'], model.train_history['scRNA_loss'], '.-', label='Train scRNA loss');\n",
    "plt.plot(model.history['epoch'], model.history['scRNA_loss'], '.-', label='Val scRNA loss');\n",
    "plt.legend();\n",
    "\n",
    "plt.subplot(223);\n",
    "plt.plot(model.history['epoch'], model.train_history['TCR_loss'], '.-', label='Train TCR loss');\n",
    "plt.plot(model.history['epoch'], model.history['TCR_loss'], '.-', label='Val TCR loss');\n",
    "plt.xlabel('#Iterations');\n",
    "plt.legend();\n",
    "\n",
    "plt.subplot(224);\n",
    "plt.plot(model.history['epoch'], model.train_history['KLD_loss'], '.-', label='Train KLD loss');\n",
    "plt.plot(model.history['epoch'], model.history['KLD_loss'], '.-', label='Val KLD loss');\n",
    "plt.xlabel('#Iterations');\n",
    "plt.legend();\n"
   ]
  },
  {
   "cell_type": "markdown",
   "id": "distant-paragraph",
   "metadata": {
    "id": "distant-paragraph"
   },
   "source": [
    "# Predict"
   ]
  },
  {
   "cell_type": "code",
   "execution_count": null,
   "id": "caroline-quest",
   "metadata": {
    "id": "caroline-quest"
   },
   "outputs": [],
   "source": [
    "z = model.get_latent(\n",
    "    adatas=[bcc],\n",
    "    names=['bcc'],\n",
    "    batch_size=256,\n",
    "    num_workers=0,\n",
    "    gene_layers=[],\n",
    "    seq_keys=[],\n",
    "    metadata=['patient', 'cluster', 'treatment', 'sort']\n",
    ")"
   ]
  },
  {
   "cell_type": "code",
   "execution_count": null,
   "id": "bulgarian-touch",
   "metadata": {
    "id": "bulgarian-touch"
   },
   "outputs": [],
   "source": [
    "z"
   ]
  },
  {
   "cell_type": "code",
   "execution_count": null,
   "id": "operational-asbestos",
   "metadata": {
    "id": "operational-asbestos"
   },
   "outputs": [],
   "source": [
    "sc.pp.neighbors(z)\n",
    "sc.tl.umap(z)"
   ]
  },
  {
   "cell_type": "code",
   "execution_count": null,
   "id": "YxcWUTj8V3Lc",
   "metadata": {
    "id": "YxcWUTj8V3Lc"
   },
   "outputs": [],
   "source": [
    "ax = sc.pl.umap(z, color=['patient', 'cluster', 'treatment', 'sort'], return_fig=True)\n",
    "experiment.log_figure(figure_name='last_model', figure=ax)"
   ]
  },
  {
   "cell_type": "code",
   "execution_count": null,
   "id": "2kR6hmrmWkQB",
   "metadata": {
    "id": "2kR6hmrmWkQB"
   },
   "outputs": [],
   "source": [
    "model.load(f'../saved_models/{experiment_name}_best_model.pt')"
   ]
  },
  {
   "cell_type": "code",
   "execution_count": null,
   "id": "q9CvO2q1XNiL",
   "metadata": {
    "id": "q9CvO2q1XNiL"
   },
   "outputs": [],
   "source": [
    "z = model.get_latent(\n",
    "    adatas=[bcc],\n",
    "    names=['bcc'],\n",
    "    batch_size=256,\n",
    "    num_workers=0,\n",
    "    gene_layers=[],\n",
    "    seq_keys=[],\n",
    "    metadata=['patient', 'cluster', 'treatment', 'sort']\n",
    ")"
   ]
  },
  {
   "cell_type": "code",
   "execution_count": null,
   "id": "TxvykkrNXSVz",
   "metadata": {
    "id": "TxvykkrNXSVz"
   },
   "outputs": [],
   "source": [
    "sc.pp.neighbors(z)\n",
    "sc.tl.umap(z)"
   ]
  },
  {
   "cell_type": "code",
   "execution_count": null,
   "id": "Y8ncWVaIXTqg",
   "metadata": {
    "id": "Y8ncWVaIXTqg"
   },
   "outputs": [],
   "source": [
    "ax = sc.pl.umap(z, color=['patient', 'cluster', 'treatment', 'sort'], return_fig=True)\n",
    "experiment.log_figure(figure_name='best_model', figure=ax)"
   ]
  },
  {
   "cell_type": "code",
   "execution_count": null,
   "id": "EP0vZb78XeDm",
   "metadata": {
    "id": "EP0vZb78XeDm"
   },
   "outputs": [],
   "source": []
  }
 ],
 "metadata": {
  "accelerator": "GPU",
  "colab": {
   "collapsed_sections": [],
   "name": "BCC_dataset_first_example.ipynb",
   "provenance": []
  },
  "kernelspec": {
   "display_name": "Python 3",
   "language": "python",
   "name": "python3"
  },
  "language_info": {
   "codemirror_mode": {
    "name": "ipython",
    "version": 3
   },
   "file_extension": ".py",
   "mimetype": "text/x-python",
   "name": "python",
   "nbconvert_exporter": "python",
   "pygments_lexer": "ipython3",
   "version": "3.8.5"
  }
 },
 "nbformat": 4,
 "nbformat_minor": 5
}
