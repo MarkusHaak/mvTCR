{
 "cells": [
  {
   "cell_type": "code",
   "execution_count": 1,
   "metadata": {},
   "outputs": [],
   "source": [
    "%matplotlib inline\n",
    "\n",
    "import warnings\n",
    "warnings.simplefilter(action='ignore', category=FutureWarning)\n",
    "\n",
    "import os \n",
    "import numpy as np\n",
    "import scipy as sci\n",
    "import pandas as pd\n",
    "import seaborn as sb\n",
    "import matplotlib.pyplot as pl\n",
    "\n",
    "import scanpy as sc\n",
    "import scirpy as ir\n",
    "import anndata as ann\n",
    "\n",
    "from scipy.sparse import csr_matrix\n",
    "from matplotlib import rcParams\n",
    "from matplotlib import colors\n",
    "\n",
    "sc.settings.verbosity = 3\n"
   ]
  },
  {
   "cell_type": "code",
   "execution_count": 2,
   "metadata": {},
   "outputs": [],
   "source": [
    "sc.settings.set_figure_params(dpi=70)\n",
    "sc.settings.verbosity = 3\n",
    "sc.settings.n_jobs = 3\n",
    "sc.set_figure_params(vector_friendly=True,color_map='viridis',dpi_save=600,transparent=True)"
   ]
  },
  {
   "cell_type": "markdown",
   "metadata": {},
   "source": [
    "Paths to preprocessed data at different stages."
   ]
  },
  {
   "cell_type": "code",
   "execution_count": 3,
   "metadata": {},
   "outputs": [],
   "source": [
    "path_base = '../data/Haniffa/'\n",
    "path_filtered = path_base + '01_bcrs_filtered.h5ad'\n",
    "path_anno = path_base + '02_bcrs_annoated.h5ad'"
   ]
  },
  {
   "cell_type": "markdown",
   "metadata": {},
   "source": [
    "## Merge Data"
   ]
  },
  {
   "cell_type": "code",
   "execution_count": 4,
   "metadata": {},
   "outputs": [],
   "source": [
    "samples = ['Asymptomatic', 'Critical', 'Healthy', 'Mild', 'Moderate', 'Severe']\n",
    "adatas = []\n",
    "\n",
    "for name in samples:\n",
    "    path_file = f'{path_base}B_cells/BCR_{name}.h5ad'\n",
    "    adata_tmp = sc.read(path_file)\n",
    "    adatas.append(adata_tmp)\n",
    "    \n",
    "adata = adatas[0].concatenate(adatas[1:])"
   ]
  },
  {
   "cell_type": "markdown",
   "metadata": {},
   "source": [
    "## Filter based on BCR"
   ]
  },
  {
   "cell_type": "code",
   "execution_count": 5,
   "metadata": {},
   "outputs": [
    {
     "name": "stdout",
     "output_type": "stream",
     "text": [
      "0\n",
      "0\n"
     ]
    }
   ],
   "source": [
    "print(np.sum(adata.obs['junction_aa_heavy'].isna()))\n",
    "print(np.sum(adata.obs['junction_aa_light'].isna()))"
   ]
  },
  {
   "cell_type": "code",
   "execution_count": 6,
   "metadata": {},
   "outputs": [],
   "source": [
    "def is_valid_seq(seq):\n",
    "    aas = 'ACDEFGHIKLMNPQRSTVWY'\n",
    "    for let in seq:\n",
    "        if let not in aas:\n",
    "            return False\n",
    "    return True"
   ]
  },
  {
   "cell_type": "code",
   "execution_count": 7,
   "metadata": {},
   "outputs": [
    {
     "name": "stdout",
     "output_type": "stream",
     "text": [
      "All cells:  40720\n",
      "With single IR:  39307\n",
      "With valid light:  39028\n",
      "And with valid heavy:  38936\n",
      "Without long Heavy:  38793\n"
     ]
    }
   ],
   "source": [
    "print('All cells: ', len(adata))\n",
    "adata = adata[adata.obs['vdj_status']=='Single']\n",
    "print('With single IR: ', len(adata))\n",
    "adata = adata[adata.obs['junction_aa_light'].apply(lambda x: is_valid_seq(x)).tolist()]\n",
    "print('With valid light: ', len(adata))\n",
    "adata = adata[adata.obs['junction_aa_heavy'].apply(lambda x: is_valid_seq(x)).tolist()]\n",
    "print('And with valid heavy: ', len(adata))\n",
    "adata = adata[adata.obs['junction_aa_heavy'].apply(lambda x: len(x))<=30]\n",
    "print('Without long Heavy: ', len(adata))"
   ]
  },
  {
   "cell_type": "code",
   "execution_count": 8,
   "metadata": {},
   "outputs": [
    {
     "data": {
      "text/plain": [
       "B_naive                  21984\n",
       "B_switched_memory         3320\n",
       "B_immature                2988\n",
       "Plasmablast               2811\n",
       "Plasma_cell_IgG           2330\n",
       "Plasma_cell_IgA           1962\n",
       "B_exhausted               1447\n",
       "B_non-switched_memory     1426\n",
       "Plasma_cell_IgM            525\n",
       "Name: celltype_B, dtype: int64"
      ]
     },
     "execution_count": 8,
     "metadata": {},
     "output_type": "execute_result"
    }
   ],
   "source": [
    "adata.obs['celltype_B'].value_counts()"
   ]
  },
  {
   "cell_type": "markdown",
   "metadata": {},
   "source": [
    "# Highly Var Selection"
   ]
  },
  {
   "cell_type": "code",
   "execution_count": 9,
   "metadata": {},
   "outputs": [
    {
     "name": "stderr",
     "output_type": "stream",
     "text": [
      "If you pass `n_top_genes`, all cutoffs are ignored.\n",
      "extracting highly variable genes\n",
      "C:\\Users\\felix.drost\\Anaconda3\\envs\\mvtcr_4\\lib\\site-packages\\scanpy\\preprocessing\\_highly_variable_genes.py:208: RuntimeWarning: invalid value encountered in log\n",
      "  dispersion = np.log(dispersion)\n",
      "    finished (0:00:01)\n",
      "Trying to set attribute `.uns` of view, copying.\n",
      "--> added\n",
      "    'highly_variable', boolean vector (adata.var)\n",
      "    'means', float vector (adata.var)\n",
      "    'dispersions', float vector (adata.var)\n",
      "    'dispersions_norm', float vector (adata.var)\n"
     ]
    },
    {
     "name": "stdout",
     "output_type": "stream",
     "text": [
      "Shape before:  (38793, 31279)\n",
      "Shape after:  (38793, 5000)\n"
     ]
    }
   ],
   "source": [
    "sc.pp.highly_variable_genes(adata, n_top_genes=5000)\n",
    "print('Shape before: ', adata.shape)\n",
    "adata = adata[:, adata.var['highly_variable']]\n",
    "print('Shape after: ', adata.shape)"
   ]
  },
  {
   "cell_type": "code",
   "execution_count": null,
   "metadata": {
    "scrolled": true
   },
   "outputs": [
    {
     "name": "stderr",
     "output_type": "stream",
     "text": [
      "C:\\Users\\felix.drost\\Anaconda3\\envs\\mvtcr_4\\lib\\site-packages\\anndata\\_core\\anndata.py:1207: ImplicitModificationWarning: Initializing view as actual.\n",
      "  warnings.warn(\n",
      "Trying to set attribute `.obs` of view, copying.\n",
      "... storing 'sample_id' as categorical\n",
      "Trying to set attribute `.obs` of view, copying.\n",
      "... storing 'leiden' as categorical\n",
      "Trying to set attribute `.obs` of view, copying.\n",
      "... storing 'patient_id' as categorical\n",
      "Trying to set attribute `.obs` of view, copying.\n",
      "... storing 'Ethnicity' as categorical\n",
      "Trying to set attribute `.obs` of view, copying.\n",
      "... storing 'Swab_result' as categorical\n",
      "Trying to set attribute `.obs` of view, copying.\n",
      "... storing 'Status' as categorical\n",
      "Trying to set attribute `.obs` of view, copying.\n",
      "... storing 'Smoker' as categorical\n",
      "Trying to set attribute `.obs` of view, copying.\n",
      "... storing 'Status_on_day_collection' as categorical\n",
      "Trying to set attribute `.obs` of view, copying.\n",
      "... storing 'Status_on_day_collection_summary' as categorical\n",
      "Trying to set attribute `.obs` of view, copying.\n",
      "... storing 'Status_3_days_post_collection' as categorical\n",
      "Trying to set attribute `.obs` of view, copying.\n",
      "... storing 'Status_7_days_post_collection' as categorical\n",
      "Trying to set attribute `.obs` of view, copying.\n",
      "... storing 'Days_from_onset' as categorical\n",
      "Trying to set attribute `.obs` of view, copying.\n",
      "... storing 'Site' as categorical\n",
      "Trying to set attribute `.obs` of view, copying.\n",
      "... storing 'Worst_Clinical_Status' as categorical\n",
      "Trying to set attribute `.obs` of view, copying.\n",
      "... storing 'Outcome' as categorical\n",
      "Trying to set attribute `.obs` of view, copying.\n",
      "... storing 'leiden_B2' as categorical\n",
      "Trying to set attribute `.obs` of view, copying.\n",
      "... storing 'clone_id' as categorical\n",
      "Trying to set attribute `.obs` of view, copying.\n",
      "... storing 'clone_id_by_size' as categorical\n",
      "Trying to set attribute `.obs` of view, copying.\n",
      "... storing 'isotype' as categorical\n",
      "Trying to set attribute `.obs` of view, copying.\n",
      "... storing 'lightchain' as categorical\n",
      "Trying to set attribute `.obs` of view, copying.\n",
      "... storing 'status' as categorical\n",
      "Trying to set attribute `.obs` of view, copying.\n",
      "... storing 'productive' as categorical\n",
      "Trying to set attribute `.obs` of view, copying.\n",
      "... storing 'umi_counts_light' as categorical\n",
      "Trying to set attribute `.obs` of view, copying.\n",
      "... storing 'v_call_heavy' as categorical\n",
      "Trying to set attribute `.obs` of view, copying.\n",
      "... storing 'v_call_light' as categorical\n",
      "Trying to set attribute `.obs` of view, copying.\n",
      "... storing 'j_call_heavy' as categorical\n",
      "Trying to set attribute `.obs` of view, copying.\n",
      "... storing 'j_call_light' as categorical\n",
      "Trying to set attribute `.obs` of view, copying.\n",
      "... storing 'c_call_heavy' as categorical\n",
      "Trying to set attribute `.obs` of view, copying.\n",
      "... storing 'c_call_light' as categorical\n",
      "Trying to set attribute `.obs` of view, copying.\n",
      "... storing 'mu_freq_light' as categorical\n",
      "Trying to set attribute `.obs` of view, copying.\n",
      "... storing 'junction_heavy' as categorical\n",
      "Trying to set attribute `.obs` of view, copying.\n",
      "... storing 'junction_light' as categorical\n",
      "Trying to set attribute `.obs` of view, copying.\n",
      "... storing 'junction_aa_heavy' as categorical\n",
      "Trying to set attribute `.obs` of view, copying.\n",
      "... storing 'junction_aa_light' as categorical\n"
     ]
    }
   ],
   "source": [
    "sc.write(adata=adata, filename=path_filtered)"
   ]
  },
  {
   "cell_type": "markdown",
   "metadata": {},
   "source": [
    "## Model Specific Preproccessing\n"
   ]
  },
  {
   "cell_type": "code",
   "execution_count": null,
   "metadata": {},
   "outputs": [],
   "source": [
    "adata = sc.read(path_filtered)"
   ]
  },
  {
   "cell_type": "markdown",
   "metadata": {},
   "source": [
    "### Clonotype Annotation"
   ]
  },
  {
   "cell_type": "code",
   "execution_count": null,
   "metadata": {},
   "outputs": [],
   "source": [
    "adata.obs['VJ+VDJ'] = adata.obs['junction_aa_light'].astype(str) + '+' + adata.obs['junction_aa_heavy'].astype(str)\n",
    "clono_dict = {clone: idx for idx, clone in enumerate(adata.obs['VJ+VDJ'].unique())}\n",
    "adata.obs['clonotype'] = adata.obs['VJ+VDJ'].map(clono_dict)\n",
    "print(len(adata.obs['clonotype'].unique()))\n",
    "adata.obs['clonotype'].head()"
   ]
  },
  {
   "cell_type": "markdown",
   "metadata": {},
   "source": [
    "### Embed Proteins"
   ]
  },
  {
   "cell_type": "markdown",
   "metadata": {},
   "source": [
    "Append both chains, add start ('<'), stop ('>') and seperator ('+') token. For training purpose IR data might be needed as one hot vector."
   ]
  },
  {
   "cell_type": "code",
   "execution_count": null,
   "metadata": {},
   "outputs": [],
   "source": [
    "import sys\n",
    "sys.path.append('../')\n",
    "import tcr_embedding.utils_preprocessing as utils"
   ]
  },
  {
   "cell_type": "code",
   "execution_count": null,
   "metadata": {},
   "outputs": [],
   "source": [
    "aa_to_id = {'_': 0, 'A': 1, 'C': 2, 'D': 3, 'E': 4, 'F': 5, 'G': 6, 'H': 7, 'I': 8, 'K': 9, 'L': 10, 'M': 11, 'N': 12, 'P': 13,\n",
    "            'Q': 14, 'R': 15, 'S': 16, 'T': 17, 'V': 18, 'W': 19, 'Y': 20, '+': 21, '<': 22, '>': 23}\n",
    "adata.uns['aa_to_id'] = aa_to_id"
   ]
  },
  {
   "cell_type": "code",
   "execution_count": null,
   "metadata": {},
   "outputs": [],
   "source": [
    "alpha_length = adata.obs['junction_aa_light'].apply(lambda x: len(x)).max()\n",
    "beta_length = adata.obs['junction_aa_heavy'].apply(lambda x: len(x)).max()\n",
    "\n",
    "max_length = max(alpha_length, beta_length)\n",
    "max_length"
   ]
  },
  {
   "cell_type": "code",
   "execution_count": null,
   "metadata": {},
   "outputs": [],
   "source": [
    "type(max_length)"
   ]
  },
  {
   "cell_type": "code",
   "execution_count": null,
   "metadata": {},
   "outputs": [],
   "source": [
    "utils.aa_encoding(adata, read_col='junction_aa_light', label_col='alpha_seq', length_col='alpha_len', pad=max_length, aa_to_id=aa_to_id, start_end_symbol=False)\n",
    "utils.aa_encoding(adata, read_col='junction_aa_heavy', label_col='beta_seq', length_col='beta_len', pad=max_length, aa_to_id=aa_to_id, start_end_symbol=False)"
   ]
  },
  {
   "cell_type": "code",
   "execution_count": null,
   "metadata": {},
   "outputs": [],
   "source": [
    "adata.obsm['alpha_seq'].shape"
   ]
  },
  {
   "cell_type": "code",
   "execution_count": null,
   "metadata": {},
   "outputs": [],
   "source": [
    "adata.obsm['beta_seq'].shape"
   ]
  },
  {
   "cell_type": "code",
   "execution_count": null,
   "metadata": {},
   "outputs": [],
   "source": [
    "adata.write_h5ad(path_anno)"
   ]
  },
  {
   "cell_type": "markdown",
   "metadata": {},
   "source": [
    "# Umap"
   ]
  },
  {
   "cell_type": "code",
   "execution_count": null,
   "metadata": {},
   "outputs": [],
   "source": [
    "metadata = [\n",
    "    'initial_clustering',\n",
    "    'Sex',\n",
    "    'Age',\n",
    "    'Ethnicity',\n",
    "    'Swab_result',\n",
    "    'Status',\n",
    "    'Smoker',\n",
    "    'Status_on_day_collection_summary',\n",
    "    'Status_3_days_post_collection',\n",
    "    'Status_7_days_post_collection',\n",
    "    'Days_from_onset',\n",
    "    'Site',\n",
    "    'Worst_Clinical_Status',\n",
    "    'Outcome',\n",
    "    'celltype_B_v2',\n",
    "]"
   ]
  },
  {
   "cell_type": "code",
   "execution_count": null,
   "metadata": {
    "scrolled": true
   },
   "outputs": [],
   "source": [
    "rcParams[\"figure.figsize\"] = (6, 6)\n",
    "for el in metadata:\n",
    "    sc.pl.umap(adata, color=el)"
   ]
  },
  {
   "cell_type": "code",
   "execution_count": null,
   "metadata": {},
   "outputs": [],
   "source": [
    "adata.obsm['alpha_seq'].shape"
   ]
  },
  {
   "cell_type": "code",
   "execution_count": null,
   "metadata": {},
   "outputs": [],
   "source": [
    "adata.obsm['beta_seq'].shape"
   ]
  }
 ],
 "metadata": {
  "kernelspec": {
   "display_name": "Python [conda env:mvtcr_4]",
   "language": "python",
   "name": "conda-env-mvtcr_4-py"
  },
  "language_info": {
   "codemirror_mode": {
    "name": "ipython",
    "version": 3
   },
   "file_extension": ".py",
   "mimetype": "text/x-python",
   "name": "python",
   "nbconvert_exporter": "python",
   "pygments_lexer": "ipython3",
   "version": "3.8.8"
  }
 },
 "nbformat": 4,
 "nbformat_minor": 4
}
