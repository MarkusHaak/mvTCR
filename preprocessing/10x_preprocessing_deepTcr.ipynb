{
 "cells": [
  {
   "cell_type": "markdown",
   "id": "leading-faculty",
   "metadata": {},
   "source": [
    "# DeepTCR Preprocessing\n",
    "This script adds the gene labels (expressed alpha/beta + v/d/j gene) to adata.obsm\n",
    "\n",
    "It further separates the alpha and beta tcr sequence and pads them both to a length of 40"
   ]
  },
  {
   "cell_type": "code",
   "execution_count": 1,
   "id": "ultimate-atlas",
   "metadata": {},
   "outputs": [],
   "source": [
    "import scanpy as sc\n",
    "import scirpy as ir\n",
    "import os"
   ]
  },
  {
   "cell_type": "code",
   "execution_count": 2,
   "id": "mathematical-humor",
   "metadata": {},
   "outputs": [],
   "source": [
    "path_base = '../data/10x_CD8TC/'\n",
    "path_clean_split = path_base + 'v5_train_val_test.h5ad'"
   ]
  },
  {
   "cell_type": "code",
   "execution_count": 3,
   "id": "royal-violin",
   "metadata": {},
   "outputs": [],
   "source": [
    "adata = sc.read(path_clean_split)"
   ]
  },
  {
   "cell_type": "code",
   "execution_count": 4,
   "id": "celtic-valentine",
   "metadata": {},
   "outputs": [
    {
     "data": {
      "text/plain": [
       "AnnData object with n_obs × n_vars = 128587 × 5000\n",
       "    obs: 'IR_VJ_1_locus', 'IR_VJ_2_locus', 'IR_VDJ_1_locus', 'IR_VDJ_2_locus', 'IR_VJ_1_cdr3', 'IR_VJ_2_cdr3', 'IR_VDJ_1_cdr3', 'IR_VDJ_2_cdr3', 'IR_VJ_1_cdr3_nt', 'IR_VJ_2_cdr3_nt', 'IR_VDJ_1_cdr3_nt', 'IR_VDJ_2_cdr3_nt', 'IR_VJ_1_expr', 'IR_VJ_2_expr', 'IR_VDJ_1_expr', 'IR_VDJ_2_expr', 'IR_VJ_1_expr_raw', 'IR_VJ_2_expr_raw', 'IR_VDJ_1_expr_raw', 'IR_VDJ_2_expr_raw', 'IR_VJ_1_v_gene', 'IR_VJ_2_v_gene', 'IR_VDJ_1_v_gene', 'IR_VDJ_2_v_gene', 'IR_VJ_1_d_gene', 'IR_VJ_2_d_gene', 'IR_VDJ_1_d_gene', 'IR_VDJ_2_d_gene', 'IR_VJ_1_j_gene', 'IR_VJ_2_j_gene', 'IR_VDJ_1_j_gene', 'IR_VDJ_2_j_gene', 'IR_VJ_1_c_gene', 'IR_VJ_2_c_gene', 'IR_VDJ_1_c_gene', 'IR_VDJ_2_c_gene', 'IR_VJ_1_junction_ins', 'IR_VJ_2_junction_ins', 'IR_VDJ_1_junction_ins', 'IR_VDJ_2_junction_ins', 'has_ir', 'multi_chain', 'barcode', 'donor', 'cell_clono_cdr3_aa', 'cell_clono_cdr3_nt', 'CD3', 'CD19', 'CD45RA', 'CD4', 'CD8a', 'CD14', 'CD45RO', 'CD279_PD-1', 'IgG1', 'IgG2a', 'IgG2b', 'CD127', 'CD197_CCR7', 'HLA-DR', 'A0101_VTEHDTLLY_IE-1_CMV', 'A0201_KTWGQYWQV_gp100_Cancer', 'A0201_ELAGIGILTV_MART-1_Cancer', 'A0201_CLLWSFQTSA_Tyrosinase_Cancer', 'A0201_IMDQVPFSV_gp100_Cancer', 'A0201_SLLMWITQV_NY-ESO-1_Cancer', 'A0201_KVAELVHFL_MAGE-A3_Cancer', 'A0201_KVLEYVIKV_MAGE-A1_Cancer', 'A0201_CLLGTYTQDV_Kanamycin-B-dioxygenase', 'A0201_LLDFVRFMGV_EBNA-3B_EBV', 'A0201_LLMGTLGIVC_HPV-16E7_82-91', 'A0201_CLGGLLTMV_LMP-2A_EBV', 'A0201_YLLEMLWRL_LMP1_EBV', 'A0201_FLYALALLL_LMP2A_EBV', 'A0201_GILGFVFTL_Flu-MP_Influenza', 'A0201_GLCTLVAML_BMLF1_EBV', 'A0201_NLVPMVATV_pp65_CMV', 'A0201_ILKEPVHGV_RT_HIV', 'A0201_FLASKIGRLV_Ca2-indepen-Plip-A2', 'A2402_CYTWNQMNL_WT1-(235-243)236M_Y', 'A0201_RTLNAWVKV_Gag-protein_HIV', 'A0201_KLQCVDLHV_PSA146-154', 'A0201_LLFGYPVYV_HTLV-1', 'A0201_SLFNTVATL_Gag-protein_HIV', 'A0201_SLYNTVATLY_Gag-protein_HIV', 'A0201_SLFNTVATLY_Gag-protein_HIV', 'A0201_RMFPNAPYL_WT-1', 'A0201_YLNDHLEPWI_BCL-X_Cancer', 'A0201_MLDLQPETT_16E7_HPV', 'A0301_KLGGALQAK_IE-1_CMV', 'A0301_RLRAEAQVK_EMNA-3A_EBV', 'A0301_RIAAWMATY_BCL-2L1_Cancer', 'A1101_IVTDFSVIK_EBNA-3B_EBV', 'A1101_AVFDRKSDAK_EBNA-3B_EBV', 'B3501_IPSINVHHY_pp65_CMV', 'A2402_AYAQKIFKI_IE-1_CMV', 'A2402_QYDPVAALF_pp65_CMV', 'B0702_QPRAPIRPI_EBNA-6_EBV', 'B0702_TPRVTGGGAM_pp65_CMV', 'B0702_RPPIFIRRL_EBNA-3A_EBV', 'B0702_RPHERNGFTVL_pp65_CMV', 'B0801_RAKFKQLL_BZLF1_EBV', 'B0801_ELRRKMMYM_IE-1_CMV', 'B0801_FLRGRAYGL_EBNA-3A_EBV', 'A0101_SLEGGGLGY_NC', 'A0101_STEGGGLAY_NC', 'A0201_ALIAPVHAV_NC', 'A2402_AYSSAGASI_NC', 'B0702_GPAESAAGL_NC', 'NR(B0801)_AAKGRGAAL_NC', 'A0101_VTEHDTLLY_IE-1_CMV_binder', 'A0201_KTWGQYWQV_gp100_Cancer_binder', 'A0201_ELAGIGILTV_MART-1_Cancer_binder', 'A0201_CLLWSFQTSA_Tyrosinase_Cancer_binder', 'A0201_IMDQVPFSV_gp100_Cancer_binder', 'A0201_SLLMWITQV_NY-ESO-1_Cancer_binder', 'A0201_KVAELVHFL_MAGE-A3_Cancer_binder', 'A0201_KVLEYVIKV_MAGE-A1_Cancer_binder', 'A0201_CLLGTYTQDV_Kanamycin-B-dioxygenase_binder', 'A0201_LLDFVRFMGV_EBNA-3B_EBV_binder', 'A0201_LLMGTLGIVC_HPV-16E7_82-91_binder', 'A0201_CLGGLLTMV_LMP-2A_EBV_binder', 'A0201_YLLEMLWRL_LMP1_EBV_binder', 'A0201_FLYALALLL_LMP2A_EBV_binder', 'A0201_GILGFVFTL_Flu-MP_Influenza_binder', 'A0201_GLCTLVAML_BMLF1_EBV_binder', 'A0201_NLVPMVATV_pp65_CMV_binder', 'A0201_ILKEPVHGV_RT_HIV_binder', 'A0201_FLASKIGRLV_Ca2-indepen-Plip-A2_binder', 'A2402_CYTWNQMNL_WT1-(235-243)236M_Y_binder', 'A0201_RTLNAWVKV_Gag-protein_HIV_binder', 'A0201_KLQCVDLHV_PSA146-154_binder', 'A0201_LLFGYPVYV_HTLV-1_binder', 'A0201_SLFNTVATL_Gag-protein_HIV_binder', 'A0201_SLYNTVATLY_Gag-protein_HIV_binder', 'A0201_SLFNTVATLY_Gag-protein_HIV_binder', 'A0201_RMFPNAPYL_WT-1_binder', 'A0201_YLNDHLEPWI_BCL-X_Cancer_binder', 'A0201_MLDLQPETT_16E7_HPV_binder', 'A0301_KLGGALQAK_IE-1_CMV_binder', 'A0301_RLRAEAQVK_EMNA-3A_EBV_binder', 'A0301_RIAAWMATY_BCL-2L1_Cancer_binder', 'A1101_IVTDFSVIK_EBNA-3B_EBV_binder', 'A1101_AVFDRKSDAK_EBNA-3B_EBV_binder', 'B3501_IPSINVHHY_pp65_CMV_binder', 'A2402_AYAQKIFKI_IE-1_CMV_binder', 'A2402_QYDPVAALF_pp65_CMV_binder', 'B0702_QPRAPIRPI_EBNA-6_EBV_binder', 'B0702_TPRVTGGGAM_pp65_CMV_binder', 'B0702_RPPIFIRRL_EBNA-3A_EBV_binder', 'B0702_RPHERNGFTVL_pp65_CMV_binder', 'B0801_RAKFKQLL_BZLF1_EBV_binder', 'B0801_ELRRKMMYM_IE-1_CMV_binder', 'B0801_FLRGRAYGL_EBNA-3A_EBV_binder', 'A0101_SLEGGGLGY_NC_binder', 'A0101_STEGGGLAY_NC_binder', 'A0201_ALIAPVHAV_NC_binder', 'A2402_AYSSAGASI_NC_binder', 'B0702_GPAESAAGL_NC_binder', 'NR(B0801)_AAKGRGAAL_NC_binder', 'n_counts', 'log_counts', 'n_genes', 'mt_fraction', 'doublet_score', 'doublet', 'louvain', 'clonotype_10x', 'TRA+TRB', 'clonotype', 'seq_len', 'one_hot', 'tcr_seq', 'has_binding', 'binding_label', 'binding_name', 'donor+binding', 'set'\n",
       "    var: 'gene_ids', 'feature_types', 'genome', 'n_cells', 'highly_variable', 'means', 'dispersions', 'dispersions_norm', 'highly_variable_nbatches', 'highly_variable_intersection'\n",
       "    uns: 'aa_to_id', 'donor_colors', 'has_ir_colors', 'hvg', 'louvain', 'louvain_colors', 'neighbors', 'pca', 'umap'\n",
       "    obsm: 'X_pca', 'X_umap', 'one_hot', 'tcr_seq'\n",
       "    varm: 'PCs'\n",
       "    obsp: 'connectivities', 'distances'"
      ]
     },
     "execution_count": 4,
     "metadata": {},
     "output_type": "execute_result"
    }
   ],
   "source": [
    "adata"
   ]
  },
  {
   "cell_type": "markdown",
   "id": "whole-tennis",
   "metadata": {},
   "source": [
    "## Preprocess Genes"
   ]
  },
  {
   "cell_type": "code",
   "execution_count": 5,
   "id": "arranged-league",
   "metadata": {},
   "outputs": [
    {
     "data": {
      "text/plain": [
       "IR_VJ_1_v_gene  IR_VJ_1_j_gene  IR_VDJ_1_v_gene  IR_VDJ_1_d_gene  IR_VDJ_1_j_gene\n",
       "TRAV13-1        TRAJ50          TRBV12-3         None             TRBJ2-2            5342\n",
       "TRAV21          TRAJ50          TRBV6-6          TRBD2            TRBJ2-3            3838\n",
       "TRAV13-2        TRAJ45          TRBV5-6          TRBD2            TRBJ1-1            3834\n",
       "TRAV12-3        TRAJ39          TRBV29-1         None             TRBJ1-2            2977\n",
       "TRAV35          TRAJ49          TRBV11-2         TRBD1            TRBJ1-2            2213\n",
       "                                                                                     ... \n",
       "TRAV12-2        TRAJ15          TRBV7-3          TRBD1            TRBJ2-7               1\n",
       "                                TRBV7-6          None             TRBJ2-2               1\n",
       "                                TRBV7-7          TRBD1            TRBJ2-7               1\n",
       "                                TRBV7-8          TRBD1            TRBJ2-2               1\n",
       "TRAV41          TRAJ58          TRBV28           TRBD2            TRBJ2-2               1\n",
       "Length: 47716, dtype: int64"
      ]
     },
     "execution_count": 5,
     "metadata": {},
     "output_type": "execute_result"
    }
   ],
   "source": [
    "adata.obs[['IR_VJ_1_v_gene', 'IR_VJ_1_j_gene', 'IR_VDJ_1_v_gene', 'IR_VDJ_1_d_gene', 'IR_VDJ_1_j_gene']].value_counts()"
   ]
  },
  {
   "cell_type": "code",
   "execution_count": 6,
   "id": "satisfactory-carroll",
   "metadata": {},
   "outputs": [
    {
     "data": {
      "text/plain": [
       "TRAV13-1       13510\n",
       "TRAV21          7961\n",
       "TRAV12-3        6972\n",
       "TRAV13-2        6521\n",
       "TRAV19          6501\n",
       "TRAV12-2        6166\n",
       "TRAV1-2         5979\n",
       "TRAV27          5203\n",
       "TRAV14DV4       4952\n",
       "TRAV5           4377\n",
       "TRAV29DV5       4233\n",
       "TRAV12-1        4130\n",
       "TRAV8-3         3948\n",
       "TRAV17          3911\n",
       "TRAV3           3906\n",
       "TRAV35          3449\n",
       "TRAV38-2DV8     2788\n",
       "TRAV26-2        2302\n",
       "TRAV24          2291\n",
       "TRAV38-1        2156\n",
       "TRAV26-1        2115\n",
       "TRAV8-4         2061\n",
       "TRAV22          1955\n",
       "TRAV9-2         1883\n",
       "TRAV8-1         1773\n",
       "TRAV8-2         1710\n",
       "TRAV10          1626\n",
       "TRAV8-6         1411\n",
       "TRAV25          1365\n",
       "TRAV30          1310\n",
       "TRAV20          1299\n",
       "TRAV4           1189\n",
       "TRAV1-1         1183\n",
       "TRAV41          1153\n",
       "TRAV23DV6       1018\n",
       "TRAV39           927\n",
       "TRAV6            753\n",
       "TRAV2            711\n",
       "TRAV36DV7        700\n",
       "TRAV16           690\n",
       "TRAV34           421\n",
       "TRAV40            75\n",
       "TRAV18             3\n",
       "Name: IR_VJ_1_v_gene, dtype: int64"
      ]
     },
     "execution_count": 6,
     "metadata": {},
     "output_type": "execute_result"
    }
   ],
   "source": [
    "adata.obs['IR_VJ_1_v_gene'].value_counts()"
   ]
  },
  {
   "cell_type": "code",
   "execution_count": 7,
   "id": "psychological-uzbekistan",
   "metadata": {},
   "outputs": [
    {
     "data": {
      "text/plain": [
       "TRAJ50    12360\n",
       "TRAJ45     7202\n",
       "TRAJ42     6834\n",
       "TRAJ49     5550\n",
       "TRAJ39     5524\n",
       "TRAJ33     4696\n",
       "TRAJ20     4307\n",
       "TRAJ6      4165\n",
       "TRAJ52     4155\n",
       "TRAJ11     3440\n",
       "TRAJ37     3366\n",
       "TRAJ26     3019\n",
       "TRAJ31     2952\n",
       "TRAJ22     2797\n",
       "TRAJ4      2767\n",
       "TRAJ30     2715\n",
       "TRAJ43     2631\n",
       "TRAJ34     2425\n",
       "TRAJ17     2419\n",
       "TRAJ40     2400\n",
       "TRAJ21     2345\n",
       "TRAJ27     2251\n",
       "TRAJ53     2241\n",
       "TRAJ9      2117\n",
       "TRAJ47     2052\n",
       "TRAJ28     2039\n",
       "TRAJ54     1934\n",
       "TRAJ29     1910\n",
       "TRAJ48     1838\n",
       "TRAJ23     1754\n",
       "TRAJ12     1689\n",
       "TRAJ36     1678\n",
       "TRAJ5      1520\n",
       "TRAJ32     1511\n",
       "TRAJ24     1438\n",
       "TRAJ13     1385\n",
       "TRAJ57     1355\n",
       "TRAJ15     1281\n",
       "TRAJ10     1209\n",
       "TRAJ35     1203\n",
       "TRAJ44     1100\n",
       "TRAJ3      1061\n",
       "TRAJ8      1019\n",
       "TRAJ41      896\n",
       "TRAJ16      881\n",
       "TRAJ7       842\n",
       "TRAJ58      702\n",
       "TRAJ18      698\n",
       "TRAJ56      492\n",
       "TRAJ38      379\n",
       "TRAJ46       37\n",
       "TRAJ25        3\n",
       "TRAJ14        3\n",
       "Name: IR_VJ_1_j_gene, dtype: int64"
      ]
     },
     "execution_count": 7,
     "metadata": {},
     "output_type": "execute_result"
    }
   ],
   "source": [
    "adata.obs['IR_VJ_1_j_gene'].value_counts()"
   ]
  },
  {
   "cell_type": "code",
   "execution_count": 8,
   "id": "contained-barrier",
   "metadata": {},
   "outputs": [
    {
     "data": {
      "text/plain": [
       "TRBV19      11013\n",
       "TRBV7-9      8140\n",
       "TRBV12-3     7395\n",
       "TRBV20-1     7324\n",
       "TRBV29-1     6827\n",
       "TRBV27       6528\n",
       "TRBV5-6      5803\n",
       "TRBV11-2     5705\n",
       "TRBV9        5592\n",
       "TRBV6-6      5424\n",
       "TRBV28       4349\n",
       "TRBV5-4      3598\n",
       "TRBV12-4     3349\n",
       "TRBV4-1      3310\n",
       "TRBV4-3      2993\n",
       "TRBV6-5      2903\n",
       "TRBV5-1      2850\n",
       "TRBV6-3      2832\n",
       "TRBV3-1      2706\n",
       "TRBV7-2      2367\n",
       "TRBV6-1      2290\n",
       "TRBV2        2274\n",
       "TRBV13       2117\n",
       "TRBV7-8      2083\n",
       "TRBV24-1     1996\n",
       "TRBV4-2      1942\n",
       "TRBV30       1729\n",
       "TRBV15       1333\n",
       "TRBV5-5      1303\n",
       "TRBV10-3     1261\n",
       "TRBV14       1105\n",
       "TRBV7-3      1099\n",
       "TRBV18        998\n",
       "TRBV7-6       961\n",
       "TRBV6-4       907\n",
       "TRBV11-3      641\n",
       "TRBV12-5      625\n",
       "TRBV10-2      607\n",
       "TRBV25-1      529\n",
       "TRBV10-1      493\n",
       "TRBV21-1      369\n",
       "TRBV5-8       304\n",
       "TRBV11-1      275\n",
       "TRBV7-7       155\n",
       "TRBV16         96\n",
       "TRBV6-7        57\n",
       "TRBV7-4        12\n",
       "TRBV6-9         7\n",
       "TRBV5-7         4\n",
       "TRBV23-1        3\n",
       "TRBV6-8         3\n",
       "TRBV5-3         1\n",
       "Name: IR_VDJ_1_v_gene, dtype: int64"
      ]
     },
     "execution_count": 8,
     "metadata": {},
     "output_type": "execute_result"
    }
   ],
   "source": [
    "adata.obs['IR_VDJ_1_v_gene'].value_counts()"
   ]
  },
  {
   "cell_type": "code",
   "execution_count": 9,
   "id": "elder-liberal",
   "metadata": {},
   "outputs": [
    {
     "data": {
      "text/plain": [
       "TRBD2    45049\n",
       "TRBD1    44817\n",
       "None     38721\n",
       "Name: IR_VDJ_1_d_gene, dtype: int64"
      ]
     },
     "execution_count": 9,
     "metadata": {},
     "output_type": "execute_result"
    }
   ],
   "source": [
    "adata.obs['IR_VDJ_1_d_gene'].value_counts()"
   ]
  },
  {
   "cell_type": "code",
   "execution_count": 10,
   "id": "seeing-scope",
   "metadata": {},
   "outputs": [
    {
     "data": {
      "text/plain": [
       "TRBJ2-7    23421\n",
       "TRBJ2-2    17104\n",
       "TRBJ2-3    16016\n",
       "TRBJ1-2    15746\n",
       "TRBJ2-1    15697\n",
       "TRBJ1-1    14845\n",
       "TRBJ1-5     7353\n",
       "TRBJ2-5     6898\n",
       "TRBJ1-4     3570\n",
       "TRBJ1-6     2936\n",
       "TRBJ2-6     2139\n",
       "TRBJ1-3     1718\n",
       "TRBJ2-4     1144\n",
       "Name: IR_VDJ_1_j_gene, dtype: int64"
      ]
     },
     "execution_count": 10,
     "metadata": {},
     "output_type": "execute_result"
    }
   ],
   "source": [
    "adata.obs['IR_VDJ_1_j_gene'].value_counts()"
   ]
  },
  {
   "cell_type": "code",
   "execution_count": 11,
   "id": "processed-intermediate",
   "metadata": {},
   "outputs": [],
   "source": [
    "v_alpha_to_id = {k: v for v, k in enumerate(adata.obs['IR_VJ_1_v_gene'].unique())}\n",
    "j_alpha_to_id = {k: v for v, k in enumerate(adata.obs['IR_VJ_1_j_gene'].unique())}\n",
    "\n",
    "v_beta_to_id = {k: v for v, k in enumerate(adata.obs['IR_VDJ_1_v_gene'].unique())}\n",
    "d_beta_to_id = {k: v for v, k in enumerate(adata.obs['IR_VDJ_1_d_gene'].unique())}\n",
    "j_beta_to_id = {k: v for v, k in enumerate(adata.obs['IR_VDJ_1_j_gene'].unique())}"
   ]
  },
  {
   "cell_type": "code",
   "execution_count": 12,
   "id": "innovative-excerpt",
   "metadata": {},
   "outputs": [],
   "source": [
    "adata.uns['v_alpha_to_id'] = v_alpha_to_id\n",
    "adata.uns['j_alpha_to_id'] = j_alpha_to_id\n",
    "\n",
    "adata.uns['v_beta_to_id'] = v_beta_to_id\n",
    "adata.uns['d_beta_to_id'] = d_beta_to_id\n",
    "adata.uns['j_beta_to_id'] = j_beta_to_id"
   ]
  },
  {
   "cell_type": "code",
   "execution_count": 13,
   "id": "administrative-pulse",
   "metadata": {},
   "outputs": [
    {
     "data": {
      "text/plain": [
       "{'TRBD1': 0, 'TRBD2': 1, 'None': 2}"
      ]
     },
     "execution_count": 13,
     "metadata": {},
     "output_type": "execute_result"
    }
   ],
   "source": [
    "adata.uns['d_beta_to_id']"
   ]
  },
  {
   "cell_type": "code",
   "execution_count": 14,
   "id": "administrative-arabic",
   "metadata": {},
   "outputs": [],
   "source": [
    "adata.obsm['v_alpha'] = adata.obs['IR_VJ_1_v_gene'].map(v_alpha_to_id).to_numpy()\n",
    "adata.obsm['j_alpha'] = adata.obs['IR_VJ_1_j_gene'].map(j_alpha_to_id).to_numpy()\n",
    "\n",
    "adata.obsm['v_beta'] = adata.obs['IR_VDJ_1_v_gene'].map(v_beta_to_id).to_numpy()\n",
    "adata.obsm['d_beta'] = adata.obs['IR_VDJ_1_d_gene'].map(d_beta_to_id).to_numpy()\n",
    "adata.obsm['j_beta'] = adata.obs['IR_VDJ_1_j_gene'].map(j_beta_to_id).to_numpy()"
   ]
  },
  {
   "cell_type": "code",
   "execution_count": 15,
   "id": "serial-measure",
   "metadata": {},
   "outputs": [
    {
     "name": "stdout",
     "output_type": "stream",
     "text": [
      "False\n",
      "False\n",
      "False\n",
      "False\n",
      "False\n"
     ]
    }
   ],
   "source": [
    "# Sanity check if all genes have a valid (non-nan) label. Should print False for all\n",
    "import numpy as np\n",
    "print(np.isnan(adata.obsm['v_alpha']).any())\n",
    "print(np.isnan(adata.obsm['j_alpha']).any())\n",
    "print(np.isnan(adata.obsm['v_beta']).any())\n",
    "print(np.isnan(adata.obsm['d_beta']).any())\n",
    "print(np.isnan(adata.obsm['j_beta']).any())"
   ]
  },
  {
   "cell_type": "code",
   "execution_count": 16,
   "id": "divided-wells",
   "metadata": {},
   "outputs": [
    {
     "data": {
      "text/plain": [
       "array([ 0,  1,  2, ..., 34, 17, 22], dtype=int64)"
      ]
     },
     "execution_count": 16,
     "metadata": {},
     "output_type": "execute_result"
    }
   ],
   "source": [
    "adata.obsm['v_beta']"
   ]
  },
  {
   "cell_type": "code",
   "execution_count": 17,
   "id": "several-carbon",
   "metadata": {},
   "outputs": [
    {
     "data": {
      "text/plain": [
       "True"
      ]
     },
     "execution_count": 17,
     "metadata": {},
     "output_type": "execute_result"
    }
   ],
   "source": [
    "# Sanity check if reversing the map is getting us the original gene names back, should print True\n",
    "import pandas as pd\n",
    "inv_map = {v: k for k, v in adata.uns['d_beta_to_id'].items()}\n",
    "\n",
    "inv_df = pd.Series(adata.obsm['d_beta']).map(inv_map)\n",
    "(inv_df.to_numpy() == adata.obs['IR_VDJ_1_d_gene'].to_numpy()).all()"
   ]
  },
  {
   "cell_type": "code",
   "execution_count": 18,
   "id": "suitable-yorkshire",
   "metadata": {},
   "outputs": [],
   "source": [
    "import sys\n",
    "sys.path.append('../')\n",
    "import tcr_embedding as tcr"
   ]
  },
  {
   "cell_type": "code",
   "execution_count": 19,
   "id": "crude-three",
   "metadata": {},
   "outputs": [],
   "source": [
    "aa_to_id = {'_': 0, 'A': 1, 'C': 2, 'D': 3, 'E': 4, 'F': 5, 'G': 6, 'H': 7, 'I': 8, 'K': 9, 'L': 10, 'M': 11, 'N': 12, 'P': 13,\n",
    "            'Q': 14, 'R': 15, 'S': 16, 'T': 17, 'V': 18, 'W': 19, 'Y': 20, '+': 21, '<': 22, '>': 23}\n",
    "tcr.utils.aa_encoding(adata, read_col='IR_VJ_1_cdr3', label_col='alpha_seq', length_col='alpha_len', pad=40, aa_to_id=aa_to_id, start_end_symbol=False)\n",
    "tcr.utils.aa_encoding(adata, read_col='IR_VDJ_1_cdr3', label_col='beta_seq', length_col='beta_len', pad=40, aa_to_id=aa_to_id, start_end_symbol=False)"
   ]
  },
  {
   "cell_type": "code",
   "execution_count": 20,
   "id": "impossible-coaching",
   "metadata": {},
   "outputs": [
    {
     "data": {
      "text/plain": [
       "array([[ 2,  1, 11, ...,  0,  0,  0],\n",
       "       [ 2,  1, 15, ...,  0,  0,  0],\n",
       "       [ 2,  1,  1, ...,  0,  0,  0],\n",
       "       ...,\n",
       "       [ 2,  8, 10, ...,  0,  0,  0],\n",
       "       [ 2,  1, 18, ...,  0,  0,  0],\n",
       "       [ 2,  6,  1, ...,  0,  0,  0]])"
      ]
     },
     "execution_count": 20,
     "metadata": {},
     "output_type": "execute_result"
    }
   ],
   "source": [
    "adata.obsm['alpha_seq']"
   ]
  },
  {
   "cell_type": "code",
   "execution_count": 23,
   "id": "introductory-future",
   "metadata": {},
   "outputs": [
    {
     "data": {
      "text/plain": [
       "(128587, 40)"
      ]
     },
     "execution_count": 23,
     "metadata": {},
     "output_type": "execute_result"
    }
   ],
   "source": [
    "adata.obsm['beta_seq'].shape"
   ]
  },
  {
   "cell_type": "code",
   "execution_count": 21,
   "id": "subsequent-interval",
   "metadata": {},
   "outputs": [
    {
     "data": {
      "text/plain": [
       "AnnData object with n_obs × n_vars = 128587 × 5000\n",
       "    obs: 'IR_VJ_1_locus', 'IR_VJ_2_locus', 'IR_VDJ_1_locus', 'IR_VDJ_2_locus', 'IR_VJ_1_cdr3', 'IR_VJ_2_cdr3', 'IR_VDJ_1_cdr3', 'IR_VDJ_2_cdr3', 'IR_VJ_1_cdr3_nt', 'IR_VJ_2_cdr3_nt', 'IR_VDJ_1_cdr3_nt', 'IR_VDJ_2_cdr3_nt', 'IR_VJ_1_expr', 'IR_VJ_2_expr', 'IR_VDJ_1_expr', 'IR_VDJ_2_expr', 'IR_VJ_1_expr_raw', 'IR_VJ_2_expr_raw', 'IR_VDJ_1_expr_raw', 'IR_VDJ_2_expr_raw', 'IR_VJ_1_v_gene', 'IR_VJ_2_v_gene', 'IR_VDJ_1_v_gene', 'IR_VDJ_2_v_gene', 'IR_VJ_1_d_gene', 'IR_VJ_2_d_gene', 'IR_VDJ_1_d_gene', 'IR_VDJ_2_d_gene', 'IR_VJ_1_j_gene', 'IR_VJ_2_j_gene', 'IR_VDJ_1_j_gene', 'IR_VDJ_2_j_gene', 'IR_VJ_1_c_gene', 'IR_VJ_2_c_gene', 'IR_VDJ_1_c_gene', 'IR_VDJ_2_c_gene', 'IR_VJ_1_junction_ins', 'IR_VJ_2_junction_ins', 'IR_VDJ_1_junction_ins', 'IR_VDJ_2_junction_ins', 'has_ir', 'multi_chain', 'barcode', 'donor', 'cell_clono_cdr3_aa', 'cell_clono_cdr3_nt', 'CD3', 'CD19', 'CD45RA', 'CD4', 'CD8a', 'CD14', 'CD45RO', 'CD279_PD-1', 'IgG1', 'IgG2a', 'IgG2b', 'CD127', 'CD197_CCR7', 'HLA-DR', 'A0101_VTEHDTLLY_IE-1_CMV', 'A0201_KTWGQYWQV_gp100_Cancer', 'A0201_ELAGIGILTV_MART-1_Cancer', 'A0201_CLLWSFQTSA_Tyrosinase_Cancer', 'A0201_IMDQVPFSV_gp100_Cancer', 'A0201_SLLMWITQV_NY-ESO-1_Cancer', 'A0201_KVAELVHFL_MAGE-A3_Cancer', 'A0201_KVLEYVIKV_MAGE-A1_Cancer', 'A0201_CLLGTYTQDV_Kanamycin-B-dioxygenase', 'A0201_LLDFVRFMGV_EBNA-3B_EBV', 'A0201_LLMGTLGIVC_HPV-16E7_82-91', 'A0201_CLGGLLTMV_LMP-2A_EBV', 'A0201_YLLEMLWRL_LMP1_EBV', 'A0201_FLYALALLL_LMP2A_EBV', 'A0201_GILGFVFTL_Flu-MP_Influenza', 'A0201_GLCTLVAML_BMLF1_EBV', 'A0201_NLVPMVATV_pp65_CMV', 'A0201_ILKEPVHGV_RT_HIV', 'A0201_FLASKIGRLV_Ca2-indepen-Plip-A2', 'A2402_CYTWNQMNL_WT1-(235-243)236M_Y', 'A0201_RTLNAWVKV_Gag-protein_HIV', 'A0201_KLQCVDLHV_PSA146-154', 'A0201_LLFGYPVYV_HTLV-1', 'A0201_SLFNTVATL_Gag-protein_HIV', 'A0201_SLYNTVATLY_Gag-protein_HIV', 'A0201_SLFNTVATLY_Gag-protein_HIV', 'A0201_RMFPNAPYL_WT-1', 'A0201_YLNDHLEPWI_BCL-X_Cancer', 'A0201_MLDLQPETT_16E7_HPV', 'A0301_KLGGALQAK_IE-1_CMV', 'A0301_RLRAEAQVK_EMNA-3A_EBV', 'A0301_RIAAWMATY_BCL-2L1_Cancer', 'A1101_IVTDFSVIK_EBNA-3B_EBV', 'A1101_AVFDRKSDAK_EBNA-3B_EBV', 'B3501_IPSINVHHY_pp65_CMV', 'A2402_AYAQKIFKI_IE-1_CMV', 'A2402_QYDPVAALF_pp65_CMV', 'B0702_QPRAPIRPI_EBNA-6_EBV', 'B0702_TPRVTGGGAM_pp65_CMV', 'B0702_RPPIFIRRL_EBNA-3A_EBV', 'B0702_RPHERNGFTVL_pp65_CMV', 'B0801_RAKFKQLL_BZLF1_EBV', 'B0801_ELRRKMMYM_IE-1_CMV', 'B0801_FLRGRAYGL_EBNA-3A_EBV', 'A0101_SLEGGGLGY_NC', 'A0101_STEGGGLAY_NC', 'A0201_ALIAPVHAV_NC', 'A2402_AYSSAGASI_NC', 'B0702_GPAESAAGL_NC', 'NR(B0801)_AAKGRGAAL_NC', 'A0101_VTEHDTLLY_IE-1_CMV_binder', 'A0201_KTWGQYWQV_gp100_Cancer_binder', 'A0201_ELAGIGILTV_MART-1_Cancer_binder', 'A0201_CLLWSFQTSA_Tyrosinase_Cancer_binder', 'A0201_IMDQVPFSV_gp100_Cancer_binder', 'A0201_SLLMWITQV_NY-ESO-1_Cancer_binder', 'A0201_KVAELVHFL_MAGE-A3_Cancer_binder', 'A0201_KVLEYVIKV_MAGE-A1_Cancer_binder', 'A0201_CLLGTYTQDV_Kanamycin-B-dioxygenase_binder', 'A0201_LLDFVRFMGV_EBNA-3B_EBV_binder', 'A0201_LLMGTLGIVC_HPV-16E7_82-91_binder', 'A0201_CLGGLLTMV_LMP-2A_EBV_binder', 'A0201_YLLEMLWRL_LMP1_EBV_binder', 'A0201_FLYALALLL_LMP2A_EBV_binder', 'A0201_GILGFVFTL_Flu-MP_Influenza_binder', 'A0201_GLCTLVAML_BMLF1_EBV_binder', 'A0201_NLVPMVATV_pp65_CMV_binder', 'A0201_ILKEPVHGV_RT_HIV_binder', 'A0201_FLASKIGRLV_Ca2-indepen-Plip-A2_binder', 'A2402_CYTWNQMNL_WT1-(235-243)236M_Y_binder', 'A0201_RTLNAWVKV_Gag-protein_HIV_binder', 'A0201_KLQCVDLHV_PSA146-154_binder', 'A0201_LLFGYPVYV_HTLV-1_binder', 'A0201_SLFNTVATL_Gag-protein_HIV_binder', 'A0201_SLYNTVATLY_Gag-protein_HIV_binder', 'A0201_SLFNTVATLY_Gag-protein_HIV_binder', 'A0201_RMFPNAPYL_WT-1_binder', 'A0201_YLNDHLEPWI_BCL-X_Cancer_binder', 'A0201_MLDLQPETT_16E7_HPV_binder', 'A0301_KLGGALQAK_IE-1_CMV_binder', 'A0301_RLRAEAQVK_EMNA-3A_EBV_binder', 'A0301_RIAAWMATY_BCL-2L1_Cancer_binder', 'A1101_IVTDFSVIK_EBNA-3B_EBV_binder', 'A1101_AVFDRKSDAK_EBNA-3B_EBV_binder', 'B3501_IPSINVHHY_pp65_CMV_binder', 'A2402_AYAQKIFKI_IE-1_CMV_binder', 'A2402_QYDPVAALF_pp65_CMV_binder', 'B0702_QPRAPIRPI_EBNA-6_EBV_binder', 'B0702_TPRVTGGGAM_pp65_CMV_binder', 'B0702_RPPIFIRRL_EBNA-3A_EBV_binder', 'B0702_RPHERNGFTVL_pp65_CMV_binder', 'B0801_RAKFKQLL_BZLF1_EBV_binder', 'B0801_ELRRKMMYM_IE-1_CMV_binder', 'B0801_FLRGRAYGL_EBNA-3A_EBV_binder', 'A0101_SLEGGGLGY_NC_binder', 'A0101_STEGGGLAY_NC_binder', 'A0201_ALIAPVHAV_NC_binder', 'A2402_AYSSAGASI_NC_binder', 'B0702_GPAESAAGL_NC_binder', 'NR(B0801)_AAKGRGAAL_NC_binder', 'n_counts', 'log_counts', 'n_genes', 'mt_fraction', 'doublet_score', 'doublet', 'louvain', 'clonotype_10x', 'TRA+TRB', 'clonotype', 'seq_len', 'one_hot', 'tcr_seq', 'has_binding', 'binding_label', 'binding_name', 'donor+binding', 'set', 'alpha_len', 'alpha_seq', 'beta_len', 'beta_seq'\n",
       "    var: 'gene_ids', 'feature_types', 'genome', 'n_cells', 'highly_variable', 'means', 'dispersions', 'dispersions_norm', 'highly_variable_nbatches', 'highly_variable_intersection'\n",
       "    uns: 'aa_to_id', 'donor_colors', 'has_ir_colors', 'hvg', 'louvain', 'louvain_colors', 'neighbors', 'pca', 'umap', 'v_alpha_to_id', 'j_alpha_to_id', 'v_beta_to_id', 'd_beta_to_id', 'j_beta_to_id'\n",
       "    obsm: 'X_pca', 'X_umap', 'one_hot', 'tcr_seq', 'v_alpha', 'j_alpha', 'v_beta', 'd_beta', 'j_beta', 'alpha_seq', 'beta_seq'\n",
       "    varm: 'PCs'\n",
       "    obsp: 'connectivities', 'distances'"
      ]
     },
     "execution_count": 21,
     "metadata": {},
     "output_type": "execute_result"
    }
   ],
   "source": [
    "adata"
   ]
  },
  {
   "cell_type": "code",
   "execution_count": 22,
   "id": "fourth-soviet",
   "metadata": {},
   "outputs": [
    {
     "name": "stderr",
     "output_type": "stream",
     "text": [
      "... storing 'alpha_seq' as categorical\n",
      "... storing 'beta_seq' as categorical\n"
     ]
    }
   ],
   "source": [
    "adata.write_h5ad('../data/10x_CD8TC/v6_deep_tcr.h5ad', compression='gzip')"
   ]
  },
  {
   "cell_type": "code",
   "execution_count": null,
   "id": "average-projector",
   "metadata": {},
   "outputs": [],
   "source": []
  }
 ],
 "metadata": {
  "kernelspec": {
   "display_name": "Python [conda env:tcr_update] *",
   "language": "python",
   "name": "conda-env-tcr_update-py"
  },
  "language_info": {
   "codemirror_mode": {
    "name": "ipython",
    "version": 3
   },
   "file_extension": ".py",
   "mimetype": "text/x-python",
   "name": "python",
   "nbconvert_exporter": "python",
   "pygments_lexer": "ipython3",
   "version": "3.8.8"
  }
 },
 "nbformat": 4,
 "nbformat_minor": 5
}
