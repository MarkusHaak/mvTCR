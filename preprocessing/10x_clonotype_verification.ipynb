{
 "cells": [
  {
   "cell_type": "markdown",
   "metadata": {},
   "source": [
    "# Clonotype Verification"
   ]
  },
  {
   "cell_type": "markdown",
   "metadata": {},
   "source": [
    "For the data provided by 10x clonotypes were already indicated for each donor individually. It might occur, that \"public\" TCRs are shared across donors. "
   ]
  },
  {
   "cell_type": "code",
   "execution_count": 1,
   "metadata": {},
   "outputs": [],
   "source": [
    "import pandas as pd"
   ]
  },
  {
   "cell_type": "markdown",
   "metadata": {},
   "source": [
    "Load TRBs and TRAs of each donor."
   ]
  },
  {
   "cell_type": "code",
   "execution_count": 42,
   "metadata": {},
   "outputs": [],
   "source": [
    "def extract_tcrs(data):\n",
    "    alphas = []\n",
    "    betas = []\n",
    "    for row in data['cell_clono_cdr3_aa']:\n",
    "        if row.count('TRB') != 1 or row.count('TRA') != 1:\n",
    "            continue\n",
    "        for chain in row.split(';'):\n",
    "            label, sequence = chain.split(':')\n",
    "            if label == 'TRA':\n",
    "                alphas.append(sequence)\n",
    "            elif label == 'TRB':\n",
    "                betas.append(sequence)\n",
    "    return alphas, betas"
   ]
  },
  {
   "cell_type": "code",
   "execution_count": 43,
   "metadata": {},
   "outputs": [
    {
     "name": "stdout",
     "output_type": "stream",
     "text": [
      "donor 1: 32906 TRAs, 32920 TRBs\n",
      "donor 2: 54518 TRAs, 54524 TRBs\n",
      "donor 3: 29904 TRAs, 29907 TRBs\n",
      "donor 4: 22027 TRAs, 22027 TRBs\n"
     ]
    }
   ],
   "source": [
    "path_base = '../data/10x_CD8TC/'\n",
    "\n",
    "cdr3s_alpha_by_donor = []\n",
    "cdr3s_beta_by_donor = []\n",
    "for donor_idx in range(1, 5):\n",
    "    path_tcr = path_base + f'patient_{donor_idx}/vdj_v1_hs_aggregated_donor{donor_idx}_binarized_matrix.csv'\n",
    "    data_tmp = pd.read_csv(path_tcr)\n",
    "    cdr3s_alpha, cdr3s_beta = extract_tcrs(data_tmp)\n",
    "    print(f'donor {donor_idx}: {len(cdr3s_alpha)} TRAs, {len(cdr3s_beta)} TRBs')\n",
    "    cdr3s_alpha_by_donor.append(cdr3s_alpha)\n",
    "    cdr3s_beta_by_donor.append(cdr3s_beta)"
   ]
  },
  {
   "cell_type": "markdown",
   "metadata": {},
   "source": [
    "Calculate the overlap between donors."
   ]
  },
  {
   "cell_type": "code",
   "execution_count": 52,
   "metadata": {},
   "outputs": [],
   "source": [
    "def size_overlap(list_1, list_2):\n",
    "    overlap = list(set(list_1) & set(list_2))\n",
    "    n = len(overlap)\n",
    "    return n"
   ]
  },
  {
   "cell_type": "code",
   "execution_count": 53,
   "metadata": {},
   "outputs": [],
   "source": [
    "def check_for_overlap(cdrs, name):\n",
    "    for idx_1 in range(4):\n",
    "        list_1 = cdrs[idx_1]\n",
    "        for idx_2 in range(4):\n",
    "            if idx_1 == idx_2:\n",
    "                continue\n",
    "            list_2 = cdrs[idx_2]\n",
    "            n = size_overlap(list_1, list_2)\n",
    "            print(f'{n} overlapping {name}s between donors {idx_1} and {idx_2}')"
   ]
  },
  {
   "cell_type": "code",
   "execution_count": 54,
   "metadata": {},
   "outputs": [
    {
     "name": "stdout",
     "output_type": "stream",
     "text": [
      "1151 overlapping TRAs between donors 0 and 1\n",
      "1069 overlapping TRAs between donors 0 and 2\n",
      "1025 overlapping TRAs between donors 0 and 3\n",
      "1151 overlapping TRAs between donors 1 and 0\n",
      "510 overlapping TRAs between donors 1 and 2\n",
      "501 overlapping TRAs between donors 1 and 3\n",
      "1069 overlapping TRAs between donors 2 and 0\n",
      "510 overlapping TRAs between donors 2 and 1\n",
      "629 overlapping TRAs between donors 2 and 3\n",
      "1025 overlapping TRAs between donors 3 and 0\n",
      "501 overlapping TRAs between donors 3 and 1\n",
      "629 overlapping TRAs between donors 3 and 2\n"
     ]
    }
   ],
   "source": [
    "check_for_overlap(cdr3s_alpha_by_donor, 'TRA')"
   ]
  },
  {
   "cell_type": "code",
   "execution_count": 56,
   "metadata": {},
   "outputs": [
    {
     "name": "stdout",
     "output_type": "stream",
     "text": [
      "398 overlapping TRBs between donors 0 and 1\n",
      "173 overlapping TRBs between donors 0 and 2\n",
      "210 overlapping TRBs between donors 0 and 3\n",
      "398 overlapping TRBs between donors 1 and 0\n",
      "90 overlapping TRBs between donors 1 and 2\n",
      "104 overlapping TRBs between donors 1 and 3\n",
      "173 overlapping TRBs between donors 2 and 0\n",
      "90 overlapping TRBs between donors 2 and 1\n",
      "106 overlapping TRBs between donors 2 and 3\n",
      "210 overlapping TRBs between donors 3 and 0\n",
      "104 overlapping TRBs between donors 3 and 1\n",
      "106 overlapping TRBs between donors 3 and 2\n"
     ]
    }
   ],
   "source": [
    "check_for_overlap(cdr3s_beta_by_donor, 'TRB')"
   ]
  },
  {
   "cell_type": "markdown",
   "metadata": {},
   "source": [
    "Load the joint TRA and TRB sequences per donor."
   ]
  },
  {
   "cell_type": "code",
   "execution_count": 60,
   "metadata": {},
   "outputs": [],
   "source": [
    "def extract_joint_tcrs(data):\n",
    "    cdrs = []\n",
    "    for row in data['cell_clono_cdr3_aa']:\n",
    "        if row.count('TRB') != 1 or row.count('TRA') != 1:\n",
    "            continue\n",
    "        for chain in row.split(';'):\n",
    "            label, sequence = chain.split(':')\n",
    "            if label == 'TRA':\n",
    "                alpha = sequence\n",
    "            elif label == 'TRB':\n",
    "                beta = sequence\n",
    "        cdrs.append(f'TRA:{alpha};TRB:{beta}')\n",
    "    return cdrs"
   ]
  },
  {
   "cell_type": "code",
   "execution_count": 61,
   "metadata": {
    "scrolled": true
   },
   "outputs": [
    {
     "name": "stdout",
     "output_type": "stream",
     "text": [
      "donor 1: 32920 TRs\n",
      "donor 2: 54524 TRs\n",
      "donor 3: 29907 TRs\n",
      "donor 4: 22027 TRs\n"
     ]
    }
   ],
   "source": [
    "path_base = '../data/10x_CD8TC/'\n",
    "\n",
    "cdr3s_by_donor = []\n",
    "for donor_idx in range(1, 5):\n",
    "    path_tcr = path_base + f'patient_{donor_idx}/vdj_v1_hs_aggregated_donor{donor_idx}_binarized_matrix.csv'\n",
    "    data_tmp = pd.read_csv(path_tcr)\n",
    "    cdr3s = extract_joint_tcrs(data_tmp)\n",
    "    print(f'donor {donor_idx}: {len(cdr3s)} TRs')\n",
    "    cdr3s_by_donor.append(cdr3s)"
   ]
  },
  {
   "cell_type": "markdown",
   "metadata": {},
   "source": [
    "Calculate the overlap"
   ]
  },
  {
   "cell_type": "code",
   "execution_count": 62,
   "metadata": {},
   "outputs": [
    {
     "name": "stdout",
     "output_type": "stream",
     "text": [
      "83 overlapping TRs between donors 0 and 1\n",
      "1 overlapping TRs between donors 0 and 2\n",
      "0 overlapping TRs between donors 0 and 3\n",
      "83 overlapping TRs between donors 1 and 0\n",
      "3 overlapping TRs between donors 1 and 2\n",
      "1 overlapping TRs between donors 1 and 3\n",
      "1 overlapping TRs between donors 2 and 0\n",
      "3 overlapping TRs between donors 2 and 1\n",
      "0 overlapping TRs between donors 2 and 3\n",
      "0 overlapping TRs between donors 3 and 0\n",
      "1 overlapping TRs between donors 3 and 1\n",
      "0 overlapping TRs between donors 3 and 2\n"
     ]
    }
   ],
   "source": [
    "check_for_overlap(cdr3s_by_donor, 'TR')"
   ]
  },
  {
   "cell_type": "markdown",
   "metadata": {},
   "source": [
    "No matter how we define clonotypes: There is an overlap between the different donors. Therefore, the clonotype definition by 10x is not applicable."
   ]
  }
 ],
 "metadata": {
  "kernelspec": {
   "display_name": "scanpyEnv",
   "language": "python",
   "name": "scanpyenv"
  },
  "language_info": {
   "codemirror_mode": {
    "name": "ipython",
    "version": 3
   },
   "file_extension": ".py",
   "mimetype": "text/x-python",
   "name": "python",
   "nbconvert_exporter": "python",
   "pygments_lexer": "ipython3",
   "version": "3.7.9"
  }
 },
 "nbformat": 4,
 "nbformat_minor": 4
}
