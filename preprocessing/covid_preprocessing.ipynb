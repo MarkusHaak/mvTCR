{
 "cells": [
  {
   "cell_type": "markdown",
   "metadata": {},
   "source": [
    "# Preprocessing of the Covid Dataset"
   ]
  },
  {
   "cell_type": "code",
   "execution_count": 1,
   "metadata": {},
   "outputs": [],
   "source": [
    "import scanpy as sc\n",
    "import scirpy as ir\n",
    "import anndata as ann"
   ]
  },
  {
   "cell_type": "code",
   "execution_count": 3,
   "metadata": {},
   "outputs": [],
   "source": [
    "path_base = '../data/COVID/Covid19_TAs_PBMCs.h5ad'"
   ]
  },
  {
   "cell_type": "code",
   "execution_count": 4,
   "metadata": {},
   "outputs": [
    {
     "data": {
      "text/plain": [
       "AnnData object with n_obs × n_vars = 12503 × 16598\n",
       "    obs: 'batch', 'grouping', 'name', 'identifier', 'n_counts', 'n_genes', 'percent.mito', 'QC_group', 'size_factors', 'S_score', 'G2M_score', 'phase', 'louvain', 'cell_type', 'dcluster', 'multi_chain', 'TRA_1_cdr3', 'TRA_2_cdr3', 'TRB_1_cdr3', 'TRB_2_cdr3', 'TRA_1_junction_ins', 'TRA_2_junction_ins', 'TRB_1_junction_ins', 'TRB_2_junction_ins', 'TRA_1_expr', 'TRA_2_expr', 'TRB_1_expr', 'TRB_2_expr', 'TRA_1_v_gene', 'TRA_2_v_gene', 'TRB_1_v_gene', 'TRB_2_v_gene', 'TRA_1_d_gene', 'TRA_2_d_gene', 'TRB_1_d_gene', 'TRB_2_d_gene', 'TRA_1_j_gene', 'TRA_2_j_gene', 'TRB_1_j_gene', 'TRB_2_j_gene', 'TRA_1_c_gene', 'TRA_2_c_gene', 'TRB_1_c_gene', 'TRB_2_c_gene', 'TRA_1_cdr3_nt', 'TRA_2_cdr3_nt', 'TRB_1_cdr3_nt', 'TRB_2_cdr3_nt', 'has_tcr', 'sample_rna', 'sample_tcr', 'clonotype_cellranger', 'concatenation', 'patient', 'condition', 'mt_frac', 'CD3_all_genes', 'leiden', 'chain_pairing', 'leiden_corrected', 'CD8_all_genes', 'CD4_states', 'CD8_states', 'tcr_signalling_score', 'ifn response_score', 'proliferation_score', 'cd8 cytotoxic_score', 'cd8 cytokine_score', 'ifng_pos_cluster', 'clonotype', 'clonotype_size', 'ct_cluster_aa_alignment', 'ct_cluster_aa_alignment_size', 'ct_cluster_aa_alignment_same_v', 'ct_cluster_aa_alignment_same_v_size', 'clonal_expansion', 'bc', 'r2_tcr', 'clonotype_all_chains', 'responsive', 'CD4_responsive', 'CD8_responsive', 'data_set', 'louvain_2', 'louvain_3', 'reactive', 'CD4 reactive_score_CD4', 'CD8 reactive_score_CD8', 'T_cells', 'leiden_Cd4', 'leiden_Cd8', 'reactive_condition', 'IFN response score', 'Proliferation score', 'Cytotoxic score', 'Cytokine score', 'Cd4 reactive score (DF)', 'Cd4 reactive score (sc)', 'Cd4 reactive score (MA)', 'Cd8 reactive score (MA)', 'reactive_combined', 'Cd8 reactive score (DF)', 'highest_score', '1) reactive score CD4 (updown)', '3) stim reactive score CD4 (updown)', '5) stim score CD4 (updown)', '2) reactive score CD8 (updown)', '4) stim reactive score CD8 (updown)', '6) stim score CD8 (updown)'\n",
       "    var: 'n_cells-0', 'highly_variable-0', 'means-0', 'dispersions-0', 'dispersions_norm-0', 'highly_variable_nbatches-0', 'highly_variable_intersection-0', 'n_counts-0', 'n_cells-1', 'gene_ids-1', 'feature_types-1', 'genome-1', 'highly_variable', 'means', 'dispersions', 'dispersions_norm', 'highly_variable_nbatches', 'highly_variable_intersection'\n",
       "    uns: 'CD4_responsive_score_DF_binary_colors', 'CD4_score_DF_binary_colors', 'CD4_score_binary_colors', 'CD4_states_colors', 'CD8_responsive_score_DF_binary_colors', 'CD8_score_DF_binary_colors', 'CD8_score_binary_colors', 'CD8_states_colors', 'T_cells_colors', 'cell_type_colors', 'condition.colors', 'condition_colors', 'data_set_colors', 'dendrogram_louvain', 'highest_score_colors', 'identifier_colors', 'leiden_Cd4_colors', 'leiden_Cd8_colors', 'leiden_colors', 'louvain', 'louvain_2_colors', 'louvain_3_colors', 'louvain_colors', 'neighbors', 'patient_colors', 'pca', 'rank_genes_groups', 'reactive_colors', 'reactive_combined_colors', 'reactive_condition_colors', 'responsive_colors', 'umap'\n",
       "    obsm: 'X_clonotype_network', 'X_pca', 'X_umap'\n",
       "    varm: 'PCs'\n",
       "    layers: 'counts', 'souped_counts'\n",
       "    obsp: 'connectivities', 'distances'"
      ]
     },
     "execution_count": 4,
     "metadata": {},
     "output_type": "execute_result"
    }
   ],
   "source": [
    "adata = sc.read_h5ad(path_base)\n",
    "adata"
   ]
  },
  {
   "cell_type": "code",
   "execution_count": null,
   "metadata": {},
   "outputs": [],
   "source": []
  }
 ],
 "metadata": {
  "kernelspec": {
   "display_name": "scanpyEnv",
   "language": "python",
   "name": "scanpyenv"
  },
  "language_info": {
   "codemirror_mode": {
    "name": "ipython",
    "version": 3
   },
   "file_extension": ".py",
   "mimetype": "text/x-python",
   "name": "python",
   "nbconvert_exporter": "python",
   "pygments_lexer": "ipython3",
   "version": "3.7.9"
  }
 },
 "nbformat": 4,
 "nbformat_minor": 4
}
