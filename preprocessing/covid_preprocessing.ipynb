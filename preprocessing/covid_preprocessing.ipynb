{
 "cells": [
  {
   "cell_type": "markdown",
   "metadata": {},
   "source": [
    "# Covid Data"
   ]
  },
  {
   "cell_type": "markdown",
   "metadata": {},
   "source": [
    "Dataset containing SARS-CoV-2 T cells described in https://www.medrxiv.org/content/10.1101/2020.12.07.20245274v1\n",
    "\n",
    "Later available under https://www.ncbi.nlm.nih.gov/geo/query/acc.cgi?acc=GSE171037"
   ]
  },
  {
   "cell_type": "code",
   "execution_count": 1,
   "metadata": {},
   "outputs": [],
   "source": [
    "import pandas as pd\n",
    "import scanpy as sc\n",
    "import scipy\n",
    "import anndata\n",
    "import scirpy as ir\n",
    "import numpy as np\n",
    "import matplotlib.pyplot as pl\n",
    "from matplotlib import rcParams\n",
    "import seaborn as sb\n",
    "sb.set_style('white')"
   ]
  },
  {
   "cell_type": "markdown",
   "metadata": {},
   "source": [
    "# Single cell data preprocessing"
   ]
  },
  {
   "cell_type": "markdown",
   "metadata": {},
   "source": [
    "Due to limited amount of cells, the data is not filtered in a similar way as the 10x dataset by expression counts, mitochondrial counts and gene counts.\n",
    "\n",
    "Only cells are deleted, that have a non-functional / non-unique receptor, since our models can not deal with that."
   ]
  },
  {
   "cell_type": "code",
   "execution_count": 2,
   "metadata": {},
   "outputs": [],
   "source": [
    "path_base = '../data/Covid/'\n",
    "path_raw = path_base + 'Covid19_TAs_PBMCs.h5ad'\n",
    "path_tcr_split = path_base + '03_covidcovidtrain_test_split.h5ad'\n",
    "path_highlyvar = path_base + '04_covid_highly_var_5000.h5ad'"
   ]
  },
  {
   "cell_type": "markdown",
   "metadata": {},
   "source": [
    "## Filter cells with productive single IR "
   ]
  },
  {
   "cell_type": "markdown",
   "metadata": {},
   "source": [
    "Filter cells where there is more or less than one alpha and beta chain present"
   ]
  },
  {
   "cell_type": "code",
   "execution_count": 3,
   "metadata": {},
   "outputs": [],
   "source": [
    "adata = sc.read_h5ad(path_raw)"
   ]
  },
  {
   "cell_type": "code",
   "execution_count": 4,
   "metadata": {
    "scrolled": true
   },
   "outputs": [
    {
     "name": "stdout",
     "output_type": "stream",
     "text": [
      "Number of cells: 12503\n",
      "Number of cells with IR: 11277\n"
     ]
    },
    {
     "name": "stderr",
     "output_type": "stream",
     "text": [
      "C:\\Users\\felix.drost\\Anaconda3\\envs\\scanpy\\lib\\site-packages\\pandas\\core\\arrays\\categorical.py:2487: FutureWarning: The `inplace` parameter in pandas.Categorical.remove_unused_categories is deprecated and will be removed in a future version.\n",
      "  res = method(*args, **kwargs)\n"
     ]
    }
   ],
   "source": [
    "print(f'Number of cells: {adata.n_obs}')\n",
    "adata = adata[adata.obs['has_tcr']=='True']\n",
    "print(f'Number of cells with IR: {adata.n_obs}')"
   ]
  },
  {
   "cell_type": "code",
   "execution_count": 5,
   "metadata": {},
   "outputs": [
    {
     "name": "stdout",
     "output_type": "stream",
     "text": [
      "Number of cells: 11277\n",
      "Number of cells without >2 chains: 11147\n",
      "Number of cells with =1 per chain: 9853\n"
     ]
    }
   ],
   "source": [
    "print(f'Number of cells: {adata.n_obs}')\n",
    "adata = adata[adata.obs['multi_chain']=='False']\n",
    "\n",
    "print(f'Number of cells without >2 chains: {adata.n_obs}')\n",
    "\n",
    "adata = adata[adata.obs['TRA_2_cdr3']=='None']\n",
    "adata = adata[adata.obs['TRB_2_cdr3']=='None']\n",
    "\n",
    "print(f'Number of cells with =1 per chain: {adata.n_obs}')"
   ]
  },
  {
   "cell_type": "markdown",
   "metadata": {},
   "source": [
    "## Filter unpaired Sequences"
   ]
  },
  {
   "cell_type": "code",
   "execution_count": 6,
   "metadata": {},
   "outputs": [
    {
     "name": "stdout",
     "output_type": "stream",
     "text": [
      "Number of cells: 9853\n",
      "Number of cells with beta chain: 9521\n"
     ]
    }
   ],
   "source": [
    "print(f'Number of cells: {adata.n_obs}')\n",
    "adata = adata[adata.obs['TRB_1_cdr3'] != 'None']\n",
    "print(f'Number of cells with beta chain: {adata.n_obs}')"
   ]
  },
  {
   "cell_type": "code",
   "execution_count": 7,
   "metadata": {
    "scrolled": true
   },
   "outputs": [
    {
     "name": "stdout",
     "output_type": "stream",
     "text": [
      "Number of cells: 9521\n",
      "Number of cells with alpha chain: 6713\n"
     ]
    }
   ],
   "source": [
    "print(f'Number of cells: {adata.n_obs}')\n",
    "adata = adata[adata.obs['TRA_1_cdr3'] != 'None']\n",
    "print(f'Number of cells with alpha chain: {adata.n_obs}')"
   ]
  },
  {
   "cell_type": "markdown",
   "metadata": {},
   "source": [
    "Sanity check: only a single CDR3alpha and CDR3beta chain is present"
   ]
  },
  {
   "cell_type": "code",
   "execution_count": 8,
   "metadata": {},
   "outputs": [],
   "source": [
    "def check_invalids(sequence):\n",
    "    allowed_letters = 'GALMFWKQESPVICYHRNDT'\n",
    "    for letter in sequence:\n",
    "        if letter not in allowed_letters:\n",
    "            return False\n",
    "    return True\n",
    "\n",
    "for seq_alpha in adata.obs['TRA_1_cdr3']:\n",
    "    if not check_invalids(seq_alpha):\n",
    "        print(seq_alpha)\n",
    "for seq_beta in adata.obs['TRB_1_cdr3']:\n",
    "    if not check_invalids(seq_beta):\n",
    "        print(seq_beta)"
   ]
  },
  {
   "cell_type": "markdown",
   "metadata": {},
   "source": [
    "## Clonotype Annotation"
   ]
  },
  {
   "cell_type": "markdown",
   "metadata": {},
   "source": [
    "Give numerica label to each clonotype"
   ]
  },
  {
   "cell_type": "code",
   "execution_count": 9,
   "metadata": {},
   "outputs": [
    {
     "name": "stderr",
     "output_type": "stream",
     "text": [
      "Trying to set attribute `.obs` of view, copying.\n"
     ]
    },
    {
     "name": "stdout",
     "output_type": "stream",
     "text": [
      "4102\n"
     ]
    },
    {
     "data": {
      "text/plain": [
       "6       531\n",
       "12      182\n",
       "9       158\n",
       "46      114\n",
       "31      106\n",
       "       ... \n",
       "2824      1\n",
       "777       1\n",
       "2828      1\n",
       "781       1\n",
       "2047      1\n",
       "Name: clonotype, Length: 4102, dtype: int64"
      ]
     },
     "execution_count": 9,
     "metadata": {},
     "output_type": "execute_result"
    }
   ],
   "source": [
    "adata.obs['TRA+TRB'] = adata.obs['TRA_1_cdr3'].astype(str) + '+' + adata.obs['TRB_1_cdr3'].astype(str)\n",
    "clono_dict = {clone: idx for idx, clone in enumerate(adata.obs['TRA+TRB'].unique())}\n",
    "adata.obs['clonotype'] = adata.obs['TRA+TRB'].map(clono_dict)\n",
    "print(len(adata.obs['clonotype'].unique()))\n",
    "adata.obs['clonotype'].value_counts()"
   ]
  },
  {
   "cell_type": "markdown",
   "metadata": {},
   "source": [
    "## Embed TR"
   ]
  },
  {
   "cell_type": "markdown",
   "metadata": {},
   "source": [
    "Append both chains, add start ('<'), stop ('>') and seperator ('+') token. For training purpose IR data might be needed as one hot vector."
   ]
  },
  {
   "cell_type": "code",
   "execution_count": 10,
   "metadata": {},
   "outputs": [],
   "source": [
    "import sys\n",
    "sys.path.append('../')\n",
    "import tcr_embedding as tcr"
   ]
  },
  {
   "cell_type": "code",
   "execution_count": 11,
   "metadata": {
    "scrolled": true
   },
   "outputs": [
    {
     "data": {
      "text/plain": [
       "39"
      ]
     },
     "execution_count": 11,
     "metadata": {},
     "output_type": "execute_result"
    }
   ],
   "source": [
    "adata.obs['TRA+TRB'] = adata.obs['TRA_1_cdr3'].astype(str) + '+' + adata.obs['TRB_1_cdr3'].astype(str)\n",
    "pad = adata.obs['TRA+TRB'].str.len().max()\n",
    "pad = int(pad)\n",
    "pad"
   ]
  },
  {
   "cell_type": "code",
   "execution_count": 12,
   "metadata": {},
   "outputs": [],
   "source": [
    "aa_to_id = {'_': 0, 'A': 1, 'C': 2, 'D': 3, 'E': 4, 'F': 5, 'G': 6, 'H': 7, 'I': 8, 'K': 9, 'L': 10, 'M': 11, 'N': 12, 'P': 13,\n",
    "            'Q': 14, 'R': 15, 'S': 16, 'T': 17, 'V': 18, 'W': 19, 'Y': 20, '+': 21, '<': 22, '>': 23}\n",
    "tcr.utils.aa_encoding(adata, read_col='TRA+TRB', ohe_col='one_hot', label_col='tcr_seq', length_col='seq_len', pad=pad, aa_to_id=aa_to_id, start_end_symbol=True)\n"
   ]
  },
  {
   "cell_type": "code",
   "execution_count": 13,
   "metadata": {
    "scrolled": true
   },
   "outputs": [
    {
     "name": "stdout",
     "output_type": "stream",
     "text": [
      "(6713, 41)\n",
      "(6713, 41, 24)\n",
      "{'_': 0, 'A': 1, 'C': 2, 'D': 3, 'E': 4, 'F': 5, 'G': 6, 'H': 7, 'I': 8, 'K': 9, 'L': 10, 'M': 11, 'N': 12, 'P': 13, 'Q': 14, 'R': 15, 'S': 16, 'T': 17, 'V': 18, 'W': 19, 'Y': 20, '+': 21, '<': 22, '>': 23}\n"
     ]
    }
   ],
   "source": [
    "print(adata.obsm['tcr_seq'].shape)\n",
    "print(adata.obsm['one_hot'].shape)\n",
    "print(adata.uns['aa_to_id'])"
   ]
  },
  {
   "cell_type": "code",
   "execution_count": 14,
   "metadata": {},
   "outputs": [],
   "source": [
    "max_length_alpha = adata.obs['TRA_1_cdr3'].str.len().max()\n",
    "max_length_beta = adata.obs['TRB_1_cdr3'].str.len().max()\n",
    "max_length = max(max_length_alpha, max_length_beta)"
   ]
  },
  {
   "cell_type": "code",
   "execution_count": 15,
   "metadata": {},
   "outputs": [],
   "source": [
    "aa_to_id = adata.uns['aa_to_id']\n",
    "tcr.utils.aa_encoding(adata, read_col='TRA_1_cdr3', label_col='alpha_seq', length_col='alpha_len', pad=max_length, aa_to_id=aa_to_id, start_end_symbol=False)\n",
    "tcr.utils.aa_encoding(adata, read_col='TRB_1_cdr3', label_col='beta_seq', length_col='beta_len', pad=max_length, aa_to_id=aa_to_id, start_end_symbol=False)"
   ]
  },
  {
   "cell_type": "code",
   "execution_count": 16,
   "metadata": {},
   "outputs": [
    {
     "name": "stdout",
     "output_type": "stream",
     "text": [
      "20\n",
      "23\n"
     ]
    }
   ],
   "source": [
    "print(max_length_alpha)\n",
    "print(max_length_beta)"
   ]
  },
  {
   "cell_type": "markdown",
   "metadata": {},
   "source": [
    "## Train-Val-Test Split"
   ]
  },
  {
   "cell_type": "markdown",
   "metadata": {},
   "source": [
    "Datasets are split s.t. all cells from the same clonotype (here: identical alpha and beta chain) are assigned to the same split. The two samples and the condiation (stimulated vs unstimulated) are distributed evenly over all three sets."
   ]
  },
  {
   "cell_type": "code",
   "execution_count": 17,
   "metadata": {},
   "outputs": [
    {
     "data": {
      "text/plain": [
       "Sample_20063a010_01_CGTCCATCAACGATGG      Sample_20063a010_01_stimulated\n",
       "Sample_20063a010_01_ACGCAGCCACAAGACG      Sample_20063a010_01_stimulated\n",
       "Sample_20063a009_01_CTCAGAATCATGTGGT    Sample_20063a009_01_unstimulated\n",
       "Sample_20063a009_01_CGTTCTGAGCAGCCTC    Sample_20063a009_01_unstimulated\n",
       "Sample_20063a009_01_CTCGTACCAAACTGTC    Sample_20063a009_01_unstimulated\n",
       "Sample_20063a009_01_CGAGAAGAGGATGTAT    Sample_20063a009_01_unstimulated\n",
       "Sample_20063a010_01_GTTCATTAGGCAATTA      Sample_20063a010_01_stimulated\n",
       "Sample_20063a009_01_CGGAGCTAGCTAGTGG    Sample_20063a009_01_unstimulated\n",
       "Sample_20063a010_01_ATGCGATAGCCGATTT      Sample_20063a010_01_stimulated\n",
       "Sample_20063a010_01_TCAACGAAGGTTACCT      Sample_20063a010_01_stimulated\n",
       "Name: identifier+condition, dtype: object"
      ]
     },
     "execution_count": 17,
     "metadata": {},
     "output_type": "execute_result"
    }
   ],
   "source": [
    "adata.obs['identifier+condition'] = adata.obs['identifier'].astype(str) + '_' + adata.obs['condition'].astype(str)\n",
    "adata.obs['identifier+condition'].sample(10)"
   ]
  },
  {
   "cell_type": "code",
   "execution_count": 18,
   "metadata": {},
   "outputs": [
    {
     "name": "stderr",
     "output_type": "stream",
     "text": [
      "100%|████████████████████████████████████████████████████████████████████████████████████| 2/2 [00:00<00:00, 25.06it/s]\n",
      "100%|████████████████████████████████████████████████████████████████████████████████████| 2/2 [00:00<00:00, 29.07it/s]\n"
     ]
    }
   ],
   "source": [
    "random_seed = 15\n",
    "# Create Train-Val and Test set\n",
    "train_val, test = tcr.utils.stratified_group_shuffle_split(adata.obs, stratify_col='identifier+condition', group_col='clonotype', val_split=0.15, random_seed=random_seed)\n",
    "# Split Train-Val into Train and Val set\n",
    "train, val = tcr.utils.stratified_group_shuffle_split(train_val, stratify_col='identifier+condition', group_col='clonotype', val_split=0.15, random_seed=random_seed)"
   ]
  },
  {
   "cell_type": "code",
   "execution_count": 19,
   "metadata": {},
   "outputs": [
    {
     "name": "stdout",
     "output_type": "stream",
     "text": [
      "Train Samples:  5343\n",
      "Train Ratio:  0.7959183673469388\n",
      "Val Samples:  680\n",
      "Val Ratio:  0.10129599284969462\n",
      "Test Samples:  690\n",
      "Test Ratio:  0.10278563980336661\n"
     ]
    }
   ],
   "source": [
    "print('Train Samples: ', len(train))\n",
    "print('Train Ratio: ', len(train) / len(adata.obs))\n",
    "print('Val Samples: ', len(val))\n",
    "print('Val Ratio: ', len(val) / len(adata.obs))\n",
    "print('Test Samples: ', len(test))\n",
    "print('Test Ratio: ', len(test) / len(adata.obs))"
   ]
  },
  {
   "cell_type": "markdown",
   "metadata": {},
   "source": [
    "### Visualize Distribution"
   ]
  },
  {
   "cell_type": "code",
   "execution_count": 20,
   "metadata": {},
   "outputs": [
    {
     "data": {
      "image/png": "[encoded data removed]",
      "text/plain": [
       "<Figure size 1080x360 with 1 Axes>"
      ]
     },
     "metadata": {},
     "output_type": "display_data"
    }
   ],
   "source": [
    "pl.figure(figsize=(15,5))\n",
    "pl.hist([train['identifier'], val['identifier'], test['identifier']], density=True, bins=len(train['identifier'].unique()), label=['train', 'val', 'test'])\n",
    "pl.xticks(rotation='vertical')\n",
    "pl.legend(loc='upper right')\n",
    "pl.show()"
   ]
  },
  {
   "cell_type": "code",
   "execution_count": 21,
   "metadata": {},
   "outputs": [
    {
     "data": {
      "image/png": "[encoded data removed]",
      "text/plain": [
       "<Figure size 1080x360 with 1 Axes>"
      ]
     },
     "metadata": {},
     "output_type": "display_data"
    }
   ],
   "source": [
    "pl.figure(figsize=(15,5))\n",
    "pl.hist([train['condition'], val['condition'], test['condition']], density=True, bins=len(train['condition'].unique()), label=['train', 'val', 'test'])\n",
    "pl.xticks(rotation='vertical')\n",
    "pl.legend(loc='upper right')\n",
    "pl.show()"
   ]
  },
  {
   "cell_type": "code",
   "execution_count": 22,
   "metadata": {},
   "outputs": [
    {
     "data": {
      "text/plain": [
       "train    5343\n",
       "test      690\n",
       "val       680\n",
       "Name: set, dtype: int64"
      ]
     },
     "execution_count": 22,
     "metadata": {},
     "output_type": "execute_result"
    }
   ],
   "source": [
    "adata.obs.loc[train.index, 'set'] = 'train'\n",
    "adata.obs.loc[val.index, 'set'] = 'val'\n",
    "adata.obs.loc[test.index, 'set'] = 'test'\n",
    "adata.obs['set'].value_counts()"
   ]
  },
  {
   "cell_type": "code",
   "execution_count": 23,
   "metadata": {
    "scrolled": true
   },
   "outputs": [
    {
     "name": "stderr",
     "output_type": "stream",
     "text": [
      "... storing 'TRA+TRB' as categorical\n",
      "... storing 'one_hot' as categorical\n",
      "... storing 'tcr_seq' as categorical\n",
      "... storing 'alpha_seq' as categorical\n",
      "... storing 'beta_seq' as categorical\n",
      "... storing 'identifier+condition' as categorical\n",
      "... storing 'set' as categorical\n"
     ]
    }
   ],
   "source": [
    "adata.write_h5ad(path_tcr_split, compression='gzip')"
   ]
  },
  {
   "cell_type": "markdown",
   "metadata": {},
   "source": [
    "## Highly Variable Genes"
   ]
  },
  {
   "cell_type": "markdown",
   "metadata": {},
   "source": [
    "Reduce the expression data to the 5000 most variable genes."
   ]
  },
  {
   "cell_type": "code",
   "execution_count": 24,
   "metadata": {},
   "outputs": [],
   "source": [
    "adata = sc.read_h5ad(path_tcr_split)"
   ]
  },
  {
   "cell_type": "code",
   "execution_count": 25,
   "metadata": {
    "scrolled": true
   },
   "outputs": [
    {
     "name": "stdout",
     "output_type": "stream",
     "text": [
      "Shape before:  (6713, 16598)\n",
      "Shape after:  (6713, 5000)\n"
     ]
    }
   ],
   "source": [
    "sc.pp.highly_variable_genes(adata, n_top_genes=5000, batch_key='identifier')\n",
    "print('Shape before: ', adata.shape)\n",
    "adata = adata[:, adata.var['highly_variable']]\n",
    "print('Shape after: ', adata.shape)"
   ]
  },
  {
   "cell_type": "code",
   "execution_count": 27,
   "metadata": {},
   "outputs": [],
   "source": [
    "sc.write(adata=adata, filename=path_highlyvar)"
   ]
  }
 ],
 "metadata": {
  "kernelspec": {
   "display_name": "scanpyEnv",
   "language": "python",
   "name": "scanpyenv"
  },
  "language_info": {
   "codemirror_mode": {
    "name": "ipython",
    "version": 3
   },
   "file_extension": ".py",
   "mimetype": "text/x-python",
   "name": "python",
   "nbconvert_exporter": "python",
   "pygments_lexer": "ipython3",
   "version": "3.7.9"
  }
 },
 "nbformat": 4,
 "nbformat_minor": 5
}
