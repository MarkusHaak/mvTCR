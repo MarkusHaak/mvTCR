{
 "cells": [
  {
   "cell_type": "markdown",
   "id": "single-arabic",
   "metadata": {},
   "source": [
    "# Colab Init"
   ]
  },
  {
   "cell_type": "code",
   "execution_count": 1,
   "id": "capable-gross",
   "metadata": {},
   "outputs": [],
   "source": [
    "if 'google.colab' in str(get_ipython()):\n",
    "    print('Running on Colab')\n",
    "    from google.colab import drive\n",
    "    drive.mount('/content/drive/', force_remount=True)\n",
    "    %cd /content/drive/MyDrive/tcr-embedding/example/"
   ]
  },
  {
   "cell_type": "code",
   "execution_count": 2,
   "id": "experienced-majority",
   "metadata": {},
   "outputs": [],
   "source": [
    "if 'google.colab' in str(get_ipython()):\n",
    "    !pip install comet-ml scanpy scirpy"
   ]
  },
  {
   "cell_type": "markdown",
   "id": "electoral-humidity",
   "metadata": {},
   "source": [
    "# Config"
   ]
  },
  {
   "cell_type": "code",
   "execution_count": 3,
   "id": "cognitive-bolivia",
   "metadata": {
    "id": "configured-intensity"
   },
   "outputs": [],
   "source": [
    "from comet_ml import Experiment\n",
    "import scanpy as sc\n",
    "import scirpy as ir\n",
    "import pandas as pd\n",
    "import torch\n",
    "import yaml\n",
    "import numpy as np\n",
    "import matplotlib.pyplot as plt\n",
    "from datetime import datetime"
   ]
  },
  {
   "cell_type": "code",
   "execution_count": 4,
   "id": "documentary-virus",
   "metadata": {
    "id": "downtown-actor"
   },
   "outputs": [],
   "source": [
    "import sys\n",
    "sys.path.append('../')\n",
    "import tcr_embedding as tcr"
   ]
  },
  {
   "cell_type": "code",
   "execution_count": 5,
   "id": "processed-conspiracy",
   "metadata": {},
   "outputs": [],
   "source": [
    "CONFIG_NAME = 'bigru_paper_oriented'\n",
    "current_datetime = datetime.now().strftime(\"%Y%m%d-%H.%M\")\n",
    "experiment_name = '10x_' + CONFIG_NAME + '_' + current_datetime"
   ]
  },
  {
   "cell_type": "code",
   "execution_count": 6,
   "id": "conscious-software",
   "metadata": {},
   "outputs": [
    {
     "data": {
      "text/plain": [
       "'10x_bigru_paper_oriented_20210308-14.51'"
      ]
     },
     "execution_count": 6,
     "metadata": {},
     "output_type": "execute_result"
    }
   ],
   "source": [
    "experiment_name"
   ]
  },
  {
   "cell_type": "code",
   "execution_count": 7,
   "id": "chubby-profile",
   "metadata": {
    "id": "express-apache"
   },
   "outputs": [],
   "source": [
    "%load_ext autoreload\n",
    "%autoreload 2"
   ]
  },
  {
   "cell_type": "markdown",
   "id": "studied-processor",
   "metadata": {
    "id": "defensive-mouse"
   },
   "source": [
    "# Load dataset"
   ]
  },
  {
   "cell_type": "markdown",
   "id": "manual-attribute",
   "metadata": {
    "id": "narrow-environment"
   },
   "source": [
    "### 10x Dataset"
   ]
  },
  {
   "cell_type": "code",
   "execution_count": 8,
   "id": "afraid-illinois",
   "metadata": {
    "colab": {
     "base_uri": "https://localhost:8080/"
    },
    "id": "angry-bundle",
    "outputId": "7a207357-f051-4246-9313-907c76443105"
   },
   "outputs": [
    {
     "data": {
      "text/plain": [
       "AnnData object with n_obs × n_vars = 128587 × 5000\n",
       "    obs: 'IR_VJ_1_locus', 'IR_VJ_2_locus', 'IR_VDJ_1_locus', 'IR_VDJ_2_locus', 'IR_VJ_1_cdr3', 'IR_VJ_2_cdr3', 'IR_VDJ_1_cdr3', 'IR_VDJ_2_cdr3', 'IR_VJ_1_cdr3_nt', 'IR_VJ_2_cdr3_nt', 'IR_VDJ_1_cdr3_nt', 'IR_VDJ_2_cdr3_nt', 'IR_VJ_1_expr', 'IR_VJ_2_expr', 'IR_VDJ_1_expr', 'IR_VDJ_2_expr', 'IR_VJ_1_expr_raw', 'IR_VJ_2_expr_raw', 'IR_VDJ_1_expr_raw', 'IR_VDJ_2_expr_raw', 'IR_VJ_1_v_gene', 'IR_VJ_2_v_gene', 'IR_VDJ_1_v_gene', 'IR_VDJ_2_v_gene', 'IR_VJ_1_d_gene', 'IR_VJ_2_d_gene', 'IR_VDJ_1_d_gene', 'IR_VDJ_2_d_gene', 'IR_VJ_1_j_gene', 'IR_VJ_2_j_gene', 'IR_VDJ_1_j_gene', 'IR_VDJ_2_j_gene', 'IR_VJ_1_c_gene', 'IR_VJ_2_c_gene', 'IR_VDJ_1_c_gene', 'IR_VDJ_2_c_gene', 'IR_VJ_1_junction_ins', 'IR_VJ_2_junction_ins', 'IR_VDJ_1_junction_ins', 'IR_VDJ_2_junction_ins', 'has_ir', 'multi_chain', 'barcode', 'donor', 'cell_clono_cdr3_aa', 'cell_clono_cdr3_nt', 'CD3', 'CD19', 'CD45RA', 'CD4', 'CD8a', 'CD14', 'CD45RO', 'CD279_PD-1', 'IgG1', 'IgG2a', 'IgG2b', 'CD127', 'CD197_CCR7', 'HLA-DR', 'A0101_VTEHDTLLY_IE-1_CMV', 'A0201_KTWGQYWQV_gp100_Cancer', 'A0201_ELAGIGILTV_MART-1_Cancer', 'A0201_CLLWSFQTSA_Tyrosinase_Cancer', 'A0201_IMDQVPFSV_gp100_Cancer', 'A0201_SLLMWITQV_NY-ESO-1_Cancer', 'A0201_KVAELVHFL_MAGE-A3_Cancer', 'A0201_KVLEYVIKV_MAGE-A1_Cancer', 'A0201_CLLGTYTQDV_Kanamycin-B-dioxygenase', 'A0201_LLDFVRFMGV_EBNA-3B_EBV', 'A0201_LLMGTLGIVC_HPV-16E7_82-91', 'A0201_CLGGLLTMV_LMP-2A_EBV', 'A0201_YLLEMLWRL_LMP1_EBV', 'A0201_FLYALALLL_LMP2A_EBV', 'A0201_GILGFVFTL_Flu-MP_Influenza', 'A0201_GLCTLVAML_BMLF1_EBV', 'A0201_NLVPMVATV_pp65_CMV', 'A0201_ILKEPVHGV_RT_HIV', 'A0201_FLASKIGRLV_Ca2-indepen-Plip-A2', 'A2402_CYTWNQMNL_WT1-(235-243)236M_Y', 'A0201_RTLNAWVKV_Gag-protein_HIV', 'A0201_KLQCVDLHV_PSA146-154', 'A0201_LLFGYPVYV_HTLV-1', 'A0201_SLFNTVATL_Gag-protein_HIV', 'A0201_SLYNTVATLY_Gag-protein_HIV', 'A0201_SLFNTVATLY_Gag-protein_HIV', 'A0201_RMFPNAPYL_WT-1', 'A0201_YLNDHLEPWI_BCL-X_Cancer', 'A0201_MLDLQPETT_16E7_HPV', 'A0301_KLGGALQAK_IE-1_CMV', 'A0301_RLRAEAQVK_EMNA-3A_EBV', 'A0301_RIAAWMATY_BCL-2L1_Cancer', 'A1101_IVTDFSVIK_EBNA-3B_EBV', 'A1101_AVFDRKSDAK_EBNA-3B_EBV', 'B3501_IPSINVHHY_pp65_CMV', 'A2402_AYAQKIFKI_IE-1_CMV', 'A2402_QYDPVAALF_pp65_CMV', 'B0702_QPRAPIRPI_EBNA-6_EBV', 'B0702_TPRVTGGGAM_pp65_CMV', 'B0702_RPPIFIRRL_EBNA-3A_EBV', 'B0702_RPHERNGFTVL_pp65_CMV', 'B0801_RAKFKQLL_BZLF1_EBV', 'B0801_ELRRKMMYM_IE-1_CMV', 'B0801_FLRGRAYGL_EBNA-3A_EBV', 'A0101_SLEGGGLGY_NC', 'A0101_STEGGGLAY_NC', 'A0201_ALIAPVHAV_NC', 'A2402_AYSSAGASI_NC', 'B0702_GPAESAAGL_NC', 'NR(B0801)_AAKGRGAAL_NC', 'A0101_VTEHDTLLY_IE-1_CMV_binder', 'A0201_KTWGQYWQV_gp100_Cancer_binder', 'A0201_ELAGIGILTV_MART-1_Cancer_binder', 'A0201_CLLWSFQTSA_Tyrosinase_Cancer_binder', 'A0201_IMDQVPFSV_gp100_Cancer_binder', 'A0201_SLLMWITQV_NY-ESO-1_Cancer_binder', 'A0201_KVAELVHFL_MAGE-A3_Cancer_binder', 'A0201_KVLEYVIKV_MAGE-A1_Cancer_binder', 'A0201_CLLGTYTQDV_Kanamycin-B-dioxygenase_binder', 'A0201_LLDFVRFMGV_EBNA-3B_EBV_binder', 'A0201_LLMGTLGIVC_HPV-16E7_82-91_binder', 'A0201_CLGGLLTMV_LMP-2A_EBV_binder', 'A0201_YLLEMLWRL_LMP1_EBV_binder', 'A0201_FLYALALLL_LMP2A_EBV_binder', 'A0201_GILGFVFTL_Flu-MP_Influenza_binder', 'A0201_GLCTLVAML_BMLF1_EBV_binder', 'A0201_NLVPMVATV_pp65_CMV_binder', 'A0201_ILKEPVHGV_RT_HIV_binder', 'A0201_FLASKIGRLV_Ca2-indepen-Plip-A2_binder', 'A2402_CYTWNQMNL_WT1-(235-243)236M_Y_binder', 'A0201_RTLNAWVKV_Gag-protein_HIV_binder', 'A0201_KLQCVDLHV_PSA146-154_binder', 'A0201_LLFGYPVYV_HTLV-1_binder', 'A0201_SLFNTVATL_Gag-protein_HIV_binder', 'A0201_SLYNTVATLY_Gag-protein_HIV_binder', 'A0201_SLFNTVATLY_Gag-protein_HIV_binder', 'A0201_RMFPNAPYL_WT-1_binder', 'A0201_YLNDHLEPWI_BCL-X_Cancer_binder', 'A0201_MLDLQPETT_16E7_HPV_binder', 'A0301_KLGGALQAK_IE-1_CMV_binder', 'A0301_RLRAEAQVK_EMNA-3A_EBV_binder', 'A0301_RIAAWMATY_BCL-2L1_Cancer_binder', 'A1101_IVTDFSVIK_EBNA-3B_EBV_binder', 'A1101_AVFDRKSDAK_EBNA-3B_EBV_binder', 'B3501_IPSINVHHY_pp65_CMV_binder', 'A2402_AYAQKIFKI_IE-1_CMV_binder', 'A2402_QYDPVAALF_pp65_CMV_binder', 'B0702_QPRAPIRPI_EBNA-6_EBV_binder', 'B0702_TPRVTGGGAM_pp65_CMV_binder', 'B0702_RPPIFIRRL_EBNA-3A_EBV_binder', 'B0702_RPHERNGFTVL_pp65_CMV_binder', 'B0801_RAKFKQLL_BZLF1_EBV_binder', 'B0801_ELRRKMMYM_IE-1_CMV_binder', 'B0801_FLRGRAYGL_EBNA-3A_EBV_binder', 'A0101_SLEGGGLGY_NC_binder', 'A0101_STEGGGLAY_NC_binder', 'A0201_ALIAPVHAV_NC_binder', 'A2402_AYSSAGASI_NC_binder', 'B0702_GPAESAAGL_NC_binder', 'NR(B0801)_AAKGRGAAL_NC_binder', 'n_counts', 'log_counts', 'n_genes', 'mt_fraction', 'doublet_score', 'doublet', 'louvain', 'clonotype_10x', 'TRA+TRB', 'clonotype', 'seq_len', 'one_hot', 'tcr_seq', 'has_binding', 'binding_label', 'binding_name', 'donor+binding', 'set'\n",
       "    var: 'gene_ids', 'feature_types', 'genome', 'n_cells', 'highly_variable', 'means', 'dispersions', 'dispersions_norm', 'highly_variable_nbatches', 'highly_variable_intersection'\n",
       "    uns: 'aa_to_id', 'donor_colors', 'has_ir_colors', 'hvg', 'louvain', 'louvain_colors', 'neighbors', 'pca', 'umap'\n",
       "    obsm: 'X_pca', 'X_umap', 'one_hot', 'tcr_seq'\n",
       "    varm: 'PCs'\n",
       "    obsp: 'connectivities', 'distances'"
      ]
     },
     "execution_count": 8,
     "metadata": {},
     "output_type": "execute_result"
    }
   ],
   "source": [
    "adata = sc.read_h5ad('../data/10x_CD8TC/v5_train_val_test.h5ad')\n",
    "adata"
   ]
  },
  {
   "cell_type": "markdown",
   "id": "improving-traffic",
   "metadata": {},
   "source": [
    "### Split data into train and val, filter out test set to keep it untouched"
   ]
  },
  {
   "cell_type": "code",
   "execution_count": 9,
   "id": "disabled-tobago",
   "metadata": {},
   "outputs": [
    {
     "data": {
      "text/plain": [
       "train    0.681577\n",
       "test     0.162987\n",
       "val      0.155436\n",
       "Name: set, dtype: float64"
      ]
     },
     "execution_count": 9,
     "metadata": {},
     "output_type": "execute_result"
    }
   ],
   "source": [
    "adata.obs['set'].value_counts() / len(adata)"
   ]
  },
  {
   "cell_type": "code",
   "execution_count": 10,
   "id": "hispanic-grant",
   "metadata": {},
   "outputs": [
    {
     "name": "stderr",
     "output_type": "stream",
     "text": [
      "C:\\Users\\yanga\\AppData\\Local\\Continuum\\anaconda3\\envs\\tcr\\lib\\site-packages\\pandas\\core\\arrays\\categorical.py:2487: FutureWarning: The `inplace` parameter in pandas.Categorical.remove_unused_categories is deprecated and will be removed in a future version.\n",
      "  res = method(*args, **kwargs)\n"
     ]
    },
    {
     "data": {
      "text/plain": [
       "train    0.814297\n",
       "val      0.185703\n",
       "Name: set, dtype: float64"
      ]
     },
     "execution_count": 10,
     "metadata": {},
     "output_type": "execute_result"
    }
   ],
   "source": [
    "adata = adata[adata.obs['set'] != 'test']\n",
    "adata.obs['set'].value_counts() / len(adata)"
   ]
  },
  {
   "cell_type": "code",
   "execution_count": 11,
   "id": "refined-reminder",
   "metadata": {},
   "outputs": [],
   "source": [
    "train_adata = adata[adata.obs['set'] == 'train']\n",
    "val_adata = adata[adata.obs['set'] == 'val']"
   ]
  },
  {
   "cell_type": "markdown",
   "id": "amber-november",
   "metadata": {
    "id": "tropical-toyota"
   },
   "source": [
    "# Initialize and train model"
   ]
  },
  {
   "cell_type": "code",
   "execution_count": 12,
   "id": "maritime-heritage",
   "metadata": {
    "colab": {
     "base_uri": "https://localhost:8080/"
    },
    "id": "published-reform",
    "outputId": "23825b94-ba27-40dc-e8c1-30fa6102e703"
   },
   "outputs": [
    {
     "name": "stderr",
     "output_type": "stream",
     "text": [
      "<ipython-input-12-8d8c92f489fc>:2: YAMLLoadWarning: calling yaml.load() without Loader=... is deprecated, as the default Loader is unsafe. Please read https://msg.pyyaml.org/load for full details.\n",
      "  params = yaml.load(file)\n"
     ]
    },
    {
     "data": {
      "text/plain": [
       "{'seq_model_arch': 'BiGRU',\n",
       " 'seq_model_hyperparams': {'embedding_dim': 64,\n",
       "  'hidden_size': 256,\n",
       "  'num_layers': 2,\n",
       "  'dropout': 0.1,\n",
       "  'bidirectional': True},\n",
       " 'scRNA_model_arch': 'MLP',\n",
       " 'scRNA_model_hyperparams': {'gene_hidden': [800],\n",
       "  'activation': 'leakyrelu',\n",
       "  'output_activation': 'relu',\n",
       "  'dropout': 0.2,\n",
       "  'batch_norm': True},\n",
       " 'hdim': 800,\n",
       " 'activation': 'leakyrelu',\n",
       " 'dropout': 0.2,\n",
       " 'batch_norm': True,\n",
       " 'shared_hidden': [200],\n",
       " 'zdim': 100,\n",
       " 'lr': 0.001,\n",
       " 'batch_size': 256,\n",
       " 'losses': ['MSE', 'CE'],\n",
       " 'loss_weights': [0.1, 1.0, 5e-05]}"
      ]
     },
     "execution_count": 12,
     "metadata": {},
     "output_type": "execute_result"
    }
   ],
   "source": [
    "with open(f'../config/{CONFIG_NAME}.yaml') as file:\n",
    "     params = yaml.load(file)\n",
    "params"
   ]
  },
  {
   "cell_type": "markdown",
   "id": "necessary-catalyst",
   "metadata": {},
   "source": [
    "#### If Comet ML is not wanted, set experiment=None"
   ]
  },
  {
   "cell_type": "code",
   "execution_count": 13,
   "id": "operational-emperor",
   "metadata": {
    "id": "demanding-insider"
   },
   "outputs": [
    {
     "name": "stderr",
     "output_type": "stream",
     "text": [
      "COMET INFO: Experiment is live on comet.ml https://www.comet.ml/tcr/10x-gru/9066a99889234505b92223cc76cf4c8c\n",
      "\n"
     ]
    }
   ],
   "source": [
    "with open('../comet_ml_key/API_key.txt') as f:\n",
    "    COMET_ML_KEY = f.read()\n",
    "\n",
    "experiment = Experiment(api_key=COMET_ML_KEY, workspace='tcr', project_name='10x_GRU')\n",
    "experiment.log_parameters(params)\n",
    "experiment.log_parameter('experiment_name', experiment_name)"
   ]
  },
  {
   "cell_type": "code",
   "execution_count": 14,
   "id": "given-things",
   "metadata": {
    "id": "thrown-puzzle",
    "scrolled": true
   },
   "outputs": [],
   "source": [
    "model = tcr.models.joint_model.JointModel(\n",
    "    adatas=[adata],  # adatas containing gene expression and TCR-seq\n",
    "    names=['10x'],\n",
    "    aa_to_id = adata.uns['aa_to_id'],  # dict {aa_char: id}\n",
    "    seq_model_arch=params['seq_model_arch'],  # seq model architecture\n",
    "    seq_model_hyperparams=params['seq_model_hyperparams'],  # dict of seq model hyperparameters\n",
    "    scRNA_model_arch=params['scRNA_model_arch'],\n",
    "    scRNA_model_hyperparams=params['scRNA_model_hyperparams'],\n",
    "    zdim=params['zdim'],  # zdim\n",
    "    hdim=params['hdim'],  # hidden dimension of scRNA and seq encoders\n",
    "    activation=params['activation'],  # activation function of autoencoder hidden layers\n",
    "    dropout=params['dropout'],\n",
    "    batch_norm=params['batch_norm'],\n",
    "    shared_hidden=params['shared_hidden'],  # hidden layers of shared encoder / decoder\n",
    "    gene_layers=[],  # [] or list of str for layer keys of each dataset\n",
    "    seq_keys=[]  # [] or list of str for seq keys of each dataset\n",
    ")"
   ]
  },
  {
   "cell_type": "code",
   "execution_count": 15,
   "id": "latter-arcade",
   "metadata": {
    "colab": {
     "base_uri": "https://localhost:8080/"
    },
    "id": "athletic-intellectual",
    "outputId": "5dca570c-e0d6-4360-cc33-50d13395d12b",
    "scrolled": true
   },
   "outputs": [
    {
     "data": {
      "text/plain": [
       "JointModelTorch(\n",
       "  (seq_encoder): BiGRUEncoder(\n",
       "    (embedding): Embedding(24, 64, padding_idx=0)\n",
       "    (gru): GRU(64, 256, num_layers=2, batch_first=True, dropout=0.1, bidirectional=True)\n",
       "    (output_layer): Linear(in_features=1024, out_features=800, bias=True)\n",
       "  )\n",
       "  (seq_decoder): BiGRUDecoder(\n",
       "    (embedding): Embedding(24, 64, padding_idx=0)\n",
       "    (hidden_state_layer): Linear(in_features=1600, out_features=512, bias=True)\n",
       "    (gru): GRU(64, 256, num_layers=2, batch_first=True, dropout=0.1)\n",
       "    (output_layer): Linear(in_features=256, out_features=24, bias=True)\n",
       "  )\n",
       "  (gene_encoder): MLP(\n",
       "    (network): Sequential(\n",
       "      (0): Sequential(\n",
       "        (0): Linear(in_features=5000, out_features=800, bias=False)\n",
       "        (1): BatchNorm1d(800, eps=1e-05, momentum=0.1, affine=True, track_running_stats=True)\n",
       "        (2): LeakyReLU(negative_slope=0.2, inplace=True)\n",
       "        (3): Dropout(p=0.2, inplace=False)\n",
       "      )\n",
       "      (1): Sequential(\n",
       "        (0): Linear(in_features=800, out_features=800, bias=False)\n",
       "        (1): BatchNorm1d(800, eps=1e-05, momentum=0.1, affine=True, track_running_stats=True)\n",
       "        (2): LeakyReLU(negative_slope=0.2, inplace=True)\n",
       "        (3): Dropout(p=0.2, inplace=False)\n",
       "      )\n",
       "    )\n",
       "  )\n",
       "  (gene_decoder): MLP(\n",
       "    (network): Sequential(\n",
       "      (0): Sequential(\n",
       "        (0): Linear(in_features=1600, out_features=800, bias=False)\n",
       "        (1): BatchNorm1d(800, eps=1e-05, momentum=0.1, affine=True, track_running_stats=True)\n",
       "        (2): LeakyReLU(negative_slope=0.2, inplace=True)\n",
       "        (3): Dropout(p=0.2, inplace=False)\n",
       "      )\n",
       "      (1): Sequential(\n",
       "        (0): Linear(in_features=800, out_features=5000, bias=True)\n",
       "        (1): ReLU(inplace=True)\n",
       "      )\n",
       "    )\n",
       "  )\n",
       "  (shared_encoder): MLP(\n",
       "    (network): Sequential(\n",
       "      (0): Sequential(\n",
       "        (0): Linear(in_features=1600, out_features=200, bias=False)\n",
       "        (1): BatchNorm1d(200, eps=1e-05, momentum=0.1, affine=True, track_running_stats=True)\n",
       "        (2): LeakyReLU(negative_slope=0.2, inplace=True)\n",
       "        (3): Dropout(p=0.2, inplace=False)\n",
       "      )\n",
       "      (1): Sequential(\n",
       "        (0): Linear(in_features=200, out_features=200, bias=True)\n",
       "        (1): LeakyReLU(negative_slope=0.2, inplace=True)\n",
       "      )\n",
       "    )\n",
       "  )\n",
       "  (shared_decoder): MLP(\n",
       "    (network): Sequential(\n",
       "      (0): Sequential(\n",
       "        (0): Linear(in_features=100, out_features=200, bias=False)\n",
       "        (1): BatchNorm1d(200, eps=1e-05, momentum=0.1, affine=True, track_running_stats=True)\n",
       "        (2): LeakyReLU(negative_slope=0.2, inplace=True)\n",
       "        (3): Dropout(p=0.2, inplace=False)\n",
       "      )\n",
       "      (1): Sequential(\n",
       "        (0): Linear(in_features=200, out_features=1600, bias=False)\n",
       "        (1): BatchNorm1d(1600, eps=1e-05, momentum=0.1, affine=True, track_running_stats=True)\n",
       "        (2): LeakyReLU(negative_slope=0.2, inplace=True)\n",
       "        (3): Dropout(p=0.2, inplace=False)\n",
       "      )\n",
       "    )\n",
       "  )\n",
       ")"
      ]
     },
     "execution_count": 15,
     "metadata": {},
     "output_type": "execute_result"
    }
   ],
   "source": [
    "# print model architecture\n",
    "model.model"
   ]
  },
  {
   "cell_type": "code",
   "execution_count": 16,
   "id": "exact-kinase",
   "metadata": {
    "colab": {
     "base_uri": "https://localhost:8080/"
    },
    "id": "tracked-luther",
    "outputId": "b5282313-441d-4e50-b5a2-28e38f48d2f7",
    "scrolled": true
   },
   "outputs": [
    {
     "name": "stdout",
     "output_type": "stream",
     "text": [
      "Create Dataloader\n",
      "Dataloader created\n"
     ]
    },
    {
     "name": "stderr",
     "output_type": "stream",
     "text": [
      "\r",
      "Epoch:   0%|                                                                                     | 0/6 [00:00<?, ?it/s]"
     ]
    },
    {
     "name": "stdout",
     "output_type": "stream",
     "text": [
      "\n",
      "\n",
      "Val Loss: 1.710431456565857\n",
      "Val scRNA Loss: 0.011543037369847298\n",
      "Val TCR Loss: 1.691283106803894\n",
      "Val KLD Loss: 0.007605445571243763\n"
     ]
    },
    {
     "name": "stderr",
     "output_type": "stream",
     "text": [
      "Epoch:  83%|████████████████████████████████████████████████████████████████▏            | 5/6 [04:03<00:46, 46.04s/it]"
     ]
    },
    {
     "name": "stdout",
     "output_type": "stream",
     "text": [
      "\n",
      "\n",
      "Val Loss: 1.379727840423584\n",
      "Val scRNA Loss: 0.011470748111605644\n",
      "Val TCR Loss: 1.3587263822555542\n",
      "Val KLD Loss: 0.009530678391456604\n"
     ]
    },
    {
     "name": "stderr",
     "output_type": "stream",
     "text": [
      "Epoch: 100%|█████████████████████████████████████████████████████████████████████████████| 6/6 [04:51<00:00, 48.51s/it]\n"
     ]
    }
   ],
   "source": [
    "model.train(\n",
    "    experiment_name=experiment_name,\n",
    "    n_iters=None,\n",
    "    n_epochs=500,\n",
    "    batch_size=params['batch_size'],\n",
    "    lr=params['lr'],\n",
    "    losses=params['losses'],  # list of losses for each modality: losses[0] := scRNA, losses[1] := TCR\n",
    "    loss_weights=params['loss_weights'],  # [] or list of floats storing weighting of loss in order [scRNA, TCR, KLD]\n",
    "    val_split='set',  # float or str, if float: split is determined automatically, if str: used as key for train-val column\n",
    "    metadata=[],\n",
    "    validate_every=5,\n",
    "    print_every=5,\n",
    "    save_every=25,\n",
    "    num_workers=0,\n",
    "    verbose=1,  # 0: only tdqm progress bar, 1: val loss, 2: train and val loss\n",
    "#     continue_training=True,\n",
    "    device=None,\n",
    "    comet=experiment\n",
    ")"
   ]
  },
  {
   "cell_type": "code",
   "execution_count": 17,
   "id": "informative-fashion",
   "metadata": {
    "id": "corresponding-knock"
   },
   "outputs": [
    {
     "data": {
      "text/html": [
       "<div>\n",
       "<style scoped>\n",
       "    .dataframe tbody tr th:only-of-type {\n",
       "        vertical-align: middle;\n",
       "    }\n",
       "\n",
       "    .dataframe tbody tr th {\n",
       "        vertical-align: top;\n",
       "    }\n",
       "\n",
       "    .dataframe thead th {\n",
       "        text-align: right;\n",
       "    }\n",
       "</style>\n",
       "<table border=\"1\" class=\"dataframe\">\n",
       "  <thead>\n",
       "    <tr style=\"text-align: right;\">\n",
       "      <th></th>\n",
       "      <th>epoch</th>\n",
       "      <th>loss</th>\n",
       "      <th>scRNA_loss</th>\n",
       "      <th>TCR_loss</th>\n",
       "      <th>KLD_loss</th>\n",
       "    </tr>\n",
       "  </thead>\n",
       "  <tbody>\n",
       "    <tr>\n",
       "      <th>0</th>\n",
       "      <td>0</td>\n",
       "      <td>1.710431</td>\n",
       "      <td>0.011543</td>\n",
       "      <td>1.691283</td>\n",
       "      <td>0.007605</td>\n",
       "    </tr>\n",
       "    <tr>\n",
       "      <th>1</th>\n",
       "      <td>5</td>\n",
       "      <td>1.379728</td>\n",
       "      <td>0.011471</td>\n",
       "      <td>1.358726</td>\n",
       "      <td>0.009531</td>\n",
       "    </tr>\n",
       "  </tbody>\n",
       "</table>\n",
       "</div>"
      ],
      "text/plain": [
       "   epoch      loss  scRNA_loss  TCR_loss  KLD_loss\n",
       "0      0  1.710431    0.011543  1.691283  0.007605\n",
       "1      5  1.379728    0.011471  1.358726  0.009531"
      ]
     },
     "execution_count": 17,
     "metadata": {},
     "output_type": "execute_result"
    }
   ],
   "source": [
    "model.history"
   ]
  },
  {
   "cell_type": "code",
   "execution_count": 18,
   "id": "difficult-lucas",
   "metadata": {
    "id": "Bu6jOgU3Yffx"
   },
   "outputs": [
    {
     "data": {
      "text/html": [
       "<div>\n",
       "<style scoped>\n",
       "    .dataframe tbody tr th:only-of-type {\n",
       "        vertical-align: middle;\n",
       "    }\n",
       "\n",
       "    .dataframe tbody tr th {\n",
       "        vertical-align: top;\n",
       "    }\n",
       "\n",
       "    .dataframe thead th {\n",
       "        text-align: right;\n",
       "    }\n",
       "</style>\n",
       "<table border=\"1\" class=\"dataframe\">\n",
       "  <thead>\n",
       "    <tr style=\"text-align: right;\">\n",
       "      <th></th>\n",
       "      <th>epoch</th>\n",
       "      <th>loss</th>\n",
       "      <th>scRNA_loss</th>\n",
       "      <th>TCR_loss</th>\n",
       "      <th>KLD_loss</th>\n",
       "    </tr>\n",
       "  </thead>\n",
       "  <tbody>\n",
       "    <tr>\n",
       "      <th>0</th>\n",
       "      <td>0</td>\n",
       "      <td>1.691471</td>\n",
       "      <td>0.012084</td>\n",
       "      <td>1.672554</td>\n",
       "      <td>0.006833</td>\n",
       "    </tr>\n",
       "    <tr>\n",
       "      <th>1</th>\n",
       "      <td>5</td>\n",
       "      <td>0.879610</td>\n",
       "      <td>0.011324</td>\n",
       "      <td>0.858955</td>\n",
       "      <td>0.009332</td>\n",
       "    </tr>\n",
       "  </tbody>\n",
       "</table>\n",
       "</div>"
      ],
      "text/plain": [
       "   epoch      loss  scRNA_loss  TCR_loss  KLD_loss\n",
       "0      0  1.691471    0.012084  1.672554  0.006833\n",
       "1      5  0.879610    0.011324  0.858955  0.009332"
      ]
     },
     "execution_count": 18,
     "metadata": {},
     "output_type": "execute_result"
    }
   ],
   "source": [
    "model.train_history"
   ]
  },
  {
   "cell_type": "code",
   "execution_count": 19,
   "id": "alike-compilation",
   "metadata": {
    "id": "S1JnaLq-XYTH"
   },
   "outputs": [
    {
     "data": {
      "image/png": "[encoded data removed]",
      "text/plain": [
       "<Figure size 1080x720 with 4 Axes>"
      ]
     },
     "metadata": {
      "needs_background": "light"
     },
     "output_type": "display_data"
    }
   ],
   "source": [
    "import matplotlib.pyplot as plt\n",
    "plt.figure(figsize=(15, 10));\n",
    "plt.subplot(221);\n",
    "plt.plot(model.train_history['epoch'], model.train_history['loss'], '.-', label='Train loss');\n",
    "plt.plot(model.history['epoch'], model.history['loss'], '.-', label='Val loss');\n",
    "plt.legend();\n",
    "\n",
    "plt.subplot(222);\n",
    "plt.plot(model.train_history['epoch'], model.train_history['scRNA_loss'], '.-', label='Train scRNA loss');\n",
    "plt.plot(model.history['epoch'], model.history['scRNA_loss'], '.-', label='Val scRNA loss');\n",
    "plt.legend();\n",
    "\n",
    "plt.subplot(223);\n",
    "plt.plot(model.train_history['epoch'], model.train_history['TCR_loss'], '.-', label='Train TCR loss');\n",
    "plt.plot(model.history['epoch'], model.history['TCR_loss'], '.-', label='Val TCR loss');\n",
    "plt.xlabel('#Epochs');\n",
    "plt.legend();\n",
    "\n",
    "plt.subplot(224);\n",
    "plt.plot(model.train_history['epoch'], model.train_history['KLD_loss'], '.-', label='Train KLD loss');\n",
    "plt.plot(model.history['epoch'], model.history['KLD_loss'], '.-', label='Val KLD loss');\n",
    "plt.xlabel('#');\n",
    "plt.legend();\n"
   ]
  },
  {
   "cell_type": "markdown",
   "id": "hundred-exhibition",
   "metadata": {
    "id": "distant-paragraph"
   },
   "source": [
    "# UMAP Plot of latent space"
   ]
  },
  {
   "cell_type": "code",
   "execution_count": 20,
   "id": "built-architecture",
   "metadata": {},
   "outputs": [],
   "source": [
    "# List of antigens from David Fischer's paper, basically the 8 most common antigens\n",
    "high_antigen_count = ['A0201_ELAGIGILTV_MART-1_Cancer_binder', \n",
    "                      'A0201_GILGFVFTL_Flu-MP_Influenza_binder', \n",
    "                      'A0201_GLCTLVAML_BMLF1_EBV_binder', \n",
    "                      'A0301_KLGGALQAK_IE-1_CMV_binder', \n",
    "                      'A0301_RLRAEAQVK_EMNA-3A_EBV_binder', \n",
    "                      'A1101_IVTDFSVIK_EBNA-3B_EBV_binder', \n",
    "                      'A1101_AVFDRKSDAK_EBNA-3B_EBV_binder', \n",
    "                      'B0801_RAKFKQLL_BZLF1_EBV_binder']"
   ]
  },
  {
   "cell_type": "markdown",
   "id": "northern-roulette",
   "metadata": {
    "id": "m-ATVz3hPoRp"
   },
   "source": [
    "### On Val Data"
   ]
  },
  {
   "cell_type": "markdown",
   "id": "fossil-collect",
   "metadata": {
    "id": "GODttFyxTILu"
   },
   "source": [
    "Filter cells with no binding data and only UMAP on high count antigen bindings"
   ]
  },
  {
   "cell_type": "code",
   "execution_count": 21,
   "id": "distinct-manchester",
   "metadata": {
    "id": "j_-64u1GCqHz"
   },
   "outputs": [
    {
     "name": "stderr",
     "output_type": "stream",
     "text": [
      "C:\\Users\\yanga\\AppData\\Local\\Continuum\\anaconda3\\envs\\tcr\\lib\\site-packages\\pandas\\core\\arrays\\categorical.py:2487: FutureWarning: The `inplace` parameter in pandas.Categorical.remove_unused_categories is deprecated and will be removed in a future version.\n",
      "  res = method(*args, **kwargs)\n"
     ]
    }
   ],
   "source": [
    "val_adata = val_adata[val_adata.obs['has_binding']]"
   ]
  },
  {
   "cell_type": "code",
   "execution_count": 22,
   "id": "diverse-monday",
   "metadata": {
    "id": "mLjWLs1xC2HG",
    "scrolled": false
   },
   "outputs": [
    {
     "data": {
      "text/plain": [
       "A0301_KLGGALQAK_IE-1_CMV_binder                4228\n",
       "B0801_RAKFKQLL_BZLF1_EBV_binder                1344\n",
       "A1101_AVFDRKSDAK_EBNA-3B_EBV_binder            1211\n",
       "A0201_GILGFVFTL_Flu-MP_Influenza_binder        1000\n",
       "A1101_IVTDFSVIK_EBNA-3B_EBV_binder              150\n",
       "A0201_GLCTLVAML_BMLF1_EBV_binder                 84\n",
       "A0301_RLRAEAQVK_EMNA-3A_EBV_binder               59\n",
       "A0201_ELAGIGILTV_MART-1_Cancer_binder            48\n",
       "A0201_FLYALALLL_LMP2A_EBV_binder                 31\n",
       "B0801_FLRGRAYGL_EBNA-3A_EBV_binder               22\n",
       "A0201_LLDFVRFMGV_EBNA-3B_EBV_binder               7\n",
       "A2402_AYAQKIFKI_IE-1_CMV_binder                   6\n",
       "A0201_SLFNTVATLY_Gag-protein_HIV_binder           6\n",
       "A0201_RTLNAWVKV_Gag-protein_HIV_binder            6\n",
       "A0201_LLFGYPVYV_HTLV-1_binder                     5\n",
       "A0201_FLASKIGRLV_Ca2-indepen-Plip-A2_binder       4\n",
       "A0201_KTWGQYWQV_gp100_Cancer_binder               3\n",
       "A0201_MLDLQPETT_16E7_HPV_binder                   2\n",
       "A0201_KVLEYVIKV_MAGE-A1_Cancer_binder             2\n",
       "A2402_CYTWNQMNL_WT1-(235-243)236M_Y_binder        2\n",
       "A0201_IMDQVPFSV_gp100_Cancer_binder               2\n",
       "A0201_SLLMWITQV_NY-ESO-1_Cancer_binder            1\n",
       "A0201_YLLEMLWRL_LMP1_EBV_binder                   1\n",
       "A0201_YLNDHLEPWI_BCL-X_Cancer_binder              1\n",
       "A0201_RMFPNAPYL_WT-1_binder                       1\n",
       "B3501_IPSINVHHY_pp65_CMV_binder                   1\n",
       "Name: binding_name, dtype: int64"
      ]
     },
     "execution_count": 22,
     "metadata": {},
     "output_type": "execute_result"
    }
   ],
   "source": [
    "val_adata.obs['binding_name'].value_counts()"
   ]
  },
  {
   "cell_type": "code",
   "execution_count": 23,
   "id": "described-tunisia",
   "metadata": {
    "id": "XYT85hYWDGR0"
   },
   "outputs": [
    {
     "data": {
      "text/plain": [
       "View of AnnData object with n_obs × n_vars = 8227 × 5000\n",
       "    obs: 'IR_VJ_1_locus', 'IR_VJ_2_locus', 'IR_VDJ_1_locus', 'IR_VDJ_2_locus', 'IR_VJ_1_cdr3', 'IR_VJ_2_cdr3', 'IR_VDJ_1_cdr3', 'IR_VDJ_2_cdr3', 'IR_VJ_1_cdr3_nt', 'IR_VJ_2_cdr3_nt', 'IR_VDJ_1_cdr3_nt', 'IR_VDJ_2_cdr3_nt', 'IR_VJ_1_expr', 'IR_VJ_2_expr', 'IR_VDJ_1_expr', 'IR_VDJ_2_expr', 'IR_VJ_1_expr_raw', 'IR_VJ_2_expr_raw', 'IR_VDJ_1_expr_raw', 'IR_VDJ_2_expr_raw', 'IR_VJ_1_v_gene', 'IR_VJ_2_v_gene', 'IR_VDJ_1_v_gene', 'IR_VDJ_2_v_gene', 'IR_VJ_1_d_gene', 'IR_VJ_2_d_gene', 'IR_VDJ_1_d_gene', 'IR_VDJ_2_d_gene', 'IR_VJ_1_j_gene', 'IR_VJ_2_j_gene', 'IR_VDJ_1_j_gene', 'IR_VDJ_2_j_gene', 'IR_VJ_1_c_gene', 'IR_VJ_2_c_gene', 'IR_VDJ_1_c_gene', 'IR_VDJ_2_c_gene', 'IR_VJ_1_junction_ins', 'IR_VJ_2_junction_ins', 'IR_VDJ_1_junction_ins', 'IR_VDJ_2_junction_ins', 'has_ir', 'multi_chain', 'barcode', 'donor', 'cell_clono_cdr3_aa', 'cell_clono_cdr3_nt', 'CD3', 'CD19', 'CD45RA', 'CD4', 'CD8a', 'CD14', 'CD45RO', 'CD279_PD-1', 'IgG1', 'IgG2a', 'IgG2b', 'CD127', 'CD197_CCR7', 'HLA-DR', 'A0101_VTEHDTLLY_IE-1_CMV', 'A0201_KTWGQYWQV_gp100_Cancer', 'A0201_ELAGIGILTV_MART-1_Cancer', 'A0201_CLLWSFQTSA_Tyrosinase_Cancer', 'A0201_IMDQVPFSV_gp100_Cancer', 'A0201_SLLMWITQV_NY-ESO-1_Cancer', 'A0201_KVAELVHFL_MAGE-A3_Cancer', 'A0201_KVLEYVIKV_MAGE-A1_Cancer', 'A0201_CLLGTYTQDV_Kanamycin-B-dioxygenase', 'A0201_LLDFVRFMGV_EBNA-3B_EBV', 'A0201_LLMGTLGIVC_HPV-16E7_82-91', 'A0201_CLGGLLTMV_LMP-2A_EBV', 'A0201_YLLEMLWRL_LMP1_EBV', 'A0201_FLYALALLL_LMP2A_EBV', 'A0201_GILGFVFTL_Flu-MP_Influenza', 'A0201_GLCTLVAML_BMLF1_EBV', 'A0201_NLVPMVATV_pp65_CMV', 'A0201_ILKEPVHGV_RT_HIV', 'A0201_FLASKIGRLV_Ca2-indepen-Plip-A2', 'A2402_CYTWNQMNL_WT1-(235-243)236M_Y', 'A0201_RTLNAWVKV_Gag-protein_HIV', 'A0201_KLQCVDLHV_PSA146-154', 'A0201_LLFGYPVYV_HTLV-1', 'A0201_SLFNTVATL_Gag-protein_HIV', 'A0201_SLYNTVATLY_Gag-protein_HIV', 'A0201_SLFNTVATLY_Gag-protein_HIV', 'A0201_RMFPNAPYL_WT-1', 'A0201_YLNDHLEPWI_BCL-X_Cancer', 'A0201_MLDLQPETT_16E7_HPV', 'A0301_KLGGALQAK_IE-1_CMV', 'A0301_RLRAEAQVK_EMNA-3A_EBV', 'A0301_RIAAWMATY_BCL-2L1_Cancer', 'A1101_IVTDFSVIK_EBNA-3B_EBV', 'A1101_AVFDRKSDAK_EBNA-3B_EBV', 'B3501_IPSINVHHY_pp65_CMV', 'A2402_AYAQKIFKI_IE-1_CMV', 'A2402_QYDPVAALF_pp65_CMV', 'B0702_QPRAPIRPI_EBNA-6_EBV', 'B0702_TPRVTGGGAM_pp65_CMV', 'B0702_RPPIFIRRL_EBNA-3A_EBV', 'B0702_RPHERNGFTVL_pp65_CMV', 'B0801_RAKFKQLL_BZLF1_EBV', 'B0801_ELRRKMMYM_IE-1_CMV', 'B0801_FLRGRAYGL_EBNA-3A_EBV', 'A0101_SLEGGGLGY_NC', 'A0101_STEGGGLAY_NC', 'A0201_ALIAPVHAV_NC', 'A2402_AYSSAGASI_NC', 'B0702_GPAESAAGL_NC', 'NR(B0801)_AAKGRGAAL_NC', 'A0101_VTEHDTLLY_IE-1_CMV_binder', 'A0201_KTWGQYWQV_gp100_Cancer_binder', 'A0201_ELAGIGILTV_MART-1_Cancer_binder', 'A0201_CLLWSFQTSA_Tyrosinase_Cancer_binder', 'A0201_IMDQVPFSV_gp100_Cancer_binder', 'A0201_SLLMWITQV_NY-ESO-1_Cancer_binder', 'A0201_KVAELVHFL_MAGE-A3_Cancer_binder', 'A0201_KVLEYVIKV_MAGE-A1_Cancer_binder', 'A0201_CLLGTYTQDV_Kanamycin-B-dioxygenase_binder', 'A0201_LLDFVRFMGV_EBNA-3B_EBV_binder', 'A0201_LLMGTLGIVC_HPV-16E7_82-91_binder', 'A0201_CLGGLLTMV_LMP-2A_EBV_binder', 'A0201_YLLEMLWRL_LMP1_EBV_binder', 'A0201_FLYALALLL_LMP2A_EBV_binder', 'A0201_GILGFVFTL_Flu-MP_Influenza_binder', 'A0201_GLCTLVAML_BMLF1_EBV_binder', 'A0201_NLVPMVATV_pp65_CMV_binder', 'A0201_ILKEPVHGV_RT_HIV_binder', 'A0201_FLASKIGRLV_Ca2-indepen-Plip-A2_binder', 'A2402_CYTWNQMNL_WT1-(235-243)236M_Y_binder', 'A0201_RTLNAWVKV_Gag-protein_HIV_binder', 'A0201_KLQCVDLHV_PSA146-154_binder', 'A0201_LLFGYPVYV_HTLV-1_binder', 'A0201_SLFNTVATL_Gag-protein_HIV_binder', 'A0201_SLYNTVATLY_Gag-protein_HIV_binder', 'A0201_SLFNTVATLY_Gag-protein_HIV_binder', 'A0201_RMFPNAPYL_WT-1_binder', 'A0201_YLNDHLEPWI_BCL-X_Cancer_binder', 'A0201_MLDLQPETT_16E7_HPV_binder', 'A0301_KLGGALQAK_IE-1_CMV_binder', 'A0301_RLRAEAQVK_EMNA-3A_EBV_binder', 'A0301_RIAAWMATY_BCL-2L1_Cancer_binder', 'A1101_IVTDFSVIK_EBNA-3B_EBV_binder', 'A1101_AVFDRKSDAK_EBNA-3B_EBV_binder', 'B3501_IPSINVHHY_pp65_CMV_binder', 'A2402_AYAQKIFKI_IE-1_CMV_binder', 'A2402_QYDPVAALF_pp65_CMV_binder', 'B0702_QPRAPIRPI_EBNA-6_EBV_binder', 'B0702_TPRVTGGGAM_pp65_CMV_binder', 'B0702_RPPIFIRRL_EBNA-3A_EBV_binder', 'B0702_RPHERNGFTVL_pp65_CMV_binder', 'B0801_RAKFKQLL_BZLF1_EBV_binder', 'B0801_ELRRKMMYM_IE-1_CMV_binder', 'B0801_FLRGRAYGL_EBNA-3A_EBV_binder', 'A0101_SLEGGGLGY_NC_binder', 'A0101_STEGGGLAY_NC_binder', 'A0201_ALIAPVHAV_NC_binder', 'A2402_AYSSAGASI_NC_binder', 'B0702_GPAESAAGL_NC_binder', 'NR(B0801)_AAKGRGAAL_NC_binder', 'n_counts', 'log_counts', 'n_genes', 'mt_fraction', 'doublet_score', 'doublet', 'louvain', 'clonotype_10x', 'TRA+TRB', 'clonotype', 'seq_len', 'one_hot', 'tcr_seq', 'has_binding', 'binding_label', 'binding_name', 'donor+binding', 'set'\n",
       "    var: 'gene_ids', 'feature_types', 'genome', 'n_cells', 'highly_variable', 'means', 'dispersions', 'dispersions_norm', 'highly_variable_nbatches', 'highly_variable_intersection'\n",
       "    uns: 'aa_to_id', 'donor_colors', 'has_ir_colors', 'hvg', 'louvain', 'louvain_colors', 'neighbors', 'pca', 'umap'\n",
       "    obsm: 'X_pca', 'X_umap', 'one_hot', 'tcr_seq'\n",
       "    varm: 'PCs'\n",
       "    obsp: 'connectivities', 'distances'"
      ]
     },
     "execution_count": 23,
     "metadata": {},
     "output_type": "execute_result"
    }
   ],
   "source": [
    "val_adata"
   ]
  },
  {
   "cell_type": "markdown",
   "id": "waiting-jersey",
   "metadata": {
    "id": "n9-iuP8gTQq6"
   },
   "source": [
    "Use last saved model"
   ]
  },
  {
   "cell_type": "code",
   "execution_count": 24,
   "id": "violent-chemistry",
   "metadata": {
    "id": "tC4CLsjzQ9Hb"
   },
   "outputs": [],
   "source": [
    "model.load(f'../saved_models/{experiment_name}_last_model.pt')"
   ]
  },
  {
   "cell_type": "code",
   "execution_count": 25,
   "id": "modern-hawaiian",
   "metadata": {
    "id": "caroline-quest"
   },
   "outputs": [
    {
     "name": "stderr",
     "output_type": "stream",
     "text": [
      "Batch: 100%|███████████████████████████████████████████████████████████████████████████| 33/33 [00:01<00:00, 19.95it/s]\n"
     ]
    }
   ],
   "source": [
    "z = model.get_latent(\n",
    "    adatas=[val_adata],\n",
    "    names=['10x'],\n",
    "    batch_size=256,\n",
    "    num_workers=0,\n",
    "    gene_layers=[],\n",
    "    seq_keys=[],\n",
    "    metadata=high_antigen_count + ['binding_name']\n",
    ")"
   ]
  },
  {
   "cell_type": "code",
   "execution_count": 26,
   "id": "better-involvement",
   "metadata": {
    "id": "bulgarian-touch"
   },
   "outputs": [
    {
     "data": {
      "text/plain": [
       "AnnData object with n_obs × n_vars = 8227 × 100\n",
       "    obs: 'barcode', 'dataset', 'A0201_ELAGIGILTV_MART-1_Cancer_binder', 'A0201_GILGFVFTL_Flu-MP_Influenza_binder', 'A0201_GLCTLVAML_BMLF1_EBV_binder', 'A0301_KLGGALQAK_IE-1_CMV_binder', 'A0301_RLRAEAQVK_EMNA-3A_EBV_binder', 'A1101_IVTDFSVIK_EBNA-3B_EBV_binder', 'A1101_AVFDRKSDAK_EBNA-3B_EBV_binder', 'B0801_RAKFKQLL_BZLF1_EBV_binder', 'binding_name', 'batch'"
      ]
     },
     "execution_count": 26,
     "metadata": {},
     "output_type": "execute_result"
    }
   ],
   "source": [
    "z"
   ]
  },
  {
   "cell_type": "code",
   "execution_count": 27,
   "id": "incident-increase",
   "metadata": {
    "id": "operational-asbestos"
   },
   "outputs": [],
   "source": [
    "sc.pp.neighbors(z, use_rep='X')\n",
    "sc.tl.umap(z)"
   ]
  },
  {
   "cell_type": "code",
   "execution_count": 28,
   "id": "major-leader",
   "metadata": {
    "id": "JWQUhq8hAUGA"
   },
   "outputs": [
    {
     "name": "stderr",
     "output_type": "stream",
     "text": [
      "... storing 'dataset' as categorical\n",
      "... storing 'A0201_ELAGIGILTV_MART-1_Cancer_binder' as categorical\n",
      "... storing 'A0201_GILGFVFTL_Flu-MP_Influenza_binder' as categorical\n",
      "... storing 'A0201_GLCTLVAML_BMLF1_EBV_binder' as categorical\n",
      "... storing 'A0301_KLGGALQAK_IE-1_CMV_binder' as categorical\n",
      "... storing 'A0301_RLRAEAQVK_EMNA-3A_EBV_binder' as categorical\n",
      "... storing 'A1101_IVTDFSVIK_EBNA-3B_EBV_binder' as categorical\n",
      "... storing 'A1101_AVFDRKSDAK_EBNA-3B_EBV_binder' as categorical\n",
      "... storing 'B0801_RAKFKQLL_BZLF1_EBV_binder' as categorical\n",
      "... storing 'binding_name' as categorical\n",
      "C:\\Users\\yanga\\AppData\\Local\\Continuum\\anaconda3\\envs\\tcr\\lib\\site-packages\\pandas\\core\\arrays\\categorical.py:2487: FutureWarning: The `inplace` parameter in pandas.Categorical.remove_unused_categories is deprecated and will be removed in a future version.\n",
      "  res = method(*args, **kwargs)\n",
      "Trying to set attribute `.uns` of view, copying.\n"
     ]
    },
    {
     "data": {
      "text/plain": [
       "{'web': 'https://www.comet.ml/api/image/download?imageId=3cbbb4de3fa341c3aa13ae77f67dd7a7&experimentKey=9066a99889234505b92223cc76cf4c8c',\n",
       " 'api': 'https://www.comet.ml/api/rest/v1/image/get-image?imageId=3cbbb4de3fa341c3aa13ae77f67dd7a7&experimentKey=9066a99889234505b92223cc76cf4c8c',\n",
       " 'imageId': '3cbbb4de3fa341c3aa13ae77f67dd7a7'}"
      ]
     },
     "execution_count": 28,
     "metadata": {},
     "output_type": "execute_result"
    },
    {
     "data": {
      "text/plain": [
       "<Figure size 432x288 with 0 Axes>"
      ]
     },
     "metadata": {},
     "output_type": "display_data"
    },
    {
     "data": {
      "text/plain": [
       "<Figure size 432x288 with 0 Axes>"
      ]
     },
     "metadata": {},
     "output_type": "display_data"
    },
    {
     "data": {
      "text/plain": [
       "<Figure size 432x288 with 0 Axes>"
      ]
     },
     "metadata": {},
     "output_type": "display_data"
    },
    {
     "data": {
      "text/plain": [
       "<Figure size 432x288 with 0 Axes>"
      ]
     },
     "metadata": {},
     "output_type": "display_data"
    },
    {
     "data": {
      "text/plain": [
       "<Figure size 432x288 with 0 Axes>"
      ]
     },
     "metadata": {},
     "output_type": "display_data"
    },
    {
     "data": {
      "text/plain": [
       "<Figure size 432x288 with 0 Axes>"
      ]
     },
     "metadata": {},
     "output_type": "display_data"
    },
    {
     "data": {
      "text/plain": [
       "<Figure size 432x288 with 0 Axes>"
      ]
     },
     "metadata": {},
     "output_type": "display_data"
    },
    {
     "data": {
      "text/plain": [
       "<Figure size 432x288 with 0 Axes>"
      ]
     },
     "metadata": {},
     "output_type": "display_data"
    },
    {
     "data": {
      "image/png": "[encoded data removed]",
      "text/plain": [
       "<Figure size 576x345.6 with 1 Axes>"
      ]
     },
     "metadata": {},
     "output_type": "display_data"
    }
   ],
   "source": [
    "for antigen in high_antigen_count:\n",
    "    ax = sc.pl.umap(z, color=antigen, return_fig=True, alpha=0.3)\n",
    "    ax.tight_layout()\n",
    "    experiment.log_figure(figure_name=f'val_{antigen}', figure=ax, step=model.epoch, overwrite=False)\n",
    "    ax.clf()\n",
    "ax = sc.pl.umap(z[z.obs['binding_name'].isin(high_antigen_count)], color='binding_name', return_fig=True, alpha=0.4)\n",
    "ax.set_size_inches(8, 4.8)\n",
    "ax.tight_layout()\n",
    "experiment.log_figure(figure_name=f'val_binding_name', figure=ax, step=model.epoch, overwrite=False)"
   ]
  },
  {
   "cell_type": "markdown",
   "id": "major-somalia",
   "metadata": {
    "id": "qTwsztzqTS-D"
   },
   "source": [
    "Use \"best\" saved model (currently based on val_loss)"
   ]
  },
  {
   "cell_type": "code",
   "execution_count": 29,
   "id": "knowing-happening",
   "metadata": {
    "id": "jbTQz4Q5AUGI"
   },
   "outputs": [],
   "source": [
    "model.load(f'../saved_models/{experiment_name}_best_model.pt')"
   ]
  },
  {
   "cell_type": "code",
   "execution_count": 30,
   "id": "limiting-separation",
   "metadata": {
    "id": "pAs2i7HYAUGJ"
   },
   "outputs": [
    {
     "name": "stderr",
     "output_type": "stream",
     "text": [
      "Batch: 100%|███████████████████████████████████████████████████████████████████████████| 33/33 [00:01<00:00, 20.97it/s]\n"
     ]
    }
   ],
   "source": [
    "z = model.get_latent(\n",
    "    adatas=[val_adata],\n",
    "    names=['10x'],\n",
    "    batch_size=256,\n",
    "    num_workers=0,\n",
    "    gene_layers=[],\n",
    "    seq_keys=[],\n",
    "    metadata=high_antigen_count + ['binding_name']\n",
    ")"
   ]
  },
  {
   "cell_type": "code",
   "execution_count": 31,
   "id": "realistic-remains",
   "metadata": {
    "id": "6UahFjg-AUGJ"
   },
   "outputs": [],
   "source": [
    "sc.pp.neighbors(z, use_rep='X')\n",
    "sc.tl.umap(z)"
   ]
  },
  {
   "cell_type": "code",
   "execution_count": 32,
   "id": "universal-comfort",
   "metadata": {
    "id": "vSB0qh1EAUGJ"
   },
   "outputs": [
    {
     "name": "stderr",
     "output_type": "stream",
     "text": [
      "... storing 'dataset' as categorical\n",
      "... storing 'A0201_ELAGIGILTV_MART-1_Cancer_binder' as categorical\n",
      "... storing 'A0201_GILGFVFTL_Flu-MP_Influenza_binder' as categorical\n",
      "... storing 'A0201_GLCTLVAML_BMLF1_EBV_binder' as categorical\n",
      "... storing 'A0301_KLGGALQAK_IE-1_CMV_binder' as categorical\n",
      "... storing 'A0301_RLRAEAQVK_EMNA-3A_EBV_binder' as categorical\n",
      "... storing 'A1101_IVTDFSVIK_EBNA-3B_EBV_binder' as categorical\n",
      "... storing 'A1101_AVFDRKSDAK_EBNA-3B_EBV_binder' as categorical\n",
      "... storing 'B0801_RAKFKQLL_BZLF1_EBV_binder' as categorical\n",
      "... storing 'binding_name' as categorical\n",
      "C:\\Users\\yanga\\AppData\\Local\\Continuum\\anaconda3\\envs\\tcr\\lib\\site-packages\\pandas\\core\\arrays\\categorical.py:2487: FutureWarning: The `inplace` parameter in pandas.Categorical.remove_unused_categories is deprecated and will be removed in a future version.\n",
      "  res = method(*args, **kwargs)\n",
      "Trying to set attribute `.uns` of view, copying.\n"
     ]
    },
    {
     "data": {
      "text/plain": [
       "{'web': 'https://www.comet.ml/api/image/download?imageId=c374fc49298842ed88ab1ceed047af6d&experimentKey=9066a99889234505b92223cc76cf4c8c',\n",
       " 'api': 'https://www.comet.ml/api/rest/v1/image/get-image?imageId=c374fc49298842ed88ab1ceed047af6d&experimentKey=9066a99889234505b92223cc76cf4c8c',\n",
       " 'imageId': 'c374fc49298842ed88ab1ceed047af6d'}"
      ]
     },
     "execution_count": 32,
     "metadata": {},
     "output_type": "execute_result"
    },
    {
     "data": {
      "text/plain": [
       "<Figure size 432x288 with 0 Axes>"
      ]
     },
     "metadata": {},
     "output_type": "display_data"
    },
    {
     "data": {
      "text/plain": [
       "<Figure size 432x288 with 0 Axes>"
      ]
     },
     "metadata": {},
     "output_type": "display_data"
    },
    {
     "data": {
      "text/plain": [
       "<Figure size 432x288 with 0 Axes>"
      ]
     },
     "metadata": {},
     "output_type": "display_data"
    },
    {
     "data": {
      "text/plain": [
       "<Figure size 432x288 with 0 Axes>"
      ]
     },
     "metadata": {},
     "output_type": "display_data"
    },
    {
     "data": {
      "text/plain": [
       "<Figure size 432x288 with 0 Axes>"
      ]
     },
     "metadata": {},
     "output_type": "display_data"
    },
    {
     "data": {
      "text/plain": [
       "<Figure size 432x288 with 0 Axes>"
      ]
     },
     "metadata": {},
     "output_type": "display_data"
    },
    {
     "data": {
      "text/plain": [
       "<Figure size 432x288 with 0 Axes>"
      ]
     },
     "metadata": {},
     "output_type": "display_data"
    },
    {
     "data": {
      "text/plain": [
       "<Figure size 432x288 with 0 Axes>"
      ]
     },
     "metadata": {},
     "output_type": "display_data"
    },
    {
     "data": {
      "image/png": "[encoded data removed]",
      "text/plain": [
       "<Figure size 576x345.6 with 1 Axes>"
      ]
     },
     "metadata": {},
     "output_type": "display_data"
    }
   ],
   "source": [
    "for antigen in high_antigen_count:\n",
    "    ax = sc.pl.umap(z, color=antigen, return_fig=True, alpha=0.3)\n",
    "    ax.tight_layout()\n",
    "    experiment.log_figure(figure_name=f'val_{antigen}', figure=ax, step=model.epoch, overwrite=False)\n",
    "    ax.clf()\n",
    "ax = sc.pl.umap(z[z.obs['binding_name'].isin(high_antigen_count)], color='binding_name', return_fig=True, alpha=0.4)\n",
    "ax.set_size_inches(8, 4.8)\n",
    "ax.tight_layout()\n",
    "experiment.log_figure(figure_name=f'val_binding_name', figure=ax, step=model.epoch, overwrite=False)"
   ]
  },
  {
   "cell_type": "markdown",
   "id": "quarterly-ozone",
   "metadata": {
    "id": "XJpztxU_QAGq"
   },
   "source": [
    "### On Train Data"
   ]
  },
  {
   "cell_type": "markdown",
   "id": "funky-sherman",
   "metadata": {
    "id": "pAivU1E1TYLK"
   },
   "source": [
    "Filter cells with no binding data and only UMAP on high count antigen bindings"
   ]
  },
  {
   "cell_type": "code",
   "execution_count": 33,
   "id": "magnetic-trace",
   "metadata": {
    "id": "nkR8MNBxQAG0"
   },
   "outputs": [],
   "source": [
    "train_adata = train_adata[train_adata.obs['has_binding']]"
   ]
  },
  {
   "cell_type": "code",
   "execution_count": 34,
   "id": "civilian-length",
   "metadata": {
    "id": "_ru2YvFzQAG1"
   },
   "outputs": [
    {
     "data": {
      "text/plain": [
       "A0301_KLGGALQAK_IE-1_CMV_binder                    17792\n",
       "B0801_RAKFKQLL_BZLF1_EBV_binder                    12979\n",
       "A1101_IVTDFSVIK_EBNA-3B_EBV_binder                  5390\n",
       "A0201_GILGFVFTL_Flu-MP_Influenza_binder             5142\n",
       "A1101_AVFDRKSDAK_EBNA-3B_EBV_binder                 1929\n",
       "A0201_GLCTLVAML_BMLF1_EBV_binder                    1027\n",
       "A0301_RLRAEAQVK_EMNA-3A_EBV_binder                   245\n",
       "A0201_ELAGIGILTV_MART-1_Cancer_binder                144\n",
       "A0201_LLDFVRFMGV_EBNA-3B_EBV_binder                  114\n",
       "A0201_FLYALALLL_LMP2A_EBV_binder                      55\n",
       "A0201_RTLNAWVKV_Gag-protein_HIV_binder                22\n",
       "A0201_LLFGYPVYV_HTLV-1_binder                         19\n",
       "A0201_SLFNTVATLY_Gag-protein_HIV_binder               16\n",
       "A0201_FLASKIGRLV_Ca2-indepen-Plip-A2_binder           14\n",
       "A2402_AYAQKIFKI_IE-1_CMV_binder                       12\n",
       "A2402_QYDPVAALF_pp65_CMV_binder                        9\n",
       "B0801_FLRGRAYGL_EBNA-3A_EBV_binder                     8\n",
       "A0201_KTWGQYWQV_gp100_Cancer_binder                    8\n",
       "A0201_IMDQVPFSV_gp100_Cancer_binder                    5\n",
       "A2402_CYTWNQMNL_WT1-(235-243)236M_Y_binder             5\n",
       "A0201_YLLEMLWRL_LMP1_EBV_binder                        5\n",
       "A0201_KVLEYVIKV_MAGE-A1_Cancer_binder                  4\n",
       "A0201_MLDLQPETT_16E7_HPV_binder                        4\n",
       "A0201_YLNDHLEPWI_BCL-X_Cancer_binder                   4\n",
       "A0201_SLFNTVATL_Gag-protein_HIV_binder                 3\n",
       "B3501_IPSINVHHY_pp65_CMV_binder                        3\n",
       "A0201_RMFPNAPYL_WT-1_binder                            3\n",
       "A0201_SLLMWITQV_NY-ESO-1_Cancer_binder                 2\n",
       "A0201_CLLWSFQTSA_Tyrosinase_Cancer_binder              2\n",
       "A0201_NLVPMVATV_pp65_CMV_binder                        2\n",
       "B0702_QPRAPIRPI_EBNA-6_EBV_binder                      2\n",
       "B0801_ELRRKMMYM_IE-1_CMV_binder                        2\n",
       "A0201_CLLGTYTQDV_Kanamycin-B-dioxygenase_binder        2\n",
       "A0301_RIAAWMATY_BCL-2L1_Cancer_binder                  1\n",
       "A0201_SLYNTVATLY_Gag-protein_HIV_binder                1\n",
       "B0702_RPPIFIRRL_EBNA-3A_EBV_binder                     1\n",
       "B0702_TPRVTGGGAM_pp65_CMV_binder                       1\n",
       "A0201_KLQCVDLHV_PSA146-154_binder                      1\n",
       "A0201_ILKEPVHGV_RT_HIV_binder                          1\n",
       "Name: binding_name, dtype: int64"
      ]
     },
     "execution_count": 34,
     "metadata": {},
     "output_type": "execute_result"
    }
   ],
   "source": [
    "train_adata.obs['binding_name'].value_counts()"
   ]
  },
  {
   "cell_type": "code",
   "execution_count": 35,
   "id": "accurate-equivalent",
   "metadata": {
    "id": "WhxlfJLVQAG3"
   },
   "outputs": [
    {
     "data": {
      "text/plain": [
       "View of AnnData object with n_obs × n_vars = 44979 × 5000\n",
       "    obs: 'IR_VJ_1_locus', 'IR_VJ_2_locus', 'IR_VDJ_1_locus', 'IR_VDJ_2_locus', 'IR_VJ_1_cdr3', 'IR_VJ_2_cdr3', 'IR_VDJ_1_cdr3', 'IR_VDJ_2_cdr3', 'IR_VJ_1_cdr3_nt', 'IR_VJ_2_cdr3_nt', 'IR_VDJ_1_cdr3_nt', 'IR_VDJ_2_cdr3_nt', 'IR_VJ_1_expr', 'IR_VJ_2_expr', 'IR_VDJ_1_expr', 'IR_VDJ_2_expr', 'IR_VJ_1_expr_raw', 'IR_VJ_2_expr_raw', 'IR_VDJ_1_expr_raw', 'IR_VDJ_2_expr_raw', 'IR_VJ_1_v_gene', 'IR_VJ_2_v_gene', 'IR_VDJ_1_v_gene', 'IR_VDJ_2_v_gene', 'IR_VJ_1_d_gene', 'IR_VJ_2_d_gene', 'IR_VDJ_1_d_gene', 'IR_VDJ_2_d_gene', 'IR_VJ_1_j_gene', 'IR_VJ_2_j_gene', 'IR_VDJ_1_j_gene', 'IR_VDJ_2_j_gene', 'IR_VJ_1_c_gene', 'IR_VJ_2_c_gene', 'IR_VDJ_1_c_gene', 'IR_VDJ_2_c_gene', 'IR_VJ_1_junction_ins', 'IR_VJ_2_junction_ins', 'IR_VDJ_1_junction_ins', 'IR_VDJ_2_junction_ins', 'has_ir', 'multi_chain', 'barcode', 'donor', 'cell_clono_cdr3_aa', 'cell_clono_cdr3_nt', 'CD3', 'CD19', 'CD45RA', 'CD4', 'CD8a', 'CD14', 'CD45RO', 'CD279_PD-1', 'IgG1', 'IgG2a', 'IgG2b', 'CD127', 'CD197_CCR7', 'HLA-DR', 'A0101_VTEHDTLLY_IE-1_CMV', 'A0201_KTWGQYWQV_gp100_Cancer', 'A0201_ELAGIGILTV_MART-1_Cancer', 'A0201_CLLWSFQTSA_Tyrosinase_Cancer', 'A0201_IMDQVPFSV_gp100_Cancer', 'A0201_SLLMWITQV_NY-ESO-1_Cancer', 'A0201_KVAELVHFL_MAGE-A3_Cancer', 'A0201_KVLEYVIKV_MAGE-A1_Cancer', 'A0201_CLLGTYTQDV_Kanamycin-B-dioxygenase', 'A0201_LLDFVRFMGV_EBNA-3B_EBV', 'A0201_LLMGTLGIVC_HPV-16E7_82-91', 'A0201_CLGGLLTMV_LMP-2A_EBV', 'A0201_YLLEMLWRL_LMP1_EBV', 'A0201_FLYALALLL_LMP2A_EBV', 'A0201_GILGFVFTL_Flu-MP_Influenza', 'A0201_GLCTLVAML_BMLF1_EBV', 'A0201_NLVPMVATV_pp65_CMV', 'A0201_ILKEPVHGV_RT_HIV', 'A0201_FLASKIGRLV_Ca2-indepen-Plip-A2', 'A2402_CYTWNQMNL_WT1-(235-243)236M_Y', 'A0201_RTLNAWVKV_Gag-protein_HIV', 'A0201_KLQCVDLHV_PSA146-154', 'A0201_LLFGYPVYV_HTLV-1', 'A0201_SLFNTVATL_Gag-protein_HIV', 'A0201_SLYNTVATLY_Gag-protein_HIV', 'A0201_SLFNTVATLY_Gag-protein_HIV', 'A0201_RMFPNAPYL_WT-1', 'A0201_YLNDHLEPWI_BCL-X_Cancer', 'A0201_MLDLQPETT_16E7_HPV', 'A0301_KLGGALQAK_IE-1_CMV', 'A0301_RLRAEAQVK_EMNA-3A_EBV', 'A0301_RIAAWMATY_BCL-2L1_Cancer', 'A1101_IVTDFSVIK_EBNA-3B_EBV', 'A1101_AVFDRKSDAK_EBNA-3B_EBV', 'B3501_IPSINVHHY_pp65_CMV', 'A2402_AYAQKIFKI_IE-1_CMV', 'A2402_QYDPVAALF_pp65_CMV', 'B0702_QPRAPIRPI_EBNA-6_EBV', 'B0702_TPRVTGGGAM_pp65_CMV', 'B0702_RPPIFIRRL_EBNA-3A_EBV', 'B0702_RPHERNGFTVL_pp65_CMV', 'B0801_RAKFKQLL_BZLF1_EBV', 'B0801_ELRRKMMYM_IE-1_CMV', 'B0801_FLRGRAYGL_EBNA-3A_EBV', 'A0101_SLEGGGLGY_NC', 'A0101_STEGGGLAY_NC', 'A0201_ALIAPVHAV_NC', 'A2402_AYSSAGASI_NC', 'B0702_GPAESAAGL_NC', 'NR(B0801)_AAKGRGAAL_NC', 'A0101_VTEHDTLLY_IE-1_CMV_binder', 'A0201_KTWGQYWQV_gp100_Cancer_binder', 'A0201_ELAGIGILTV_MART-1_Cancer_binder', 'A0201_CLLWSFQTSA_Tyrosinase_Cancer_binder', 'A0201_IMDQVPFSV_gp100_Cancer_binder', 'A0201_SLLMWITQV_NY-ESO-1_Cancer_binder', 'A0201_KVAELVHFL_MAGE-A3_Cancer_binder', 'A0201_KVLEYVIKV_MAGE-A1_Cancer_binder', 'A0201_CLLGTYTQDV_Kanamycin-B-dioxygenase_binder', 'A0201_LLDFVRFMGV_EBNA-3B_EBV_binder', 'A0201_LLMGTLGIVC_HPV-16E7_82-91_binder', 'A0201_CLGGLLTMV_LMP-2A_EBV_binder', 'A0201_YLLEMLWRL_LMP1_EBV_binder', 'A0201_FLYALALLL_LMP2A_EBV_binder', 'A0201_GILGFVFTL_Flu-MP_Influenza_binder', 'A0201_GLCTLVAML_BMLF1_EBV_binder', 'A0201_NLVPMVATV_pp65_CMV_binder', 'A0201_ILKEPVHGV_RT_HIV_binder', 'A0201_FLASKIGRLV_Ca2-indepen-Plip-A2_binder', 'A2402_CYTWNQMNL_WT1-(235-243)236M_Y_binder', 'A0201_RTLNAWVKV_Gag-protein_HIV_binder', 'A0201_KLQCVDLHV_PSA146-154_binder', 'A0201_LLFGYPVYV_HTLV-1_binder', 'A0201_SLFNTVATL_Gag-protein_HIV_binder', 'A0201_SLYNTVATLY_Gag-protein_HIV_binder', 'A0201_SLFNTVATLY_Gag-protein_HIV_binder', 'A0201_RMFPNAPYL_WT-1_binder', 'A0201_YLNDHLEPWI_BCL-X_Cancer_binder', 'A0201_MLDLQPETT_16E7_HPV_binder', 'A0301_KLGGALQAK_IE-1_CMV_binder', 'A0301_RLRAEAQVK_EMNA-3A_EBV_binder', 'A0301_RIAAWMATY_BCL-2L1_Cancer_binder', 'A1101_IVTDFSVIK_EBNA-3B_EBV_binder', 'A1101_AVFDRKSDAK_EBNA-3B_EBV_binder', 'B3501_IPSINVHHY_pp65_CMV_binder', 'A2402_AYAQKIFKI_IE-1_CMV_binder', 'A2402_QYDPVAALF_pp65_CMV_binder', 'B0702_QPRAPIRPI_EBNA-6_EBV_binder', 'B0702_TPRVTGGGAM_pp65_CMV_binder', 'B0702_RPPIFIRRL_EBNA-3A_EBV_binder', 'B0702_RPHERNGFTVL_pp65_CMV_binder', 'B0801_RAKFKQLL_BZLF1_EBV_binder', 'B0801_ELRRKMMYM_IE-1_CMV_binder', 'B0801_FLRGRAYGL_EBNA-3A_EBV_binder', 'A0101_SLEGGGLGY_NC_binder', 'A0101_STEGGGLAY_NC_binder', 'A0201_ALIAPVHAV_NC_binder', 'A2402_AYSSAGASI_NC_binder', 'B0702_GPAESAAGL_NC_binder', 'NR(B0801)_AAKGRGAAL_NC_binder', 'n_counts', 'log_counts', 'n_genes', 'mt_fraction', 'doublet_score', 'doublet', 'louvain', 'clonotype_10x', 'TRA+TRB', 'clonotype', 'seq_len', 'one_hot', 'tcr_seq', 'has_binding', 'binding_label', 'binding_name', 'donor+binding', 'set'\n",
       "    var: 'gene_ids', 'feature_types', 'genome', 'n_cells', 'highly_variable', 'means', 'dispersions', 'dispersions_norm', 'highly_variable_nbatches', 'highly_variable_intersection'\n",
       "    uns: 'aa_to_id', 'donor_colors', 'has_ir_colors', 'hvg', 'louvain', 'louvain_colors', 'neighbors', 'pca', 'umap'\n",
       "    obsm: 'X_pca', 'X_umap', 'one_hot', 'tcr_seq'\n",
       "    varm: 'PCs'\n",
       "    obsp: 'connectivities', 'distances'"
      ]
     },
     "execution_count": 35,
     "metadata": {},
     "output_type": "execute_result"
    }
   ],
   "source": [
    "train_adata"
   ]
  },
  {
   "cell_type": "markdown",
   "id": "informative-vegetation",
   "metadata": {
    "id": "S0z_HQowTwxd"
   },
   "source": [
    "Use last saved model"
   ]
  },
  {
   "cell_type": "code",
   "execution_count": 36,
   "id": "greek-reception",
   "metadata": {
    "id": "RoouNJ6uQAG3"
   },
   "outputs": [],
   "source": [
    "model.load(f'../saved_models/{experiment_name}_last_model.pt')"
   ]
  },
  {
   "cell_type": "code",
   "execution_count": 37,
   "id": "proved-hebrew",
   "metadata": {
    "id": "IlXZUDz7QAG4"
   },
   "outputs": [
    {
     "name": "stderr",
     "output_type": "stream",
     "text": [
      "Batch: 100%|█████████████████████████████████████████████████████████████████████████| 176/176 [00:08<00:00, 21.62it/s]\n"
     ]
    }
   ],
   "source": [
    "z = model.get_latent(\n",
    "    adatas=[train_adata],\n",
    "    names=['10x'],\n",
    "    batch_size=256,\n",
    "    num_workers=0,\n",
    "    gene_layers=[],\n",
    "    seq_keys=[],\n",
    "    metadata=high_antigen_count + ['binding_name']\n",
    ")"
   ]
  },
  {
   "cell_type": "code",
   "execution_count": 38,
   "id": "billion-fourth",
   "metadata": {
    "id": "iRxwbob-QAG4"
   },
   "outputs": [
    {
     "data": {
      "text/plain": [
       "AnnData object with n_obs × n_vars = 44979 × 100\n",
       "    obs: 'barcode', 'dataset', 'A0201_ELAGIGILTV_MART-1_Cancer_binder', 'A0201_GILGFVFTL_Flu-MP_Influenza_binder', 'A0201_GLCTLVAML_BMLF1_EBV_binder', 'A0301_KLGGALQAK_IE-1_CMV_binder', 'A0301_RLRAEAQVK_EMNA-3A_EBV_binder', 'A1101_IVTDFSVIK_EBNA-3B_EBV_binder', 'A1101_AVFDRKSDAK_EBNA-3B_EBV_binder', 'B0801_RAKFKQLL_BZLF1_EBV_binder', 'binding_name', 'batch'"
      ]
     },
     "execution_count": 38,
     "metadata": {},
     "output_type": "execute_result"
    }
   ],
   "source": [
    "z"
   ]
  },
  {
   "cell_type": "code",
   "execution_count": 39,
   "id": "quarterly-dating",
   "metadata": {
    "id": "ZoRkJ2vSQAG4"
   },
   "outputs": [],
   "source": [
    "sc.pp.neighbors(z, use_rep='X')\n",
    "sc.tl.umap(z)"
   ]
  },
  {
   "cell_type": "code",
   "execution_count": 40,
   "id": "casual-shepherd",
   "metadata": {
    "id": "Ukkqkp51QAG4"
   },
   "outputs": [
    {
     "name": "stderr",
     "output_type": "stream",
     "text": [
      "... storing 'dataset' as categorical\n",
      "... storing 'A0201_ELAGIGILTV_MART-1_Cancer_binder' as categorical\n",
      "... storing 'A0201_GILGFVFTL_Flu-MP_Influenza_binder' as categorical\n",
      "... storing 'A0201_GLCTLVAML_BMLF1_EBV_binder' as categorical\n",
      "... storing 'A0301_KLGGALQAK_IE-1_CMV_binder' as categorical\n",
      "... storing 'A0301_RLRAEAQVK_EMNA-3A_EBV_binder' as categorical\n",
      "... storing 'A1101_IVTDFSVIK_EBNA-3B_EBV_binder' as categorical\n",
      "... storing 'A1101_AVFDRKSDAK_EBNA-3B_EBV_binder' as categorical\n",
      "... storing 'B0801_RAKFKQLL_BZLF1_EBV_binder' as categorical\n",
      "... storing 'binding_name' as categorical\n",
      "C:\\Users\\yanga\\AppData\\Local\\Continuum\\anaconda3\\envs\\tcr\\lib\\site-packages\\pandas\\core\\arrays\\categorical.py:2487: FutureWarning: The `inplace` parameter in pandas.Categorical.remove_unused_categories is deprecated and will be removed in a future version.\n",
      "  res = method(*args, **kwargs)\n",
      "Trying to set attribute `.uns` of view, copying.\n"
     ]
    },
    {
     "data": {
      "text/plain": [
       "{'web': 'https://www.comet.ml/api/image/download?imageId=bfe3109714c04571b23df872d239b1c8&experimentKey=9066a99889234505b92223cc76cf4c8c',\n",
       " 'api': 'https://www.comet.ml/api/rest/v1/image/get-image?imageId=bfe3109714c04571b23df872d239b1c8&experimentKey=9066a99889234505b92223cc76cf4c8c',\n",
       " 'imageId': 'bfe3109714c04571b23df872d239b1c8'}"
      ]
     },
     "execution_count": 40,
     "metadata": {},
     "output_type": "execute_result"
    },
    {
     "data": {
      "text/plain": [
       "<Figure size 432x288 with 0 Axes>"
      ]
     },
     "metadata": {},
     "output_type": "display_data"
    },
    {
     "data": {
      "text/plain": [
       "<Figure size 432x288 with 0 Axes>"
      ]
     },
     "metadata": {},
     "output_type": "display_data"
    },
    {
     "data": {
      "text/plain": [
       "<Figure size 432x288 with 0 Axes>"
      ]
     },
     "metadata": {},
     "output_type": "display_data"
    },
    {
     "data": {
      "text/plain": [
       "<Figure size 432x288 with 0 Axes>"
      ]
     },
     "metadata": {},
     "output_type": "display_data"
    },
    {
     "data": {
      "text/plain": [
       "<Figure size 432x288 with 0 Axes>"
      ]
     },
     "metadata": {},
     "output_type": "display_data"
    },
    {
     "data": {
      "text/plain": [
       "<Figure size 432x288 with 0 Axes>"
      ]
     },
     "metadata": {},
     "output_type": "display_data"
    },
    {
     "data": {
      "text/plain": [
       "<Figure size 432x288 with 0 Axes>"
      ]
     },
     "metadata": {},
     "output_type": "display_data"
    },
    {
     "data": {
      "text/plain": [
       "<Figure size 432x288 with 0 Axes>"
      ]
     },
     "metadata": {},
     "output_type": "display_data"
    },
    {
     "data": {
      "image/png": "[encoded data removed]",
      "text/plain": [
       "<Figure size 576x345.6 with 1 Axes>"
      ]
     },
     "metadata": {},
     "output_type": "display_data"
    }
   ],
   "source": [
    "for antigen in high_antigen_count:\n",
    "    ax = sc.pl.umap(z, color=antigen, return_fig=True, alpha=0.3)\n",
    "    ax.tight_layout()\n",
    "    experiment.log_figure(figure_name=f'train_{antigen}', figure=ax, step=model.epoch, overwrite=False)\n",
    "    ax.clf()\n",
    "ax = sc.pl.umap(z[z.obs['binding_name'].isin(high_antigen_count)], color='binding_name', return_fig=True, alpha=0.4)\n",
    "ax.set_size_inches(8, 4.8)\n",
    "ax.tight_layout()\n",
    "experiment.log_figure(figure_name=f'train_binding_name', figure=ax, step=model.epoch, overwrite=False)"
   ]
  },
  {
   "cell_type": "markdown",
   "id": "lasting-brooklyn",
   "metadata": {
    "id": "3QsbmVgXTyjl"
   },
   "source": [
    "Use \"best\" saved model, (currently based on val loss)"
   ]
  },
  {
   "cell_type": "code",
   "execution_count": 41,
   "id": "excellent-miracle",
   "metadata": {
    "id": "CUrSPGATQAG5"
   },
   "outputs": [],
   "source": [
    "model.load(f'../saved_models/{experiment_name}_best_model.pt')"
   ]
  },
  {
   "cell_type": "code",
   "execution_count": 42,
   "id": "swiss-encoding",
   "metadata": {
    "id": "zimzf1PLQAG5"
   },
   "outputs": [
    {
     "name": "stderr",
     "output_type": "stream",
     "text": [
      "Batch: 100%|█████████████████████████████████████████████████████████████████████████| 176/176 [00:08<00:00, 21.26it/s]\n"
     ]
    }
   ],
   "source": [
    "z = model.get_latent(\n",
    "    adatas=[train_adata],\n",
    "    names=['10x'],\n",
    "    batch_size=256,\n",
    "    num_workers=0,\n",
    "    gene_layers=[],\n",
    "    seq_keys=[],\n",
    "    metadata=high_antigen_count + ['binding_name']\n",
    ")"
   ]
  },
  {
   "cell_type": "code",
   "execution_count": 43,
   "id": "parallel-nursing",
   "metadata": {
    "id": "kxIUlIDGQAG5"
   },
   "outputs": [],
   "source": [
    "sc.pp.neighbors(z, use_rep='X')\n",
    "sc.tl.umap(z)"
   ]
  },
  {
   "cell_type": "code",
   "execution_count": 44,
   "id": "cosmetic-france",
   "metadata": {
    "id": "FzirON5wQAG5"
   },
   "outputs": [
    {
     "name": "stderr",
     "output_type": "stream",
     "text": [
      "... storing 'dataset' as categorical\n",
      "... storing 'A0201_ELAGIGILTV_MART-1_Cancer_binder' as categorical\n",
      "... storing 'A0201_GILGFVFTL_Flu-MP_Influenza_binder' as categorical\n",
      "... storing 'A0201_GLCTLVAML_BMLF1_EBV_binder' as categorical\n",
      "... storing 'A0301_KLGGALQAK_IE-1_CMV_binder' as categorical\n",
      "... storing 'A0301_RLRAEAQVK_EMNA-3A_EBV_binder' as categorical\n",
      "... storing 'A1101_IVTDFSVIK_EBNA-3B_EBV_binder' as categorical\n",
      "... storing 'A1101_AVFDRKSDAK_EBNA-3B_EBV_binder' as categorical\n",
      "... storing 'B0801_RAKFKQLL_BZLF1_EBV_binder' as categorical\n",
      "... storing 'binding_name' as categorical\n",
      "C:\\Users\\yanga\\AppData\\Local\\Continuum\\anaconda3\\envs\\tcr\\lib\\site-packages\\pandas\\core\\arrays\\categorical.py:2487: FutureWarning: The `inplace` parameter in pandas.Categorical.remove_unused_categories is deprecated and will be removed in a future version.\n",
      "  res = method(*args, **kwargs)\n",
      "Trying to set attribute `.uns` of view, copying.\n"
     ]
    },
    {
     "data": {
      "text/plain": [
       "{'web': 'https://www.comet.ml/api/image/download?imageId=f2b893d7ab544e35bcca7627b8daee91&experimentKey=9066a99889234505b92223cc76cf4c8c',\n",
       " 'api': 'https://www.comet.ml/api/rest/v1/image/get-image?imageId=f2b893d7ab544e35bcca7627b8daee91&experimentKey=9066a99889234505b92223cc76cf4c8c',\n",
       " 'imageId': 'f2b893d7ab544e35bcca7627b8daee91'}"
      ]
     },
     "execution_count": 44,
     "metadata": {},
     "output_type": "execute_result"
    },
    {
     "data": {
      "text/plain": [
       "<Figure size 432x288 with 0 Axes>"
      ]
     },
     "metadata": {},
     "output_type": "display_data"
    },
    {
     "data": {
      "text/plain": [
       "<Figure size 432x288 with 0 Axes>"
      ]
     },
     "metadata": {},
     "output_type": "display_data"
    },
    {
     "data": {
      "text/plain": [
       "<Figure size 432x288 with 0 Axes>"
      ]
     },
     "metadata": {},
     "output_type": "display_data"
    },
    {
     "data": {
      "text/plain": [
       "<Figure size 432x288 with 0 Axes>"
      ]
     },
     "metadata": {},
     "output_type": "display_data"
    },
    {
     "data": {
      "text/plain": [
       "<Figure size 432x288 with 0 Axes>"
      ]
     },
     "metadata": {},
     "output_type": "display_data"
    },
    {
     "data": {
      "text/plain": [
       "<Figure size 432x288 with 0 Axes>"
      ]
     },
     "metadata": {},
     "output_type": "display_data"
    },
    {
     "data": {
      "text/plain": [
       "<Figure size 432x288 with 0 Axes>"
      ]
     },
     "metadata": {},
     "output_type": "display_data"
    },
    {
     "data": {
      "text/plain": [
       "<Figure size 432x288 with 0 Axes>"
      ]
     },
     "metadata": {},
     "output_type": "display_data"
    },
    {
     "data": {
      "image/png": "[encoded data removed]",
      "text/plain": [
       "<Figure size 576x345.6 with 1 Axes>"
      ]
     },
     "metadata": {},
     "output_type": "display_data"
    }
   ],
   "source": [
    "for antigen in high_antigen_count:\n",
    "    ax = sc.pl.umap(z, color=antigen, return_fig=True, alpha=0.3)\n",
    "    ax.tight_layout()\n",
    "    experiment.log_figure(figure_name=f'train_{antigen}', figure=ax, step=model.epoch, overwrite=False)\n",
    "    ax.clf()\n",
    "ax = sc.pl.umap(z[z.obs['binding_name'].isin(high_antigen_count)], color='binding_name', return_fig=True, alpha=0.4)\n",
    "ax.set_size_inches(8, 4.8)\n",
    "ax.tight_layout()\n",
    "experiment.log_figure(figure_name=f'train_binding_name', figure=ax, step=model.epoch, overwrite=False)"
   ]
  },
  {
   "cell_type": "markdown",
   "id": "answering-drink",
   "metadata": {
    "id": "g_4pBc-5FfmT"
   },
   "source": [
    "# kNN prediction"
   ]
  },
  {
   "cell_type": "code",
   "execution_count": 45,
   "id": "agricultural-bulgaria",
   "metadata": {},
   "outputs": [],
   "source": [
    "model.load(f'../saved_models/{experiment_name}_best_model.pt')"
   ]
  },
  {
   "cell_type": "code",
   "execution_count": 46,
   "id": "complicated-documentary",
   "metadata": {
    "id": "3GvOyG7gK93L"
   },
   "outputs": [
    {
     "data": {
      "text/plain": [
       "A0301_KLGGALQAK_IE-1_CMV_binder                    17792\n",
       "B0801_RAKFKQLL_BZLF1_EBV_binder                    12979\n",
       "A1101_IVTDFSVIK_EBNA-3B_EBV_binder                  5390\n",
       "A0201_GILGFVFTL_Flu-MP_Influenza_binder             5142\n",
       "A1101_AVFDRKSDAK_EBNA-3B_EBV_binder                 1929\n",
       "A0201_GLCTLVAML_BMLF1_EBV_binder                    1027\n",
       "A0301_RLRAEAQVK_EMNA-3A_EBV_binder                   245\n",
       "A0201_ELAGIGILTV_MART-1_Cancer_binder                144\n",
       "A0201_LLDFVRFMGV_EBNA-3B_EBV_binder                  114\n",
       "A0201_FLYALALLL_LMP2A_EBV_binder                      55\n",
       "A0201_RTLNAWVKV_Gag-protein_HIV_binder                22\n",
       "A0201_LLFGYPVYV_HTLV-1_binder                         19\n",
       "A0201_SLFNTVATLY_Gag-protein_HIV_binder               16\n",
       "A0201_FLASKIGRLV_Ca2-indepen-Plip-A2_binder           14\n",
       "A2402_AYAQKIFKI_IE-1_CMV_binder                       12\n",
       "A2402_QYDPVAALF_pp65_CMV_binder                        9\n",
       "B0801_FLRGRAYGL_EBNA-3A_EBV_binder                     8\n",
       "A0201_KTWGQYWQV_gp100_Cancer_binder                    8\n",
       "A0201_IMDQVPFSV_gp100_Cancer_binder                    5\n",
       "A2402_CYTWNQMNL_WT1-(235-243)236M_Y_binder             5\n",
       "A0201_YLLEMLWRL_LMP1_EBV_binder                        5\n",
       "A0201_KVLEYVIKV_MAGE-A1_Cancer_binder                  4\n",
       "A0201_MLDLQPETT_16E7_HPV_binder                        4\n",
       "A0201_YLNDHLEPWI_BCL-X_Cancer_binder                   4\n",
       "A0201_SLFNTVATL_Gag-protein_HIV_binder                 3\n",
       "B3501_IPSINVHHY_pp65_CMV_binder                        3\n",
       "A0201_RMFPNAPYL_WT-1_binder                            3\n",
       "A0201_SLLMWITQV_NY-ESO-1_Cancer_binder                 2\n",
       "A0201_CLLWSFQTSA_Tyrosinase_Cancer_binder              2\n",
       "A0201_NLVPMVATV_pp65_CMV_binder                        2\n",
       "B0702_QPRAPIRPI_EBNA-6_EBV_binder                      2\n",
       "B0801_ELRRKMMYM_IE-1_CMV_binder                        2\n",
       "A0201_CLLGTYTQDV_Kanamycin-B-dioxygenase_binder        2\n",
       "A0301_RIAAWMATY_BCL-2L1_Cancer_binder                  1\n",
       "A0201_SLYNTVATLY_Gag-protein_HIV_binder                1\n",
       "B0702_RPPIFIRRL_EBNA-3A_EBV_binder                     1\n",
       "B0702_TPRVTGGGAM_pp65_CMV_binder                       1\n",
       "A0201_KLQCVDLHV_PSA146-154_binder                      1\n",
       "A0201_ILKEPVHGV_RT_HIV_binder                          1\n",
       "Name: binding_name, dtype: int64"
      ]
     },
     "execution_count": 46,
     "metadata": {},
     "output_type": "execute_result"
    }
   ],
   "source": [
    "train_adata.obs['binding_name'].value_counts()"
   ]
  },
  {
   "cell_type": "code",
   "execution_count": 47,
   "id": "light-excitement",
   "metadata": {
    "id": "RlqHnlPsK8VA"
   },
   "outputs": [
    {
     "data": {
      "text/plain": [
       "A0301_KLGGALQAK_IE-1_CMV_binder                4228\n",
       "B0801_RAKFKQLL_BZLF1_EBV_binder                1344\n",
       "A1101_AVFDRKSDAK_EBNA-3B_EBV_binder            1211\n",
       "A0201_GILGFVFTL_Flu-MP_Influenza_binder        1000\n",
       "A1101_IVTDFSVIK_EBNA-3B_EBV_binder              150\n",
       "A0201_GLCTLVAML_BMLF1_EBV_binder                 84\n",
       "A0301_RLRAEAQVK_EMNA-3A_EBV_binder               59\n",
       "A0201_ELAGIGILTV_MART-1_Cancer_binder            48\n",
       "A0201_FLYALALLL_LMP2A_EBV_binder                 31\n",
       "B0801_FLRGRAYGL_EBNA-3A_EBV_binder               22\n",
       "A0201_LLDFVRFMGV_EBNA-3B_EBV_binder               7\n",
       "A2402_AYAQKIFKI_IE-1_CMV_binder                   6\n",
       "A0201_SLFNTVATLY_Gag-protein_HIV_binder           6\n",
       "A0201_RTLNAWVKV_Gag-protein_HIV_binder            6\n",
       "A0201_LLFGYPVYV_HTLV-1_binder                     5\n",
       "A0201_FLASKIGRLV_Ca2-indepen-Plip-A2_binder       4\n",
       "A0201_KTWGQYWQV_gp100_Cancer_binder               3\n",
       "A0201_MLDLQPETT_16E7_HPV_binder                   2\n",
       "A0201_KVLEYVIKV_MAGE-A1_Cancer_binder             2\n",
       "A2402_CYTWNQMNL_WT1-(235-243)236M_Y_binder        2\n",
       "A0201_IMDQVPFSV_gp100_Cancer_binder               2\n",
       "A0201_SLLMWITQV_NY-ESO-1_Cancer_binder            1\n",
       "A0201_YLLEMLWRL_LMP1_EBV_binder                   1\n",
       "A0201_YLNDHLEPWI_BCL-X_Cancer_binder              1\n",
       "A0201_RMFPNAPYL_WT-1_binder                       1\n",
       "B3501_IPSINVHHY_pp65_CMV_binder                   1\n",
       "Name: binding_name, dtype: int64"
      ]
     },
     "execution_count": 47,
     "metadata": {},
     "output_type": "execute_result"
    }
   ],
   "source": [
    "val_adata.obs['binding_name'].value_counts()"
   ]
  },
  {
   "cell_type": "code",
   "execution_count": 48,
   "id": "universal-surname",
   "metadata": {
    "id": "XQdO4TTgJDsl"
   },
   "outputs": [
    {
     "name": "stderr",
     "output_type": "stream",
     "text": [
      "Batch:   0%|                                                                                   | 0/176 [00:00<?, ?it/s]..\\tcr_embedding\\models\\joint_model.py:352: VisibleDeprecationWarning: Creating an ndarray from ragged nested sequences (which is a list-or-tuple of lists-or-tuples-or ndarrays with different lengths or shapes) is deprecated. If you meant to do this, you must specify 'dtype=object' when creating the ndarray\n",
      "  z.obs[metadata] = np.array(metadata_batch).T\n",
      "Batch: 100%|█████████████████████████████████████████████████████████████████████████| 176/176 [00:07<00:00, 22.17it/s]\n"
     ]
    }
   ],
   "source": [
    "z_train = model.get_latent(\n",
    "    adatas=[train_adata],\n",
    "    names=['10x'],\n",
    "    batch_size=256,\n",
    "    num_workers=0,\n",
    "    gene_layers=[],\n",
    "    seq_keys=[],\n",
    "    metadata=['binding_name', 'binding_label']\n",
    ")"
   ]
  },
  {
   "cell_type": "code",
   "execution_count": 49,
   "id": "educated-ireland",
   "metadata": {
    "id": "HysN7IVrG29U"
   },
   "outputs": [
    {
     "name": "stderr",
     "output_type": "stream",
     "text": [
      "Batch: 100%|███████████████████████████████████████████████████████████████████████████| 33/33 [00:01<00:00, 19.65it/s]\n"
     ]
    }
   ],
   "source": [
    "z_val = model.get_latent(\n",
    "    adatas=[val_adata],\n",
    "    names=['10x'],\n",
    "    batch_size=256,\n",
    "    num_workers=0,\n",
    "    gene_layers=[],\n",
    "    seq_keys=[],\n",
    "    metadata=['binding_name', 'binding_label']\n",
    ")"
   ]
  },
  {
   "cell_type": "markdown",
   "id": "accompanied-completion",
   "metadata": {},
   "source": [
    "Filter out cells that have rare antigen specificity"
   ]
  },
  {
   "cell_type": "code",
   "execution_count": 50,
   "id": "breeding-success",
   "metadata": {},
   "outputs": [
    {
     "data": {
      "text/plain": [
       "A0301_KLGGALQAK_IE-1_CMV_binder            17792\n",
       "B0801_RAKFKQLL_BZLF1_EBV_binder            12979\n",
       "A1101_IVTDFSVIK_EBNA-3B_EBV_binder          5390\n",
       "A0201_GILGFVFTL_Flu-MP_Influenza_binder     5142\n",
       "A1101_AVFDRKSDAK_EBNA-3B_EBV_binder         1929\n",
       "A0201_GLCTLVAML_BMLF1_EBV_binder            1027\n",
       "A0301_RLRAEAQVK_EMNA-3A_EBV_binder           245\n",
       "A0201_ELAGIGILTV_MART-1_Cancer_binder        144\n",
       "Name: binding_name, dtype: int64"
      ]
     },
     "execution_count": 50,
     "metadata": {},
     "output_type": "execute_result"
    }
   ],
   "source": [
    "classes = 'binding_name'\n",
    "z_train = z_train[z_train.obs[classes].isin(high_antigen_count)]\n",
    "z_train.obs[classes].value_counts()"
   ]
  },
  {
   "cell_type": "code",
   "execution_count": 51,
   "id": "identified-penny",
   "metadata": {},
   "outputs": [
    {
     "data": {
      "text/plain": [
       "A0301_KLGGALQAK_IE-1_CMV_binder            4228\n",
       "B0801_RAKFKQLL_BZLF1_EBV_binder            1344\n",
       "A1101_AVFDRKSDAK_EBNA-3B_EBV_binder        1211\n",
       "A0201_GILGFVFTL_Flu-MP_Influenza_binder    1000\n",
       "A1101_IVTDFSVIK_EBNA-3B_EBV_binder          150\n",
       "A0201_GLCTLVAML_BMLF1_EBV_binder             84\n",
       "A0301_RLRAEAQVK_EMNA-3A_EBV_binder           59\n",
       "A0201_ELAGIGILTV_MART-1_Cancer_binder        48\n",
       "Name: binding_name, dtype: int64"
      ]
     },
     "execution_count": 51,
     "metadata": {},
     "output_type": "execute_result"
    }
   ],
   "source": [
    "z_val = z_val[z_val.obs[classes].isin(high_antigen_count)]\n",
    "z_val.obs[classes].value_counts()"
   ]
  },
  {
   "cell_type": "code",
   "execution_count": 52,
   "id": "solar-trail",
   "metadata": {
    "id": "gRwILEYIH0KA"
   },
   "outputs": [
    {
     "name": "stderr",
     "output_type": "stream",
     "text": [
      "C:\\Users\\yanga\\AppData\\Local\\Continuum\\anaconda3\\envs\\tcr\\lib\\site-packages\\sklearn\\utils\\validation.py:67: FutureWarning: Pass weights=distance as keyword args. From version 0.25 passing these as positional arguments will result in an error\n",
      "  warnings.warn(\"Pass {} as keyword args. From version 0.25 \"\n",
      "Trying to set attribute `.obs` of view, copying.\n",
      "Trying to set attribute `.obs` of view, copying.\n"
     ]
    }
   ],
   "source": [
    "model.kNN(z_train, z_val, classes, 5, 'distance')"
   ]
  },
  {
   "cell_type": "code",
   "execution_count": 53,
   "id": "enormous-annual",
   "metadata": {},
   "outputs": [
    {
     "name": "stderr",
     "output_type": "stream",
     "text": [
      "C:\\Users\\yanga\\AppData\\Local\\Continuum\\anaconda3\\envs\\tcr\\lib\\site-packages\\pandas\\core\\arrays\\categorical.py:2487: FutureWarning: The `inplace` parameter in pandas.Categorical.remove_unused_categories is deprecated and will be removed in a future version.\n",
      "  res = method(*args, **kwargs)\n"
     ]
    },
    {
     "data": {
      "text/plain": [
       "(8124, 100)"
      ]
     },
     "execution_count": 53,
     "metadata": {},
     "output_type": "execute_result"
    }
   ],
   "source": [
    "z_val = z_val[z_val.obs[classes].isin(high_antigen_count) | z_val.obs['pred_'+classes].isin(high_antigen_count)]\n",
    "z_val.shape"
   ]
  },
  {
   "cell_type": "code",
   "execution_count": 54,
   "id": "superb-vermont",
   "metadata": {
    "id": "tp6RWZmHeFvE"
   },
   "outputs": [
    {
     "name": "stderr",
     "output_type": "stream",
     "text": [
      "COMET WARNING: Empty mapping given to log_params({}); ignoring\n"
     ]
    },
    {
     "name": "stdout",
     "output_type": "stream",
     "text": [
      "                                         precision    recall  f1-score   support\n",
      "\n",
      "  A0201_ELAGIGILTV_MART-1_Cancer_binder       0.23      0.15      0.18        48\n",
      "A0201_GILGFVFTL_Flu-MP_Influenza_binder       0.87      0.85      0.86      1000\n",
      "       A0201_GLCTLVAML_BMLF1_EBV_binder       0.15      0.19      0.16        84\n",
      "        A0301_KLGGALQAK_IE-1_CMV_binder       0.78      0.94      0.85      4228\n",
      "     A0301_RLRAEAQVK_EMNA-3A_EBV_binder       0.00      0.00      0.00        59\n",
      "    A1101_AVFDRKSDAK_EBNA-3B_EBV_binder       0.95      0.48      0.64      1211\n",
      "     A1101_IVTDFSVIK_EBNA-3B_EBV_binder       0.10      0.09      0.10       150\n",
      "        B0801_RAKFKQLL_BZLF1_EBV_binder       0.86      0.73      0.79      1344\n",
      "\n",
      "                               accuracy                           0.79      8124\n",
      "                              macro avg       0.49      0.43      0.45      8124\n",
      "                           weighted avg       0.80      0.79      0.78      8124\n",
      "\n"
     ]
    },
    {
     "data": {
      "text/plain": [
       "{'web': 'https://www.comet.ml/api/asset/download?assetId=4c800b85e01a4703bb99c695e8a1cf39&experimentKey=9066a99889234505b92223cc76cf4c8c',\n",
       " 'api': 'https://www.comet.ml/api/rest/v2/experiment/asset/get-asset?assetId=4c800b85e01a4703bb99c695e8a1cf39&experimentKey=9066a99889234505b92223cc76cf4c8c',\n",
       " 'assetId': '4c800b85e01a4703bb99c695e8a1cf39'}"
      ]
     },
     "execution_count": 54,
     "metadata": {},
     "output_type": "execute_result"
    }
   ],
   "source": [
    "from sklearn.metrics import classification_report\n",
    "print(classification_report(z_val.obs[classes], z_val.obs['pred_'+classes]))\n",
    "experiment.log_text(text=classification_report(z_val.obs[classes], z_val.obs['pred_'+classes]), step=model.epoch)"
   ]
  },
  {
   "cell_type": "code",
   "execution_count": 55,
   "id": "blank-register",
   "metadata": {},
   "outputs": [],
   "source": [
    "metrics = classification_report(z_val.obs[classes], z_val.obs['pred_'+classes], output_dict=True)\n",
    "for antigen, metric in metrics.items():\n",
    "    if antigen != 'accuracy':\n",
    "        experiment.log_metrics(metric, prefix=antigen, step=model.epoch, epoch=model.epoch)\n",
    "    else:\n",
    "        experiment.log_metric('accuracy', metric, step=model.epoch, epoch=model.epoch)"
   ]
  },
  {
   "cell_type": "code",
   "execution_count": 56,
   "id": "alternate-tampa",
   "metadata": {},
   "outputs": [
    {
     "data": {
      "text/plain": [
       "{'web': 'https://www.comet.ml/api/asset/download?assetId=f835623ffb3e4fe580ee0a3ba46e5497&experimentKey=9066a99889234505b92223cc76cf4c8c',\n",
       " 'api': 'https://www.comet.ml/api/rest/v2/experiment/asset/get-asset?assetId=f835623ffb3e4fe580ee0a3ba46e5497&experimentKey=9066a99889234505b92223cc76cf4c8c',\n",
       " 'assetId': 'f835623ffb3e4fe580ee0a3ba46e5497'}"
      ]
     },
     "execution_count": 56,
     "metadata": {},
     "output_type": "execute_result"
    }
   ],
   "source": [
    "experiment.log_confusion_matrix(matrix=pd.crosstab(z_val.obs[classes], z_val.obs['pred_'+classes]).values,\n",
    "                                labels=pd.crosstab(z_val.obs[classes], z_val.obs['pred_'+classes]).index.to_list(),\n",
    "                                step=model.epoch, epoch=model.epoch)"
   ]
  },
  {
   "cell_type": "code",
   "execution_count": 57,
   "id": "impressed-experience",
   "metadata": {
    "id": "PONbhZA1bnkE"
   },
   "outputs": [
    {
     "data": {
      "text/html": [
       "<div>\n",
       "<style scoped>\n",
       "    .dataframe tbody tr th:only-of-type {\n",
       "        vertical-align: middle;\n",
       "    }\n",
       "\n",
       "    .dataframe tbody tr th {\n",
       "        vertical-align: top;\n",
       "    }\n",
       "\n",
       "    .dataframe thead th {\n",
       "        text-align: right;\n",
       "    }\n",
       "</style>\n",
       "<table border=\"1\" class=\"dataframe\">\n",
       "  <thead>\n",
       "    <tr style=\"text-align: right;\">\n",
       "      <th>pred_binding_name</th>\n",
       "      <th>A0201_ELAGIGILTV_MART-1_Cancer_binder</th>\n",
       "      <th>A0201_GILGFVFTL_Flu-MP_Influenza_binder</th>\n",
       "      <th>A0201_GLCTLVAML_BMLF1_EBV_binder</th>\n",
       "      <th>A0301_KLGGALQAK_IE-1_CMV_binder</th>\n",
       "      <th>A0301_RLRAEAQVK_EMNA-3A_EBV_binder</th>\n",
       "      <th>A1101_AVFDRKSDAK_EBNA-3B_EBV_binder</th>\n",
       "      <th>A1101_IVTDFSVIK_EBNA-3B_EBV_binder</th>\n",
       "      <th>B0801_RAKFKQLL_BZLF1_EBV_binder</th>\n",
       "    </tr>\n",
       "    <tr>\n",
       "      <th>binding_name</th>\n",
       "      <th></th>\n",
       "      <th></th>\n",
       "      <th></th>\n",
       "      <th></th>\n",
       "      <th></th>\n",
       "      <th></th>\n",
       "      <th></th>\n",
       "      <th></th>\n",
       "    </tr>\n",
       "  </thead>\n",
       "  <tbody>\n",
       "    <tr>\n",
       "      <th>A0201_ELAGIGILTV_MART-1_Cancer_binder</th>\n",
       "      <td>7</td>\n",
       "      <td>1</td>\n",
       "      <td>0</td>\n",
       "      <td>39</td>\n",
       "      <td>0</td>\n",
       "      <td>0</td>\n",
       "      <td>0</td>\n",
       "      <td>1</td>\n",
       "    </tr>\n",
       "    <tr>\n",
       "      <th>A0201_GILGFVFTL_Flu-MP_Influenza_binder</th>\n",
       "      <td>0</td>\n",
       "      <td>849</td>\n",
       "      <td>1</td>\n",
       "      <td>141</td>\n",
       "      <td>1</td>\n",
       "      <td>3</td>\n",
       "      <td>0</td>\n",
       "      <td>5</td>\n",
       "    </tr>\n",
       "    <tr>\n",
       "      <th>A0201_GLCTLVAML_BMLF1_EBV_binder</th>\n",
       "      <td>0</td>\n",
       "      <td>0</td>\n",
       "      <td>16</td>\n",
       "      <td>68</td>\n",
       "      <td>0</td>\n",
       "      <td>0</td>\n",
       "      <td>0</td>\n",
       "      <td>0</td>\n",
       "    </tr>\n",
       "    <tr>\n",
       "      <th>A0301_KLGGALQAK_IE-1_CMV_binder</th>\n",
       "      <td>12</td>\n",
       "      <td>79</td>\n",
       "      <td>22</td>\n",
       "      <td>3995</td>\n",
       "      <td>3</td>\n",
       "      <td>22</td>\n",
       "      <td>64</td>\n",
       "      <td>31</td>\n",
       "    </tr>\n",
       "    <tr>\n",
       "      <th>A0301_RLRAEAQVK_EMNA-3A_EBV_binder</th>\n",
       "      <td>1</td>\n",
       "      <td>0</td>\n",
       "      <td>0</td>\n",
       "      <td>57</td>\n",
       "      <td>0</td>\n",
       "      <td>1</td>\n",
       "      <td>0</td>\n",
       "      <td>0</td>\n",
       "    </tr>\n",
       "    <tr>\n",
       "      <th>A1101_AVFDRKSDAK_EBNA-3B_EBV_binder</th>\n",
       "      <td>2</td>\n",
       "      <td>27</td>\n",
       "      <td>15</td>\n",
       "      <td>418</td>\n",
       "      <td>0</td>\n",
       "      <td>582</td>\n",
       "      <td>55</td>\n",
       "      <td>112</td>\n",
       "    </tr>\n",
       "    <tr>\n",
       "      <th>A1101_IVTDFSVIK_EBNA-3B_EBV_binder</th>\n",
       "      <td>0</td>\n",
       "      <td>3</td>\n",
       "      <td>0</td>\n",
       "      <td>125</td>\n",
       "      <td>0</td>\n",
       "      <td>1</td>\n",
       "      <td>14</td>\n",
       "      <td>7</td>\n",
       "    </tr>\n",
       "    <tr>\n",
       "      <th>B0801_RAKFKQLL_BZLF1_EBV_binder</th>\n",
       "      <td>9</td>\n",
       "      <td>18</td>\n",
       "      <td>56</td>\n",
       "      <td>278</td>\n",
       "      <td>0</td>\n",
       "      <td>3</td>\n",
       "      <td>2</td>\n",
       "      <td>978</td>\n",
       "    </tr>\n",
       "  </tbody>\n",
       "</table>\n",
       "</div>"
      ],
      "text/plain": [
       "pred_binding_name                        A0201_ELAGIGILTV_MART-1_Cancer_binder  \\\n",
       "binding_name                                                                     \n",
       "A0201_ELAGIGILTV_MART-1_Cancer_binder                                        7   \n",
       "A0201_GILGFVFTL_Flu-MP_Influenza_binder                                      0   \n",
       "A0201_GLCTLVAML_BMLF1_EBV_binder                                             0   \n",
       "A0301_KLGGALQAK_IE-1_CMV_binder                                             12   \n",
       "A0301_RLRAEAQVK_EMNA-3A_EBV_binder                                           1   \n",
       "A1101_AVFDRKSDAK_EBNA-3B_EBV_binder                                          2   \n",
       "A1101_IVTDFSVIK_EBNA-3B_EBV_binder                                           0   \n",
       "B0801_RAKFKQLL_BZLF1_EBV_binder                                              9   \n",
       "\n",
       "pred_binding_name                        A0201_GILGFVFTL_Flu-MP_Influenza_binder  \\\n",
       "binding_name                                                                       \n",
       "A0201_ELAGIGILTV_MART-1_Cancer_binder                                          1   \n",
       "A0201_GILGFVFTL_Flu-MP_Influenza_binder                                      849   \n",
       "A0201_GLCTLVAML_BMLF1_EBV_binder                                               0   \n",
       "A0301_KLGGALQAK_IE-1_CMV_binder                                               79   \n",
       "A0301_RLRAEAQVK_EMNA-3A_EBV_binder                                             0   \n",
       "A1101_AVFDRKSDAK_EBNA-3B_EBV_binder                                           27   \n",
       "A1101_IVTDFSVIK_EBNA-3B_EBV_binder                                             3   \n",
       "B0801_RAKFKQLL_BZLF1_EBV_binder                                               18   \n",
       "\n",
       "pred_binding_name                        A0201_GLCTLVAML_BMLF1_EBV_binder  \\\n",
       "binding_name                                                                \n",
       "A0201_ELAGIGILTV_MART-1_Cancer_binder                                   0   \n",
       "A0201_GILGFVFTL_Flu-MP_Influenza_binder                                 1   \n",
       "A0201_GLCTLVAML_BMLF1_EBV_binder                                       16   \n",
       "A0301_KLGGALQAK_IE-1_CMV_binder                                        22   \n",
       "A0301_RLRAEAQVK_EMNA-3A_EBV_binder                                      0   \n",
       "A1101_AVFDRKSDAK_EBNA-3B_EBV_binder                                    15   \n",
       "A1101_IVTDFSVIK_EBNA-3B_EBV_binder                                      0   \n",
       "B0801_RAKFKQLL_BZLF1_EBV_binder                                        56   \n",
       "\n",
       "pred_binding_name                        A0301_KLGGALQAK_IE-1_CMV_binder  \\\n",
       "binding_name                                                               \n",
       "A0201_ELAGIGILTV_MART-1_Cancer_binder                                 39   \n",
       "A0201_GILGFVFTL_Flu-MP_Influenza_binder                              141   \n",
       "A0201_GLCTLVAML_BMLF1_EBV_binder                                      68   \n",
       "A0301_KLGGALQAK_IE-1_CMV_binder                                     3995   \n",
       "A0301_RLRAEAQVK_EMNA-3A_EBV_binder                                    57   \n",
       "A1101_AVFDRKSDAK_EBNA-3B_EBV_binder                                  418   \n",
       "A1101_IVTDFSVIK_EBNA-3B_EBV_binder                                   125   \n",
       "B0801_RAKFKQLL_BZLF1_EBV_binder                                      278   \n",
       "\n",
       "pred_binding_name                        A0301_RLRAEAQVK_EMNA-3A_EBV_binder  \\\n",
       "binding_name                                                                  \n",
       "A0201_ELAGIGILTV_MART-1_Cancer_binder                                     0   \n",
       "A0201_GILGFVFTL_Flu-MP_Influenza_binder                                   1   \n",
       "A0201_GLCTLVAML_BMLF1_EBV_binder                                          0   \n",
       "A0301_KLGGALQAK_IE-1_CMV_binder                                           3   \n",
       "A0301_RLRAEAQVK_EMNA-3A_EBV_binder                                        0   \n",
       "A1101_AVFDRKSDAK_EBNA-3B_EBV_binder                                       0   \n",
       "A1101_IVTDFSVIK_EBNA-3B_EBV_binder                                        0   \n",
       "B0801_RAKFKQLL_BZLF1_EBV_binder                                           0   \n",
       "\n",
       "pred_binding_name                        A1101_AVFDRKSDAK_EBNA-3B_EBV_binder  \\\n",
       "binding_name                                                                   \n",
       "A0201_ELAGIGILTV_MART-1_Cancer_binder                                      0   \n",
       "A0201_GILGFVFTL_Flu-MP_Influenza_binder                                    3   \n",
       "A0201_GLCTLVAML_BMLF1_EBV_binder                                           0   \n",
       "A0301_KLGGALQAK_IE-1_CMV_binder                                           22   \n",
       "A0301_RLRAEAQVK_EMNA-3A_EBV_binder                                         1   \n",
       "A1101_AVFDRKSDAK_EBNA-3B_EBV_binder                                      582   \n",
       "A1101_IVTDFSVIK_EBNA-3B_EBV_binder                                         1   \n",
       "B0801_RAKFKQLL_BZLF1_EBV_binder                                            3   \n",
       "\n",
       "pred_binding_name                        A1101_IVTDFSVIK_EBNA-3B_EBV_binder  \\\n",
       "binding_name                                                                  \n",
       "A0201_ELAGIGILTV_MART-1_Cancer_binder                                     0   \n",
       "A0201_GILGFVFTL_Flu-MP_Influenza_binder                                   0   \n",
       "A0201_GLCTLVAML_BMLF1_EBV_binder                                          0   \n",
       "A0301_KLGGALQAK_IE-1_CMV_binder                                          64   \n",
       "A0301_RLRAEAQVK_EMNA-3A_EBV_binder                                        0   \n",
       "A1101_AVFDRKSDAK_EBNA-3B_EBV_binder                                      55   \n",
       "A1101_IVTDFSVIK_EBNA-3B_EBV_binder                                       14   \n",
       "B0801_RAKFKQLL_BZLF1_EBV_binder                                           2   \n",
       "\n",
       "pred_binding_name                        B0801_RAKFKQLL_BZLF1_EBV_binder  \n",
       "binding_name                                                              \n",
       "A0201_ELAGIGILTV_MART-1_Cancer_binder                                  1  \n",
       "A0201_GILGFVFTL_Flu-MP_Influenza_binder                                5  \n",
       "A0201_GLCTLVAML_BMLF1_EBV_binder                                       0  \n",
       "A0301_KLGGALQAK_IE-1_CMV_binder                                       31  \n",
       "A0301_RLRAEAQVK_EMNA-3A_EBV_binder                                     0  \n",
       "A1101_AVFDRKSDAK_EBNA-3B_EBV_binder                                  112  \n",
       "A1101_IVTDFSVIK_EBNA-3B_EBV_binder                                     7  \n",
       "B0801_RAKFKQLL_BZLF1_EBV_binder                                      978  "
      ]
     },
     "execution_count": 57,
     "metadata": {},
     "output_type": "execute_result"
    }
   ],
   "source": [
    "pd.crosstab(z_val.obs[classes], z_val.obs['pred_'+classes])"
   ]
  },
  {
   "cell_type": "code",
   "execution_count": 58,
   "id": "increased-basis",
   "metadata": {},
   "outputs": [
    {
     "name": "stderr",
     "output_type": "stream",
     "text": [
      "COMET INFO: ---------------------------\n",
      "COMET INFO: Comet.ml Experiment Summary\n",
      "COMET INFO: ---------------------------\n",
      "COMET INFO:   Data:\n",
      "COMET INFO:     display_summary_level : 1\n",
      "COMET INFO:     url                   : https://www.comet.ml/tcr/10x-gru/9066a99889234505b92223cc76cf4c8c\n",
      "COMET INFO:   Metrics [count] (min, max):\n",
      "COMET INFO:     A0201_ELAGIGILTV_MART-1_Cancer_binder_f1-score    : 0.17721518987341772\n",
      "COMET INFO:     A0201_ELAGIGILTV_MART-1_Cancer_binder_precision   : 0.22580645161290322\n",
      "COMET INFO:     A0201_ELAGIGILTV_MART-1_Cancer_binder_recall      : 0.14583333333333334\n",
      "COMET INFO:     A0201_ELAGIGILTV_MART-1_Cancer_binder_support     : 48\n",
      "COMET INFO:     A0201_GILGFVFTL_Flu-MP_Influenza_binder_f1-score  : 0.8588770864946889\n",
      "COMET INFO:     A0201_GILGFVFTL_Flu-MP_Influenza_binder_precision : 0.8689866939611054\n",
      "COMET INFO:     A0201_GILGFVFTL_Flu-MP_Influenza_binder_recall    : 0.849\n",
      "COMET INFO:     A0201_GILGFVFTL_Flu-MP_Influenza_binder_support   : 1000\n",
      "COMET INFO:     A0201_GLCTLVAML_BMLF1_EBV_binder_f1-score         : 0.16494845360824742\n",
      "COMET INFO:     A0201_GLCTLVAML_BMLF1_EBV_binder_precision        : 0.14545454545454545\n",
      "COMET INFO:     A0201_GLCTLVAML_BMLF1_EBV_binder_recall           : 0.19047619047619047\n",
      "COMET INFO:     A0201_GLCTLVAML_BMLF1_EBV_binder_support          : 84\n",
      "COMET INFO:     A0301_KLGGALQAK_IE-1_CMV_binder_f1-score          : 0.8546368595571718\n",
      "COMET INFO:     A0301_KLGGALQAK_IE-1_CMV_binder_precision         : 0.7801210701034954\n",
      "COMET INFO:     A0301_KLGGALQAK_IE-1_CMV_binder_recall            : 0.9448912015137181\n",
      "COMET INFO:     A0301_KLGGALQAK_IE-1_CMV_binder_support           : 4228\n",
      "COMET INFO:     A0301_RLRAEAQVK_EMNA-3A_EBV_binder_f1-score       : 1\n",
      "COMET INFO:     A0301_RLRAEAQVK_EMNA-3A_EBV_binder_precision      : 1\n",
      "COMET INFO:     A0301_RLRAEAQVK_EMNA-3A_EBV_binder_recall         : 1\n",
      "COMET INFO:     A0301_RLRAEAQVK_EMNA-3A_EBV_binder_support        : 59\n",
      "COMET INFO:     A1101_AVFDRKSDAK_EBNA-3B_EBV_binder_f1-score      : 0.6385079539221064\n",
      "COMET INFO:     A1101_AVFDRKSDAK_EBNA-3B_EBV_binder_precision     : 0.9509803921568627\n",
      "COMET INFO:     A1101_AVFDRKSDAK_EBNA-3B_EBV_binder_recall        : 0.4805945499587118\n",
      "COMET INFO:     A1101_AVFDRKSDAK_EBNA-3B_EBV_binder_support       : 1211\n",
      "COMET INFO:     A1101_IVTDFSVIK_EBNA-3B_EBV_binder_f1-score       : 0.09824561403508772\n",
      "COMET INFO:     A1101_IVTDFSVIK_EBNA-3B_EBV_binder_precision      : 0.1037037037037037\n",
      "COMET INFO:     A1101_IVTDFSVIK_EBNA-3B_EBV_binder_recall         : 0.09333333333333334\n",
      "COMET INFO:     A1101_IVTDFSVIK_EBNA-3B_EBV_binder_support        : 150\n",
      "COMET INFO:     B0801_RAKFKQLL_BZLF1_EBV_binder_f1-score          : 0.7893462469733655\n",
      "COMET INFO:     B0801_RAKFKQLL_BZLF1_EBV_binder_precision         : 0.8624338624338624\n",
      "COMET INFO:     B0801_RAKFKQLL_BZLF1_EBV_binder_recall            : 0.7276785714285714\n",
      "COMET INFO:     B0801_RAKFKQLL_BZLF1_EBV_binder_support           : 1344\n",
      "COMET INFO:     Train KLD Loss [2]                                : (0.0068328529596328735, 0.009331850335001945)\n",
      "COMET INFO:     Train Loss [2]                                    : (0.8796100616455078, 1.691470742225647)\n",
      "COMET INFO:     Train TCR Loss [2]                                : (0.8589545488357544, 1.6725544929504395)\n",
      "COMET INFO:     Train scRNA Loss [2]                              : (0.011323648504912853, 0.012083577923476696)\n",
      "COMET INFO:     Val KLD Loss [2]                                  : (0.007605445571243763, 0.009530678391456604)\n",
      "COMET INFO:     Val Loss [2]                                      : (1.379727840423584, 1.710431456565857)\n",
      "COMET INFO:     Val TCR Loss [2]                                  : (1.3587263822555542, 1.691283106803894)\n",
      "COMET INFO:     Val scRNA Loss [2]                                : (0.011470748111605644, 0.011543037369847298)\n",
      "COMET INFO:     accuracy                                          : 0.7928360413589365\n",
      "COMET INFO:     loss [206]                                        : (0.760510265827179, 3.219269037246704)\n",
      "COMET INFO:     macro avg_f1-score                                : 0.44772217555801075\n",
      "COMET INFO:     macro avg_precision                               : 0.4921858399283098\n",
      "COMET INFO:     macro avg_recall                                  : 0.42897589750548226\n",
      "COMET INFO:     macro avg_support                                 : 8124\n",
      "COMET INFO:     weighted avg_f1-score                             : 0.78083395595231\n",
      "COMET INFO:     weighted avg_precision                            : 0.8021540363642187\n",
      "COMET INFO:     weighted avg_recall                               : 0.7928360413589365\n",
      "COMET INFO:     weighted avg_support                              : 8124\n",
      "COMET INFO:   Parameters [count]:\n",
      "COMET INFO:     activation              : leakyrelu\n",
      "COMET INFO:     affinity                : precomputed\n",
      "COMET INFO:     algorithm               : auto\n",
      "COMET INFO:     batch_norm              : True\n",
      "COMET INFO:     batch_size              : 256\n",
      "COMET INFO:     dropout                 : 0.2\n",
      "COMET INFO:     eigen_solver            : 1\n",
      "COMET INFO:     experiment_name         : 10x_bigru_paper_oriented_20210308-14.51\n",
      "COMET INFO:     gamma                   : 1\n",
      "COMET INFO:     hdim                    : 800\n",
      "COMET INFO:     leaf_size               : 30\n",
      "COMET INFO:     loss_weights            : [0.1, 1.0, 5e-05]\n",
      "COMET INFO:     losses                  : ['MSE', 'CE']\n",
      "COMET INFO:     lr                      : 0.001\n",
      "COMET INFO:     metric                  : minkowski\n",
      "COMET INFO:     metric_params           : 1\n",
      "COMET INFO:     n_components            : 2\n",
      "COMET INFO:     n_jobs                  : 1\n",
      "COMET INFO:     n_neighbors [2]         : 5\n",
      "COMET INFO:     p                       : 2\n",
      "COMET INFO:     scRNA_model_arch        : MLP\n",
      "COMET INFO:     scRNA_model_hyperparams : {\"activation\": \"leakyrelu\", \"batch_norm\": true, \"dropout\": 0.2, \"gene_hidden\": [800], \"output_activation\": \"relu\"}\n",
      "COMET INFO:     seq_model_arch          : BiGRU\n",
      "COMET INFO:     seq_model_hyperparams   : {\"bidirectional\": true, \"dropout\": 0.1, \"embedding_dim\": 64, \"hidden_size\": 256, \"num_layers\": 2}\n",
      "COMET INFO:     shared_hidden           : [200]\n",
      "COMET INFO:     weights                 : distance\n",
      "COMET INFO:     zdim                    : 100\n",
      "COMET INFO:   Uploads [count]:\n",
      "COMET INFO:     confusion-matrix         : 1\n",
      "COMET INFO:     environment details      : 1\n",
      "COMET INFO:     figures [36]             : 36\n",
      "COMET INFO:     filename                 : 1\n",
      "COMET INFO:     git metadata             : 1\n",
      "COMET INFO:     git-patch (uncompressed) : 1 (9 MB)\n",
      "COMET INFO:     installed packages       : 1\n",
      "COMET INFO:     model graph              : 1\n",
      "COMET INFO:     notebook                 : 1\n",
      "COMET INFO:     source_code              : 1\n",
      "COMET INFO:     text-sample              : 1\n",
      "COMET INFO: ---------------------------\n",
      "COMET INFO: Uploading metrics, params, and assets to Comet before program termination (may take several seconds)\n",
      "COMET INFO: The Python SDK has 3600 seconds to finish before aborting...\n",
      "COMET INFO: Waiting for completion of the file uploads (may take several seconds)\n",
      "COMET INFO: The Python SDK has 10800 seconds to finish before aborting...\n",
      "COMET INFO: Still uploading 7 file(s)\n",
      "COMET INFO: Still uploading 4 file(s)\n",
      "COMET INFO: Still uploading 2 file(s)\n"
     ]
    }
   ],
   "source": [
    "experiment.end()"
   ]
  }
 ],
 "metadata": {
  "accelerator": "GPU",
  "colab": {
   "collapsed_sections": [],
   "name": "10x_dataset_random-train-test-split.ipynb",
   "provenance": []
  },
  "kernelspec": {
   "display_name": "Python 3",
   "language": "python",
   "name": "python3"
  },
  "language_info": {
   "codemirror_mode": {
    "name": "ipython",
    "version": 3
   },
   "file_extension": ".py",
   "mimetype": "text/x-python",
   "name": "python",
   "nbconvert_exporter": "python",
   "pygments_lexer": "ipython3",
   "version": "3.8.5"
  }
 },
 "nbformat": 4,
 "nbformat_minor": 5
}
