{
 "cells": [
  {
   "cell_type": "markdown",
   "id": "favorite-criterion",
   "metadata": {},
   "source": [
    "# Colab Init"
   ]
  },
  {
   "cell_type": "code",
   "execution_count": null,
   "id": "final-greensboro",
   "metadata": {},
   "outputs": [],
   "source": [
    "if 'google.colab' in str(get_ipython()):\n",
    "    print('Running on Colab')\n",
    "    from google.colab import drive\n",
    "    drive.mount('/content/drive/', force_remount=True)\n",
    "    %cd /content/drive/MyDrive/tcr-embedding/example/"
   ]
  },
  {
   "cell_type": "code",
   "execution_count": null,
   "id": "quality-table",
   "metadata": {},
   "outputs": [],
   "source": [
    "if 'google.colab' in str(get_ipython()):\n",
    "    !pip install comet-ml scanpy scirpy"
   ]
  },
  {
   "cell_type": "markdown",
   "id": "julian-marking",
   "metadata": {},
   "source": [
    "# Config"
   ]
  },
  {
   "cell_type": "code",
   "execution_count": null,
   "id": "cognitive-bolivia",
   "metadata": {
    "id": "configured-intensity"
   },
   "outputs": [],
   "source": [
    "from comet_ml import Experiment\n",
    "import scanpy as sc\n",
    "import scirpy as ir\n",
    "import pandas as pd\n",
    "import torch\n",
    "import yaml\n",
    "import numpy as np\n",
    "import matplotlib.pyplot as plt\n",
    "from datetime import datetime"
   ]
  },
  {
   "cell_type": "code",
   "execution_count": null,
   "id": "documentary-virus",
   "metadata": {
    "id": "downtown-actor"
   },
   "outputs": [],
   "source": [
    "import sys\n",
    "sys.path.append('../')\n",
    "import tcr_embedding as tcr"
   ]
  },
  {
   "cell_type": "code",
   "execution_count": null,
   "id": "processed-conspiracy",
   "metadata": {},
   "outputs": [],
   "source": [
    "CONFIG_NAME = 'bigru_paper_oriented'\n",
    "current_datetime = datetime.now().strftime(\"%Y%m%d-%H.%M\")\n",
    "experiment_name = '10x_' + CONFIG_NAME + '_' + current_datetime"
   ]
  },
  {
   "cell_type": "code",
   "execution_count": null,
   "id": "conscious-software",
   "metadata": {},
   "outputs": [],
   "source": [
    "experiment_name"
   ]
  },
  {
   "cell_type": "code",
   "execution_count": null,
   "id": "chubby-profile",
   "metadata": {
    "id": "express-apache"
   },
   "outputs": [],
   "source": [
    "%load_ext autoreload\n",
    "%autoreload 2"
   ]
  },
  {
   "cell_type": "markdown",
   "id": "studied-processor",
   "metadata": {
    "id": "defensive-mouse"
   },
   "source": [
    "# Load dataset"
   ]
  },
  {
   "cell_type": "markdown",
   "id": "manual-attribute",
   "metadata": {
    "id": "narrow-environment"
   },
   "source": [
    "### 10x Dataset"
   ]
  },
  {
   "cell_type": "code",
   "execution_count": null,
   "id": "afraid-illinois",
   "metadata": {
    "colab": {
     "base_uri": "https://localhost:8080/"
    },
    "id": "angry-bundle",
    "outputId": "7a207357-f051-4246-9313-907c76443105"
   },
   "outputs": [],
   "source": [
    "adata = sc.read_h5ad('../data/10x_CD8TC/v5_train_val_test.h5ad')\n",
    "adata"
   ]
  },
  {
   "cell_type": "markdown",
   "id": "improving-traffic",
   "metadata": {},
   "source": [
    "### Split data into train and val, filter out test set to keep it untouched"
   ]
  },
  {
   "cell_type": "code",
   "execution_count": null,
   "id": "disabled-tobago",
   "metadata": {},
   "outputs": [],
   "source": [
    "adata.obs['set'].value_counts() / len(adata)"
   ]
  },
  {
   "cell_type": "code",
   "execution_count": null,
   "id": "hispanic-grant",
   "metadata": {},
   "outputs": [],
   "source": [
    "adata = adata[adata.obs['set'] != 'test']\n",
    "adata.obs['set'].value_counts() / len(adata)"
   ]
  },
  {
   "cell_type": "code",
   "execution_count": null,
   "id": "refined-reminder",
   "metadata": {},
   "outputs": [],
   "source": [
    "train_adata = adata[adata.obs['set'] == 'train']\n",
    "val_adata = adata[adata.obs['set'] == 'val']"
   ]
  },
  {
   "cell_type": "markdown",
   "id": "amber-november",
   "metadata": {
    "id": "tropical-toyota"
   },
   "source": [
    "# Initialize and train model"
   ]
  },
  {
   "cell_type": "code",
   "execution_count": null,
   "id": "maritime-heritage",
   "metadata": {
    "colab": {
     "base_uri": "https://localhost:8080/"
    },
    "id": "published-reform",
    "outputId": "23825b94-ba27-40dc-e8c1-30fa6102e703"
   },
   "outputs": [],
   "source": [
    "with open(f'../config/{CONFIG_NAME}.yaml') as file:\n",
    "     params = yaml.load(file)\n",
    "params"
   ]
  },
  {
   "cell_type": "markdown",
   "id": "necessary-catalyst",
   "metadata": {},
   "source": [
    "#### If Comet ML is not wanted, set experiment=None"
   ]
  },
  {
   "cell_type": "code",
   "execution_count": null,
   "id": "operational-emperor",
   "metadata": {
    "id": "demanding-insider"
   },
   "outputs": [],
   "source": [
    "with open('../comet_ml_key/API_key.txt') as f:\n",
    "    COMET_ML_KEY = f.read()\n",
    "\n",
    "experiment = Experiment(api_key=COMET_ML_KEY, workspace='tcr', project_name='10x_GRU')\n",
    "experiment.log_parameters(params)\n",
    "experiment.log_parameter('experiment_name', experiment_name)"
   ]
  },
  {
   "cell_type": "code",
   "execution_count": null,
   "id": "given-things",
   "metadata": {
    "id": "thrown-puzzle",
    "scrolled": true
   },
   "outputs": [],
   "source": [
    "model = tcr.models.joint_model.JointModel(\n",
    "    adatas=[adata],  # adatas containing gene expression and TCR-seq\n",
    "    names=['10x'],\n",
    "    aa_to_id = adata.uns['aa_to_id'],  # dict {aa_char: id}\n",
    "    seq_model_arch=params['seq_model_arch'],  # seq model architecture\n",
    "    seq_model_hyperparams=params['seq_model_hyperparams'],  # dict of seq model hyperparameters\n",
    "    scRNA_model_arch=params['scRNA_model_arch'],\n",
    "    scRNA_model_hyperparams=params['scRNA_model_hyperparams'],\n",
    "    zdim=params['zdim'],  # zdim\n",
    "    hdim=params['hdim'],  # hidden dimension of scRNA and seq encoders\n",
    "    activation=params['activation'],  # activation function of autoencoder hidden layers\n",
    "    dropout=params['dropout'],\n",
    "    batch_norm=params['batch_norm'],\n",
    "    shared_hidden=params['shared_hidden'],  # hidden layers of shared encoder / decoder\n",
    "    gene_layers=[],  # [] or list of str for layer keys of each dataset\n",
    "    seq_keys=[]  # [] or list of str for seq keys of each dataset\n",
    ")"
   ]
  },
  {
   "cell_type": "code",
   "execution_count": null,
   "id": "latter-arcade",
   "metadata": {
    "colab": {
     "base_uri": "https://localhost:8080/"
    },
    "id": "athletic-intellectual",
    "outputId": "5dca570c-e0d6-4360-cc33-50d13395d12b",
    "scrolled": true
   },
   "outputs": [],
   "source": [
    "# print model architecture\n",
    "model.model"
   ]
  },
  {
   "cell_type": "code",
   "execution_count": null,
   "id": "exact-kinase",
   "metadata": {
    "colab": {
     "base_uri": "https://localhost:8080/"
    },
    "id": "tracked-luther",
    "outputId": "b5282313-441d-4e50-b5a2-28e38f48d2f7",
    "scrolled": true
   },
   "outputs": [],
   "source": [
    "model.train(\n",
    "    experiment_name=experiment_name,\n",
    "    n_iters=None,\n",
    "    n_epochs=300,\n",
    "    batch_size=params['batch_size'],\n",
    "    lr=params['lr'],\n",
    "    losses=params['losses'],  # list of losses for each modality: losses[0] := scRNA, losses[1] := TCR\n",
    "    loss_weights=params['loss_weights'],  # [] or list of floats storing weighting of loss in order [scRNA, TCR, KLD]\n",
    "    val_split='set',  # float or str, if float: split is determined automatically, if str: used as key for train-val column\n",
    "    metadata=['tcr_seq'],\n",
    "    validate_every=5,\n",
    "    print_every=5,\n",
    "    save_every=25,\n",
    "    num_workers=0,\n",
    "    verbose=1,  # 0: only tdqm progress bar, 1: val loss, 2: train and val loss\n",
    "#     continue_training=True,\n",
    "    device=None,\n",
    "    comet=experiment\n",
    ")"
   ]
  },
  {
   "cell_type": "code",
   "execution_count": null,
   "id": "informative-fashion",
   "metadata": {
    "id": "corresponding-knock"
   },
   "outputs": [],
   "source": [
    "model.history"
   ]
  },
  {
   "cell_type": "code",
   "execution_count": null,
   "id": "difficult-lucas",
   "metadata": {
    "id": "Bu6jOgU3Yffx"
   },
   "outputs": [],
   "source": [
    "model.train_history"
   ]
  },
  {
   "cell_type": "code",
   "execution_count": null,
   "id": "alike-compilation",
   "metadata": {
    "id": "S1JnaLq-XYTH"
   },
   "outputs": [],
   "source": [
    "import matplotlib.pyplot as plt\n",
    "plt.figure(figsize=(15, 10));\n",
    "plt.subplot(221);\n",
    "plt.plot(model.train_history['epoch'], model.train_history['loss'], '.-', label='Train loss');\n",
    "plt.plot(model.history['epoch'], model.history['loss'], '.-', label='Val loss');\n",
    "plt.legend();\n",
    "\n",
    "plt.subplot(222);\n",
    "plt.plot(model.train_history['epoch'], model.train_history['scRNA_loss'], '.-', label='Train scRNA loss');\n",
    "plt.plot(model.history['epoch'], model.history['scRNA_loss'], '.-', label='Val scRNA loss');\n",
    "plt.legend();\n",
    "\n",
    "plt.subplot(223);\n",
    "plt.plot(model.train_history['epoch'], model.train_history['TCR_loss'], '.-', label='Train TCR loss');\n",
    "plt.plot(model.history['epoch'], model.history['TCR_loss'], '.-', label='Val TCR loss');\n",
    "plt.xlabel('#Epochs');\n",
    "plt.legend();\n",
    "\n",
    "plt.subplot(224);\n",
    "plt.plot(model.train_history['epoch'], model.train_history['KLD_loss'], '.-', label='Train KLD loss');\n",
    "plt.plot(model.history['epoch'], model.history['KLD_loss'], '.-', label='Val KLD loss');\n",
    "plt.xlabel('#');\n",
    "plt.legend();\n"
   ]
  },
  {
   "cell_type": "markdown",
   "id": "hundred-exhibition",
   "metadata": {
    "id": "distant-paragraph"
   },
   "source": [
    "# UMAP Plot of latent space"
   ]
  },
  {
   "cell_type": "code",
   "execution_count": null,
   "id": "realistic-syracuse",
   "metadata": {},
   "outputs": [],
   "source": [
    "# List of antigens from David Fischer's paper, basically the 8 most common antigens\n",
    "high_antigen_count = ['A0201_ELAGIGILTV_MART-1_Cancer_binder', \n",
    "                      'A0201_GILGFVFTL_Flu-MP_Influenza_binder', \n",
    "                      'A0201_GLCTLVAML_BMLF1_EBV_binder', \n",
    "                      'A0301_KLGGALQAK_IE-1_CMV_binder', \n",
    "                      'A0301_RLRAEAQVK_EMNA-3A_EBV_binder', \n",
    "                      'A1101_IVTDFSVIK_EBNA-3B_EBV_binder', \n",
    "                      'A1101_AVFDRKSDAK_EBNA-3B_EBV_binder', \n",
    "                      'B0801_RAKFKQLL_BZLF1_EBV_binder']"
   ]
  },
  {
   "cell_type": "markdown",
   "id": "northern-roulette",
   "metadata": {
    "id": "m-ATVz3hPoRp"
   },
   "source": [
    "### On Val Data"
   ]
  },
  {
   "cell_type": "markdown",
   "id": "fossil-collect",
   "metadata": {
    "id": "GODttFyxTILu"
   },
   "source": [
    "Filter cells with no binding data and only UMAP on high count antigen bindings"
   ]
  },
  {
   "cell_type": "code",
   "execution_count": null,
   "id": "distinct-manchester",
   "metadata": {
    "id": "j_-64u1GCqHz"
   },
   "outputs": [],
   "source": [
    "val_adata = val_adata[val_adata.obs['has_binding']]"
   ]
  },
  {
   "cell_type": "code",
   "execution_count": null,
   "id": "diverse-monday",
   "metadata": {
    "id": "mLjWLs1xC2HG",
    "scrolled": false
   },
   "outputs": [],
   "source": [
    "val_adata.obs['binding_name'].value_counts()"
   ]
  },
  {
   "cell_type": "code",
   "execution_count": null,
   "id": "described-tunisia",
   "metadata": {
    "id": "XYT85hYWDGR0"
   },
   "outputs": [],
   "source": [
    "val_adata"
   ]
  },
  {
   "cell_type": "markdown",
   "id": "waiting-jersey",
   "metadata": {
    "id": "n9-iuP8gTQq6"
   },
   "source": [
    "Use last saved model"
   ]
  },
  {
   "cell_type": "code",
   "execution_count": null,
   "id": "violent-chemistry",
   "metadata": {
    "id": "tC4CLsjzQ9Hb"
   },
   "outputs": [],
   "source": [
    "model.load(f'../saved_models/{experiment_name}_last_model.pt')"
   ]
  },
  {
   "cell_type": "code",
   "execution_count": null,
   "id": "modern-hawaiian",
   "metadata": {
    "id": "caroline-quest"
   },
   "outputs": [],
   "source": [
    "z = model.get_latent(\n",
    "    adatas=[val_adata],\n",
    "    names=['10x'],\n",
    "    batch_size=256,\n",
    "    num_workers=0,\n",
    "    gene_layers=[],\n",
    "    seq_keys=[],\n",
    "    metadata=high_antigen_count + ['binding_name']\n",
    ")"
   ]
  },
  {
   "cell_type": "code",
   "execution_count": null,
   "id": "better-involvement",
   "metadata": {
    "id": "bulgarian-touch"
   },
   "outputs": [],
   "source": [
    "z"
   ]
  },
  {
   "cell_type": "code",
   "execution_count": null,
   "id": "incident-increase",
   "metadata": {
    "id": "operational-asbestos"
   },
   "outputs": [],
   "source": [
    "sc.pp.neighbors(z, use_rep='X')\n",
    "sc.tl.umap(z)"
   ]
  },
  {
   "cell_type": "code",
   "execution_count": null,
   "id": "major-leader",
   "metadata": {
    "id": "JWQUhq8hAUGA"
   },
   "outputs": [],
   "source": [
    "# plt.figure(figsize=(10,10))\n",
    "for antigen in high_antigen_count:\n",
    "    ax = sc.pl.umap(z, color=antigen, return_fig=True, alpha=0.3)\n",
    "    experiment.log_figure(figure_name=f'val_{antigen}', figure=ax, step=model.epoch, overwrite=False)\n",
    "    ax.clf()\n",
    "ax = sc.pl.umap(z, color='binding_name', return_fig=True, alpha=0.2)\n",
    "experiment.log_figure(figure_name=f'val_binding_name', figure=ax, step=model.epoch, overwrite=False)\n",
    "ax.clf()"
   ]
  },
  {
   "cell_type": "markdown",
   "id": "major-somalia",
   "metadata": {
    "id": "qTwsztzqTS-D"
   },
   "source": [
    "Use \"best\" saved model (currently based on val_loss)"
   ]
  },
  {
   "cell_type": "code",
   "execution_count": null,
   "id": "knowing-happening",
   "metadata": {
    "id": "jbTQz4Q5AUGI"
   },
   "outputs": [],
   "source": [
    "model.load(f'../saved_models/{experiment_name}_best_model.pt')"
   ]
  },
  {
   "cell_type": "code",
   "execution_count": null,
   "id": "limiting-separation",
   "metadata": {
    "id": "pAs2i7HYAUGJ"
   },
   "outputs": [],
   "source": [
    "z = model.get_latent(\n",
    "    adatas=[val_adata],\n",
    "    names=['10x'],\n",
    "    batch_size=256,\n",
    "    num_workers=0,\n",
    "    gene_layers=[],\n",
    "    seq_keys=[],\n",
    "    metadata=high_antigen_count + ['binding_name']\n",
    ")"
   ]
  },
  {
   "cell_type": "code",
   "execution_count": null,
   "id": "realistic-remains",
   "metadata": {
    "id": "6UahFjg-AUGJ"
   },
   "outputs": [],
   "source": [
    "sc.pp.neighbors(z, use_rep='X')\n",
    "sc.tl.umap(z)"
   ]
  },
  {
   "cell_type": "code",
   "execution_count": null,
   "id": "universal-comfort",
   "metadata": {
    "id": "vSB0qh1EAUGJ"
   },
   "outputs": [],
   "source": [
    "# plt.figure(figsize=(10,10))\n",
    "for antigen in high_antigen_count:\n",
    "    ax = sc.pl.umap(z, color=antigen, return_fig=True, alpha=0.2)\n",
    "    experiment.log_figure(figure_name=f'val_{antigen}', figure=ax, step=model.epoch, overwrite=False)\n",
    "    ax.clf()\n",
    "ax = sc.pl.umap(z, color='binding_name', return_fig=True, alpha=0.2)\n",
    "experiment.log_figure(figure_name=f'val_binding_name', figure=ax, step=model.epoch, overwrite=False)\n",
    "ax.clf()"
   ]
  },
  {
   "cell_type": "markdown",
   "id": "quarterly-ozone",
   "metadata": {
    "id": "XJpztxU_QAGq"
   },
   "source": [
    "### On Train Data"
   ]
  },
  {
   "cell_type": "markdown",
   "id": "funky-sherman",
   "metadata": {
    "id": "pAivU1E1TYLK"
   },
   "source": [
    "Filter cells with no binding data and only UMAP on high count antigen bindings"
   ]
  },
  {
   "cell_type": "code",
   "execution_count": null,
   "id": "magnetic-trace",
   "metadata": {
    "id": "nkR8MNBxQAG0"
   },
   "outputs": [],
   "source": [
    "train_adata = train_adata[train_adata.obs['has_binding']]"
   ]
  },
  {
   "cell_type": "code",
   "execution_count": null,
   "id": "civilian-length",
   "metadata": {
    "id": "_ru2YvFzQAG1"
   },
   "outputs": [],
   "source": [
    "train_adata.obs['binding_name'].value_counts()"
   ]
  },
  {
   "cell_type": "code",
   "execution_count": null,
   "id": "accurate-equivalent",
   "metadata": {
    "id": "WhxlfJLVQAG3"
   },
   "outputs": [],
   "source": [
    "train_adata"
   ]
  },
  {
   "cell_type": "markdown",
   "id": "informative-vegetation",
   "metadata": {
    "id": "S0z_HQowTwxd"
   },
   "source": [
    "Use last saved model"
   ]
  },
  {
   "cell_type": "code",
   "execution_count": null,
   "id": "greek-reception",
   "metadata": {
    "id": "RoouNJ6uQAG3"
   },
   "outputs": [],
   "source": [
    "model.load(f'../saved_models/{experiment_name}_last_model.pt')"
   ]
  },
  {
   "cell_type": "code",
   "execution_count": null,
   "id": "proved-hebrew",
   "metadata": {
    "id": "IlXZUDz7QAG4"
   },
   "outputs": [],
   "source": [
    "z = model.get_latent(\n",
    "    adatas=[train_adata],\n",
    "    names=['10x'],\n",
    "    batch_size=256,\n",
    "    num_workers=0,\n",
    "    gene_layers=[],\n",
    "    seq_keys=[],\n",
    "    metadata=high_antigen_count + ['binding_name']\n",
    ")"
   ]
  },
  {
   "cell_type": "code",
   "execution_count": null,
   "id": "billion-fourth",
   "metadata": {
    "id": "iRxwbob-QAG4"
   },
   "outputs": [],
   "source": [
    "z"
   ]
  },
  {
   "cell_type": "code",
   "execution_count": null,
   "id": "quarterly-dating",
   "metadata": {
    "id": "ZoRkJ2vSQAG4"
   },
   "outputs": [],
   "source": [
    "sc.pp.neighbors(z, use_rep='X')\n",
    "sc.tl.umap(z)"
   ]
  },
  {
   "cell_type": "code",
   "execution_count": null,
   "id": "casual-shepherd",
   "metadata": {
    "id": "Ukkqkp51QAG4"
   },
   "outputs": [],
   "source": [
    "# plt.figure(figsize=(10,10))\n",
    "for antigen in high_antigen_count:\n",
    "    ax = sc.pl.umap(z, color=antigen, return_fig=True, alpha=0.3)\n",
    "    experiment.log_figure(figure_name=f'train_{antigen}', figure=ax, step=model.epoch, overwrite=False)\n",
    "    ax.clf()\n",
    "ax = sc.pl.umap(z, color='binding_name', return_fig=True, alpha=0.2)\n",
    "experiment.log_figure(figure_name=f'train_binding_name', figure=ax, step=model.epoch, overwrite=False)\n",
    "ax.clf()"
   ]
  },
  {
   "cell_type": "markdown",
   "id": "lasting-brooklyn",
   "metadata": {
    "id": "3QsbmVgXTyjl"
   },
   "source": [
    "Use \"best\" saved model, (currently based on val loss)"
   ]
  },
  {
   "cell_type": "code",
   "execution_count": null,
   "id": "excellent-miracle",
   "metadata": {
    "id": "CUrSPGATQAG5"
   },
   "outputs": [],
   "source": [
    "model.load(f'../saved_models/{experiment_name}_best_model.pt')"
   ]
  },
  {
   "cell_type": "code",
   "execution_count": null,
   "id": "swiss-encoding",
   "metadata": {
    "id": "zimzf1PLQAG5"
   },
   "outputs": [],
   "source": [
    "z = model.get_latent(\n",
    "    adatas=[train_adata],\n",
    "    names=['10x'],\n",
    "    batch_size=256,\n",
    "    num_workers=0,\n",
    "    gene_layers=[],\n",
    "    seq_keys=[],\n",
    "    metadata=high_antigen_count + ['binding_name']\n",
    ")"
   ]
  },
  {
   "cell_type": "code",
   "execution_count": null,
   "id": "parallel-nursing",
   "metadata": {
    "id": "kxIUlIDGQAG5"
   },
   "outputs": [],
   "source": [
    "sc.pp.neighbors(z, use_rep='X')\n",
    "sc.tl.umap(z)"
   ]
  },
  {
   "cell_type": "code",
   "execution_count": null,
   "id": "cosmetic-france",
   "metadata": {
    "id": "FzirON5wQAG5"
   },
   "outputs": [],
   "source": [
    "# plt.figure(figsize=(10,10))\n",
    "for antigen in high_antigen_count:\n",
    "    ax = sc.pl.umap(z, color=antigen, return_fig=True, alpha=0.2)\n",
    "    experiment.log_figure(figure_name=f'train_{antigen}', figure=ax, step=model.epoch, overwrite=False)\n",
    "    ax.clf()\n",
    "ax = sc.pl.umap(z, color='binding_name', return_fig=True, alpha=0.2)\n",
    "experiment.log_figure(figure_name=f'train_binding_name', figure=ax, step=model.epoch, overwrite=False)\n",
    "ax.clf()"
   ]
  },
  {
   "cell_type": "markdown",
   "id": "answering-drink",
   "metadata": {
    "id": "g_4pBc-5FfmT"
   },
   "source": [
    "# kNN prediction"
   ]
  },
  {
   "cell_type": "code",
   "execution_count": null,
   "id": "complicated-documentary",
   "metadata": {
    "id": "3GvOyG7gK93L"
   },
   "outputs": [],
   "source": [
    "train_adata.obs['binding_name'].value_counts()"
   ]
  },
  {
   "cell_type": "code",
   "execution_count": null,
   "id": "light-excitement",
   "metadata": {
    "id": "RlqHnlPsK8VA"
   },
   "outputs": [],
   "source": [
    "val_adata.obs['binding_name'].value_counts()"
   ]
  },
  {
   "cell_type": "code",
   "execution_count": null,
   "id": "universal-surname",
   "metadata": {
    "id": "XQdO4TTgJDsl"
   },
   "outputs": [],
   "source": [
    "z_train = model.get_latent(\n",
    "    adatas=[train_adata],\n",
    "    names=['10x'],\n",
    "    batch_size=256,\n",
    "    num_workers=0,\n",
    "    gene_layers=[],\n",
    "    seq_keys=[],\n",
    "    metadata=['binding_name', 'binding_label']\n",
    ")"
   ]
  },
  {
   "cell_type": "code",
   "execution_count": null,
   "id": "educated-ireland",
   "metadata": {
    "id": "HysN7IVrG29U"
   },
   "outputs": [],
   "source": [
    "z_val = model.get_latent(\n",
    "    adatas=[val_adata],\n",
    "    names=['10x'],\n",
    "    batch_size=256,\n",
    "    num_workers=0,\n",
    "    gene_layers=[],\n",
    "    seq_keys=[],\n",
    "    metadata=['binding_name', 'binding_label']\n",
    ")"
   ]
  },
  {
   "cell_type": "code",
   "execution_count": null,
   "id": "solar-trail",
   "metadata": {
    "id": "gRwILEYIH0KA"
   },
   "outputs": [],
   "source": [
    "classes = 'binding_name'\n",
    "model.kNN(z_train, z_val, classes, 5, 'distance')"
   ]
  },
  {
   "cell_type": "code",
   "execution_count": null,
   "id": "previous-roman",
   "metadata": {},
   "outputs": [],
   "source": [
    "z_val = z_val[z_val.obs[classes].isin(high_antigen_count) | z_val.obs['pred_'+classes].isin(high_antigen_count)]\n",
    "z_val.shape"
   ]
  },
  {
   "cell_type": "code",
   "execution_count": null,
   "id": "local-honor",
   "metadata": {},
   "outputs": [],
   "source": [
    "(z_val.obs['pred_'+classes] == 'A0201_FLYALALLL_LMP2A_EBV_binder').sum()"
   ]
  },
  {
   "cell_type": "code",
   "execution_count": null,
   "id": "superb-vermont",
   "metadata": {
    "id": "tp6RWZmHeFvE"
   },
   "outputs": [],
   "source": [
    "from sklearn.metrics import classification_report\n",
    "print(classification_report(z_val.obs[classes], z_val.obs['pred_'+classes]))\n",
    "experiment.log_text(text=classification_report(z_val.obs[classes], z_val.obs['pred_'+classes]), step=model.epoch)"
   ]
  },
  {
   "cell_type": "code",
   "execution_count": null,
   "id": "impressed-experience",
   "metadata": {
    "id": "PONbhZA1bnkE"
   },
   "outputs": [],
   "source": [
    "experiment.log_table('confusion_matrix.csv', pd.crosstab(z_val.obs[classes], z_val.obs['pred_'+classes]))\n",
    "pd.crosstab(z_val.obs[classes], z_val.obs['pred_'+classes])"
   ]
  },
  {
   "cell_type": "code",
   "execution_count": null,
   "id": "synthetic-olive",
   "metadata": {},
   "outputs": [],
   "source": [
    "experiment.end()"
   ]
  }
 ],
 "metadata": {
  "accelerator": "GPU",
  "colab": {
   "collapsed_sections": [],
   "name": "10x_dataset_random-train-test-split.ipynb",
   "provenance": []
  },
  "kernelspec": {
   "display_name": "Python 3",
   "language": "python",
   "name": "python3"
  },
  "language_info": {
   "codemirror_mode": {
    "name": "ipython",
    "version": 3
   },
   "file_extension": ".py",
   "mimetype": "text/x-python",
   "name": "python",
   "nbconvert_exporter": "python",
   "pygments_lexer": "ipython3",
   "version": "3.8.5"
  }
 },
 "nbformat": 4,
 "nbformat_minor": 5
}
