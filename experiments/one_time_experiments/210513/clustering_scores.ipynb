{
 "cells": [
  {
   "cell_type": "markdown",
   "id": "excessive-seattle",
   "metadata": {},
   "source": [
    "# Cluster Scores\n",
    "The following scores:\n",
    "- ASW (Silhouette Score)\n",
    "- NMI (Normalized Mutual Information)\n",
    "- ARI (Adjusted Random Index)"
   ]
  },
  {
   "cell_type": "code",
   "execution_count": null,
   "id": "assisted-evidence",
   "metadata": {},
   "outputs": [],
   "source": [
    "import scanpy as sc\n",
    "import matplotlib.pyplot as plt\n",
    "import torch\n",
    "import os"
   ]
  },
  {
   "cell_type": "code",
   "execution_count": null,
   "id": "distinguished-citation",
   "metadata": {},
   "outputs": [],
   "source": [
    "import sys\n",
    "sys.path.append('../../..')\n",
    "import tcr_embedding as tcr\n",
    "\n",
    "from tcr_embedding.evaluation.Imputation import run_imputation_evaluation\n",
    "from tcr_embedding.evaluation.WrapperFunctions import get_model_prediction_function\n",
    "from tcr_embedding.evaluation.Clustering import run_clustering_evaluation"
   ]
  },
  {
   "cell_type": "code",
   "execution_count": null,
   "id": "champion-ghost",
   "metadata": {},
   "outputs": [],
   "source": [
    "import numpy as np\n",
    "import pandas as pd\n",
    "import matplotlib.pyplot as plt"
   ]
  },
  {
   "cell_type": "code",
   "execution_count": null,
   "id": "inappropriate-companion",
   "metadata": {},
   "outputs": [],
   "source": [
    "%load_ext autoreload\n",
    "%autoreload 2"
   ]
  },
  {
   "cell_type": "code",
   "execution_count": null,
   "id": "touched-atlas",
   "metadata": {},
   "outputs": [],
   "source": [
    "random_seed = 42\n",
    "import torch\n",
    "import numpy as np\n",
    "import random\n",
    "torch.manual_seed(random_seed)\n",
    "np.random.seed(random_seed)\n",
    "random.seed(random_seed)"
   ]
  },
  {
   "cell_type": "code",
   "execution_count": null,
   "id": "functioning-imaging",
   "metadata": {},
   "outputs": [],
   "source": [
    "def init_and_load_model(donor_nr, model_arch):\n",
    "    model_files = os.listdir('trained_models/')\n",
    "    model_fp = [file for file in model_files if 'd'+donor_nr in file and model_arch in file][0]\n",
    "\n",
    "    print('Loading: ', model_fp)\n",
    "    file_path = os.path.join('trained_models/', model_fp)\n",
    "    model_file = torch.load(file_path)\n",
    "    params = model_file['params']\n",
    "    \n",
    "    if 'single' in model_fp and 'separate' not in model_fp:\n",
    "        init_model = tcr.models.single_model.SingleModel\n",
    "    elif 'moe' in model_fp:\n",
    "        init_model = tcr.models.moe.MoEModel\n",
    "    elif 'poe' in model_fp:\n",
    "        init_model = tcr.models.poe.PoEModel\n",
    "    elif 'separate' in model_fp:\n",
    "        init_model = tcr.models.separate_model.SeparateModel\n",
    "    else:\n",
    "        init_model = tcr.models.joint_model.JointModel\n",
    "\n",
    "    model = init_model(\n",
    "        adatas=[adata],  # adatas containing gene expression and TCR-seq\n",
    "        aa_to_id=adata.uns['aa_to_id'],  # dict {aa_char: id}\n",
    "        seq_model_arch=params['seq_model_arch'],  # seq model architecture\n",
    "        seq_model_hyperparams=params['seq_model_hyperparams'],  # dict of seq model hyperparameters\n",
    "        scRNA_model_arch=params['scRNA_model_arch'],\n",
    "        scRNA_model_hyperparams=params['scRNA_model_hyperparams'],\n",
    "        zdim=params['zdim'],  # zdim\n",
    "        hdim=params['hdim'],  # hidden dimension of scRNA and seq encoders\n",
    "        activation=params['activation'],  # activation function of autoencoder hidden layers\n",
    "        dropout=params['dropout'],\n",
    "        batch_norm=params['batch_norm'],\n",
    "        shared_hidden=params['shared_hidden'],  # hidden layers of shared encoder / decoder\n",
    "        names=['10x'],\n",
    "        gene_layers=[],  # [] or list of str for layer keys of each dataset\n",
    "        seq_keys=[]  # [] or list of str for seq keys of each dataset\n",
    "    )\n",
    "\n",
    "    model.load(file_path)\n",
    "    return model"
   ]
  },
  {
   "cell_type": "code",
   "execution_count": null,
   "id": "stone-wallet",
   "metadata": {},
   "outputs": [],
   "source": [
    "donor_1_high_count_antigens = ['A1101_IVTDFSVIK_EBNA-3B_EBV_binder',\n",
    "                               'A0301_KLGGALQAK_IE-1_CMV_binder',\n",
    "                               'A0201_GILGFVFTL_Flu-MP_Influenza_binder',\n",
    "                               'A1101_AVFDRKSDAK_EBNA-3B_EBV_binder',\n",
    "                               'A0201_ELAGIGILTV_MART-1_Cancer_binder']\n",
    "donor_2_high_count_antigens = ['B0801_RAKFKQLL_BZLF1_EBV_binder',\n",
    "                               'A0201_GILGFVFTL_Flu-MP_Influenza_binder',\n",
    "                               'A0301_KLGGALQAK_IE-1_CMV_binder',\n",
    "                               'A0201_GLCTLVAML_BMLF1_EBV_binder',\n",
    "                               'A1101_AVFDRKSDAK_EBNA-3B_EBV_binder']\n",
    "\n",
    "donor_specific_high_count_antigens = {'1': donor_1_high_count_antigens, \n",
    "                                      '2': donor_2_high_count_antigens}"
   ]
  },
  {
   "cell_type": "code",
   "execution_count": null,
   "id": "comic-homeless",
   "metadata": {},
   "outputs": [],
   "source": [
    "donor_1_umap_params = {'scRNA': {'min_dist': 0.5,\n",
    "                                 'spread': 1.0},\n",
    "                       'single_transformer': {'min_dist': 1.2,\n",
    "                                              'spread': 1.0},\n",
    "                       'joint': {'min_dist': 0.5,\n",
    "                                 'spread': 0.2},\n",
    "                       'poe': {'min_dist': 1.0,\n",
    "                                 'spread': 0.5}}\n",
    "donor_2_umap_params = {'scRNA': {'min_dist': 0.5,\n",
    "                                 'spread': 0.8},\n",
    "                       'single_transformer': {'min_dist': 1.2,\n",
    "                                              'spread': 0.5},\n",
    "                       'joint': {'min_dist': 0.8,\n",
    "                                 'spread': 0.5},\n",
    "                       'poe': {'min_dist': 0.8,\n",
    "                                 'spread': 0.5}}\n",
    "names = {'scRNA': 'RNA-only', 'single_transformer': 'TCR-only', 'joint': 'Concat', 'poe':'PoE'}"
   ]
  },
  {
   "cell_type": "code",
   "execution_count": null,
   "id": "exceptional-advancement",
   "metadata": {},
   "outputs": [],
   "source": [
    "selected_genes = ['CD8A', 'CD8B', 'GZMA', 'CCL5', 'GZMH', 'KLRD1', 'IFNG', 'ISG15', 'IFI6', 'IFITM1', 'MX1', 'IFITM3', 'OAS1']\n",
    "selected_genes_obs = [gene + '_' for gene in selected_genes]"
   ]
  },
  {
   "cell_type": "code",
   "execution_count": null,
   "id": "impossible-continuity",
   "metadata": {},
   "outputs": [],
   "source": [
    "adata_total = sc.read('../../../data/10x_CD8TC/v6_supervised.h5ad')\n",
    "\n",
    "adata_total.obs['binding_label'][~adata_total.obs['binding_name'].isin(tcr.constants.HIGH_COUNT_ANTIGENS)] = -1\n",
    "adata_total.obs['binding_name'][~adata_total.obs['binding_name'].isin(tcr.constants.HIGH_COUNT_ANTIGENS)] = 'no_data'\n",
    "# For visualization purpose, else the scanpy plot script thinks the rare specificities are still there and the colors get skewed\n",
    "adata_total.obs['binding_name'] = adata_total.obs['binding_name'].astype(str)"
   ]
  },
  {
   "cell_type": "markdown",
   "id": "abandoned-broadcast",
   "metadata": {},
   "source": [
    "Various different settings:\n",
    "- Use X or use latent representation - Use latent representation, as it separates the antigen-binding better\n",
    "- I am doing differential expression on the preprocessed data (log-transform, normalization, etc.), does that make sense?\n",
    "- Use non-binder or not? Don't use, since we are not interested in non-binders in general and it clutters the figures\n",
    "- How high to choose the resolution? Whatever looks best in clustering\n",
    "- Does it make sense to contain TRVA/Bs and HLAs?\n",
    "- Use train, val or test? This is not supervised anymore, so we can also just use the train set.\n",
    "- Maybe we look into the individual bindings? It declutters the plots a lot, but may be that's cheating?\n",
    "- General question: Does it make sense to sample a latent space? Instead we can always use mu, which would give more stable performance measures, and probably better (truncation trick)\n"
   ]
  },
  {
   "cell_type": "markdown",
   "id": "ongoing-picking",
   "metadata": {},
   "source": [
    "# Donor 1"
   ]
  },
  {
   "cell_type": "code",
   "execution_count": null,
   "id": "passing-going",
   "metadata": {},
   "outputs": [],
   "source": [
    "donor_nr = '1'\n",
    "\n",
    "adata = adata_total[adata_total.obs['donor'] == 'donor_'+donor_nr]\n",
    "adata = adata[adata.obs['binding_name'].isin(donor_specific_high_count_antigens[donor_nr])]\n",
    "adata.obs['set'] = 'train'"
   ]
  },
  {
   "cell_type": "code",
   "execution_count": null,
   "id": "available-retro",
   "metadata": {},
   "outputs": [],
   "source": [
    "adata.obs['binding_name'].value_counts()"
   ]
  },
  {
   "cell_type": "code",
   "execution_count": null,
   "id": "regulation-psychology",
   "metadata": {
    "scrolled": true
   },
   "outputs": [],
   "source": [
    "models = ['scRNA', 'single_transformer', 'joint', 'poe']\n",
    "cluster_results = []\n",
    "\n",
    "for i in range(len(models)):\n",
    "    current_model = models[i]\n",
    "    print(current_model)\n",
    "    model = init_and_load_model(donor_nr, current_model)\n",
    "    test_embedding_func = get_model_prediction_function(model, batch_size=1024)\n",
    "    \n",
    "    resolutions = [0.01, 0.1, 1.0]\n",
    "    for resolution in resolutions:\n",
    "        cluster_result = run_clustering_evaluation(adata, test_embedding_func, 'train', name_label='binding_name', \n",
    "                                                   cluster_params={'resolution': resolution, 'num_neighbors': 5}, visualize=True)\n",
    "        cluster_result['resolution'] = resolution\n",
    "        cluster_result['model'] = current_model\n",
    "        cluster_results.append(cluster_result)"
   ]
  },
  {
   "cell_type": "code",
   "execution_count": null,
   "id": "brutal-component",
   "metadata": {},
   "outputs": [],
   "source": [
    "cluster_results = pd.DataFrame(cluster_results)\n",
    "cluster_results"
   ]
  },
  {
   "cell_type": "code",
   "execution_count": null,
   "id": "developed-auckland",
   "metadata": {
    "scrolled": true
   },
   "outputs": [],
   "source": [
    "for metric in ['silhouette_score', 'AMI', 'NMI', 'ARI']:\n",
    "    \n",
    "    for current_model in models:\n",
    "        scores = cluster_results[cluster_results['model'] == current_model][metric]\n",
    "        plt.plot(cluster_results[cluster_results['model'] == current_model]['resolution'], scores, label=current_model)\n",
    "    \n",
    "    plt.ylabel(metric)\n",
    "    plt.xlabel('resolution')\n",
    "    plt.legend()\n",
    "    plt.show()"
   ]
  },
  {
   "cell_type": "code",
   "execution_count": null,
   "id": "accepting-roberts",
   "metadata": {},
   "outputs": [],
   "source": [
    "cluster_results1 = cluster_results"
   ]
  },
  {
   "cell_type": "code",
   "execution_count": null,
   "id": "incorporated-jacket",
   "metadata": {
    "scrolled": true
   },
   "outputs": [],
   "source": [
    "for current_model in models:\n",
    "    print(current_model)\n",
    "    print(cluster_results1[cluster_results1['model'] == current_model].max())\n",
    "    print('\\n')"
   ]
  },
  {
   "cell_type": "code",
   "execution_count": null,
   "id": "animal-poverty",
   "metadata": {},
   "outputs": [],
   "source": [
    "cluster_results1.to_csv('donor1_clustering_results_resolution.csv')"
   ]
  },
  {
   "cell_type": "markdown",
   "id": "removed-vienna",
   "metadata": {},
   "source": [
    "# Donor 2"
   ]
  },
  {
   "cell_type": "code",
   "execution_count": null,
   "id": "humanitarian-belle",
   "metadata": {},
   "outputs": [],
   "source": [
    "donor_nr = '2'\n",
    "\n",
    "adata = adata_total[adata_total.obs['donor'] == 'donor_'+donor_nr]\n",
    "adata = adata[adata.obs['binding_name'].isin(donor_specific_high_count_antigens[donor_nr])]\n",
    "adata.obs['set'] = 'train'"
   ]
  },
  {
   "cell_type": "code",
   "execution_count": null,
   "id": "great-victorian",
   "metadata": {},
   "outputs": [],
   "source": [
    "adata.obs['binding_name'].value_counts()"
   ]
  },
  {
   "cell_type": "code",
   "execution_count": null,
   "id": "educational-spelling",
   "metadata": {
    "scrolled": true
   },
   "outputs": [],
   "source": [
    "models = ['scRNA', 'single_transformer', 'joint', 'poe']\n",
    "cluster_results = []\n",
    "\n",
    "for i in range(len(models)):\n",
    "    current_model = models[i]\n",
    "    print(current_model)\n",
    "    model = init_and_load_model(donor_nr, current_model)\n",
    "    test_embedding_func = get_model_prediction_function(model, batch_size=1024)\n",
    "    \n",
    "    resolutions = [0.01, 0.1, 1.0]\n",
    "    for resolution in resolutions:\n",
    "        cluster_result = run_clustering_evaluation(adata, test_embedding_func, 'train', name_label='binding_name', \n",
    "                                                   cluster_params={'resolution': resolution, 'num_neighbors': 5}, visualize=True)\n",
    "        cluster_result['resolution'] = resolution\n",
    "        cluster_result['model'] = current_model\n",
    "        cluster_results.append(cluster_result)"
   ]
  },
  {
   "cell_type": "code",
   "execution_count": null,
   "id": "perceived-gregory",
   "metadata": {
    "scrolled": true
   },
   "outputs": [],
   "source": [
    "cluster_results = pd.DataFrame(cluster_results)\n",
    "cluster_results"
   ]
  },
  {
   "cell_type": "code",
   "execution_count": null,
   "id": "played-royalty",
   "metadata": {
    "scrolled": true
   },
   "outputs": [],
   "source": [
    "for metric in ['silhouette_score', 'AMI', 'NMI', 'ARI']:\n",
    "    \n",
    "    for current_model in models:\n",
    "        scores = cluster_results[cluster_results['model'] == current_model][metric]\n",
    "        plt.plot(cluster_results[cluster_results['model'] == current_model]['resolution'], scores, label=current_model)\n",
    "    \n",
    "    plt.ylabel(metric)\n",
    "    plt.xlabel('resolution')\n",
    "    plt.legend()\n",
    "    plt.show()"
   ]
  },
  {
   "cell_type": "code",
   "execution_count": null,
   "id": "synthetic-sharing",
   "metadata": {},
   "outputs": [],
   "source": [
    "cluster_results2 = cluster_results"
   ]
  },
  {
   "cell_type": "code",
   "execution_count": null,
   "id": "freelance-tutorial",
   "metadata": {
    "scrolled": true
   },
   "outputs": [],
   "source": [
    "for current_model in models:\n",
    "    print(current_model)\n",
    "    print(cluster_results2[cluster_results2['model'] == current_model].max())\n",
    "    print('\\n')"
   ]
  },
  {
   "cell_type": "code",
   "execution_count": null,
   "id": "seven-given",
   "metadata": {},
   "outputs": [],
   "source": [
    "cluster_results2.to_csv('donor2_clustering_results_resolution.csv')"
   ]
  },
  {
   "cell_type": "code",
   "execution_count": null,
   "id": "virtual-information",
   "metadata": {},
   "outputs": [],
   "source": []
  }
 ],
 "metadata": {
  "kernelspec": {
   "display_name": "Python [conda env:tcr_update] *",
   "language": "python",
   "name": "conda-env-tcr_update-py"
  },
  "language_info": {
   "codemirror_mode": {
    "name": "ipython",
    "version": 3
   },
   "file_extension": ".py",
   "mimetype": "text/x-python",
   "name": "python",
   "nbconvert_exporter": "python",
   "pygments_lexer": "ipython3",
   "version": "3.8.8"
  }
 },
 "nbformat": 4,
 "nbformat_minor": 5
}
