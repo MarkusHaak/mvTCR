{
 "cells": [
  {
   "cell_type": "markdown",
   "metadata": {},
   "source": [
    "# Visualize weights of shared encoder to see if one modality dominates the other"
   ]
  },
  {
   "cell_type": "code",
   "execution_count": 2,
   "metadata": {},
   "outputs": [],
   "source": [
    "MODEL_PATH = '../saved_models/10x_tune_joint_cnn_epoch_00100.pt'"
   ]
  },
  {
   "cell_type": "code",
   "execution_count": 3,
   "metadata": {},
   "outputs": [
    {
     "name": "stderr",
     "output_type": "stream",
     "text": [
      "C:\\Users\\yanga\\AppData\\Local\\Continuum\\anaconda3\\envs\\tcr_update\\lib\\site-packages\\pandas\\core\\arrays\\categorical.py:2487: FutureWarning: The `inplace` parameter in pandas.Categorical.remove_unused_categories is deprecated and will be removed in a future version.\n",
      "  res = method(*args, **kwargs)\n"
     ]
    },
    {
     "data": {
      "text/plain": [
       "['no_data', 'A1101_AVFDRKSDAK_EBNA-3B_EBV_binder', 'A0301_KLGGALQAK_IE-1_CMV_binder', 'A0201_GILGFVFTL_Flu-MP_Influenza_binder', 'A1101_IVTDFSVIK_EBNA-3B_EBV_binder', 'B0801_RAKFKQLL_BZLF1_EBV_binder', 'A0301_RLRAEAQVK_EMNA-3A_EBV_binder', 'A0201_GLCTLVAML_BMLF1_EBV_binder', 'A0201_ELAGIGILTV_MART-1_Cancer_binder']\n",
       "Categories (9, object): ['no_data', 'A1101_AVFDRKSDAK_EBNA-3B_EBV_binder', 'A0301_KLGGALQAK_IE-1_CMV_binder', 'A0201_GILGFVFTL_Flu-MP_Influenza_binder', ..., 'B0801_RAKFKQLL_BZLF1_EBV_binder', 'A0301_RLRAEAQVK_EMNA-3A_EBV_binder', 'A0201_GLCTLVAML_BMLF1_EBV_binder', 'A0201_ELAGIGILTV_MART-1_Cancer_binder']"
      ]
     },
     "execution_count": 3,
     "metadata": {},
     "output_type": "execute_result"
    }
   ],
   "source": [
    "import sys\n",
    "sys.path.insert(0, '..')\n",
    "import tcr_embedding as tcr\n",
    "import scanpy as sc\n",
    "import json\n",
    "from matplotlib import rcParams\n",
    "import torch\n",
    "\n",
    "path_data = '../data/10x_CD8TC/v5_train_val_test.h5ad'\n",
    "data_full = sc.read_h5ad(path_data)\n",
    "data_full = data_full[data_full.obs['set'] != 'test']\n",
    "\n",
    "high_antigen_count = ['A0201_ELAGIGILTV_MART-1_Cancer_binder',\n",
    "                        'A0201_GILGFVFTL_Flu-MP_Influenza_binder',\n",
    "                        'A0201_GLCTLVAML_BMLF1_EBV_binder',\n",
    "                        'A0301_KLGGALQAK_IE-1_CMV_binder',\n",
    "                        'A0301_RLRAEAQVK_EMNA-3A_EBV_binder',\n",
    "                        'A1101_IVTDFSVIK_EBNA-3B_EBV_binder',\n",
    "                        'A1101_AVFDRKSDAK_EBNA-3B_EBV_binder',\n",
    "                        'B0801_RAKFKQLL_BZLF1_EBV_binder']\n",
    "\n",
    "data_full.obs['binding_name'][~data_full.obs['binding_name'].isin(high_antigen_count)] = 'no_data'\n",
    "\n",
    "data_train = data_full[data_full.obs['set'] == 'train']\n",
    "data_train.obs['binding_name'][~data_train.obs['binding_name'].isin(high_antigen_count)] = 'no_data'\n",
    "data_val = data_full[data_full.obs['set'] == 'val']\n",
    "data_val.obs['binding_name'][~data_val.obs['binding_name'].isin(high_antigen_count)] = 'no_data'\n",
    "\n",
    "data_val.obs['binding_name'].unique()"
   ]
  },
  {
   "cell_type": "code",
   "execution_count": 4,
   "metadata": {},
   "outputs": [],
   "source": [
    "model_file = torch.load(MODEL_PATH)\n",
    "# params['scRNA_model_hyperparams']['gene_hidden'] = [params['scRNA_model_hyperparams']['gene_hidden']]\n",
    "# params['shared_hidden'] = [params['shared_hidden']]"
   ]
  },
  {
   "cell_type": "code",
   "execution_count": 5,
   "metadata": {},
   "outputs": [
    {
     "name": "stdout",
     "output_type": "stream",
     "text": [
      "{'seq_model_arch': 'CNN', 'seq_model_hyperparams': {'num_features_1': 40, 'num_features_2': 75, 'num_features_3': 200, 'dropout': 0.05, 'batch_norm': False, 'embedding_dim': 30, 'encoder': {'kernel_1': 4, 'kernel_23': 4, 'stride_1': 3, 'stride_23': 3, 'num_layers': None, 'activation': 'leakyrelu', 'kernel': [4, 4, 4], 'stride': [3, 3, 3], 'num_features': [40, 75, 200], 'dropout': 0.05, 'batch_norm': False, 'embedding_dim': 30}, 'decoder': {'kernel_1': 3, 'kernel_2': 5, 'stride_1': 3, 'stride_2': 2, 'initial_feature': 150, 'initial_len': 7, 'num_layers': None, 'activation': 'relu', 'kernel': [3, 5], 'stride': [3, 2], 'num_features': [150, 200, 75], 'dropout': 0.05, 'batch_norm': False, 'embedding_dim': 30}, 'num_features': [40, 75, 200], 'max_tcr_length': 47}, 'scRNA_model_arch': 'MLP', 'scRNA_model_hyperparams': {'activation': 'leakyrelu', 'batch_norm': True, 'dropout': 0.05, 'gene_hidden': [1750], 'output_activation': 'relu'}, 'zdim': 180, 'hdim': 300, 'activation': 'leakyrelu', 'dropout': 0.25, 'batch_norm': True, 'shared_hidden': [100]}\n"
     ]
    }
   ],
   "source": [
    "params = model_file['params']\n",
    "print(params)"
   ]
  },
  {
   "cell_type": "code",
   "execution_count": 12,
   "metadata": {},
   "outputs": [],
   "source": [
    "trained_model = tcr.models.joint_model.JointModel(\n",
    "        adatas=[data_full],  # adatas containing gene expression and TCR-seq\n",
    "        names=['10x'],\n",
    "        aa_to_id=data_full.uns['aa_to_id'],  # dict {aa_char: id}\n",
    "        seq_model_arch=params['seq_model_arch'],  # seq model architecture\n",
    "        seq_model_hyperparams=params['seq_model_hyperparams'],  # dict of seq model hyperparameters\n",
    "        scRNA_model_arch=params['scRNA_model_arch'],\n",
    "        scRNA_model_hyperparams=params['scRNA_model_hyperparams'],\n",
    "        zdim=params['zdim'],  # zdim\n",
    "        hdim=params['hdim'],  # hidden dimension of scRNA and seq encoders\n",
    "        activation=params['activation'],  # activation function of autoencoder hidden layers\n",
    "        dropout=params['dropout'],\n",
    "        batch_norm=params['batch_norm'],\n",
    "        shared_hidden=params['shared_hidden'],  # hidden layers of shared encoder / decoder\n",
    "        gene_layers=[],  # [] or list of str for layer keys of each dataset\n",
    "        seq_keys=[]  # [] or list of str for seq keys of each dataset\n",
    "    )\n",
    "trained_model.load(MODEL_PATH)"
   ]
  },
  {
   "cell_type": "code",
   "execution_count": 13,
   "metadata": {
    "scrolled": false
   },
   "outputs": [
    {
     "data": {
      "text/plain": [
       "JointModelTorch(\n",
       "  (seq_encoder): CNNEncoder(\n",
       "    (embedding): Embedding(24, 30, padding_idx=0)\n",
       "    (cnn_blocks): Sequential(\n",
       "      (0): Sequential(\n",
       "        (0): Conv1d(30, 40, kernel_size=(4,), stride=(3,), padding=(1,))\n",
       "        (1): LeakyReLU(negative_slope=0.2, inplace=True)\n",
       "        (2): Dropout(p=0.05, inplace=False)\n",
       "      )\n",
       "      (1): Sequential(\n",
       "        (0): Conv1d(40, 75, kernel_size=(4,), stride=(3,), padding=(1,))\n",
       "        (1): LeakyReLU(negative_slope=0.2, inplace=True)\n",
       "        (2): Dropout(p=0.05, inplace=False)\n",
       "      )\n",
       "      (2): Sequential(\n",
       "        (0): Conv1d(75, 200, kernel_size=(4,), stride=(3,), padding=(1,))\n",
       "        (1): LeakyReLU(negative_slope=0.2, inplace=True)\n",
       "        (2): Dropout(p=0.05, inplace=False)\n",
       "      )\n",
       "    )\n",
       "    (output_layer): Linear(in_features=400, out_features=300, bias=True)\n",
       "  )\n",
       "  (seq_decoder): CNNDecoder(\n",
       "    (input_layer): Linear(in_features=600, out_features=1050, bias=True)\n",
       "    (conv_transpose_blocks): Sequential(\n",
       "      (0): Sequential(\n",
       "        (0): ConvTranspose1d(150, 200, kernel_size=(3,), stride=(3,))\n",
       "        (1): ReLU(inplace=True)\n",
       "        (2): Dropout(p=0.05, inplace=False)\n",
       "      )\n",
       "      (1): Sequential(\n",
       "        (0): ConvTranspose1d(200, 75, kernel_size=(5,), stride=(2,))\n",
       "        (1): ReLU(inplace=True)\n",
       "        (2): Dropout(p=0.05, inplace=False)\n",
       "      )\n",
       "      (2): Sequential(\n",
       "        (0): ConvTranspose1d(75, 30, kernel_size=(4,), stride=(2,))\n",
       "        (1): ReLU(inplace=True)\n",
       "        (2): Dropout(p=0.05, inplace=False)\n",
       "      )\n",
       "    )\n",
       "    (output_layer): Linear(in_features=30, out_features=24, bias=True)\n",
       "  )\n",
       "  (gene_encoder): MLP(\n",
       "    (network): Sequential(\n",
       "      (0): Sequential(\n",
       "        (0): Linear(in_features=5000, out_features=1750, bias=False)\n",
       "        (1): BatchNorm1d(1750, eps=1e-05, momentum=0.1, affine=True, track_running_stats=True)\n",
       "        (2): LeakyReLU(negative_slope=0.2, inplace=True)\n",
       "        (3): Dropout(p=0.05, inplace=False)\n",
       "      )\n",
       "      (1): Sequential(\n",
       "        (0): Linear(in_features=1750, out_features=300, bias=False)\n",
       "        (1): BatchNorm1d(300, eps=1e-05, momentum=0.1, affine=True, track_running_stats=True)\n",
       "        (2): LeakyReLU(negative_slope=0.2, inplace=True)\n",
       "        (3): Dropout(p=0.05, inplace=False)\n",
       "      )\n",
       "    )\n",
       "  )\n",
       "  (gene_decoder): MLP(\n",
       "    (network): Sequential(\n",
       "      (0): Sequential(\n",
       "        (0): Linear(in_features=600, out_features=1750, bias=False)\n",
       "        (1): BatchNorm1d(1750, eps=1e-05, momentum=0.1, affine=True, track_running_stats=True)\n",
       "        (2): LeakyReLU(negative_slope=0.2, inplace=True)\n",
       "        (3): Dropout(p=0.05, inplace=False)\n",
       "      )\n",
       "      (1): Sequential(\n",
       "        (0): Linear(in_features=1750, out_features=5000, bias=True)\n",
       "        (1): ReLU(inplace=True)\n",
       "      )\n",
       "    )\n",
       "  )\n",
       "  (shared_encoder): MLP(\n",
       "    (network): Sequential(\n",
       "      (0): Sequential(\n",
       "        (0): Linear(in_features=600, out_features=100, bias=False)\n",
       "        (1): BatchNorm1d(100, eps=1e-05, momentum=0.1, affine=True, track_running_stats=True)\n",
       "        (2): LeakyReLU(negative_slope=0.2, inplace=True)\n",
       "        (3): Dropout(p=0.25, inplace=False)\n",
       "      )\n",
       "      (1): Sequential(\n",
       "        (0): Linear(in_features=100, out_features=360, bias=True)\n",
       "      )\n",
       "    )\n",
       "  )\n",
       "  (shared_decoder): MLP(\n",
       "    (network): Sequential(\n",
       "      (0): Sequential(\n",
       "        (0): Linear(in_features=180, out_features=100, bias=False)\n",
       "        (1): BatchNorm1d(100, eps=1e-05, momentum=0.1, affine=True, track_running_stats=True)\n",
       "        (2): LeakyReLU(negative_slope=0.2, inplace=True)\n",
       "        (3): Dropout(p=0.25, inplace=False)\n",
       "      )\n",
       "      (1): Sequential(\n",
       "        (0): Linear(in_features=100, out_features=600, bias=False)\n",
       "        (1): BatchNorm1d(600, eps=1e-05, momentum=0.1, affine=True, track_running_stats=True)\n",
       "        (2): LeakyReLU(negative_slope=0.2, inplace=True)\n",
       "        (3): Dropout(p=0.25, inplace=False)\n",
       "      )\n",
       "    )\n",
       "  )\n",
       ")"
      ]
     },
     "execution_count": 13,
     "metadata": {},
     "output_type": "execute_result"
    }
   ],
   "source": [
    "trained_model.model"
   ]
  },
  {
   "cell_type": "code",
   "execution_count": 18,
   "metadata": {},
   "outputs": [],
   "source": [
    "shared_layer = trained_model.model.shared_encoder.network[0][0]"
   ]
  },
  {
   "cell_type": "code",
   "execution_count": 27,
   "metadata": {},
   "outputs": [],
   "source": [
    "for param in shared_layer.parameters():\n",
    "    weights = param.data"
   ]
  },
  {
   "cell_type": "code",
   "execution_count": 30,
   "metadata": {},
   "outputs": [
    {
     "data": {
      "text/plain": [
       "torch.Size([100, 600])"
      ]
     },
     "execution_count": 30,
     "metadata": {},
     "output_type": "execute_result"
    }
   ],
   "source": [
    "weights.shape"
   ]
  },
  {
   "cell_type": "code",
   "execution_count": 32,
   "metadata": {},
   "outputs": [],
   "source": [
    "scRNA_weights = weights[:, :weights.shape[1]//2]\n",
    "tcr_weights = weights[:, weights.shape[1]//2:]"
   ]
  },
  {
   "cell_type": "code",
   "execution_count": 56,
   "metadata": {},
   "outputs": [
    {
     "data": {
      "text/plain": [
       "torch.Size([100, 300])"
      ]
     },
     "execution_count": 56,
     "metadata": {},
     "output_type": "execute_result"
    }
   ],
   "source": [
    "scRNA_weights.shape"
   ]
  },
  {
   "cell_type": "code",
   "execution_count": 59,
   "metadata": {},
   "outputs": [
    {
     "data": {
      "text/plain": [
       "Text(0.5, 1.0, 'Weights of first joint layer')"
      ]
     },
     "execution_count": 59,
     "metadata": {},
     "output_type": "execute_result"
    },
    {
     "data": {
      "image/png": "[encoded data removed]",
      "text/plain": [
       "<Figure size 432x288 with 1 Axes>"
      ]
     },
     "metadata": {
      "needs_background": "light"
     },
     "output_type": "display_data"
    }
   ],
   "source": [
    "plt.hist(tcr_weights.flatten().numpy(), density=False, bins=30, color='blue', alpha=0.5)\n",
    "plt.hist(scRNA_weights.flatten().numpy(), density=False, bins=30, color='orange', alpha=0.5)\n",
    "plt.legend(['TCR weights', 'scRNA weights'])\n",
    "plt.title('Weights of first joint layer')"
   ]
  },
  {
   "cell_type": "code",
   "execution_count": 55,
   "metadata": {},
   "outputs": [
    {
     "data": {
      "text/plain": [
       "array([-0.05592087, -0.00669516, -0.01247656, ...,  0.03074455,\n",
       "        0.03786825,  0.05502507], dtype=float32)"
      ]
     },
     "execution_count": 55,
     "metadata": {},
     "output_type": "execute_result"
    }
   ],
   "source": [
    "tcr_weights.flatten().numpy()"
   ]
  },
  {
   "cell_type": "code",
   "execution_count": null,
   "metadata": {},
   "outputs": [],
   "source": []
  }
 ],
 "metadata": {
  "kernelspec": {
   "display_name": "Python [conda env:tcr_update] *",
   "language": "python",
   "name": "conda-env-tcr_update-py"
  },
  "language_info": {
   "codemirror_mode": {
    "name": "ipython",
    "version": 3
   },
   "file_extension": ".py",
   "mimetype": "text/x-python",
   "name": "python",
   "nbconvert_exporter": "python",
   "pygments_lexer": "ipython3",
   "version": "3.8.8"
  }
 },
 "nbformat": 4,
 "nbformat_minor": 4
}
