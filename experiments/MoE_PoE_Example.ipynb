{
 "cells": [
  {
   "cell_type": "code",
   "execution_count": 1,
   "id": "indonesian-season",
   "metadata": {},
   "outputs": [],
   "source": [
    "import warnings\n",
    "warnings.filterwarnings('ignore')  # \"error\", \"ignore\", \"always\", \"default\", \"module\" or \"once\"\n",
    "\n",
    "import scanpy as sc\n",
    "import yaml\n",
    "import sys\n",
    "\n",
    "sys.path.append('../')\n",
    "import tcr_embedding as tcr  # tune needs to reload this module\n",
    "from tcr_embedding.evaluation.Imputation import run_imputation_evaluation\n",
    "from tcr_embedding.evaluation.WrapperFunctions import get_model_prediction_function"
   ]
  },
  {
   "cell_type": "code",
   "execution_count": 2,
   "id": "signal-printing",
   "metadata": {},
   "outputs": [],
   "source": [
    "adata = sc.read_h5ad('../data/10x_CD8TC/v6_supervised.h5ad')"
   ]
  },
  {
   "cell_type": "code",
   "execution_count": 4,
   "id": "universal-latex",
   "metadata": {},
   "outputs": [],
   "source": [
    "params = yaml.load(open('../config/transformer.yaml'), Loader=yaml.FullLoader)"
   ]
  },
  {
   "cell_type": "markdown",
   "id": "physical-crime",
   "metadata": {},
   "source": [
    "#### Change between PoE and MoE model, uncomment the corresponding line"
   ]
  },
  {
   "cell_type": "code",
   "execution_count": 5,
   "id": "matched-short",
   "metadata": {},
   "outputs": [],
   "source": [
    "init_model = tcr.models.moe.MoEModel\n",
    "# init_model = tcr.models.poe.PoEModel"
   ]
  },
  {
   "cell_type": "code",
   "execution_count": 6,
   "id": "sustained-borough",
   "metadata": {},
   "outputs": [],
   "source": [
    "model = init_model(\n",
    "    adatas=[adata],  # adatas containing gene expression and TCR-seq\n",
    "    names=['10x'],\n",
    "    aa_to_id=adata.uns['aa_to_id'],  # dict {aa_char: id}\n",
    "    seq_model_arch=params['seq_model_arch'],  # seq model architecture\n",
    "    seq_model_hyperparams=params['seq_model_hyperparams'],  # dict of seq model hyperparameters\n",
    "    scRNA_model_arch=params['scRNA_model_arch'],\n",
    "    scRNA_model_hyperparams=params['scRNA_model_hyperparams'],\n",
    "    zdim=params['zdim'],  # zdim\n",
    "    hdim=params['hdim'],  # hidden dimension of scRNA and seq encoders\n",
    "    activation=params['activation'],  # activation function of autoencoder hidden layers\n",
    "    dropout=params['dropout'],\n",
    "    batch_norm=params['batch_norm'],\n",
    "    shared_hidden=params['shared_hidden'],  # hidden layers of shared encoder / decoder\n",
    "    gene_layers=[],  # [] or list of str for layer keys of each dataset\n",
    "    seq_keys=[], # [] or list of str for seq keys of each dataset,\n",
    ")"
   ]
  },
  {
   "cell_type": "code",
   "execution_count": 7,
   "id": "functioning-jones",
   "metadata": {},
   "outputs": [
    {
     "name": "stdout",
     "output_type": "stream",
     "text": [
      "Create Dataloader\n",
      "Dataloader created\n"
     ]
    },
    {
     "name": "stderr",
     "output_type": "stream",
     "text": [
      "Epoch:  18%|█████████████▊                                                              | 2/11 [01:48<08:07, 54.18s/it]\n"
     ]
    },
    {
     "ename": "KeyboardInterrupt",
     "evalue": "",
     "output_type": "error",
     "traceback": [
      "\u001b[1;31m---------------------------------------------------------------------------\u001b[0m",
      "\u001b[1;31mKeyboardInterrupt\u001b[0m                         Traceback (most recent call last)",
      "\u001b[1;32m<ipython-input-7-573663ec9d02>\u001b[0m in \u001b[0;36m<module>\u001b[1;34m\u001b[0m\n\u001b[1;32m----> 1\u001b[1;33m model.train(\n\u001b[0m\u001b[0;32m      2\u001b[0m     \u001b[0mexperiment_name\u001b[0m\u001b[1;33m=\u001b[0m\u001b[1;34m'test'\u001b[0m\u001b[1;33m,\u001b[0m\u001b[1;33m\u001b[0m\u001b[1;33m\u001b[0m\u001b[0m\n\u001b[0;32m      3\u001b[0m     \u001b[0mn_iters\u001b[0m\u001b[1;33m=\u001b[0m\u001b[1;32mNone\u001b[0m\u001b[1;33m,\u001b[0m\u001b[1;33m\u001b[0m\u001b[1;33m\u001b[0m\u001b[0m\n\u001b[0;32m      4\u001b[0m     \u001b[0mn_epochs\u001b[0m\u001b[1;33m=\u001b[0m\u001b[1;36m10\u001b[0m\u001b[1;33m,\u001b[0m\u001b[1;33m\u001b[0m\u001b[1;33m\u001b[0m\u001b[0m\n\u001b[0;32m      5\u001b[0m     \u001b[0mbatch_size\u001b[0m\u001b[1;33m=\u001b[0m\u001b[0mparams\u001b[0m\u001b[1;33m[\u001b[0m\u001b[1;34m'batch_size'\u001b[0m\u001b[1;33m]\u001b[0m\u001b[1;33m,\u001b[0m\u001b[1;33m\u001b[0m\u001b[1;33m\u001b[0m\u001b[0m\n",
      "\u001b[1;32m~\\Downloads\\Perturbation\\tcr-embedding\\tcr_embedding\\models\\vae_base_model.py\u001b[0m in \u001b[0;36mtrain\u001b[1;34m(self, experiment_name, n_iters, n_epochs, batch_size, lr, losses, loss_weights, kl_annealing_epochs, val_split, metadata, early_stop, balanced_sampling, log_divisor, validate_every, save_every, save_path, save_last_model, num_workers, verbose, continue_training, device, comet, tune)\u001b[0m\n\u001b[0;32m    268\u001b[0m \u001b[1;33m\u001b[0m\u001b[0m\n\u001b[0;32m    269\u001b[0m                                 \u001b[0mself\u001b[0m\u001b[1;33m.\u001b[0m\u001b[0moptimizer\u001b[0m\u001b[1;33m.\u001b[0m\u001b[0mzero_grad\u001b[0m\u001b[1;33m(\u001b[0m\u001b[1;33m)\u001b[0m\u001b[1;33m\u001b[0m\u001b[1;33m\u001b[0m\u001b[0m\n\u001b[1;32m--> 270\u001b[1;33m                                 \u001b[0mloss\u001b[0m\u001b[1;33m.\u001b[0m\u001b[0mbackward\u001b[0m\u001b[1;33m(\u001b[0m\u001b[1;33m)\u001b[0m\u001b[1;33m\u001b[0m\u001b[1;33m\u001b[0m\u001b[0m\n\u001b[0m\u001b[0;32m    271\u001b[0m                                 \u001b[0mself\u001b[0m\u001b[1;33m.\u001b[0m\u001b[0moptimizer\u001b[0m\u001b[1;33m.\u001b[0m\u001b[0mstep\u001b[0m\u001b[1;33m(\u001b[0m\u001b[1;33m)\u001b[0m\u001b[1;33m\u001b[0m\u001b[1;33m\u001b[0m\u001b[0m\n\u001b[0;32m    272\u001b[0m \u001b[1;33m\u001b[0m\u001b[0m\n",
      "\u001b[1;32m~\\AppData\\Local\\Continuum\\anaconda3\\envs\\tcr_update\\lib\\site-packages\\torch\\tensor.py\u001b[0m in \u001b[0;36mbackward\u001b[1;34m(self, gradient, retain_graph, create_graph, inputs)\u001b[0m\n\u001b[0;32m    243\u001b[0m                 \u001b[0mcreate_graph\u001b[0m\u001b[1;33m=\u001b[0m\u001b[0mcreate_graph\u001b[0m\u001b[1;33m,\u001b[0m\u001b[1;33m\u001b[0m\u001b[1;33m\u001b[0m\u001b[0m\n\u001b[0;32m    244\u001b[0m                 inputs=inputs)\n\u001b[1;32m--> 245\u001b[1;33m         \u001b[0mtorch\u001b[0m\u001b[1;33m.\u001b[0m\u001b[0mautograd\u001b[0m\u001b[1;33m.\u001b[0m\u001b[0mbackward\u001b[0m\u001b[1;33m(\u001b[0m\u001b[0mself\u001b[0m\u001b[1;33m,\u001b[0m \u001b[0mgradient\u001b[0m\u001b[1;33m,\u001b[0m \u001b[0mretain_graph\u001b[0m\u001b[1;33m,\u001b[0m \u001b[0mcreate_graph\u001b[0m\u001b[1;33m,\u001b[0m \u001b[0minputs\u001b[0m\u001b[1;33m=\u001b[0m\u001b[0minputs\u001b[0m\u001b[1;33m)\u001b[0m\u001b[1;33m\u001b[0m\u001b[1;33m\u001b[0m\u001b[0m\n\u001b[0m\u001b[0;32m    246\u001b[0m \u001b[1;33m\u001b[0m\u001b[0m\n\u001b[0;32m    247\u001b[0m     \u001b[1;32mdef\u001b[0m \u001b[0mregister_hook\u001b[0m\u001b[1;33m(\u001b[0m\u001b[0mself\u001b[0m\u001b[1;33m,\u001b[0m \u001b[0mhook\u001b[0m\u001b[1;33m)\u001b[0m\u001b[1;33m:\u001b[0m\u001b[1;33m\u001b[0m\u001b[1;33m\u001b[0m\u001b[0m\n",
      "\u001b[1;32m~\\AppData\\Local\\Continuum\\anaconda3\\envs\\tcr_update\\lib\\site-packages\\torch\\autograd\\__init__.py\u001b[0m in \u001b[0;36mbackward\u001b[1;34m(tensors, grad_tensors, retain_graph, create_graph, grad_variables, inputs)\u001b[0m\n\u001b[0;32m    143\u001b[0m         \u001b[0mretain_graph\u001b[0m \u001b[1;33m=\u001b[0m \u001b[0mcreate_graph\u001b[0m\u001b[1;33m\u001b[0m\u001b[1;33m\u001b[0m\u001b[0m\n\u001b[0;32m    144\u001b[0m \u001b[1;33m\u001b[0m\u001b[0m\n\u001b[1;32m--> 145\u001b[1;33m     Variable._execution_engine.run_backward(\n\u001b[0m\u001b[0;32m    146\u001b[0m         \u001b[0mtensors\u001b[0m\u001b[1;33m,\u001b[0m \u001b[0mgrad_tensors_\u001b[0m\u001b[1;33m,\u001b[0m \u001b[0mretain_graph\u001b[0m\u001b[1;33m,\u001b[0m \u001b[0mcreate_graph\u001b[0m\u001b[1;33m,\u001b[0m \u001b[0minputs\u001b[0m\u001b[1;33m,\u001b[0m\u001b[1;33m\u001b[0m\u001b[1;33m\u001b[0m\u001b[0m\n\u001b[0;32m    147\u001b[0m         allow_unreachable=True, accumulate_grad=True)  # allow_unreachable flag\n",
      "\u001b[1;31mKeyboardInterrupt\u001b[0m: "
     ]
    }
   ],
   "source": [
    "model.train(\n",
    "    experiment_name='test',\n",
    "    n_iters=None,\n",
    "    n_epochs=10,\n",
    "    batch_size=params['batch_size'],\n",
    "    lr=params['lr'],\n",
    "    losses=params['losses'],  # list of losses for each modality: losses[0] := scRNA, losses[1] := TCR\n",
    "    loss_weights=params['loss_weights'],  # [] or list of floats storing weighting of loss in order [scRNA, TCR, KLD]\n",
    "    kl_annealing_epochs=None,\n",
    "    val_split='set',  # float or str, if float: split is determined automatically, if str: used as key for train-val column\n",
    "    metadata=['clonotype'],\n",
    "    early_stop=100,\n",
    "    balanced_sampling=None,  #opt=[None, 'clonotype'],\n",
    "    validate_every=5,\n",
    "    save_every=1000,\n",
    "    save_path='saved_models_delete',\n",
    "    num_workers=0,\n",
    "    verbose=0,  # 0: only tdqm progress bar, 1: val loss, 2: train and val loss\n",
    "    continue_training=False,\n",
    "    device=None,\n",
    "    comet=None\n",
    ")"
   ]
  },
  {
   "cell_type": "markdown",
   "id": "received-acoustic",
   "metadata": {},
   "source": [
    "Evaluate the latent space with kNN"
   ]
  },
  {
   "cell_type": "code",
   "execution_count": 8,
   "id": "established-ability",
   "metadata": {},
   "outputs": [
    {
     "name": "stdout",
     "output_type": "stream",
     "text": [
      "0.6473222063886667\n"
     ]
    }
   ],
   "source": [
    "test_embedding_func = get_model_prediction_function(model, batch_size=params['batch_size'])\n",
    "summary = run_imputation_evaluation(adata, test_embedding_func, query_source='val', use_non_binder=True,\n",
    "                                    use_reduced_binders=True)\n",
    "\n",
    "metrics = summary['knn']\n",
    "print(f\"{metrics['weighted avg']['f1-score']}\")"
   ]
  },
  {
   "cell_type": "code",
   "execution_count": 10,
   "id": "criminal-polymer",
   "metadata": {},
   "outputs": [
    {
     "data": {
      "text/plain": [
       "{'A0201_ELAGIGILTV_MART-1_Cancer_binder': {'precision': 0.0,\n",
       "  'recall': 0.0,\n",
       "  'f1-score': 0.0,\n",
       "  'support': 48},\n",
       " 'A0201_GILGFVFTL_Flu-MP_Influenza_binder': {'precision': 0.9715789473684211,\n",
       "  'recall': 0.923,\n",
       "  'f1-score': 0.9466666666666668,\n",
       "  'support': 1000},\n",
       " 'A0201_GLCTLVAML_BMLF1_EBV_binder': {'precision': 0.23333333333333334,\n",
       "  'recall': 0.08333333333333333,\n",
       "  'f1-score': 0.12280701754385966,\n",
       "  'support': 84},\n",
       " 'A0301_KLGGALQAK_IE-1_CMV_binder': {'precision': 0.38657105606258146,\n",
       "  'recall': 0.1402554399243141,\n",
       "  'f1-score': 0.205831308573412,\n",
       "  'support': 4228},\n",
       " 'A0301_RLRAEAQVK_EMNA-3A_EBV_binder': {'precision': 0.0,\n",
       "  'recall': 0.0,\n",
       "  'f1-score': 0.0,\n",
       "  'support': 59},\n",
       " 'A1101_AVFDRKSDAK_EBNA-3B_EBV_binder': {'precision': 0.9875141884222475,\n",
       "  'recall': 0.7184145334434352,\n",
       "  'f1-score': 0.8317399617590822,\n",
       "  'support': 1211},\n",
       " 'A1101_IVTDFSVIK_EBNA-3B_EBV_binder': {'precision': 0.7631578947368421,\n",
       "  'recall': 0.19333333333333333,\n",
       "  'f1-score': 0.30851063829787234,\n",
       "  'support': 150},\n",
       " 'B0801_RAKFKQLL_BZLF1_EBV_binder': {'precision': 0.8861788617886179,\n",
       "  'recall': 0.4055059523809524,\n",
       "  'f1-score': 0.5564063297600818,\n",
       "  'support': 1344},\n",
       " 'no_data': {'precision': 0.6844450021961473,\n",
       "  'recall': 0.9194975975722836,\n",
       "  'f1-score': 0.7847482014388489,\n",
       "  'support': 11863},\n",
       " 'accuracy': 0.69420123080002,\n",
       " 'macro avg': {'precision': 0.5458643648786878,\n",
       "  'recall': 0.3759266877764057,\n",
       "  'f1-score': 0.41741223600442484,\n",
       "  'support': 19987},\n",
       " 'weighted avg': {'precision': 0.6627583024009447,\n",
       "  'recall': 0.69420123080002,\n",
       "  'f1-score': 0.6473222063886667,\n",
       "  'support': 19987}}"
      ]
     },
     "execution_count": 10,
     "metadata": {},
     "output_type": "execute_result"
    }
   ],
   "source": [
    "metrics"
   ]
  },
  {
   "cell_type": "code",
   "execution_count": null,
   "id": "supported-oasis",
   "metadata": {},
   "outputs": [],
   "source": []
  }
 ],
 "metadata": {
  "kernelspec": {
   "display_name": "Python [conda env:tcr_update] *",
   "language": "python",
   "name": "conda-env-tcr_update-py"
  },
  "language_info": {
   "codemirror_mode": {
    "name": "ipython",
    "version": 3
   },
   "file_extension": ".py",
   "mimetype": "text/x-python",
   "name": "python",
   "nbconvert_exporter": "python",
   "pygments_lexer": "ipython3",
   "version": "3.8.8"
  }
 },
 "nbformat": 4,
 "nbformat_minor": 5
}
