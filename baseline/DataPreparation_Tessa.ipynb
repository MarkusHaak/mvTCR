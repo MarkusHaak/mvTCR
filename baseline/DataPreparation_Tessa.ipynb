{
 "cells": [
  {
   "cell_type": "markdown",
   "metadata": {},
   "source": [
    "# Comparision to TESSA\n",
    "\n",
    "Here, we evalute the performance of TESSA from:\n",
    "\n",
    "Zhang Z, Xiong D, Wang X, Liu H, Wang T. Mapping the functional landscape of T cell receptor repertoires by single-T cell transcriptomics. Nat Methods. 2021.\n",
    "\n",
    "https://www.nature.com/articles/s41592-020-01020-3\n",
    "\n",
    "Clone the Github repository from https://github.com/jcao89757/TESSA to the folder 'baseline'."
   ]
  },
  {
   "cell_type": "code",
   "execution_count": 1,
   "metadata": {},
   "outputs": [
    {
     "ename": "ModuleNotFoundError",
     "evalue": "No module named 'scanpy'",
     "output_type": "error",
     "traceback": [
      "\u001b[1;31m---------------------------------------------------------------------------\u001b[0m",
      "\u001b[1;31mModuleNotFoundError\u001b[0m                       Traceback (most recent call last)",
      "\u001b[1;32m<ipython-input-1-019bb41070b2>\u001b[0m in \u001b[0;36m<module>\u001b[1;34m\u001b[0m\n\u001b[1;32m----> 1\u001b[1;33m \u001b[1;32mimport\u001b[0m \u001b[0mscanpy\u001b[0m \u001b[1;32mas\u001b[0m \u001b[0msc\u001b[0m\u001b[1;33m\u001b[0m\u001b[0m\n\u001b[0m\u001b[0;32m      2\u001b[0m \u001b[1;32mimport\u001b[0m \u001b[0mpandas\u001b[0m \u001b[1;32mas\u001b[0m \u001b[0mpd\u001b[0m\u001b[1;33m\u001b[0m\u001b[0m\n\u001b[0;32m      3\u001b[0m \u001b[1;32mimport\u001b[0m \u001b[0mos\u001b[0m\u001b[1;33m\u001b[0m\u001b[0m\n\u001b[0;32m      4\u001b[0m \u001b[1;32mimport\u001b[0m \u001b[0msys\u001b[0m\u001b[1;33m\u001b[0m\u001b[0m\n\u001b[0;32m      5\u001b[0m \u001b[1;33m\u001b[0m\u001b[0m\n",
      "\u001b[1;31mModuleNotFoundError\u001b[0m: No module named 'scanpy'"
     ]
    }
   ],
   "source": [
    "import scanpy as sc\n",
    "import pandas as pd\n",
    "import os\n",
    "import sys\n",
    "\n",
    "sys.path.append('..')\n",
    "import tcr_embedding as tcr"
   ]
  },
  {
   "cell_type": "markdown",
   "metadata": {},
   "source": [
    "# Transform data"
   ]
  },
  {
   "cell_type": "code",
   "execution_count": 28,
   "metadata": {
    "scrolled": true
   },
   "outputs": [],
   "source": [
    "path_10x_adata = '../data/10x_CD8TC/v6_supervised.h5ad'\n",
    "adata = sc.read_h5ad(path_10x_adata)\n",
    "\n",
    "adatas_per_donor = []\n",
    "for i in range(1, 3):\n",
    "    new_ad = adata[adata.obs['donor']== f'donor_{i}']\n",
    "    adatas_per_donor.append(new_ad)"
   ]
  },
  {
   "cell_type": "markdown",
   "metadata": {},
   "source": [
    "Write the TCR sequences to seperate csv file for each donor:"
   ]
  },
  {
   "cell_type": "code",
   "execution_count": 29,
   "metadata": {},
   "outputs": [
    {
     "name": "stderr",
     "output_type": "stream",
     "text": [
      "Trying to set attribute `.obs` of view, copying.\n",
      "Trying to set attribute `.obs` of view, copying.\n"
     ]
    }
   ],
   "source": [
    "for idx, adata in enumerate(adatas_per_donor):\n",
    "    path_base = f'../data/tessa/10x/donor_{idx+1}/'\n",
    "    if not os.path.exists(path_base):\n",
    "        os.mkdir(path_base)\n",
    "\n",
    "    adata.obs['binding_name'] = adata.obs['binding_name'].astype(str)\n",
    "    adata = adata[(adata.obs['binding_name'].isin(tcr.constants.DONOR_SPECIFIC_ANTIGENS[str(idx+1)]))]\n",
    "\n",
    "    \n",
    "    df_tcr = adata.obs[['IR_VDJ_1_cdr3', 'binding_name', 'set']]\n",
    "    df_tcr['cdr3'] = [seq[1:-1] for seq in df_tcr['IR_VDJ_1_cdr3']]\n",
    "    \n",
    "    df_tcr = df_tcr[['cdr3', 'binding_name', 'set']]\n",
    "    df_tcr.index.name = 'contig_id'\n",
    "    \n",
    "    df_tcr_train = df_tcr[df_tcr['set']=='train']\n",
    "    df_tcr_test = df_tcr[df_tcr['set']=='test']\n",
    "    \n",
    "    df_tcr_train.to_csv(path_base+'tcrs_atlas.csv')\n",
    "    df_tcr_test.to_csv(path_base+'tcrs_query.csv')\n",
    "\n"
   ]
  },
  {
   "cell_type": "markdown",
   "metadata": {},
   "source": [
    "Write the scRNA matrix to seperate csv file for each donor:"
   ]
  },
  {
   "cell_type": "code",
   "execution_count": 30,
   "metadata": {},
   "outputs": [
    {
     "name": "stdout",
     "output_type": "stream",
     "text": [
      "0\n",
      "1\n"
     ]
    }
   ],
   "source": [
    "for idx, adata in enumerate(adatas_per_donor):\n",
    "    print(idx)\n",
    "    path_base = f'../data/tessa/10x/donor_{idx+1}/'\n",
    "    count_mat = adata.X.A\n",
    "    df_counts = pd.DataFrame(count_mat)\n",
    "    \n",
    "    df_counts.index = adata.obs.index\n",
    "    df_counts.index.name = ''\n",
    "    df_counts.columns = adata.var.index\n",
    "\n",
    "    df_counts_train = df_counts[adata.obs['set']=='train']\n",
    "    df_counts_test = df_counts[adata.obs['set']=='test']\n",
    "\n",
    "    \n",
    "    df_counts_train = df_counts_train.transpose()\n",
    "    df_counts_test = df_counts_test.transpose()\n",
    "    \n",
    "    df_counts_train.to_csv(path_base+'scRNA_atlas.csv')\n",
    "    df_counts_test.to_csv(path_base+'scRNA_query.csv')"
   ]
  },
  {
   "cell_type": "markdown",
   "metadata": {},
   "source": [
    "Create a test dataset to set everything up fast."
   ]
  },
  {
   "cell_type": "code",
   "execution_count": 31,
   "metadata": {},
   "outputs": [],
   "source": [
    "path_test = '../data/tessa/10x/test/'\n",
    "if not os.path.exists(path_test):\n",
    "    os.mkdir(path_test)"
   ]
  },
  {
   "cell_type": "code",
   "execution_count": 32,
   "metadata": {},
   "outputs": [],
   "source": [
    "df_tcr_test = pd.read_csv('../data/tessa/10x/donor_1/tcrs_atlas.csv')\n",
    "df_tcr_test = df_tcr_test.head(100)\n",
    "df_tcr_test.to_csv(path_test + 'tcrs_atlas.csv', index=False)\n",
    "df_tcr_test = pd.read_csv('../data/tessa/10x/donor_1/tcrs_query.csv')\n",
    "df_tcr_test = df_tcr_test.head(100)\n",
    "df_tcr_test.to_csv(path_test + 'tcrs_query.csv', index=False)"
   ]
  },
  {
   "cell_type": "code",
   "execution_count": 38,
   "metadata": {},
   "outputs": [],
   "source": [
    "df_scRNA_test = pd.read_csv('../data/tessa/10x/donor_1/scRNA_atlas.csv', index_col=0)\n",
    "columns = df_scRNA_test.columns.tolist()[:100]\n",
    "df_scRNA_test = df_scRNA_test[columns]\n",
    "df_scRNA_test.to_csv(path_test + 'scRNA_atlas.csv')\n",
    "\n",
    "df_scRNA_test = pd.read_csv('../data/tessa/10x/donor_1/scRNA_query.csv', index_col=0)\n",
    "columns = df_scRNA_test.columns.tolist()[:100]\n",
    "df_scRNA_test = df_scRNA_test[columns]\n",
    "df_scRNA_test.to_csv(path_test + 'scRNA_query.csv')"
   ]
  },
  {
   "cell_type": "markdown",
   "metadata": {},
   "source": [
    "import numpy as np\n",
    "n = 200\n",
    "data = np.random.rand(n, 100)\n",
    "\n",
    "df_scRNA2 = pd.DataFrame(data=data, columns=df_scRNA_test.columns[:100])\n",
    "df_scRNA2.index = [f'col_{i}' for i in range(n)]\n",
    "df_scRNA2.to_csv('../data/tessa/10x/test_scRNA_donor_1.csv')"
   ]
  },
  {
   "cell_type": "markdown",
   "metadata": {},
   "source": [
    "## Embedd Sequences using TESSA"
   ]
  },
  {
   "cell_type": "code",
   "execution_count": 8,
   "metadata": {},
   "outputs": [],
   "source": [
    "import os\n",
    "import pandas as pd"
   ]
  },
  {
   "cell_type": "code",
   "execution_count": 2,
   "metadata": {},
   "outputs": [],
   "source": [
    "settings_ae = {\n",
    "    'tcr': '../data/tessa/10x/test_tcrs_donor_1.csv',\n",
    "    'model': './TESSA/BriseisEncoder/TrainedEncoder.h5',\n",
    "    'embeding_vectors': './TESSA/BriseisEncoder/Atchley_factors.csv',\n",
    "    'output_TCR': './tmp/tessa_tcr_embedding.csv',\n",
    "    'output_log': './tmp/tessa_log.log',\n",
    "}"
   ]
  },
  {
   "cell_type": "code",
   "execution_count": 3,
   "metadata": {},
   "outputs": [
    {
     "data": {
      "text/plain": [
       "'python ./TESSA/BriseisEncoder/BriseisEncoder.py -tcr ../data/tessa/10x/test_tcrs_donor_1.csv -model ./TESSA/BriseisEncoder/TrainedEncoder.h5 -embeding_vectors ./TESSA/BriseisEncoder/Atchley_factors.csv -output_TCR ./tmp/tessa_tcr_embedding.csv -output_log ./tmp/tessa_log.log'"
      ]
     },
     "execution_count": 3,
     "metadata": {},
     "output_type": "execute_result"
    }
   ],
   "source": [
    "command_ae = 'python ./TESSA/BriseisEncoder/BriseisEncoder.py' \n",
    "\n",
    "for key, value in settings_ae.items():\n",
    "    command_ae += f' -{key} {value}'\n",
    "command_ae"
   ]
  },
  {
   "cell_type": "code",
   "execution_count": 8,
   "metadata": {
    "scrolled": true
   },
   "outputs": [
    {
     "data": {
      "text/plain": [
       "0"
      ]
     },
     "execution_count": 8,
     "metadata": {},
     "output_type": "execute_result"
    }
   ],
   "source": [
    "os.system(command_ae)"
   ]
  },
  {
   "cell_type": "code",
   "execution_count": 21,
   "metadata": {},
   "outputs": [],
   "source": [
    "settings_tessa = {\n",
    "    'code': 'Rscript ./TESSA/Tessa/real_data.R',\n",
    "    'code_base': './TESSA/Tessa',\n",
    "    'gene_expression': '../data/tessa/10x/test_scRNA_donor_1.csv',\n",
    "    'tcr_ebemddings': './tmp/tessa_tcr_embedding.csv',\n",
    "    'tcr_file': '../data/tessa/10x/test_tcrs_donor_1.csv',\n",
    "    'save_tessa': 'tmp/res/',\n",
    "    'different_donors': 'FALSE',\n",
    "    'predefined_b': 'NA'\n",
    "}"
   ]
  },
  {
   "cell_type": "code",
   "execution_count": 22,
   "metadata": {},
   "outputs": [
    {
     "data": {
      "text/plain": [
       "'Rscript ./TESSA/Tessa/real_data.R ./TESSA/Tessa ../data/tessa/10x/test_scRNA_donor_1.csv ./tmp/tessa_tcr_embedding.csv ../data/tessa/10x/test_tcrs_donor_1.csv tmp/res/ FALSE NA'"
      ]
     },
     "execution_count": 22,
     "metadata": {},
     "output_type": "execute_result"
    }
   ],
   "source": [
    "command_tessa = ' '.join(settings_tessa.values())\n",
    "command_tessa"
   ]
  },
  {
   "cell_type": "code",
   "execution_count": 23,
   "metadata": {},
   "outputs": [
    {
     "data": {
      "text/plain": [
       "0"
      ]
     },
     "execution_count": 23,
     "metadata": {},
     "output_type": "execute_result"
    }
   ],
   "source": [
    "os.system(command_tessa)"
   ]
  },
  {
   "cell_type": "code",
   "execution_count": 25,
   "metadata": {},
   "outputs": [],
   "source": [
    "settings_full = {\n",
    "    'tcr': '../data/tessa/10x/test_tcrs_donor_1.csv',\n",
    "    'model': './TESSA/BriseisEncoder/TrainedEncoder.h5',\n",
    "    'embeding_vectors': './TESSA/BriseisEncoder/Atchley_factors.csv',\n",
    "    'output_TCR': './tmp/tessa_tcr_embedding.csv',\n",
    "    'output_VJ': './tmp/tessa_vj_embedding.csv',\n",
    "    'output_log': './tmp/tessa_log.log',\n",
    "    'exp': '../data/tessa/10x/test_scRNA_donor_1.csv',\n",
    "    'output_tessa': 'tmp/res/', \n",
    "    'within_sample_networks': 'FALSE',\n",
    "\n",
    "}"
   ]
  },
  {
   "cell_type": "code",
   "execution_count": 26,
   "metadata": {},
   "outputs": [
    {
     "data": {
      "text/plain": [
       "'python ./TESSA/Tessa_main.py -tcr ../data/tessa/10x/test_tcrs_donor_1.csv -model ./TESSA/BriseisEncoder/TrainedEncoder.h5 -embeding_vectors ./TESSA/BriseisEncoder/Atchley_factors.csv -output_TCR ./tmp/tessa_tcr_embedding.csv -output_VJ ./tmp/tessa_vj_embedding.csv -output_log ./tmp/tessa_log.log -exp ../data/tessa/10x/test_scRNA_donor_1.csv -output_tessa tmp/res/ -within_sample_networks FALSE'"
      ]
     },
     "execution_count": 26,
     "metadata": {},
     "output_type": "execute_result"
    }
   ],
   "source": [
    "command_full = 'python ./TESSA/Tessa_main.py'\n",
    "for key, value in settings_full.items():\n",
    "    command_full += f' -{key} {value}'\n",
    "command_full"
   ]
  },
  {
   "cell_type": "code",
   "execution_count": 27,
   "metadata": {},
   "outputs": [
    {
     "data": {
      "text/plain": [
       "0"
      ]
     },
     "execution_count": 27,
     "metadata": {},
     "output_type": "execute_result"
    }
   ],
   "source": [
    "os.system(command_full)"
   ]
  },
  {
   "cell_type": "markdown",
   "metadata": {},
   "source": [
    "## Evaluate Embedding"
   ]
  },
  {
   "cell_type": "markdown",
   "metadata": {},
   "source": [
    "### TCR Encoder"
   ]
  },
  {
   "cell_type": "code",
   "execution_count": 48,
   "metadata": {},
   "outputs": [
    {
     "data": {
      "text/plain": [
       "array([[ 0.18576838,  0.01204199, -0.20750672, ...,  0.60151404,\n",
       "         0.03758714,  0.38953918],\n",
       "       [-0.88813615, -0.68477386,  0.41438967, ..., -0.14791705,\n",
       "         0.2573461 ,  0.07539734],\n",
       "       [ 0.28786305,  0.39245352,  0.41624597, ...,  0.22307457,\n",
       "        -0.8587716 ,  0.03321042],\n",
       "       ...,\n",
       "       [-0.79423136, -0.4949068 , -0.01769258, ..., -0.16110949,\n",
       "         0.15286483, -0.07022017],\n",
       "       [ 0.735304  , -0.47217894, -0.18631631, ...,  0.27535847,\n",
       "         0.00402249, -0.22769676],\n",
       "       [ 0.77998984, -0.7295521 , -0.4799435 , ...,  0.5050619 ,\n",
       "         0.18753207,  0.12268431]])"
      ]
     },
     "execution_count": 48,
     "metadata": {},
     "output_type": "execute_result"
    }
   ],
   "source": [
    "unweighted_dist = pd.read_csv('./tmp/tessa_tcr_embedding.csv', index_col=0)\n",
    "unweighted_dist = unweighted_dist.values\n",
    "unweighted_dist"
   ]
  },
  {
   "cell_type": "markdown",
   "metadata": {},
   "source": [
    "### TESSA"
   ]
  },
  {
   "cell_type": "code",
   "execution_count": 34,
   "metadata": {},
   "outputs": [],
   "source": [
    "import os\n",
    "import numpy as np\n",
    "import pandas as pd\n",
    "os.environ['R_HOME'] = 'C:/Users/felix.drost/Anaconda3/envs/tessa/Lib/R'\n",
    "\n",
    "import rpy2.robjects as rob"
   ]
  },
  {
   "cell_type": "code",
   "execution_count": 56,
   "metadata": {},
   "outputs": [
    {
     "data": {
      "text/plain": [
       "(100, 30)"
      ]
     },
     "execution_count": 56,
     "metadata": {},
     "output_type": "execute_result"
    }
   ],
   "source": [
    "def get_weighted_tessa_embedding(path_tcr_embedding, path_results):\n",
    "    res = rob.r['load'](path_results)\n",
    "    b = rob.r['tessa_results'][0]\n",
    "    b = np.array(b)\n",
    "    \n",
    "    unweighted_dist = pd.read_csv(path_tcr_embedding, index_col=0)\n",
    "    unweighted_dist = unweighted_dist.values\n",
    "\n",
    "    weighted_dist = unweighted_dist * b \n",
    "    return weighted_dist\n",
    "get_weighted_tessa_embedding('./tmp/tessa_tcr_embedding.csv', 'tmp/res/tessa_final.RData')"
   ]
  },
  {
   "cell_type": "code",
   "execution_count": null,
   "metadata": {},
   "outputs": [],
   "source": []
  },
  {
   "cell_type": "code",
   "execution_count": null,
   "metadata": {},
   "outputs": [],
   "source": [
    "get_imputation_scores(embedding_atlas, embedding_query, label_atlas, label_embedding, num_neighbors=5)"
   ]
  }
 ],
 "metadata": {
  "kernelspec": {
   "display_name": "Python 3",
   "language": "python",
   "name": "python3"
  },
  "language_info": {
   "codemirror_mode": {
    "name": "ipython",
    "version": 3
   },
   "file_extension": ".py",
   "mimetype": "text/x-python",
   "name": "python",
   "nbconvert_exporter": "python",
   "pygments_lexer": "ipython3",
   "version": "3.6.4"
  }
 },
 "nbformat": 4,
 "nbformat_minor": 5
}
