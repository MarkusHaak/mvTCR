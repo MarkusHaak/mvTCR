{
 "cells": [
  {
   "cell_type": "markdown",
   "id": "30dff572",
   "metadata": {},
   "source": [
    "# Data Preperation for TESSA evaluation\n",
    "\n",
    "Here, we perpare our data to the format of TESSA from:\n",
    "\n",
    "Zhang Z, Xiong D, Wang X, Liu H, Wang T. Mapping the functional landscape of T cell receptor repertoires by single-T cell transcriptomics. Nat Methods. 2021.\n",
    "\n",
    "https://www.nature.com/articles/s41592-020-01020-3\n",
    "\n",
    "Clone the Github repository from https://github.com/jcao89757/TESSA to the folder 'baseline'."
   ]
  },
  {
   "cell_type": "code",
   "execution_count": 1,
   "id": "edf273bc",
   "metadata": {},
   "outputs": [],
   "source": [
    "import scanpy as sc\n",
    "import pandas as pd\n",
    "import os\n",
    "import sys\n",
    "\n",
    "sys.path.append('..')\n",
    "import tcr_embedding as tcr"
   ]
  },
  {
   "cell_type": "markdown",
   "id": "8b82ce64",
   "metadata": {},
   "source": [
    "# Transform data"
   ]
  },
  {
   "cell_type": "code",
   "execution_count": 2,
   "id": "c7aed31b",
   "metadata": {
    "scrolled": true
   },
   "outputs": [],
   "source": [
    "path_10x_adata = '../data/10x_CD8TC/v6_supervised.h5ad'\n",
    "adata = sc.read_h5ad(path_10x_adata)\n",
    "\n",
    "adatas_per_donor = []\n",
    "for i in range(1, 3):\n",
    "    new_ad = adata[adata.obs['donor']== f'donor_{i}']\n",
    "    adatas_per_donor.append(new_ad)"
   ]
  },
  {
   "cell_type": "markdown",
   "id": "6d1b42d4",
   "metadata": {},
   "source": [
    "Write the TCR sequences to seperate csv file for each donor:"
   ]
  },
  {
   "cell_type": "code",
   "execution_count": 29,
   "id": "e18a58eb",
   "metadata": {},
   "outputs": [
    {
     "name": "stderr",
     "output_type": "stream",
     "text": [
      "Trying to set attribute `.obs` of view, copying.\n",
      "Trying to set attribute `.obs` of view, copying.\n"
     ]
    }
   ],
   "source": [
    "for idx, adata in enumerate(adatas_per_donor):\n",
    "    path_base = f'../data/tessa/10x/donor_{idx+1}/'\n",
    "    if not os.path.exists(path_base):\n",
    "        os.mkdir(path_base)\n",
    "\n",
    "    adata.obs['binding_name'] = adata.obs['binding_name'].astype(str)\n",
    "    adata = adata[(adata.obs['binding_name'].isin(tcr.constants.DONOR_SPECIFIC_ANTIGENS[str(idx+1)]))]\n",
    "\n",
    "    \n",
    "    df_tcr = adata.obs[['IR_VDJ_1_cdr3', 'binding_name', 'set']]\n",
    "    df_tcr['cdr3'] = [seq[1:-1] for seq in df_tcr['IR_VDJ_1_cdr3']]\n",
    "    \n",
    "    df_tcr = df_tcr[['cdr3', 'binding_name', 'set']]\n",
    "    df_tcr.index.name = 'contig_id'\n",
    "    \n",
    "    df_tcr_train = df_tcr[df_tcr['set']=='train']\n",
    "    df_tcr_test = df_tcr[df_tcr['set']=='test']\n",
    "    \n",
    "    df_tcr_train.to_csv(path_base+'tcrs_atlas.csv')\n",
    "    df_tcr_test.to_csv(path_base+'tcrs_query.csv')\n",
    "\n"
   ]
  },
  {
   "cell_type": "markdown",
   "id": "9f4dca2c",
   "metadata": {},
   "source": [
    "Write the scRNA matrix to seperate csv file for each donor:"
   ]
  },
  {
   "cell_type": "code",
   "execution_count": 30,
   "id": "682e49c3",
   "metadata": {},
   "outputs": [
    {
     "name": "stdout",
     "output_type": "stream",
     "text": [
      "0\n",
      "1\n"
     ]
    }
   ],
   "source": [
    "for idx, adata in enumerate(adatas_per_donor):\n",
    "    print(idx)\n",
    "    path_base = f'../data/tessa/10x/donor_{idx+1}/'\n",
    "    count_mat = adata.X.A\n",
    "    df_counts = pd.DataFrame(count_mat)\n",
    "    \n",
    "    df_counts.index = adata.obs.index\n",
    "    df_counts.index.name = ''\n",
    "    df_counts.columns = adata.var.index\n",
    "\n",
    "    df_counts_train = df_counts[adata.obs['set']=='train']\n",
    "    df_counts_test = df_counts[adata.obs['set']=='test']\n",
    "\n",
    "    \n",
    "    df_counts_train = df_counts_train.transpose()\n",
    "    df_counts_test = df_counts_test.transpose()\n",
    "    \n",
    "    df_counts_train.to_csv(path_base+'scRNA_atlas.csv')\n",
    "    df_counts_test.to_csv(path_base+'scRNA_query.csv')"
   ]
  },
  {
   "cell_type": "markdown",
   "id": "e0477015",
   "metadata": {},
   "source": [
    "Create a test dataset to set everything up fast."
   ]
  },
  {
   "cell_type": "code",
   "execution_count": 31,
   "id": "7536eb70",
   "metadata": {},
   "outputs": [],
   "source": [
    "path_test = '../data/tessa/10x/test/'\n",
    "if not os.path.exists(path_test):\n",
    "    os.mkdir(path_test)"
   ]
  },
  {
   "cell_type": "code",
   "execution_count": 32,
   "id": "fd8a8a9e",
   "metadata": {},
   "outputs": [],
   "source": [
    "df_tcr_test = pd.read_csv('../data/tessa/10x/donor_1/tcrs_atlas.csv')\n",
    "df_tcr_test = df_tcr_test.head(100)\n",
    "df_tcr_test.to_csv(path_test + 'tcrs_atlas.csv', index=False)\n",
    "df_tcr_test = pd.read_csv('../data/tessa/10x/donor_1/tcrs_query.csv')\n",
    "df_tcr_test = df_tcr_test.head(100)\n",
    "df_tcr_test.to_csv(path_test + 'tcrs_query.csv', index=False)"
   ]
  },
  {
   "cell_type": "code",
   "execution_count": 38,
   "id": "dfbe6671",
   "metadata": {},
   "outputs": [],
   "source": [
    "df_scRNA_test = pd.read_csv('../data/tessa/10x/donor_1/scRNA_atlas.csv', index_col=0)\n",
    "columns = df_scRNA_test.columns.tolist()[:100]\n",
    "df_scRNA_test = df_scRNA_test[columns]\n",
    "df_scRNA_test.to_csv(path_test + 'scRNA_atlas.csv')\n",
    "\n",
    "df_scRNA_test = pd.read_csv('../data/tessa/10x/donor_1/scRNA_query.csv', index_col=0)\n",
    "columns = df_scRNA_test.columns.tolist()[:100]\n",
    "df_scRNA_test = df_scRNA_test[columns]\n",
    "df_scRNA_test.to_csv(path_test + 'scRNA_query.csv')"
   ]
  }
 ],
 "metadata": {
  "kernelspec": {
   "display_name": "Python [conda env:mvTCR] *",
   "language": "python",
   "name": "conda-env-mvTCR-py"
  },
  "language_info": {
   "codemirror_mode": {
    "name": "ipython",
    "version": 3
   },
   "file_extension": ".py",
   "mimetype": "text/x-python",
   "name": "python",
   "nbconvert_exporter": "python",
   "pygments_lexer": "ipython3",
   "version": "3.8.8"
  }
 },
 "nbformat": 4,
 "nbformat_minor": 5
}
